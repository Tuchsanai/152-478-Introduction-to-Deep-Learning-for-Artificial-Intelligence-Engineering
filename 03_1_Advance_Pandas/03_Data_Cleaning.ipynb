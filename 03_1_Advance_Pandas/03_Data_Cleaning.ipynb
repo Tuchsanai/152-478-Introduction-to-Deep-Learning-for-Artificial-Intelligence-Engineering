{
  "nbformat": 4,
  "nbformat_minor": 0,
  "metadata": {
    "colab": {
      "name": "4.2 Pandas 3 - Data Cleaning.ipynb",
      "provenance": [],
      "collapsed_sections": []
    },
    "kernelspec": {
      "display_name": "Python 3",
      "language": "python",
      "name": "python3"
    },
    "language_info": {
      "codemirror_mode": {
        "name": "ipython",
        "version": 3
      },
      "file_extension": ".py",
      "mimetype": "text/x-python",
      "name": "python",
      "nbconvert_exporter": "python",
      "pygments_lexer": "ipython3",
      "version": "3.7.5"
    }
  },
  "cells": [
    {
      "cell_type": "markdown",
      "metadata": {
        "id": "YZSnXLtHjPg1"
      },
      "source": [
        "# Pandas - Data Cleaning\n",
        "\n",
        "1. Renaming Columns\n",
        "2. Re-arranging Column Order\n",
        "3. Checking data types of specific columns\n",
        "4. Removing Text from column\n",
        "5. Deaing with Missing Data\n",
        "6. Changing Data Types\n",
        "7. Replacing Text within a column\n",
        "8. String operations of column data\n",
        "9. Removing Columns\n",
        "10. Dropping Rows\n"
      ]
    },
    {
      "cell_type": "code",
      "metadata": {
        "id": "tCpBAX3FiCCZ",
        "colab": {
          "base_uri": "https://localhost:8080/",
          "height": 204
        },
        "outputId": "07ec703e-d07e-4fb0-f6e3-0dffcb2b0eeb"
      },
      "source": [
        "# Let's load a new dataset on the number of fires in the Amazon rainforest \n",
        "\n",
        "import pandas as pd\n",
        "\n",
        "file_name = \"https://raw.githubusercontent.com/rajeevratan84/datascienceforbusiness/master/amazon_fires.csv\"\n",
        "df = pd.read_csv(file_name, encoding = \"ISO-8859-1\")\n",
        "\n",
        "df.tail()\n"
      ],
      "execution_count": null,
      "outputs": [
        {
          "output_type": "execute_result",
          "data": {
            "text/html": [
              "<div>\n",
              "<style scoped>\n",
              "    .dataframe tbody tr th:only-of-type {\n",
              "        vertical-align: middle;\n",
              "    }\n",
              "\n",
              "    .dataframe tbody tr th {\n",
              "        vertical-align: top;\n",
              "    }\n",
              "\n",
              "    .dataframe thead th {\n",
              "        text-align: right;\n",
              "    }\n",
              "</style>\n",
              "<table border=\"1\" class=\"dataframe\">\n",
              "  <thead>\n",
              "    <tr style=\"text-align: right;\">\n",
              "      <th></th>\n",
              "      <th>ano</th>\n",
              "      <th>mes</th>\n",
              "      <th>estado</th>\n",
              "      <th>numero</th>\n",
              "      <th>encontro</th>\n",
              "    </tr>\n",
              "  </thead>\n",
              "  <tbody>\n",
              "    <tr>\n",
              "      <th>6449</th>\n",
              "      <td>2012</td>\n",
              "      <td>Dezembro</td>\n",
              "      <td>Tocantins</td>\n",
              "      <td>128</td>\n",
              "      <td>1/1/2012</td>\n",
              "    </tr>\n",
              "    <tr>\n",
              "      <th>6450</th>\n",
              "      <td>2013</td>\n",
              "      <td>Dezembro</td>\n",
              "      <td>Tocantins</td>\n",
              "      <td>85</td>\n",
              "      <td>1/1/2013</td>\n",
              "    </tr>\n",
              "    <tr>\n",
              "      <th>6451</th>\n",
              "      <td>2014</td>\n",
              "      <td>Dezembro</td>\n",
              "      <td>Tocantins</td>\n",
              "      <td>223</td>\n",
              "      <td>1/1/2014</td>\n",
              "    </tr>\n",
              "    <tr>\n",
              "      <th>6452</th>\n",
              "      <td>2015</td>\n",
              "      <td>Dezembro</td>\n",
              "      <td>Tocantins</td>\n",
              "      <td>373</td>\n",
              "      <td>1/1/2015</td>\n",
              "    </tr>\n",
              "    <tr>\n",
              "      <th>6453</th>\n",
              "      <td>2016</td>\n",
              "      <td>Dezembro</td>\n",
              "      <td>Tocantins</td>\n",
              "      <td>119</td>\n",
              "      <td>1/1/2016</td>\n",
              "    </tr>\n",
              "  </tbody>\n",
              "</table>\n",
              "</div>"
            ],
            "text/plain": [
              "       ano       mes     estado numero  encontro\n",
              "6449  2012  Dezembro  Tocantins    128  1/1/2012\n",
              "6450  2013  Dezembro  Tocantins     85  1/1/2013\n",
              "6451  2014  Dezembro  Tocantins    223  1/1/2014\n",
              "6452  2015  Dezembro  Tocantins    373  1/1/2015\n",
              "6453  2016  Dezembro  Tocantins    119  1/1/2016"
            ]
          },
          "metadata": {
            "tags": []
          },
          "execution_count": 1
        }
      ]
    },
    {
      "cell_type": "code",
      "metadata": {
        "id": "R9N0RmGn2d_O",
        "colab": {
          "base_uri": "https://localhost:8080/",
          "height": 221
        },
        "outputId": "7573a321-10a1-4125-d41c-46de093c48ba"
      },
      "source": [
        "df.info()"
      ],
      "execution_count": null,
      "outputs": [
        {
          "output_type": "stream",
          "text": [
            "<class 'pandas.core.frame.DataFrame'>\n",
            "RangeIndex: 6454 entries, 0 to 6453\n",
            "Data columns (total 5 columns):\n",
            " #   Column    Non-Null Count  Dtype \n",
            "---  ------    --------------  ----- \n",
            " 0   ano       6454 non-null   int64 \n",
            " 1   mes       6454 non-null   object\n",
            " 2   estado    6454 non-null   object\n",
            " 3   numero    6322 non-null   object\n",
            " 4   encontro  6454 non-null   object\n",
            "dtypes: int64(1), object(4)\n",
            "memory usage: 252.2+ KB\n"
          ],
          "name": "stdout"
        }
      ]
    },
    {
      "cell_type": "code",
      "metadata": {
        "id": "ltOfXHFzghuz",
        "colab": {
          "base_uri": "https://localhost:8080/",
          "height": 102
        },
        "outputId": "dc3c21f8-b6dd-4198-f880-39f3e94bd2d4"
      },
      "source": [
        "# How many regions are in the dataset?\n",
        "\n",
        "df['estado'].unique()"
      ],
      "execution_count": null,
      "outputs": [
        {
          "output_type": "execute_result",
          "data": {
            "text/plain": [
              "array(['Acre', 'alagoas', 'Amapa', 'Amazonas', 'Bahia', 'Ceara',\n",
              "       'Distrito Federal', 'Espirito Santo', 'Goias', 'Maranhao',\n",
              "       'Mato Grosso', 'Minas Gerais', 'pará', 'Paraiba', 'Pernambuco',\n",
              "       'Piau', 'Rio', 'rondonia', 'Roraima', 'Santa Catarina',\n",
              "       'Sao Paulo', 'Sergipe', 'Tocantins'], dtype=object)"
            ]
          },
          "metadata": {
            "tags": []
          },
          "execution_count": 3
        }
      ]
    },
    {
      "cell_type": "code",
      "metadata": {
        "id": "CAwUlGwp9n-S",
        "colab": {
          "base_uri": "https://localhost:8080/",
          "height": 34
        },
        "outputId": "5ff9ba7a-0800-437e-b3fa-73a9f33e50a3"
      },
      "source": [
        "df.columns"
      ],
      "execution_count": null,
      "outputs": [
        {
          "output_type": "execute_result",
          "data": {
            "text/plain": [
              "Index(['ano', 'mes', 'estado', 'numero', 'encontro'], dtype='object')"
            ]
          },
          "metadata": {
            "tags": []
          },
          "execution_count": 4
        }
      ]
    },
    {
      "cell_type": "markdown",
      "metadata": {
        "id": "0jP8IvwOpA9k"
      },
      "source": [
        "# Renaming Columns"
      ]
    },
    {
      "cell_type": "code",
      "metadata": {
        "id": "6-6ZsPU7pCwx"
      },
      "source": [
        "new_columns = {'ano' : 'year',\n",
        "               'estado': 'state',\n",
        "               'mes': 'month',\n",
        "               'numero': 'number_of_fires',\n",
        "               'encontro': 'date'}\n",
        "\n",
        "df.rename(columns = new_columns, inplace=True)"
      ],
      "execution_count": null,
      "outputs": []
    },
    {
      "cell_type": "code",
      "metadata": {
        "id": "zy3PLHgKpgYg",
        "colab": {
          "base_uri": "https://localhost:8080/",
          "height": 204
        },
        "outputId": "7b764669-22ab-4735-b503-de4f913a3b80"
      },
      "source": [
        "df.head()"
      ],
      "execution_count": null,
      "outputs": [
        {
          "output_type": "execute_result",
          "data": {
            "text/html": [
              "<div>\n",
              "<style scoped>\n",
              "    .dataframe tbody tr th:only-of-type {\n",
              "        vertical-align: middle;\n",
              "    }\n",
              "\n",
              "    .dataframe tbody tr th {\n",
              "        vertical-align: top;\n",
              "    }\n",
              "\n",
              "    .dataframe thead th {\n",
              "        text-align: right;\n",
              "    }\n",
              "</style>\n",
              "<table border=\"1\" class=\"dataframe\">\n",
              "  <thead>\n",
              "    <tr style=\"text-align: right;\">\n",
              "      <th></th>\n",
              "      <th>year</th>\n",
              "      <th>month</th>\n",
              "      <th>state</th>\n",
              "      <th>number_of_fires</th>\n",
              "      <th>date</th>\n",
              "    </tr>\n",
              "  </thead>\n",
              "  <tbody>\n",
              "    <tr>\n",
              "      <th>0</th>\n",
              "      <td>1998</td>\n",
              "      <td>Janeiro</td>\n",
              "      <td>Acre</td>\n",
              "      <td>0 Fires</td>\n",
              "      <td>1/1/1998</td>\n",
              "    </tr>\n",
              "    <tr>\n",
              "      <th>1</th>\n",
              "      <td>1999</td>\n",
              "      <td>Janeiro</td>\n",
              "      <td>Acre</td>\n",
              "      <td>0 Fires</td>\n",
              "      <td>1/1/1999</td>\n",
              "    </tr>\n",
              "    <tr>\n",
              "      <th>2</th>\n",
              "      <td>2000</td>\n",
              "      <td>Janeiro</td>\n",
              "      <td>Acre</td>\n",
              "      <td>0 Fires</td>\n",
              "      <td>1/1/2000</td>\n",
              "    </tr>\n",
              "    <tr>\n",
              "      <th>3</th>\n",
              "      <td>2001</td>\n",
              "      <td>Janeiro</td>\n",
              "      <td>Acre</td>\n",
              "      <td>0 Fires</td>\n",
              "      <td>1/1/2001</td>\n",
              "    </tr>\n",
              "    <tr>\n",
              "      <th>4</th>\n",
              "      <td>2002</td>\n",
              "      <td>Janeiro</td>\n",
              "      <td>Acre</td>\n",
              "      <td>0 Fires</td>\n",
              "      <td>1/1/2002</td>\n",
              "    </tr>\n",
              "  </tbody>\n",
              "</table>\n",
              "</div>"
            ],
            "text/plain": [
              "   year    month state number_of_fires      date\n",
              "0  1998  Janeiro  Acre         0 Fires  1/1/1998\n",
              "1  1999  Janeiro  Acre         0 Fires  1/1/1999\n",
              "2  2000  Janeiro  Acre         0 Fires  1/1/2000\n",
              "3  2001  Janeiro  Acre         0 Fires  1/1/2001\n",
              "4  2002  Janeiro  Acre         0 Fires  1/1/2002"
            ]
          },
          "metadata": {
            "tags": []
          },
          "execution_count": 3
        }
      ]
    },
    {
      "cell_type": "code",
      "metadata": {
        "id": "9316IE7JjkMn",
        "colab": {
          "base_uri": "https://localhost:8080/",
          "height": 51
        },
        "outputId": "46fe0fb8-23f4-43d1-f78d-f426d7d98a75"
      },
      "source": [
        "# How many years of data do we have?\n",
        "df['year'].unique()"
      ],
      "execution_count": null,
      "outputs": [
        {
          "output_type": "execute_result",
          "data": {
            "text/plain": [
              "array([1998, 1999, 2000, 2001, 2002, 2003, 2004, 2005, 2006, 2007, 2008,\n",
              "       2009, 2010, 2011, 2012, 2013, 2014, 2015, 2016, 2017])"
            ]
          },
          "metadata": {
            "tags": []
          },
          "execution_count": 13
        }
      ]
    },
    {
      "cell_type": "code",
      "metadata": {
        "id": "lshR7OeagEW7",
        "colab": {
          "base_uri": "https://localhost:8080/",
          "height": 221
        },
        "outputId": "4ac69272-16d8-44ac-df77-c6216ab58fbe"
      },
      "source": [
        "# Let's explore our datetypes, we should expect number_of_types to be an integer or float datatype\n",
        "\n",
        "df.info()"
      ],
      "execution_count": null,
      "outputs": [
        {
          "output_type": "stream",
          "text": [
            "<class 'pandas.core.frame.DataFrame'>\n",
            "RangeIndex: 6454 entries, 0 to 6453\n",
            "Data columns (total 5 columns):\n",
            " #   Column           Non-Null Count  Dtype \n",
            "---  ------           --------------  ----- \n",
            " 0   year             6454 non-null   int64 \n",
            " 1   month            6454 non-null   object\n",
            " 2   state            6454 non-null   object\n",
            " 3   number_of_fires  6322 non-null   object\n",
            " 4   date             6454 non-null   object\n",
            "dtypes: int64(1), object(4)\n",
            "memory usage: 252.2+ KB\n"
          ],
          "name": "stdout"
        }
      ]
    },
    {
      "cell_type": "code",
      "metadata": {
        "id": "vPBgtMAuyDZE",
        "colab": {
          "base_uri": "https://localhost:8080/",
          "height": 119
        },
        "outputId": "0de8d948-8513-4330-e4fc-075dfdec808b"
      },
      "source": [
        "df.isnull().sum()"
      ],
      "execution_count": null,
      "outputs": [
        {
          "output_type": "execute_result",
          "data": {
            "text/plain": [
              "year                 0\n",
              "month                0\n",
              "state                0\n",
              "number_of_fires    132\n",
              "date                 0\n",
              "dtype: int64"
            ]
          },
          "metadata": {
            "tags": []
          },
          "execution_count": 19
        }
      ]
    },
    {
      "cell_type": "code",
      "metadata": {
        "id": "iZMIFv2MAS5-",
        "colab": {
          "base_uri": "https://localhost:8080/",
          "height": 204
        },
        "outputId": "33490d0a-2855-4fa0-dabf-02708403a69d"
      },
      "source": [
        "df.head()"
      ],
      "execution_count": null,
      "outputs": [
        {
          "output_type": "execute_result",
          "data": {
            "text/html": [
              "<div>\n",
              "<style scoped>\n",
              "    .dataframe tbody tr th:only-of-type {\n",
              "        vertical-align: middle;\n",
              "    }\n",
              "\n",
              "    .dataframe tbody tr th {\n",
              "        vertical-align: top;\n",
              "    }\n",
              "\n",
              "    .dataframe thead th {\n",
              "        text-align: right;\n",
              "    }\n",
              "</style>\n",
              "<table border=\"1\" class=\"dataframe\">\n",
              "  <thead>\n",
              "    <tr style=\"text-align: right;\">\n",
              "      <th></th>\n",
              "      <th>year</th>\n",
              "      <th>month</th>\n",
              "      <th>state</th>\n",
              "      <th>number_of_fires</th>\n",
              "      <th>date</th>\n",
              "    </tr>\n",
              "  </thead>\n",
              "  <tbody>\n",
              "    <tr>\n",
              "      <th>0</th>\n",
              "      <td>1998</td>\n",
              "      <td>Janeiro</td>\n",
              "      <td>Acre</td>\n",
              "      <td>0 Fires</td>\n",
              "      <td>1/1/1998</td>\n",
              "    </tr>\n",
              "    <tr>\n",
              "      <th>1</th>\n",
              "      <td>1999</td>\n",
              "      <td>Janeiro</td>\n",
              "      <td>Acre</td>\n",
              "      <td>0 Fires</td>\n",
              "      <td>1/1/1999</td>\n",
              "    </tr>\n",
              "    <tr>\n",
              "      <th>2</th>\n",
              "      <td>2000</td>\n",
              "      <td>Janeiro</td>\n",
              "      <td>Acre</td>\n",
              "      <td>0 Fires</td>\n",
              "      <td>1/1/2000</td>\n",
              "    </tr>\n",
              "    <tr>\n",
              "      <th>3</th>\n",
              "      <td>2001</td>\n",
              "      <td>Janeiro</td>\n",
              "      <td>Acre</td>\n",
              "      <td>0 Fires</td>\n",
              "      <td>1/1/2001</td>\n",
              "    </tr>\n",
              "    <tr>\n",
              "      <th>4</th>\n",
              "      <td>2002</td>\n",
              "      <td>Janeiro</td>\n",
              "      <td>Acre</td>\n",
              "      <td>0 Fires</td>\n",
              "      <td>1/1/2002</td>\n",
              "    </tr>\n",
              "  </tbody>\n",
              "</table>\n",
              "</div>"
            ],
            "text/plain": [
              "   year    month state number_of_fires      date\n",
              "0  1998  Janeiro  Acre         0 Fires  1/1/1998\n",
              "1  1999  Janeiro  Acre         0 Fires  1/1/1999\n",
              "2  2000  Janeiro  Acre         0 Fires  1/1/2000\n",
              "3  2001  Janeiro  Acre         0 Fires  1/1/2001\n",
              "4  2002  Janeiro  Acre         0 Fires  1/1/2002"
            ]
          },
          "metadata": {
            "tags": []
          },
          "execution_count": 9
        }
      ]
    },
    {
      "cell_type": "code",
      "metadata": {
        "id": "OGKPU8fa65Re",
        "colab": {
          "base_uri": "https://localhost:8080/",
          "height": 34
        },
        "outputId": "d3d56e58-bf26-4aae-98ed-213c6a535a4a"
      },
      "source": [
        "df.columns"
      ],
      "execution_count": null,
      "outputs": [
        {
          "output_type": "execute_result",
          "data": {
            "text/plain": [
              "Index(['year', 'month', 'state', 'number_of_fires', 'date'], dtype='object')"
            ]
          },
          "metadata": {
            "tags": []
          },
          "execution_count": 14
        }
      ]
    },
    {
      "cell_type": "markdown",
      "metadata": {
        "id": "1Q6ugBSjADMh"
      },
      "source": [
        "# Re-arranging columns"
      ]
    },
    {
      "cell_type": "code",
      "metadata": {
        "id": "rsia68dVAEnI",
        "colab": {
          "base_uri": "https://localhost:8080/",
          "height": 204
        },
        "outputId": "58a11cb5-dbb1-4304-8522-4b0861e34640"
      },
      "source": [
        "# Columns are numbered from 0, left to right\n",
        "# Let's put date first, month second and year 3rd\n",
        "\n",
        "new_order = [4,1,0,2,3,]\n",
        "df = df[df.columns[new_order]]\n",
        "df.head()"
      ],
      "execution_count": null,
      "outputs": [
        {
          "output_type": "execute_result",
          "data": {
            "text/html": [
              "<div>\n",
              "<style scoped>\n",
              "    .dataframe tbody tr th:only-of-type {\n",
              "        vertical-align: middle;\n",
              "    }\n",
              "\n",
              "    .dataframe tbody tr th {\n",
              "        vertical-align: top;\n",
              "    }\n",
              "\n",
              "    .dataframe thead th {\n",
              "        text-align: right;\n",
              "    }\n",
              "</style>\n",
              "<table border=\"1\" class=\"dataframe\">\n",
              "  <thead>\n",
              "    <tr style=\"text-align: right;\">\n",
              "      <th></th>\n",
              "      <th>date</th>\n",
              "      <th>month</th>\n",
              "      <th>year</th>\n",
              "      <th>state</th>\n",
              "      <th>number_of_fires</th>\n",
              "    </tr>\n",
              "  </thead>\n",
              "  <tbody>\n",
              "    <tr>\n",
              "      <th>0</th>\n",
              "      <td>1/1/1998</td>\n",
              "      <td>Janeiro</td>\n",
              "      <td>1998</td>\n",
              "      <td>Acre</td>\n",
              "      <td>0 Fires</td>\n",
              "    </tr>\n",
              "    <tr>\n",
              "      <th>1</th>\n",
              "      <td>1/1/1999</td>\n",
              "      <td>Janeiro</td>\n",
              "      <td>1999</td>\n",
              "      <td>Acre</td>\n",
              "      <td>0 Fires</td>\n",
              "    </tr>\n",
              "    <tr>\n",
              "      <th>2</th>\n",
              "      <td>1/1/2000</td>\n",
              "      <td>Janeiro</td>\n",
              "      <td>2000</td>\n",
              "      <td>Acre</td>\n",
              "      <td>0 Fires</td>\n",
              "    </tr>\n",
              "    <tr>\n",
              "      <th>3</th>\n",
              "      <td>1/1/2001</td>\n",
              "      <td>Janeiro</td>\n",
              "      <td>2001</td>\n",
              "      <td>Acre</td>\n",
              "      <td>0 Fires</td>\n",
              "    </tr>\n",
              "    <tr>\n",
              "      <th>4</th>\n",
              "      <td>1/1/2002</td>\n",
              "      <td>Janeiro</td>\n",
              "      <td>2002</td>\n",
              "      <td>Acre</td>\n",
              "      <td>0 Fires</td>\n",
              "    </tr>\n",
              "  </tbody>\n",
              "</table>\n",
              "</div>"
            ],
            "text/plain": [
              "       date    month  year state number_of_fires\n",
              "0  1/1/1998  Janeiro  1998  Acre         0 Fires\n",
              "1  1/1/1999  Janeiro  1999  Acre         0 Fires\n",
              "2  1/1/2000  Janeiro  2000  Acre         0 Fires\n",
              "3  1/1/2001  Janeiro  2001  Acre         0 Fires\n",
              "4  1/1/2002  Janeiro  2002  Acre         0 Fires"
            ]
          },
          "metadata": {
            "tags": []
          },
          "execution_count": 4
        }
      ]
    },
    {
      "cell_type": "code",
      "metadata": {
        "id": "ILfBkSgRznr0",
        "colab": {
          "base_uri": "https://localhost:8080/",
          "height": 824
        },
        "outputId": "2f47e1d1-7038-4276-a4dd-074157da5873"
      },
      "source": [
        "df.head(25)"
      ],
      "execution_count": null,
      "outputs": [
        {
          "output_type": "execute_result",
          "data": {
            "text/html": [
              "<div>\n",
              "<style scoped>\n",
              "    .dataframe tbody tr th:only-of-type {\n",
              "        vertical-align: middle;\n",
              "    }\n",
              "\n",
              "    .dataframe tbody tr th {\n",
              "        vertical-align: top;\n",
              "    }\n",
              "\n",
              "    .dataframe thead th {\n",
              "        text-align: right;\n",
              "    }\n",
              "</style>\n",
              "<table border=\"1\" class=\"dataframe\">\n",
              "  <thead>\n",
              "    <tr style=\"text-align: right;\">\n",
              "      <th></th>\n",
              "      <th>date</th>\n",
              "      <th>month</th>\n",
              "      <th>year</th>\n",
              "      <th>state</th>\n",
              "      <th>number_of_fires</th>\n",
              "    </tr>\n",
              "  </thead>\n",
              "  <tbody>\n",
              "    <tr>\n",
              "      <th>0</th>\n",
              "      <td>1/1/1998</td>\n",
              "      <td>Janeiro</td>\n",
              "      <td>1998</td>\n",
              "      <td>Acre</td>\n",
              "      <td>0 Fires</td>\n",
              "    </tr>\n",
              "    <tr>\n",
              "      <th>1</th>\n",
              "      <td>1/1/1999</td>\n",
              "      <td>Janeiro</td>\n",
              "      <td>1999</td>\n",
              "      <td>Acre</td>\n",
              "      <td>0 Fires</td>\n",
              "    </tr>\n",
              "    <tr>\n",
              "      <th>2</th>\n",
              "      <td>1/1/2000</td>\n",
              "      <td>Janeiro</td>\n",
              "      <td>2000</td>\n",
              "      <td>Acre</td>\n",
              "      <td>0 Fires</td>\n",
              "    </tr>\n",
              "    <tr>\n",
              "      <th>3</th>\n",
              "      <td>1/1/2001</td>\n",
              "      <td>Janeiro</td>\n",
              "      <td>2001</td>\n",
              "      <td>Acre</td>\n",
              "      <td>0 Fires</td>\n",
              "    </tr>\n",
              "    <tr>\n",
              "      <th>4</th>\n",
              "      <td>1/1/2002</td>\n",
              "      <td>Janeiro</td>\n",
              "      <td>2002</td>\n",
              "      <td>Acre</td>\n",
              "      <td>0 Fires</td>\n",
              "    </tr>\n",
              "    <tr>\n",
              "      <th>5</th>\n",
              "      <td>1/1/2003</td>\n",
              "      <td>Janeiro</td>\n",
              "      <td>2003</td>\n",
              "      <td>Acre</td>\n",
              "      <td>10 Fires</td>\n",
              "    </tr>\n",
              "    <tr>\n",
              "      <th>6</th>\n",
              "      <td>1/1/2004</td>\n",
              "      <td>Janeiro</td>\n",
              "      <td>2004</td>\n",
              "      <td>Acre</td>\n",
              "      <td>0 Fires</td>\n",
              "    </tr>\n",
              "    <tr>\n",
              "      <th>7</th>\n",
              "      <td>1/1/2005</td>\n",
              "      <td>Janeiro</td>\n",
              "      <td>2005</td>\n",
              "      <td>Acre</td>\n",
              "      <td>12 Fires</td>\n",
              "    </tr>\n",
              "    <tr>\n",
              "      <th>8</th>\n",
              "      <td>1/1/2006</td>\n",
              "      <td>Janeiro</td>\n",
              "      <td>2006</td>\n",
              "      <td>Acre</td>\n",
              "      <td>4 Fires</td>\n",
              "    </tr>\n",
              "    <tr>\n",
              "      <th>9</th>\n",
              "      <td>1/1/2007</td>\n",
              "      <td>Janeiro</td>\n",
              "      <td>2007</td>\n",
              "      <td>Acre</td>\n",
              "      <td>0 Fires</td>\n",
              "    </tr>\n",
              "    <tr>\n",
              "      <th>10</th>\n",
              "      <td>1/1/2008</td>\n",
              "      <td>Janeiro</td>\n",
              "      <td>2008</td>\n",
              "      <td>Acre</td>\n",
              "      <td>0 Fires</td>\n",
              "    </tr>\n",
              "    <tr>\n",
              "      <th>11</th>\n",
              "      <td>1/1/2009</td>\n",
              "      <td>Janeiro</td>\n",
              "      <td>2009</td>\n",
              "      <td>Acre</td>\n",
              "      <td>0 Fires</td>\n",
              "    </tr>\n",
              "    <tr>\n",
              "      <th>12</th>\n",
              "      <td>1/1/2010</td>\n",
              "      <td>Janeiro</td>\n",
              "      <td>2010</td>\n",
              "      <td>Acre</td>\n",
              "      <td>1 Fires</td>\n",
              "    </tr>\n",
              "    <tr>\n",
              "      <th>13</th>\n",
              "      <td>1/1/2011</td>\n",
              "      <td>Janeiro</td>\n",
              "      <td>2011</td>\n",
              "      <td>Acre</td>\n",
              "      <td>0 Fires</td>\n",
              "    </tr>\n",
              "    <tr>\n",
              "      <th>14</th>\n",
              "      <td>1/1/2012</td>\n",
              "      <td>Janeiro</td>\n",
              "      <td>2012</td>\n",
              "      <td>Acre</td>\n",
              "      <td>0 Fires</td>\n",
              "    </tr>\n",
              "    <tr>\n",
              "      <th>15</th>\n",
              "      <td>1/1/2013</td>\n",
              "      <td>Janeiro</td>\n",
              "      <td>2013</td>\n",
              "      <td>Acre</td>\n",
              "      <td>0 Fires</td>\n",
              "    </tr>\n",
              "    <tr>\n",
              "      <th>16</th>\n",
              "      <td>1/1/2014</td>\n",
              "      <td>Janeiro</td>\n",
              "      <td>2014</td>\n",
              "      <td>Acre</td>\n",
              "      <td>0 Fires</td>\n",
              "    </tr>\n",
              "    <tr>\n",
              "      <th>17</th>\n",
              "      <td>1/1/2015</td>\n",
              "      <td>Janeiro</td>\n",
              "      <td>2015</td>\n",
              "      <td>Acre</td>\n",
              "      <td>1 Fires</td>\n",
              "    </tr>\n",
              "    <tr>\n",
              "      <th>18</th>\n",
              "      <td>1/1/2016</td>\n",
              "      <td>Janeiro</td>\n",
              "      <td>2016</td>\n",
              "      <td>Acre</td>\n",
              "      <td>12 Fires</td>\n",
              "    </tr>\n",
              "    <tr>\n",
              "      <th>19</th>\n",
              "      <td>1/1/2017</td>\n",
              "      <td>Janeiro</td>\n",
              "      <td>2017</td>\n",
              "      <td>Acre</td>\n",
              "      <td>0 Fires</td>\n",
              "    </tr>\n",
              "    <tr>\n",
              "      <th>20</th>\n",
              "      <td>1/1/1998</td>\n",
              "      <td>Fevereiro</td>\n",
              "      <td>1998</td>\n",
              "      <td>Acre</td>\n",
              "      <td>0 Fires</td>\n",
              "    </tr>\n",
              "    <tr>\n",
              "      <th>21</th>\n",
              "      <td>1/1/1999</td>\n",
              "      <td>Fevereiro</td>\n",
              "      <td>1999</td>\n",
              "      <td>Acre</td>\n",
              "      <td>0 Fires</td>\n",
              "    </tr>\n",
              "    <tr>\n",
              "      <th>22</th>\n",
              "      <td>1/1/2000</td>\n",
              "      <td>Fevereiro</td>\n",
              "      <td>2000</td>\n",
              "      <td>Acre</td>\n",
              "      <td>0 Fires</td>\n",
              "    </tr>\n",
              "    <tr>\n",
              "      <th>23</th>\n",
              "      <td>1/1/2001</td>\n",
              "      <td>Fevereiro</td>\n",
              "      <td>2001</td>\n",
              "      <td>Acre</td>\n",
              "      <td>0 Fires</td>\n",
              "    </tr>\n",
              "    <tr>\n",
              "      <th>24</th>\n",
              "      <td>1/1/2002</td>\n",
              "      <td>Fevereiro</td>\n",
              "      <td>2002</td>\n",
              "      <td>Acre</td>\n",
              "      <td>1 Fires</td>\n",
              "    </tr>\n",
              "  </tbody>\n",
              "</table>\n",
              "</div>"
            ],
            "text/plain": [
              "        date      month  year state number_of_fires\n",
              "0   1/1/1998    Janeiro  1998  Acre         0 Fires\n",
              "1   1/1/1999    Janeiro  1999  Acre         0 Fires\n",
              "2   1/1/2000    Janeiro  2000  Acre         0 Fires\n",
              "3   1/1/2001    Janeiro  2001  Acre         0 Fires\n",
              "4   1/1/2002    Janeiro  2002  Acre         0 Fires\n",
              "5   1/1/2003    Janeiro  2003  Acre        10 Fires\n",
              "6   1/1/2004    Janeiro  2004  Acre         0 Fires\n",
              "7   1/1/2005    Janeiro  2005  Acre        12 Fires\n",
              "8   1/1/2006    Janeiro  2006  Acre         4 Fires\n",
              "9   1/1/2007    Janeiro  2007  Acre         0 Fires\n",
              "10  1/1/2008    Janeiro  2008  Acre         0 Fires\n",
              "11  1/1/2009    Janeiro  2009  Acre         0 Fires\n",
              "12  1/1/2010    Janeiro  2010  Acre         1 Fires\n",
              "13  1/1/2011    Janeiro  2011  Acre         0 Fires\n",
              "14  1/1/2012    Janeiro  2012  Acre         0 Fires\n",
              "15  1/1/2013    Janeiro  2013  Acre         0 Fires\n",
              "16  1/1/2014    Janeiro  2014  Acre         0 Fires\n",
              "17  1/1/2015    Janeiro  2015  Acre         1 Fires\n",
              "18  1/1/2016    Janeiro  2016  Acre        12 Fires\n",
              "19  1/1/2017    Janeiro  2017  Acre         0 Fires\n",
              "20  1/1/1998  Fevereiro  1998  Acre         0 Fires\n",
              "21  1/1/1999  Fevereiro  1999  Acre         0 Fires\n",
              "22  1/1/2000  Fevereiro  2000  Acre         0 Fires\n",
              "23  1/1/2001  Fevereiro  2001  Acre         0 Fires\n",
              "24  1/1/2002  Fevereiro  2002  Acre         1 Fires"
            ]
          },
          "metadata": {
            "tags": []
          },
          "execution_count": 23
        }
      ]
    },
    {
      "cell_type": "code",
      "metadata": {
        "id": "yXS2Khp_zGg1",
        "colab": {
          "base_uri": "https://localhost:8080/",
          "height": 419
        },
        "outputId": "7ead6324-9725-489a-ada6-6a124ec536a9"
      },
      "source": [
        "df[df['number_of_fires'].isnull() == True]"
      ],
      "execution_count": null,
      "outputs": [
        {
          "output_type": "execute_result",
          "data": {
            "text/html": [
              "<div>\n",
              "<style scoped>\n",
              "    .dataframe tbody tr th:only-of-type {\n",
              "        vertical-align: middle;\n",
              "    }\n",
              "\n",
              "    .dataframe tbody tr th {\n",
              "        vertical-align: top;\n",
              "    }\n",
              "\n",
              "    .dataframe thead th {\n",
              "        text-align: right;\n",
              "    }\n",
              "</style>\n",
              "<table border=\"1\" class=\"dataframe\">\n",
              "  <thead>\n",
              "    <tr style=\"text-align: right;\">\n",
              "      <th></th>\n",
              "      <th>date</th>\n",
              "      <th>month</th>\n",
              "      <th>year</th>\n",
              "      <th>state</th>\n",
              "      <th>number_of_fires</th>\n",
              "    </tr>\n",
              "  </thead>\n",
              "  <tbody>\n",
              "    <tr>\n",
              "      <th>68</th>\n",
              "      <td>1/1/2006</td>\n",
              "      <td>Abril</td>\n",
              "      <td>2006</td>\n",
              "      <td>Acre</td>\n",
              "      <td>NaN</td>\n",
              "    </tr>\n",
              "    <tr>\n",
              "      <th>110</th>\n",
              "      <td>1/1/2008</td>\n",
              "      <td>Junho</td>\n",
              "      <td>2008</td>\n",
              "      <td>Acre</td>\n",
              "      <td>NaN</td>\n",
              "    </tr>\n",
              "    <tr>\n",
              "      <th>127</th>\n",
              "      <td>1/1/2005</td>\n",
              "      <td>Julho</td>\n",
              "      <td>2005</td>\n",
              "      <td>Acre</td>\n",
              "      <td>NaN</td>\n",
              "    </tr>\n",
              "    <tr>\n",
              "      <th>206</th>\n",
              "      <td>1/1/2004</td>\n",
              "      <td>Novembro</td>\n",
              "      <td>2004</td>\n",
              "      <td>Acre</td>\n",
              "      <td>NaN</td>\n",
              "    </tr>\n",
              "    <tr>\n",
              "      <th>217</th>\n",
              "      <td>1/1/2015</td>\n",
              "      <td>Novembro</td>\n",
              "      <td>2015</td>\n",
              "      <td>Acre</td>\n",
              "      <td>NaN</td>\n",
              "    </tr>\n",
              "    <tr>\n",
              "      <th>...</th>\n",
              "      <td>...</td>\n",
              "      <td>...</td>\n",
              "      <td>...</td>\n",
              "      <td>...</td>\n",
              "      <td>...</td>\n",
              "    </tr>\n",
              "    <tr>\n",
              "      <th>6305</th>\n",
              "      <td>1/1/2008</td>\n",
              "      <td>Maio</td>\n",
              "      <td>2008</td>\n",
              "      <td>Tocantins</td>\n",
              "      <td>NaN</td>\n",
              "    </tr>\n",
              "    <tr>\n",
              "      <th>6354</th>\n",
              "      <td>1/1/2017</td>\n",
              "      <td>Julho</td>\n",
              "      <td>2017</td>\n",
              "      <td>Tocantins</td>\n",
              "      <td>NaN</td>\n",
              "    </tr>\n",
              "    <tr>\n",
              "      <th>6383</th>\n",
              "      <td>1/1/2006</td>\n",
              "      <td>Setembro</td>\n",
              "      <td>2006</td>\n",
              "      <td>Tocantins</td>\n",
              "      <td>NaN</td>\n",
              "    </tr>\n",
              "    <tr>\n",
              "      <th>6415</th>\n",
              "      <td>1/1/1998</td>\n",
              "      <td>Novembro</td>\n",
              "      <td>1998</td>\n",
              "      <td>Tocantins</td>\n",
              "      <td>NaN</td>\n",
              "    </tr>\n",
              "    <tr>\n",
              "      <th>6428</th>\n",
              "      <td>1/1/2011</td>\n",
              "      <td>Novembro</td>\n",
              "      <td>2011</td>\n",
              "      <td>Tocantins</td>\n",
              "      <td>NaN</td>\n",
              "    </tr>\n",
              "  </tbody>\n",
              "</table>\n",
              "<p>132 rows × 5 columns</p>\n",
              "</div>"
            ],
            "text/plain": [
              "          date     month  year      state number_of_fires\n",
              "68    1/1/2006     Abril  2006       Acre             NaN\n",
              "110   1/1/2008     Junho  2008       Acre             NaN\n",
              "127   1/1/2005     Julho  2005       Acre             NaN\n",
              "206   1/1/2004  Novembro  2004       Acre             NaN\n",
              "217   1/1/2015  Novembro  2015       Acre             NaN\n",
              "...        ...       ...   ...        ...             ...\n",
              "6305  1/1/2008      Maio  2008  Tocantins             NaN\n",
              "6354  1/1/2017     Julho  2017  Tocantins             NaN\n",
              "6383  1/1/2006  Setembro  2006  Tocantins             NaN\n",
              "6415  1/1/1998  Novembro  1998  Tocantins             NaN\n",
              "6428  1/1/2011  Novembro  2011  Tocantins             NaN\n",
              "\n",
              "[132 rows x 5 columns]"
            ]
          },
          "metadata": {
            "tags": []
          },
          "execution_count": 29
        }
      ]
    },
    {
      "cell_type": "code",
      "metadata": {
        "id": "w5BTWHkRweKR",
        "colab": {
          "base_uri": "https://localhost:8080/",
          "height": 1000
        },
        "outputId": "f48af32e-b470-4c4c-8fd6-1460d6a8290b"
      },
      "source": [
        "df.tail(50)"
      ],
      "execution_count": null,
      "outputs": [
        {
          "output_type": "execute_result",
          "data": {
            "text/html": [
              "<div>\n",
              "<style scoped>\n",
              "    .dataframe tbody tr th:only-of-type {\n",
              "        vertical-align: middle;\n",
              "    }\n",
              "\n",
              "    .dataframe tbody tr th {\n",
              "        vertical-align: top;\n",
              "    }\n",
              "\n",
              "    .dataframe thead th {\n",
              "        text-align: right;\n",
              "    }\n",
              "</style>\n",
              "<table border=\"1\" class=\"dataframe\">\n",
              "  <thead>\n",
              "    <tr style=\"text-align: right;\">\n",
              "      <th></th>\n",
              "      <th>year</th>\n",
              "      <th>month</th>\n",
              "      <th>state</th>\n",
              "      <th>number_of_fires</th>\n",
              "      <th>date</th>\n",
              "    </tr>\n",
              "  </thead>\n",
              "  <tbody>\n",
              "    <tr>\n",
              "      <th>6404</th>\n",
              "      <td>2007</td>\n",
              "      <td>Outubro</td>\n",
              "      <td>Tocantins</td>\n",
              "      <td>2.252</td>\n",
              "      <td>1/1/2007</td>\n",
              "    </tr>\n",
              "    <tr>\n",
              "      <th>6405</th>\n",
              "      <td>2008</td>\n",
              "      <td>Outubro</td>\n",
              "      <td>Tocantins</td>\n",
              "      <td>2.832</td>\n",
              "      <td>1/1/2008</td>\n",
              "    </tr>\n",
              "    <tr>\n",
              "      <th>6406</th>\n",
              "      <td>2009</td>\n",
              "      <td>Outubro</td>\n",
              "      <td>Tocantins</td>\n",
              "      <td>718</td>\n",
              "      <td>1/1/2009</td>\n",
              "    </tr>\n",
              "    <tr>\n",
              "      <th>6407</th>\n",
              "      <td>2010</td>\n",
              "      <td>Outubro</td>\n",
              "      <td>Tocantins</td>\n",
              "      <td>2.272</td>\n",
              "      <td>1/1/2010</td>\n",
              "    </tr>\n",
              "    <tr>\n",
              "      <th>6408</th>\n",
              "      <td>2011</td>\n",
              "      <td>Outubro</td>\n",
              "      <td>Tocantins</td>\n",
              "      <td>1.591</td>\n",
              "      <td>1/1/2011</td>\n",
              "    </tr>\n",
              "    <tr>\n",
              "      <th>6409</th>\n",
              "      <td>2012</td>\n",
              "      <td>Outubro</td>\n",
              "      <td>Tocantins</td>\n",
              "      <td>3.68</td>\n",
              "      <td>1/1/2012</td>\n",
              "    </tr>\n",
              "    <tr>\n",
              "      <th>6410</th>\n",
              "      <td>2013</td>\n",
              "      <td>Outubro</td>\n",
              "      <td>Tocantins</td>\n",
              "      <td>2.155</td>\n",
              "      <td>1/1/2013</td>\n",
              "    </tr>\n",
              "    <tr>\n",
              "      <th>6411</th>\n",
              "      <td>2014</td>\n",
              "      <td>Outubro</td>\n",
              "      <td>Tocantins</td>\n",
              "      <td>4</td>\n",
              "      <td>1/1/2014</td>\n",
              "    </tr>\n",
              "    <tr>\n",
              "      <th>6412</th>\n",
              "      <td>2015</td>\n",
              "      <td>Outubro</td>\n",
              "      <td>Tocantins</td>\n",
              "      <td>4.844</td>\n",
              "      <td>1/1/2015</td>\n",
              "    </tr>\n",
              "    <tr>\n",
              "      <th>6413</th>\n",
              "      <td>2016</td>\n",
              "      <td>Outubro</td>\n",
              "      <td>Tocantins</td>\n",
              "      <td>2.032</td>\n",
              "      <td>1/1/2016</td>\n",
              "    </tr>\n",
              "    <tr>\n",
              "      <th>6414</th>\n",
              "      <td>2017</td>\n",
              "      <td>Outubro</td>\n",
              "      <td>Tocantins</td>\n",
              "      <td>2.969</td>\n",
              "      <td>1/1/2017</td>\n",
              "    </tr>\n",
              "    <tr>\n",
              "      <th>6415</th>\n",
              "      <td>1998</td>\n",
              "      <td>Novembro</td>\n",
              "      <td>Tocantins</td>\n",
              "      <td>NaN</td>\n",
              "      <td>1/1/1998</td>\n",
              "    </tr>\n",
              "    <tr>\n",
              "      <th>6416</th>\n",
              "      <td>1999</td>\n",
              "      <td>Novembro</td>\n",
              "      <td>Tocantins</td>\n",
              "      <td>29</td>\n",
              "      <td>1/1/1999</td>\n",
              "    </tr>\n",
              "    <tr>\n",
              "      <th>6417</th>\n",
              "      <td>2000</td>\n",
              "      <td>Novembro</td>\n",
              "      <td>Tocantins</td>\n",
              "      <td>96</td>\n",
              "      <td>1/1/2000</td>\n",
              "    </tr>\n",
              "    <tr>\n",
              "      <th>6418</th>\n",
              "      <td>2001</td>\n",
              "      <td>Novembro</td>\n",
              "      <td>Tocantins</td>\n",
              "      <td>100</td>\n",
              "      <td>1/1/2001</td>\n",
              "    </tr>\n",
              "    <tr>\n",
              "      <th>6419</th>\n",
              "      <td>2002</td>\n",
              "      <td>Novembro</td>\n",
              "      <td>Tocantins</td>\n",
              "      <td>207</td>\n",
              "      <td>1/1/2002</td>\n",
              "    </tr>\n",
              "    <tr>\n",
              "      <th>6420</th>\n",
              "      <td>2003</td>\n",
              "      <td>Novembro</td>\n",
              "      <td>Tocantins</td>\n",
              "      <td>146</td>\n",
              "      <td>1/1/2003</td>\n",
              "    </tr>\n",
              "    <tr>\n",
              "      <th>6421</th>\n",
              "      <td>2004</td>\n",
              "      <td>Novembro</td>\n",
              "      <td>Tocantins</td>\n",
              "      <td>424</td>\n",
              "      <td>1/1/2004</td>\n",
              "    </tr>\n",
              "    <tr>\n",
              "      <th>6422</th>\n",
              "      <td>2005</td>\n",
              "      <td>Novembro</td>\n",
              "      <td>Tocantins</td>\n",
              "      <td>271</td>\n",
              "      <td>1/1/2005</td>\n",
              "    </tr>\n",
              "    <tr>\n",
              "      <th>6423</th>\n",
              "      <td>2006</td>\n",
              "      <td>Novembro</td>\n",
              "      <td>Tocantins</td>\n",
              "      <td>108</td>\n",
              "      <td>1/1/2006</td>\n",
              "    </tr>\n",
              "    <tr>\n",
              "      <th>6424</th>\n",
              "      <td>2007</td>\n",
              "      <td>Novembro</td>\n",
              "      <td>Tocantins</td>\n",
              "      <td>147</td>\n",
              "      <td>1/1/2007</td>\n",
              "    </tr>\n",
              "    <tr>\n",
              "      <th>6425</th>\n",
              "      <td>2008</td>\n",
              "      <td>Novembro</td>\n",
              "      <td>Tocantins</td>\n",
              "      <td>104</td>\n",
              "      <td>1/1/2008</td>\n",
              "    </tr>\n",
              "    <tr>\n",
              "      <th>6426</th>\n",
              "      <td>2009</td>\n",
              "      <td>Novembro</td>\n",
              "      <td>Tocantins</td>\n",
              "      <td>251</td>\n",
              "      <td>1/1/2009</td>\n",
              "    </tr>\n",
              "    <tr>\n",
              "      <th>6427</th>\n",
              "      <td>2010</td>\n",
              "      <td>Novembro</td>\n",
              "      <td>Tocantins</td>\n",
              "      <td>283</td>\n",
              "      <td>1/1/2010</td>\n",
              "    </tr>\n",
              "    <tr>\n",
              "      <th>6428</th>\n",
              "      <td>2011</td>\n",
              "      <td>Novembro</td>\n",
              "      <td>Tocantins</td>\n",
              "      <td>NaN</td>\n",
              "      <td>1/1/2011</td>\n",
              "    </tr>\n",
              "    <tr>\n",
              "      <th>6429</th>\n",
              "      <td>2012</td>\n",
              "      <td>Novembro</td>\n",
              "      <td>Tocantins</td>\n",
              "      <td>179</td>\n",
              "      <td>1/1/2012</td>\n",
              "    </tr>\n",
              "    <tr>\n",
              "      <th>6430</th>\n",
              "      <td>2013</td>\n",
              "      <td>Novembro</td>\n",
              "      <td>Tocantins</td>\n",
              "      <td>345</td>\n",
              "      <td>1/1/2013</td>\n",
              "    </tr>\n",
              "    <tr>\n",
              "      <th>6431</th>\n",
              "      <td>2014</td>\n",
              "      <td>Novembro</td>\n",
              "      <td>Tocantins</td>\n",
              "      <td>451</td>\n",
              "      <td>1/1/2014</td>\n",
              "    </tr>\n",
              "    <tr>\n",
              "      <th>6432</th>\n",
              "      <td>2015</td>\n",
              "      <td>Novembro</td>\n",
              "      <td>Tocantins</td>\n",
              "      <td>833</td>\n",
              "      <td>1/1/2015</td>\n",
              "    </tr>\n",
              "    <tr>\n",
              "      <th>6433</th>\n",
              "      <td>2016</td>\n",
              "      <td>Novembro</td>\n",
              "      <td>Tocantins</td>\n",
              "      <td>623</td>\n",
              "      <td>1/1/2016</td>\n",
              "    </tr>\n",
              "    <tr>\n",
              "      <th>6434</th>\n",
              "      <td>2017</td>\n",
              "      <td>Novembro</td>\n",
              "      <td>Tocantins</td>\n",
              "      <td>434</td>\n",
              "      <td>1/1/2017</td>\n",
              "    </tr>\n",
              "    <tr>\n",
              "      <th>6435</th>\n",
              "      <td>1998</td>\n",
              "      <td>Dezembro</td>\n",
              "      <td>Tocantins</td>\n",
              "      <td>9</td>\n",
              "      <td>1/1/1998</td>\n",
              "    </tr>\n",
              "    <tr>\n",
              "      <th>6436</th>\n",
              "      <td>1999</td>\n",
              "      <td>Dezembro</td>\n",
              "      <td>Tocantins</td>\n",
              "      <td>16</td>\n",
              "      <td>1/1/1999</td>\n",
              "    </tr>\n",
              "    <tr>\n",
              "      <th>6437</th>\n",
              "      <td>2000</td>\n",
              "      <td>Dezembro</td>\n",
              "      <td>Tocantins</td>\n",
              "      <td>20</td>\n",
              "      <td>1/1/2000</td>\n",
              "    </tr>\n",
              "    <tr>\n",
              "      <th>6438</th>\n",
              "      <td>2001</td>\n",
              "      <td>Dezembro</td>\n",
              "      <td>Tocantins</td>\n",
              "      <td>21</td>\n",
              "      <td>1/1/2001</td>\n",
              "    </tr>\n",
              "    <tr>\n",
              "      <th>6439</th>\n",
              "      <td>2002</td>\n",
              "      <td>Dezembro</td>\n",
              "      <td>Tocantins</td>\n",
              "      <td>39</td>\n",
              "      <td>1/1/2002</td>\n",
              "    </tr>\n",
              "    <tr>\n",
              "      <th>6440</th>\n",
              "      <td>2003</td>\n",
              "      <td>Dezembro</td>\n",
              "      <td>Tocantins</td>\n",
              "      <td>109</td>\n",
              "      <td>1/1/2003</td>\n",
              "    </tr>\n",
              "    <tr>\n",
              "      <th>6441</th>\n",
              "      <td>2004</td>\n",
              "      <td>Dezembro</td>\n",
              "      <td>Tocantins</td>\n",
              "      <td>96</td>\n",
              "      <td>1/1/2004</td>\n",
              "    </tr>\n",
              "    <tr>\n",
              "      <th>6442</th>\n",
              "      <td>2005</td>\n",
              "      <td>Dezembro</td>\n",
              "      <td>Tocantins</td>\n",
              "      <td>53</td>\n",
              "      <td>1/1/2005</td>\n",
              "    </tr>\n",
              "    <tr>\n",
              "      <th>6443</th>\n",
              "      <td>2006</td>\n",
              "      <td>Dezembro</td>\n",
              "      <td>Tocantins</td>\n",
              "      <td>15</td>\n",
              "      <td>1/1/2006</td>\n",
              "    </tr>\n",
              "    <tr>\n",
              "      <th>6444</th>\n",
              "      <td>2007</td>\n",
              "      <td>Dezembro</td>\n",
              "      <td>Tocantins</td>\n",
              "      <td>13</td>\n",
              "      <td>1/1/2007</td>\n",
              "    </tr>\n",
              "    <tr>\n",
              "      <th>6445</th>\n",
              "      <td>2008</td>\n",
              "      <td>Dezembro</td>\n",
              "      <td>Tocantins</td>\n",
              "      <td>7</td>\n",
              "      <td>1/1/2008</td>\n",
              "    </tr>\n",
              "    <tr>\n",
              "      <th>6446</th>\n",
              "      <td>2009</td>\n",
              "      <td>Dezembro</td>\n",
              "      <td>Tocantins</td>\n",
              "      <td>46</td>\n",
              "      <td>1/1/2009</td>\n",
              "    </tr>\n",
              "    <tr>\n",
              "      <th>6447</th>\n",
              "      <td>2010</td>\n",
              "      <td>Dezembro</td>\n",
              "      <td>Tocantins</td>\n",
              "      <td>72</td>\n",
              "      <td>1/1/2010</td>\n",
              "    </tr>\n",
              "    <tr>\n",
              "      <th>6448</th>\n",
              "      <td>2011</td>\n",
              "      <td>Dezembro</td>\n",
              "      <td>Tocantins</td>\n",
              "      <td>105</td>\n",
              "      <td>1/1/2011</td>\n",
              "    </tr>\n",
              "    <tr>\n",
              "      <th>6449</th>\n",
              "      <td>2012</td>\n",
              "      <td>Dezembro</td>\n",
              "      <td>Tocantins</td>\n",
              "      <td>128</td>\n",
              "      <td>1/1/2012</td>\n",
              "    </tr>\n",
              "    <tr>\n",
              "      <th>6450</th>\n",
              "      <td>2013</td>\n",
              "      <td>Dezembro</td>\n",
              "      <td>Tocantins</td>\n",
              "      <td>85</td>\n",
              "      <td>1/1/2013</td>\n",
              "    </tr>\n",
              "    <tr>\n",
              "      <th>6451</th>\n",
              "      <td>2014</td>\n",
              "      <td>Dezembro</td>\n",
              "      <td>Tocantins</td>\n",
              "      <td>223</td>\n",
              "      <td>1/1/2014</td>\n",
              "    </tr>\n",
              "    <tr>\n",
              "      <th>6452</th>\n",
              "      <td>2015</td>\n",
              "      <td>Dezembro</td>\n",
              "      <td>Tocantins</td>\n",
              "      <td>373</td>\n",
              "      <td>1/1/2015</td>\n",
              "    </tr>\n",
              "    <tr>\n",
              "      <th>6453</th>\n",
              "      <td>2016</td>\n",
              "      <td>Dezembro</td>\n",
              "      <td>Tocantins</td>\n",
              "      <td>119</td>\n",
              "      <td>1/1/2016</td>\n",
              "    </tr>\n",
              "  </tbody>\n",
              "</table>\n",
              "</div>"
            ],
            "text/plain": [
              "      year     month      state number_of_fires      date\n",
              "6404  2007   Outubro  Tocantins           2.252  1/1/2007\n",
              "6405  2008   Outubro  Tocantins           2.832  1/1/2008\n",
              "6406  2009   Outubro  Tocantins             718  1/1/2009\n",
              "6407  2010   Outubro  Tocantins           2.272  1/1/2010\n",
              "6408  2011   Outubro  Tocantins           1.591  1/1/2011\n",
              "6409  2012   Outubro  Tocantins            3.68  1/1/2012\n",
              "6410  2013   Outubro  Tocantins           2.155  1/1/2013\n",
              "6411  2014   Outubro  Tocantins               4  1/1/2014\n",
              "6412  2015   Outubro  Tocantins           4.844  1/1/2015\n",
              "6413  2016   Outubro  Tocantins           2.032  1/1/2016\n",
              "6414  2017   Outubro  Tocantins           2.969  1/1/2017\n",
              "6415  1998  Novembro  Tocantins             NaN  1/1/1998\n",
              "6416  1999  Novembro  Tocantins              29  1/1/1999\n",
              "6417  2000  Novembro  Tocantins              96  1/1/2000\n",
              "6418  2001  Novembro  Tocantins             100  1/1/2001\n",
              "6419  2002  Novembro  Tocantins             207  1/1/2002\n",
              "6420  2003  Novembro  Tocantins             146  1/1/2003\n",
              "6421  2004  Novembro  Tocantins             424  1/1/2004\n",
              "6422  2005  Novembro  Tocantins             271  1/1/2005\n",
              "6423  2006  Novembro  Tocantins             108  1/1/2006\n",
              "6424  2007  Novembro  Tocantins             147  1/1/2007\n",
              "6425  2008  Novembro  Tocantins             104  1/1/2008\n",
              "6426  2009  Novembro  Tocantins             251  1/1/2009\n",
              "6427  2010  Novembro  Tocantins             283  1/1/2010\n",
              "6428  2011  Novembro  Tocantins             NaN  1/1/2011\n",
              "6429  2012  Novembro  Tocantins             179  1/1/2012\n",
              "6430  2013  Novembro  Tocantins             345  1/1/2013\n",
              "6431  2014  Novembro  Tocantins             451  1/1/2014\n",
              "6432  2015  Novembro  Tocantins             833  1/1/2015\n",
              "6433  2016  Novembro  Tocantins             623  1/1/2016\n",
              "6434  2017  Novembro  Tocantins             434  1/1/2017\n",
              "6435  1998  Dezembro  Tocantins               9  1/1/1998\n",
              "6436  1999  Dezembro  Tocantins              16  1/1/1999\n",
              "6437  2000  Dezembro  Tocantins              20  1/1/2000\n",
              "6438  2001  Dezembro  Tocantins              21  1/1/2001\n",
              "6439  2002  Dezembro  Tocantins              39  1/1/2002\n",
              "6440  2003  Dezembro  Tocantins             109  1/1/2003\n",
              "6441  2004  Dezembro  Tocantins              96  1/1/2004\n",
              "6442  2005  Dezembro  Tocantins              53  1/1/2005\n",
              "6443  2006  Dezembro  Tocantins              15  1/1/2006\n",
              "6444  2007  Dezembro  Tocantins              13  1/1/2007\n",
              "6445  2008  Dezembro  Tocantins               7  1/1/2008\n",
              "6446  2009  Dezembro  Tocantins              46  1/1/2009\n",
              "6447  2010  Dezembro  Tocantins              72  1/1/2010\n",
              "6448  2011  Dezembro  Tocantins             105  1/1/2011\n",
              "6449  2012  Dezembro  Tocantins             128  1/1/2012\n",
              "6450  2013  Dezembro  Tocantins              85  1/1/2013\n",
              "6451  2014  Dezembro  Tocantins             223  1/1/2014\n",
              "6452  2015  Dezembro  Tocantins             373  1/1/2015\n",
              "6453  2016  Dezembro  Tocantins             119  1/1/2016"
            ]
          },
          "metadata": {
            "tags": []
          },
          "execution_count": 8
        }
      ]
    },
    {
      "cell_type": "markdown",
      "metadata": {
        "id": "hWNUppp2vK6B"
      },
      "source": [
        "# Determing if a column contains numeric data"
      ]
    },
    {
      "cell_type": "code",
      "metadata": {
        "id": "BYS0q1LYqT6G",
        "colab": {
          "base_uri": "https://localhost:8080/",
          "height": 221
        },
        "outputId": "55a2e657-156d-48d4-c1a1-7703d82e0c03"
      },
      "source": [
        "# It isn't, let's find our why\n",
        "\n",
        "df['number_of_fires'].str.isnumeric()"
      ],
      "execution_count": null,
      "outputs": [
        {
          "output_type": "execute_result",
          "data": {
            "text/plain": [
              "0       False\n",
              "1       False\n",
              "2       False\n",
              "3       False\n",
              "4       False\n",
              "        ...  \n",
              "6449     True\n",
              "6450     True\n",
              "6451     True\n",
              "6452     True\n",
              "6453     True\n",
              "Name: number_of_fires, Length: 6454, dtype: object"
            ]
          },
          "metadata": {
            "tags": []
          },
          "execution_count": 30
        }
      ]
    },
    {
      "cell_type": "code",
      "metadata": {
        "id": "aKihquGUqcmY",
        "colab": {
          "base_uri": "https://localhost:8080/",
          "height": 316
        },
        "outputId": "c9deb69e-ad11-4cec-8498-6d248e3bb577"
      },
      "source": [
        "df[df['number_of_fires'].str.isdigit()]"
      ],
      "execution_count": null,
      "outputs": [
        {
          "output_type": "error",
          "ename": "ValueError",
          "evalue": "ignored",
          "traceback": [
            "\u001b[0;31m---------------------------------------------------------------------------\u001b[0m",
            "\u001b[0;31mValueError\u001b[0m                                Traceback (most recent call last)",
            "\u001b[0;32m<ipython-input-12-cc4f49c7d8a7>\u001b[0m in \u001b[0;36m<module>\u001b[0;34m()\u001b[0m\n\u001b[0;32m----> 1\u001b[0;31m \u001b[0mdf\u001b[0m\u001b[0;34m[\u001b[0m\u001b[0mdf\u001b[0m\u001b[0;34m[\u001b[0m\u001b[0;34m'number_of_fires'\u001b[0m\u001b[0;34m]\u001b[0m\u001b[0;34m.\u001b[0m\u001b[0mstr\u001b[0m\u001b[0;34m.\u001b[0m\u001b[0misdigit\u001b[0m\u001b[0;34m(\u001b[0m\u001b[0;34m)\u001b[0m\u001b[0;34m]\u001b[0m\u001b[0;34m\u001b[0m\u001b[0;34m\u001b[0m\u001b[0m\n\u001b[0m",
            "\u001b[0;32m/usr/local/lib/python3.6/dist-packages/pandas/core/frame.py\u001b[0m in \u001b[0;36m__getitem__\u001b[0;34m(self, key)\u001b[0m\n\u001b[1;32m   2788\u001b[0m \u001b[0;34m\u001b[0m\u001b[0m\n\u001b[1;32m   2789\u001b[0m         \u001b[0;31m# Do we have a (boolean) 1d indexer?\u001b[0m\u001b[0;34m\u001b[0m\u001b[0;34m\u001b[0m\u001b[0;34m\u001b[0m\u001b[0m\n\u001b[0;32m-> 2790\u001b[0;31m         \u001b[0;32mif\u001b[0m \u001b[0mcom\u001b[0m\u001b[0;34m.\u001b[0m\u001b[0mis_bool_indexer\u001b[0m\u001b[0;34m(\u001b[0m\u001b[0mkey\u001b[0m\u001b[0;34m)\u001b[0m\u001b[0;34m:\u001b[0m\u001b[0;34m\u001b[0m\u001b[0;34m\u001b[0m\u001b[0m\n\u001b[0m\u001b[1;32m   2791\u001b[0m             \u001b[0;32mreturn\u001b[0m \u001b[0mself\u001b[0m\u001b[0;34m.\u001b[0m\u001b[0m_getitem_bool_array\u001b[0m\u001b[0;34m(\u001b[0m\u001b[0mkey\u001b[0m\u001b[0;34m)\u001b[0m\u001b[0;34m\u001b[0m\u001b[0;34m\u001b[0m\u001b[0m\n\u001b[1;32m   2792\u001b[0m \u001b[0;34m\u001b[0m\u001b[0m\n",
            "\u001b[0;32m/usr/local/lib/python3.6/dist-packages/pandas/core/common.py\u001b[0m in \u001b[0;36mis_bool_indexer\u001b[0;34m(key)\u001b[0m\n\u001b[1;32m    134\u001b[0m                 \u001b[0mna_msg\u001b[0m \u001b[0;34m=\u001b[0m \u001b[0;34m\"Cannot mask with non-boolean array containing NA / NaN values\"\u001b[0m\u001b[0;34m\u001b[0m\u001b[0;34m\u001b[0m\u001b[0m\n\u001b[1;32m    135\u001b[0m                 \u001b[0;32mif\u001b[0m \u001b[0misna\u001b[0m\u001b[0;34m(\u001b[0m\u001b[0mkey\u001b[0m\u001b[0;34m)\u001b[0m\u001b[0;34m.\u001b[0m\u001b[0many\u001b[0m\u001b[0;34m(\u001b[0m\u001b[0;34m)\u001b[0m\u001b[0;34m:\u001b[0m\u001b[0;34m\u001b[0m\u001b[0;34m\u001b[0m\u001b[0m\n\u001b[0;32m--> 136\u001b[0;31m                     \u001b[0;32mraise\u001b[0m \u001b[0mValueError\u001b[0m\u001b[0;34m(\u001b[0m\u001b[0mna_msg\u001b[0m\u001b[0;34m)\u001b[0m\u001b[0;34m\u001b[0m\u001b[0;34m\u001b[0m\u001b[0m\n\u001b[0m\u001b[1;32m    137\u001b[0m                 \u001b[0;32mreturn\u001b[0m \u001b[0;32mFalse\u001b[0m\u001b[0;34m\u001b[0m\u001b[0;34m\u001b[0m\u001b[0m\n\u001b[1;32m    138\u001b[0m             \u001b[0;32mreturn\u001b[0m \u001b[0;32mTrue\u001b[0m\u001b[0;34m\u001b[0m\u001b[0;34m\u001b[0m\u001b[0m\n",
            "\u001b[0;31mValueError\u001b[0m: Cannot mask with non-boolean array containing NA / NaN values"
          ]
        }
      ]
    },
    {
      "cell_type": "code",
      "metadata": {
        "id": "lcWU0PwYrCvs",
        "colab": {
          "base_uri": "https://localhost:8080/",
          "height": 230
        },
        "outputId": "d736a309-e2bd-454d-d81c-305db3002c49"
      },
      "source": [
        "# We get the above error because our isdigit() returns Nan for blank or missing values\n",
        "# To fix this we need to convert our column datatype from non-null objects to a String\n",
        "\n",
        "df['number_of_fires'].astype(str).str.isdigit()"
      ],
      "execution_count": null,
      "outputs": [
        {
          "output_type": "execute_result",
          "data": {
            "text/plain": [
              "0       False\n",
              "1       False\n",
              "2       False\n",
              "3       False\n",
              "4       False\n",
              "        ...  \n",
              "6449     True\n",
              "6450     True\n",
              "6451     True\n",
              "6452     True\n",
              "6453     True\n",
              "Name: number_of_fires, Length: 6454, dtype: bool"
            ]
          },
          "metadata": {
            "tags": []
          },
          "execution_count": 13
        }
      ]
    },
    {
      "cell_type": "markdown",
      "metadata": {
        "id": "rMuJ_Bc2xn76"
      },
      "source": [
        "\n",
        "- Bascially, `str.isdigit` only returns True for strings containing solely the digits 0-9. \n",
        "- By contrast, `str.isnumeric` returns True if it contains any numeric characters. e.g. '½'"
      ]
    },
    {
      "cell_type": "markdown",
      "metadata": {
        "id": "V1gaXjc-vuQq"
      },
      "source": [
        "# Removing unnecessary text from columns"
      ]
    },
    {
      "cell_type": "code",
      "metadata": {
        "id": "ModoDUIHvySz",
        "colab": {
          "base_uri": "https://localhost:8080/",
          "height": 230
        },
        "outputId": "ac3bf399-4145-40a6-f14c-a98dfe925e79"
      },
      "source": [
        "df['number_of_fires'].str.strip(\" Fires\")"
      ],
      "execution_count": null,
      "outputs": [
        {
          "output_type": "execute_result",
          "data": {
            "text/plain": [
              "0         0\n",
              "1         0\n",
              "2         0\n",
              "3         0\n",
              "4         0\n",
              "       ... \n",
              "6449    128\n",
              "6450     85\n",
              "6451    223\n",
              "6452    373\n",
              "6453    119\n",
              "Name: number_of_fires, Length: 6454, dtype: object"
            ]
          },
          "metadata": {
            "tags": []
          },
          "execution_count": 14
        }
      ]
    },
    {
      "cell_type": "markdown",
      "metadata": {
        "id": "tmV--mWm1DZn"
      },
      "source": [
        "Strip - Return a copy of the string with leading and trailing characters removed. If chars is omitted or None, whitespace characters are removed. If given and not None, chars must be a string; the characters in the string will be stripped from the both ends of the string this method is called on."
      ]
    },
    {
      "cell_type": "code",
      "metadata": {
        "id": "iVLxwJ6Ssggj",
        "colab": {
          "base_uri": "https://localhost:8080/",
          "height": 204
        },
        "outputId": "1c609b9a-fa7f-4f70-8047-22a73757980a"
      },
      "source": [
        "# To replace column with cleaned column\n",
        "\n",
        "df['number_of_fires'] = df['number_of_fires'].str.strip(\" Fires\")\n",
        "df.head()"
      ],
      "execution_count": null,
      "outputs": [
        {
          "output_type": "execute_result",
          "data": {
            "text/html": [
              "<div>\n",
              "<style scoped>\n",
              "    .dataframe tbody tr th:only-of-type {\n",
              "        vertical-align: middle;\n",
              "    }\n",
              "\n",
              "    .dataframe tbody tr th {\n",
              "        vertical-align: top;\n",
              "    }\n",
              "\n",
              "    .dataframe thead th {\n",
              "        text-align: right;\n",
              "    }\n",
              "</style>\n",
              "<table border=\"1\" class=\"dataframe\">\n",
              "  <thead>\n",
              "    <tr style=\"text-align: right;\">\n",
              "      <th></th>\n",
              "      <th>date</th>\n",
              "      <th>month</th>\n",
              "      <th>year</th>\n",
              "      <th>state</th>\n",
              "      <th>number_of_fires</th>\n",
              "    </tr>\n",
              "  </thead>\n",
              "  <tbody>\n",
              "    <tr>\n",
              "      <th>0</th>\n",
              "      <td>1/1/1998</td>\n",
              "      <td>Janeiro</td>\n",
              "      <td>1998</td>\n",
              "      <td>Acre</td>\n",
              "      <td>0</td>\n",
              "    </tr>\n",
              "    <tr>\n",
              "      <th>1</th>\n",
              "      <td>1/1/1999</td>\n",
              "      <td>Janeiro</td>\n",
              "      <td>1999</td>\n",
              "      <td>Acre</td>\n",
              "      <td>0</td>\n",
              "    </tr>\n",
              "    <tr>\n",
              "      <th>2</th>\n",
              "      <td>1/1/2000</td>\n",
              "      <td>Janeiro</td>\n",
              "      <td>2000</td>\n",
              "      <td>Acre</td>\n",
              "      <td>0</td>\n",
              "    </tr>\n",
              "    <tr>\n",
              "      <th>3</th>\n",
              "      <td>1/1/2001</td>\n",
              "      <td>Janeiro</td>\n",
              "      <td>2001</td>\n",
              "      <td>Acre</td>\n",
              "      <td>0</td>\n",
              "    </tr>\n",
              "    <tr>\n",
              "      <th>4</th>\n",
              "      <td>1/1/2002</td>\n",
              "      <td>Janeiro</td>\n",
              "      <td>2002</td>\n",
              "      <td>Acre</td>\n",
              "      <td>0</td>\n",
              "    </tr>\n",
              "  </tbody>\n",
              "</table>\n",
              "</div>"
            ],
            "text/plain": [
              "       date    month  year state number_of_fires\n",
              "0  1/1/1998  Janeiro  1998  Acre               0\n",
              "1  1/1/1999  Janeiro  1999  Acre               0\n",
              "2  1/1/2000  Janeiro  2000  Acre               0\n",
              "3  1/1/2001  Janeiro  2001  Acre               0\n",
              "4  1/1/2002  Janeiro  2002  Acre               0"
            ]
          },
          "metadata": {
            "tags": []
          },
          "execution_count": 5
        }
      ]
    },
    {
      "cell_type": "code",
      "metadata": {
        "id": "qEp3qxVEwc7c",
        "colab": {
          "base_uri": "https://localhost:8080/",
          "height": 221
        },
        "outputId": "e270d40a-0052-4465-9873-bdb71d4099c1"
      },
      "source": [
        "df.info()"
      ],
      "execution_count": null,
      "outputs": [
        {
          "output_type": "stream",
          "text": [
            "<class 'pandas.core.frame.DataFrame'>\n",
            "RangeIndex: 6454 entries, 0 to 6453\n",
            "Data columns (total 5 columns):\n",
            " #   Column           Non-Null Count  Dtype  \n",
            "---  ------           --------------  -----  \n",
            " 0   date             6454 non-null   object \n",
            " 1   month            6454 non-null   object \n",
            " 2   year             6454 non-null   int64  \n",
            " 3   state            6454 non-null   object \n",
            " 4   number_of_fires  6322 non-null   float64\n",
            "dtypes: float64(1), int64(1), object(3)\n",
            "memory usage: 252.2+ KB\n"
          ],
          "name": "stdout"
        }
      ]
    },
    {
      "cell_type": "code",
      "metadata": {
        "id": "9BFmmCGSwhie",
        "colab": {
          "base_uri": "https://localhost:8080/",
          "height": 204
        },
        "outputId": "5be9d03b-7043-434a-dd93-0188533f2e38"
      },
      "source": [
        "# We need to convert our number_of_fires column to a float data type\n",
        "# Also, here's an alternative string manipulation technique we can use\n",
        "\n",
        "df[\"number_of_fires\"] = df[\"number_of_fires\"].str.replace('','0').astype(float)\n",
        "df.head()"
      ],
      "execution_count": null,
      "outputs": [
        {
          "output_type": "execute_result",
          "data": {
            "text/html": [
              "<div>\n",
              "<style scoped>\n",
              "    .dataframe tbody tr th:only-of-type {\n",
              "        vertical-align: middle;\n",
              "    }\n",
              "\n",
              "    .dataframe tbody tr th {\n",
              "        vertical-align: top;\n",
              "    }\n",
              "\n",
              "    .dataframe thead th {\n",
              "        text-align: right;\n",
              "    }\n",
              "</style>\n",
              "<table border=\"1\" class=\"dataframe\">\n",
              "  <thead>\n",
              "    <tr style=\"text-align: right;\">\n",
              "      <th></th>\n",
              "      <th>date</th>\n",
              "      <th>month</th>\n",
              "      <th>year</th>\n",
              "      <th>state</th>\n",
              "      <th>number_of_fires</th>\n",
              "    </tr>\n",
              "  </thead>\n",
              "  <tbody>\n",
              "    <tr>\n",
              "      <th>0</th>\n",
              "      <td>1/1/1998</td>\n",
              "      <td>Janeiro</td>\n",
              "      <td>1998</td>\n",
              "      <td>Acre</td>\n",
              "      <td>0.0</td>\n",
              "    </tr>\n",
              "    <tr>\n",
              "      <th>1</th>\n",
              "      <td>1/1/1999</td>\n",
              "      <td>Janeiro</td>\n",
              "      <td>1999</td>\n",
              "      <td>Acre</td>\n",
              "      <td>0.0</td>\n",
              "    </tr>\n",
              "    <tr>\n",
              "      <th>2</th>\n",
              "      <td>1/1/2000</td>\n",
              "      <td>Janeiro</td>\n",
              "      <td>2000</td>\n",
              "      <td>Acre</td>\n",
              "      <td>0.0</td>\n",
              "    </tr>\n",
              "    <tr>\n",
              "      <th>3</th>\n",
              "      <td>1/1/2001</td>\n",
              "      <td>Janeiro</td>\n",
              "      <td>2001</td>\n",
              "      <td>Acre</td>\n",
              "      <td>0.0</td>\n",
              "    </tr>\n",
              "    <tr>\n",
              "      <th>4</th>\n",
              "      <td>1/1/2002</td>\n",
              "      <td>Janeiro</td>\n",
              "      <td>2002</td>\n",
              "      <td>Acre</td>\n",
              "      <td>0.0</td>\n",
              "    </tr>\n",
              "  </tbody>\n",
              "</table>\n",
              "</div>"
            ],
            "text/plain": [
              "       date    month  year state  number_of_fires\n",
              "0  1/1/1998  Janeiro  1998  Acre              0.0\n",
              "1  1/1/1999  Janeiro  1999  Acre              0.0\n",
              "2  1/1/2000  Janeiro  2000  Acre              0.0\n",
              "3  1/1/2001  Janeiro  2001  Acre              0.0\n",
              "4  1/1/2002  Janeiro  2002  Acre              0.0"
            ]
          },
          "metadata": {
            "tags": []
          },
          "execution_count": 6
        }
      ]
    },
    {
      "cell_type": "code",
      "metadata": {
        "id": "VaInk9O4uvKs"
      },
      "source": [
        "# That was one way we could have handled blank data"
      ],
      "execution_count": null,
      "outputs": []
    },
    {
      "cell_type": "markdown",
      "metadata": {
        "id": "zAwSjmRwyyPv"
      },
      "source": [
        "# Handling missing data"
      ]
    },
    {
      "cell_type": "code",
      "metadata": {
        "id": "ofXoeQDzyz4S",
        "colab": {
          "base_uri": "https://localhost:8080/",
          "height": 204
        },
        "outputId": "4aa380ea-addd-47d3-ab33-86e5df9b18f2"
      },
      "source": [
        "# Let's reload our dataframe\n",
        "file_name = \"https://raw.githubusercontent.com/rajeevratan84/datascienceforbusiness/master/amazon_fires.csv\"\n",
        "df = pd.read_csv(file_name, encoding = \"ISO-8859-1\")\n",
        "new_columns = {'ano' : 'year',\n",
        "               'estado': 'state',\n",
        "               'mes': 'month',\n",
        "               'numero': 'number_of_fires',\n",
        "               'encontro': 'date'}\n",
        "df.rename(columns = new_columns, inplace=True)\n",
        "df['number_of_fires'] = df['number_of_fires'].str.strip(\" Fires\")\n",
        "# Creating a true copy of our dataframe\n",
        "df_copy = df.copy()\n",
        "df.head()"
      ],
      "execution_count": null,
      "outputs": [
        {
          "output_type": "execute_result",
          "data": {
            "text/html": [
              "<div>\n",
              "<style scoped>\n",
              "    .dataframe tbody tr th:only-of-type {\n",
              "        vertical-align: middle;\n",
              "    }\n",
              "\n",
              "    .dataframe tbody tr th {\n",
              "        vertical-align: top;\n",
              "    }\n",
              "\n",
              "    .dataframe thead th {\n",
              "        text-align: right;\n",
              "    }\n",
              "</style>\n",
              "<table border=\"1\" class=\"dataframe\">\n",
              "  <thead>\n",
              "    <tr style=\"text-align: right;\">\n",
              "      <th></th>\n",
              "      <th>year</th>\n",
              "      <th>month</th>\n",
              "      <th>state</th>\n",
              "      <th>number_of_fires</th>\n",
              "      <th>date</th>\n",
              "    </tr>\n",
              "  </thead>\n",
              "  <tbody>\n",
              "    <tr>\n",
              "      <th>0</th>\n",
              "      <td>1998</td>\n",
              "      <td>Janeiro</td>\n",
              "      <td>Acre</td>\n",
              "      <td>0</td>\n",
              "      <td>1/1/1998</td>\n",
              "    </tr>\n",
              "    <tr>\n",
              "      <th>1</th>\n",
              "      <td>1999</td>\n",
              "      <td>Janeiro</td>\n",
              "      <td>Acre</td>\n",
              "      <td>0</td>\n",
              "      <td>1/1/1999</td>\n",
              "    </tr>\n",
              "    <tr>\n",
              "      <th>2</th>\n",
              "      <td>2000</td>\n",
              "      <td>Janeiro</td>\n",
              "      <td>Acre</td>\n",
              "      <td>0</td>\n",
              "      <td>1/1/2000</td>\n",
              "    </tr>\n",
              "    <tr>\n",
              "      <th>3</th>\n",
              "      <td>2001</td>\n",
              "      <td>Janeiro</td>\n",
              "      <td>Acre</td>\n",
              "      <td>0</td>\n",
              "      <td>1/1/2001</td>\n",
              "    </tr>\n",
              "    <tr>\n",
              "      <th>4</th>\n",
              "      <td>2002</td>\n",
              "      <td>Janeiro</td>\n",
              "      <td>Acre</td>\n",
              "      <td>0</td>\n",
              "      <td>1/1/2002</td>\n",
              "    </tr>\n",
              "  </tbody>\n",
              "</table>\n",
              "</div>"
            ],
            "text/plain": [
              "   year    month state number_of_fires      date\n",
              "0  1998  Janeiro  Acre               0  1/1/1998\n",
              "1  1999  Janeiro  Acre               0  1/1/1999\n",
              "2  2000  Janeiro  Acre               0  1/1/2000\n",
              "3  2001  Janeiro  Acre               0  1/1/2001\n",
              "4  2002  Janeiro  Acre               0  1/1/2002"
            ]
          },
          "metadata": {
            "tags": []
          },
          "execution_count": 8
        }
      ]
    },
    {
      "cell_type": "code",
      "metadata": {
        "id": "1llYdbJmy0jX",
        "colab": {
          "base_uri": "https://localhost:8080/",
          "height": 119
        },
        "outputId": "ca842e85-0eb2-4039-ae7a-c494b069c0db"
      },
      "source": [
        "# Viewing the sum of missing values in each column\n",
        "\n",
        "df.isnull().sum()"
      ],
      "execution_count": null,
      "outputs": [
        {
          "output_type": "execute_result",
          "data": {
            "text/plain": [
              "year                 0\n",
              "month                0\n",
              "state                0\n",
              "number_of_fires    132\n",
              "date                 0\n",
              "dtype: int64"
            ]
          },
          "metadata": {
            "tags": []
          },
          "execution_count": 9
        }
      ]
    },
    {
      "cell_type": "code",
      "metadata": {
        "id": "Z3VqKSGo1hZ2",
        "colab": {
          "base_uri": "https://localhost:8080/",
          "height": 204
        },
        "outputId": "b440a7ab-db92-46f1-c67b-f46ea753e71c"
      },
      "source": [
        "# We can easily remove Null or NaN (not a number) values \n",
        "\n",
        "# Drop rows with NaN values\n",
        "df = df.dropna() \n",
        "df = df.reset_index() # reset's row indexes in case any rows were dropped\n",
        "df.head()"
      ],
      "execution_count": null,
      "outputs": [
        {
          "output_type": "execute_result",
          "data": {
            "text/html": [
              "<div>\n",
              "<style scoped>\n",
              "    .dataframe tbody tr th:only-of-type {\n",
              "        vertical-align: middle;\n",
              "    }\n",
              "\n",
              "    .dataframe tbody tr th {\n",
              "        vertical-align: top;\n",
              "    }\n",
              "\n",
              "    .dataframe thead th {\n",
              "        text-align: right;\n",
              "    }\n",
              "</style>\n",
              "<table border=\"1\" class=\"dataframe\">\n",
              "  <thead>\n",
              "    <tr style=\"text-align: right;\">\n",
              "      <th></th>\n",
              "      <th>index</th>\n",
              "      <th>year</th>\n",
              "      <th>month</th>\n",
              "      <th>state</th>\n",
              "      <th>number_of_fires</th>\n",
              "      <th>date</th>\n",
              "    </tr>\n",
              "  </thead>\n",
              "  <tbody>\n",
              "    <tr>\n",
              "      <th>0</th>\n",
              "      <td>0</td>\n",
              "      <td>1998</td>\n",
              "      <td>Janeiro</td>\n",
              "      <td>Acre</td>\n",
              "      <td>0</td>\n",
              "      <td>1/1/1998</td>\n",
              "    </tr>\n",
              "    <tr>\n",
              "      <th>1</th>\n",
              "      <td>1</td>\n",
              "      <td>1999</td>\n",
              "      <td>Janeiro</td>\n",
              "      <td>Acre</td>\n",
              "      <td>0</td>\n",
              "      <td>1/1/1999</td>\n",
              "    </tr>\n",
              "    <tr>\n",
              "      <th>2</th>\n",
              "      <td>2</td>\n",
              "      <td>2000</td>\n",
              "      <td>Janeiro</td>\n",
              "      <td>Acre</td>\n",
              "      <td>0</td>\n",
              "      <td>1/1/2000</td>\n",
              "    </tr>\n",
              "    <tr>\n",
              "      <th>3</th>\n",
              "      <td>3</td>\n",
              "      <td>2001</td>\n",
              "      <td>Janeiro</td>\n",
              "      <td>Acre</td>\n",
              "      <td>0</td>\n",
              "      <td>1/1/2001</td>\n",
              "    </tr>\n",
              "    <tr>\n",
              "      <th>4</th>\n",
              "      <td>4</td>\n",
              "      <td>2002</td>\n",
              "      <td>Janeiro</td>\n",
              "      <td>Acre</td>\n",
              "      <td>0</td>\n",
              "      <td>1/1/2002</td>\n",
              "    </tr>\n",
              "  </tbody>\n",
              "</table>\n",
              "</div>"
            ],
            "text/plain": [
              "   index  year    month state number_of_fires      date\n",
              "0      0  1998  Janeiro  Acre               0  1/1/1998\n",
              "1      1  1999  Janeiro  Acre               0  1/1/1999\n",
              "2      2  2000  Janeiro  Acre               0  1/1/2000\n",
              "3      3  2001  Janeiro  Acre               0  1/1/2001\n",
              "4      4  2002  Janeiro  Acre               0  1/1/2002"
            ]
          },
          "metadata": {
            "tags": []
          },
          "execution_count": 10
        }
      ]
    },
    {
      "cell_type": "code",
      "metadata": {
        "id": "R9TC4UrO18vR",
        "colab": {
          "base_uri": "https://localhost:8080/",
          "height": 136
        },
        "outputId": "74208aef-a871-4bac-ef04-7c9a31f5dfae"
      },
      "source": [
        "# Let's check and see it worked\n",
        "\n",
        "df.isnull().sum()"
      ],
      "execution_count": null,
      "outputs": [
        {
          "output_type": "execute_result",
          "data": {
            "text/plain": [
              "index              0\n",
              "year               0\n",
              "month              0\n",
              "state              0\n",
              "number_of_fires    0\n",
              "date               0\n",
              "dtype: int64"
            ]
          },
          "metadata": {
            "tags": []
          },
          "execution_count": 11
        }
      ]
    },
    {
      "cell_type": "code",
      "metadata": {
        "id": "xsCrKdDe2I0S",
        "colab": {
          "base_uri": "https://localhost:8080/",
          "height": 204
        },
        "outputId": "7feb8ce9-fa56-4a97-f9b1-9bf4875fa618"
      },
      "source": [
        "# Alright so it worked, now let's reload the data and look at a few other methods of dealing with NaN or Null values\n",
        "\n",
        "# Let's reload our dataframe\n",
        "file_name = \"https://raw.githubusercontent.com/rajeevratan84/datascienceforbusiness/master/amazon_fires.csv\"\n",
        "df = pd.read_csv(file_name, encoding = \"ISO-8859-1\")\n",
        "new_columns = {'ano' : 'year',\n",
        "               'estado': 'state',\n",
        "               'mes': 'month',\n",
        "               'numero': 'number_of_fires',\n",
        "               'encontro': 'date'}\n",
        "df.rename(columns = new_columns, inplace=True)\n",
        "df['number_of_fires'] = df['number_of_fires'].str.strip(\" Fires\")\n",
        "df_copy = df.copy()\n",
        "df.head()"
      ],
      "execution_count": null,
      "outputs": [
        {
          "output_type": "execute_result",
          "data": {
            "text/html": [
              "<div>\n",
              "<style scoped>\n",
              "    .dataframe tbody tr th:only-of-type {\n",
              "        vertical-align: middle;\n",
              "    }\n",
              "\n",
              "    .dataframe tbody tr th {\n",
              "        vertical-align: top;\n",
              "    }\n",
              "\n",
              "    .dataframe thead th {\n",
              "        text-align: right;\n",
              "    }\n",
              "</style>\n",
              "<table border=\"1\" class=\"dataframe\">\n",
              "  <thead>\n",
              "    <tr style=\"text-align: right;\">\n",
              "      <th></th>\n",
              "      <th>year</th>\n",
              "      <th>month</th>\n",
              "      <th>state</th>\n",
              "      <th>number_of_fires</th>\n",
              "      <th>date</th>\n",
              "    </tr>\n",
              "  </thead>\n",
              "  <tbody>\n",
              "    <tr>\n",
              "      <th>0</th>\n",
              "      <td>1998</td>\n",
              "      <td>Janeiro</td>\n",
              "      <td>Acre</td>\n",
              "      <td>0</td>\n",
              "      <td>1/1/1998</td>\n",
              "    </tr>\n",
              "    <tr>\n",
              "      <th>1</th>\n",
              "      <td>1999</td>\n",
              "      <td>Janeiro</td>\n",
              "      <td>Acre</td>\n",
              "      <td>0</td>\n",
              "      <td>1/1/1999</td>\n",
              "    </tr>\n",
              "    <tr>\n",
              "      <th>2</th>\n",
              "      <td>2000</td>\n",
              "      <td>Janeiro</td>\n",
              "      <td>Acre</td>\n",
              "      <td>0</td>\n",
              "      <td>1/1/2000</td>\n",
              "    </tr>\n",
              "    <tr>\n",
              "      <th>3</th>\n",
              "      <td>2001</td>\n",
              "      <td>Janeiro</td>\n",
              "      <td>Acre</td>\n",
              "      <td>0</td>\n",
              "      <td>1/1/2001</td>\n",
              "    </tr>\n",
              "    <tr>\n",
              "      <th>4</th>\n",
              "      <td>2002</td>\n",
              "      <td>Janeiro</td>\n",
              "      <td>Acre</td>\n",
              "      <td>0</td>\n",
              "      <td>1/1/2002</td>\n",
              "    </tr>\n",
              "  </tbody>\n",
              "</table>\n",
              "</div>"
            ],
            "text/plain": [
              "   year    month state number_of_fires      date\n",
              "0  1998  Janeiro  Acre               0  1/1/1998\n",
              "1  1999  Janeiro  Acre               0  1/1/1999\n",
              "2  2000  Janeiro  Acre               0  1/1/2000\n",
              "3  2001  Janeiro  Acre               0  1/1/2001\n",
              "4  2002  Janeiro  Acre               0  1/1/2002"
            ]
          },
          "metadata": {
            "tags": []
          },
          "execution_count": 12
        }
      ]
    },
    {
      "cell_type": "code",
      "metadata": {
        "id": "o17eMGD3zhBV",
        "colab": {
          "base_uri": "https://localhost:8080/",
          "height": 221
        },
        "outputId": "27ede39f-9546-4730-fb6a-8f76ccaa1930"
      },
      "source": [
        "# Create a boolean index for all null values\n",
        "\n",
        "df['number_of_fires'].isnull()"
      ],
      "execution_count": null,
      "outputs": [
        {
          "output_type": "execute_result",
          "data": {
            "text/plain": [
              "0       False\n",
              "1       False\n",
              "2       False\n",
              "3       False\n",
              "4       False\n",
              "        ...  \n",
              "6449    False\n",
              "6450    False\n",
              "6451    False\n",
              "6452    False\n",
              "6453    False\n",
              "Name: number_of_fires, Length: 6454, dtype: bool"
            ]
          },
          "metadata": {
            "tags": []
          },
          "execution_count": 13
        }
      ]
    },
    {
      "cell_type": "code",
      "metadata": {
        "id": "OWfsRj0OzWJL",
        "colab": {
          "base_uri": "https://localhost:8080/",
          "height": 359
        },
        "outputId": "2d2add1a-9661-4aa6-cab7-dcbfe6695390"
      },
      "source": [
        "df[df['number_of_fires'].isnull()].head(10)"
      ],
      "execution_count": null,
      "outputs": [
        {
          "output_type": "execute_result",
          "data": {
            "text/html": [
              "<div>\n",
              "<style scoped>\n",
              "    .dataframe tbody tr th:only-of-type {\n",
              "        vertical-align: middle;\n",
              "    }\n",
              "\n",
              "    .dataframe tbody tr th {\n",
              "        vertical-align: top;\n",
              "    }\n",
              "\n",
              "    .dataframe thead th {\n",
              "        text-align: right;\n",
              "    }\n",
              "</style>\n",
              "<table border=\"1\" class=\"dataframe\">\n",
              "  <thead>\n",
              "    <tr style=\"text-align: right;\">\n",
              "      <th></th>\n",
              "      <th>year</th>\n",
              "      <th>month</th>\n",
              "      <th>state</th>\n",
              "      <th>number_of_fires</th>\n",
              "      <th>date</th>\n",
              "    </tr>\n",
              "  </thead>\n",
              "  <tbody>\n",
              "    <tr>\n",
              "      <th>68</th>\n",
              "      <td>2006</td>\n",
              "      <td>Abril</td>\n",
              "      <td>Acre</td>\n",
              "      <td>NaN</td>\n",
              "      <td>1/1/2006</td>\n",
              "    </tr>\n",
              "    <tr>\n",
              "      <th>110</th>\n",
              "      <td>2008</td>\n",
              "      <td>Junho</td>\n",
              "      <td>Acre</td>\n",
              "      <td>NaN</td>\n",
              "      <td>1/1/2008</td>\n",
              "    </tr>\n",
              "    <tr>\n",
              "      <th>127</th>\n",
              "      <td>2005</td>\n",
              "      <td>Julho</td>\n",
              "      <td>Acre</td>\n",
              "      <td>NaN</td>\n",
              "      <td>1/1/2005</td>\n",
              "    </tr>\n",
              "    <tr>\n",
              "      <th>206</th>\n",
              "      <td>2004</td>\n",
              "      <td>Novembro</td>\n",
              "      <td>Acre</td>\n",
              "      <td>NaN</td>\n",
              "      <td>1/1/2004</td>\n",
              "    </tr>\n",
              "    <tr>\n",
              "      <th>217</th>\n",
              "      <td>2015</td>\n",
              "      <td>Novembro</td>\n",
              "      <td>Acre</td>\n",
              "      <td>NaN</td>\n",
              "      <td>1/1/2015</td>\n",
              "    </tr>\n",
              "    <tr>\n",
              "      <th>444</th>\n",
              "      <td>2002</td>\n",
              "      <td>Novembro</td>\n",
              "      <td>alagoas</td>\n",
              "      <td>NaN</td>\n",
              "      <td>1/1/2002</td>\n",
              "    </tr>\n",
              "    <tr>\n",
              "      <th>522</th>\n",
              "      <td>2001</td>\n",
              "      <td>Março</td>\n",
              "      <td>Amapa</td>\n",
              "      <td>NaN</td>\n",
              "      <td>1/1/2001</td>\n",
              "    </tr>\n",
              "    <tr>\n",
              "      <th>550</th>\n",
              "      <td>2009</td>\n",
              "      <td>Abril</td>\n",
              "      <td>Amapa</td>\n",
              "      <td>NaN</td>\n",
              "      <td>1/1/2009</td>\n",
              "    </tr>\n",
              "    <tr>\n",
              "      <th>614</th>\n",
              "      <td>2013</td>\n",
              "      <td>Julho</td>\n",
              "      <td>Amapa</td>\n",
              "      <td>NaN</td>\n",
              "      <td>1/1/2013</td>\n",
              "    </tr>\n",
              "    <tr>\n",
              "      <th>642</th>\n",
              "      <td>2001</td>\n",
              "      <td>Setembro</td>\n",
              "      <td>Amapa</td>\n",
              "      <td>NaN</td>\n",
              "      <td>1/1/2001</td>\n",
              "    </tr>\n",
              "  </tbody>\n",
              "</table>\n",
              "</div>"
            ],
            "text/plain": [
              "     year     month    state number_of_fires      date\n",
              "68   2006     Abril     Acre             NaN  1/1/2006\n",
              "110  2008     Junho     Acre             NaN  1/1/2008\n",
              "127  2005     Julho     Acre             NaN  1/1/2005\n",
              "206  2004  Novembro     Acre             NaN  1/1/2004\n",
              "217  2015  Novembro     Acre             NaN  1/1/2015\n",
              "444  2002  Novembro  alagoas             NaN  1/1/2002\n",
              "522  2001     Março    Amapa             NaN  1/1/2001\n",
              "550  2009     Abril    Amapa             NaN  1/1/2009\n",
              "614  2013     Julho    Amapa             NaN  1/1/2013\n",
              "642  2001  Setembro    Amapa             NaN  1/1/2001"
            ]
          },
          "metadata": {
            "tags": []
          },
          "execution_count": 15
        }
      ]
    },
    {
      "cell_type": "markdown",
      "metadata": {
        "id": "-fFL8Q1qz0w2"
      },
      "source": [
        "# What do to with missing data?\n",
        "\n",
        "* Remove them via .dropna(axis=0)\n",
        "* Replace them with some arbitary number (e.g. an average)\n",
        "* Replace them zeros, or Forward Fill (ffill) or Back Fill (backfill)"
      ]
    },
    {
      "cell_type": "code",
      "metadata": {
        "id": "71X8XQk5zWL9",
        "colab": {
          "base_uri": "https://localhost:8080/",
          "height": 119
        },
        "outputId": "64d0e5c7-0d65-4c00-ef1a-4d740baba1cf"
      },
      "source": [
        "# Using fillna with zeros\n",
        "\n",
        "df['number_of_fires'].fillna(0).head()"
      ],
      "execution_count": null,
      "outputs": [
        {
          "output_type": "execute_result",
          "data": {
            "text/plain": [
              "0    0\n",
              "1    0\n",
              "2    0\n",
              "3    0\n",
              "4    0\n",
              "Name: number_of_fires, dtype: object"
            ]
          },
          "metadata": {
            "tags": []
          },
          "execution_count": 16
        }
      ]
    },
    {
      "cell_type": "code",
      "metadata": {
        "id": "0qEtD8XA0t4a",
        "colab": {
          "base_uri": "https://localhost:8080/",
          "height": 230
        },
        "outputId": "6096d765-1aaf-4d67-e345-7258b07417ff"
      },
      "source": [
        "# Let's try back filling\n",
        "df['number_of_fires'].fillna(method='ffill').head(70)"
      ],
      "execution_count": null,
      "outputs": [
        {
          "output_type": "execute_result",
          "data": {
            "text/plain": [
              "0     0\n",
              "1     0\n",
              "2     0\n",
              "3     0\n",
              "4     0\n",
              "     ..\n",
              "65    1\n",
              "66    2\n",
              "67    1\n",
              "68    1\n",
              "69    0\n",
              "Name: number_of_fires, Length: 70, dtype: object"
            ]
          },
          "metadata": {
            "tags": []
          },
          "execution_count": 26
        }
      ]
    },
    {
      "cell_type": "code",
      "metadata": {
        "id": "wePIp1IT0zzD",
        "colab": {
          "base_uri": "https://localhost:8080/",
          "height": 123
        },
        "outputId": "73f82977-ba0f-4409-e185-4e19e829cb20"
      },
      "source": [
        "# View index 444 to see how it changes\n",
        "# Homework, change 444 using ffill and backfill to see how it changes\n",
        "df.iloc[444]"
      ],
      "execution_count": null,
      "outputs": [
        {
          "output_type": "execute_result",
          "data": {
            "text/plain": [
              "year                   2002\n",
              "month              Novembro\n",
              "state               alagoas\n",
              "number_of_fires         NaN\n",
              "date               1/1/2002\n",
              "Name: 444, dtype: object"
            ]
          },
          "metadata": {
            "tags": []
          },
          "execution_count": 27
        }
      ]
    },
    {
      "cell_type": "code",
      "metadata": {
        "id": "roKWLYGs188d",
        "colab": {
          "base_uri": "https://localhost:8080/",
          "height": 123
        },
        "outputId": "78f1e613-78b1-43e1-a613-be367594dfe6"
      },
      "source": [
        "df.iloc[445]"
      ],
      "execution_count": null,
      "outputs": [
        {
          "output_type": "execute_result",
          "data": {
            "text/plain": [
              "year                   2003\n",
              "month              Novembro\n",
              "state               alagoas\n",
              "number_of_fires          17\n",
              "date               1/1/2003\n",
              "Name: 445, dtype: object"
            ]
          },
          "metadata": {
            "tags": []
          },
          "execution_count": 28
        }
      ]
    },
    {
      "cell_type": "code",
      "metadata": {
        "id": "rGa2dV4KzWOe"
      },
      "source": [
        "# let's make the assumption that blank values are 0 fires\n",
        "\n",
        "# let's get back our copy of our original pre-processed datafrmae\n",
        "df = df_copy\n",
        "\n",
        "# replace all missing or NaN values with 0\n",
        "df['number_of_fires'] = df['number_of_fires'].fillna(0)"
      ],
      "execution_count": null,
      "outputs": []
    },
    {
      "cell_type": "code",
      "metadata": {
        "id": "52hDq6tk2Qix",
        "colab": {
          "base_uri": "https://localhost:8080/",
          "height": 123
        },
        "outputId": "5976d5b8-a33c-40c6-d117-3617272fdd4d"
      },
      "source": [
        "# Let's check to see if we did change our Nans to 0s\n",
        "df.iloc[444]"
      ],
      "execution_count": null,
      "outputs": [
        {
          "output_type": "execute_result",
          "data": {
            "text/plain": [
              "year                   2002\n",
              "month              Novembro\n",
              "state               alagoas\n",
              "number_of_fires           0\n",
              "date               1/1/2002\n",
              "Name: 444, dtype: object"
            ]
          },
          "metadata": {
            "tags": []
          },
          "execution_count": 30
        }
      ]
    },
    {
      "cell_type": "markdown",
      "metadata": {
        "id": "-Lai8wGj2aG6"
      },
      "source": [
        "# Assigning data types to our columns"
      ]
    },
    {
      "cell_type": "code",
      "metadata": {
        "id": "3WD-OJ1_4MYr",
        "colab": {
          "base_uri": "https://localhost:8080/",
          "height": 230
        },
        "outputId": "49ff1190-88c2-4876-91c6-199496ed8898"
      },
      "source": [
        "df.info()"
      ],
      "execution_count": null,
      "outputs": [
        {
          "output_type": "stream",
          "text": [
            "<class 'pandas.core.frame.DataFrame'>\n",
            "RangeIndex: 6454 entries, 0 to 6453\n",
            "Data columns (total 5 columns):\n",
            " #   Column           Non-Null Count  Dtype \n",
            "---  ------           --------------  ----- \n",
            " 0   year             6454 non-null   int64 \n",
            " 1   month            6454 non-null   object\n",
            " 2   state            6454 non-null   object\n",
            " 3   number_of_fires  6454 non-null   object\n",
            " 4   date             6454 non-null   object\n",
            "dtypes: int64(1), object(4)\n",
            "memory usage: 252.2+ KB\n"
          ],
          "name": "stdout"
        }
      ]
    },
    {
      "cell_type": "code",
      "metadata": {
        "id": "jo9b6QWT4nJk"
      },
      "source": [
        "df[\"number_of_fires\"] = df[\"number_of_fires\"].str.replace('','0').astype(float)"
      ],
      "execution_count": null,
      "outputs": []
    },
    {
      "cell_type": "code",
      "metadata": {
        "id": "GqWxrU8Y5QMX",
        "colab": {
          "base_uri": "https://localhost:8080/",
          "height": 197
        },
        "outputId": "621bbb0c-92ad-442e-a797-e5b3c90de9f5"
      },
      "source": [
        "df.head()"
      ],
      "execution_count": null,
      "outputs": [
        {
          "output_type": "execute_result",
          "data": {
            "text/html": [
              "<div>\n",
              "<style scoped>\n",
              "    .dataframe tbody tr th:only-of-type {\n",
              "        vertical-align: middle;\n",
              "    }\n",
              "\n",
              "    .dataframe tbody tr th {\n",
              "        vertical-align: top;\n",
              "    }\n",
              "\n",
              "    .dataframe thead th {\n",
              "        text-align: right;\n",
              "    }\n",
              "</style>\n",
              "<table border=\"1\" class=\"dataframe\">\n",
              "  <thead>\n",
              "    <tr style=\"text-align: right;\">\n",
              "      <th></th>\n",
              "      <th>year</th>\n",
              "      <th>month</th>\n",
              "      <th>state</th>\n",
              "      <th>number_of_fires</th>\n",
              "      <th>date</th>\n",
              "    </tr>\n",
              "  </thead>\n",
              "  <tbody>\n",
              "    <tr>\n",
              "      <th>0</th>\n",
              "      <td>1998</td>\n",
              "      <td>Janeiro</td>\n",
              "      <td>Acre</td>\n",
              "      <td>0.0</td>\n",
              "      <td>1/1/1998</td>\n",
              "    </tr>\n",
              "    <tr>\n",
              "      <th>1</th>\n",
              "      <td>1999</td>\n",
              "      <td>Janeiro</td>\n",
              "      <td>Acre</td>\n",
              "      <td>0.0</td>\n",
              "      <td>1/1/1999</td>\n",
              "    </tr>\n",
              "    <tr>\n",
              "      <th>2</th>\n",
              "      <td>2000</td>\n",
              "      <td>Janeiro</td>\n",
              "      <td>Acre</td>\n",
              "      <td>0.0</td>\n",
              "      <td>1/1/2000</td>\n",
              "    </tr>\n",
              "    <tr>\n",
              "      <th>3</th>\n",
              "      <td>2001</td>\n",
              "      <td>Janeiro</td>\n",
              "      <td>Acre</td>\n",
              "      <td>0.0</td>\n",
              "      <td>1/1/2001</td>\n",
              "    </tr>\n",
              "    <tr>\n",
              "      <th>4</th>\n",
              "      <td>2002</td>\n",
              "      <td>Janeiro</td>\n",
              "      <td>Acre</td>\n",
              "      <td>0.0</td>\n",
              "      <td>1/1/2002</td>\n",
              "    </tr>\n",
              "  </tbody>\n",
              "</table>\n",
              "</div>"
            ],
            "text/plain": [
              "   year    month state  number_of_fires      date\n",
              "0  1998  Janeiro  Acre              0.0  1/1/1998\n",
              "1  1999  Janeiro  Acre              0.0  1/1/1999\n",
              "2  2000  Janeiro  Acre              0.0  1/1/2000\n",
              "3  2001  Janeiro  Acre              0.0  1/1/2001\n",
              "4  2002  Janeiro  Acre              0.0  1/1/2002"
            ]
          },
          "metadata": {
            "tags": []
          },
          "execution_count": 33
        }
      ]
    },
    {
      "cell_type": "code",
      "metadata": {
        "id": "mPcJQ4_At4Rh",
        "colab": {
          "base_uri": "https://localhost:8080/",
          "height": 230
        },
        "outputId": "855b4687-db6c-4437-9e8e-603582cf9ebf"
      },
      "source": [
        "df.info()"
      ],
      "execution_count": null,
      "outputs": [
        {
          "output_type": "stream",
          "text": [
            "<class 'pandas.core.frame.DataFrame'>\n",
            "RangeIndex: 6454 entries, 0 to 6453\n",
            "Data columns (total 5 columns):\n",
            " #   Column           Non-Null Count  Dtype  \n",
            "---  ------           --------------  -----  \n",
            " 0   year             6454 non-null   int64  \n",
            " 1   month            6454 non-null   object \n",
            " 2   state            6454 non-null   object \n",
            " 3   number_of_fires  6322 non-null   float64\n",
            " 4   date             6454 non-null   object \n",
            "dtypes: float64(1), int64(1), object(3)\n",
            "memory usage: 252.2+ KB\n"
          ],
          "name": "stdout"
        }
      ]
    },
    {
      "cell_type": "code",
      "metadata": {
        "id": "jdI9gNI6512I",
        "colab": {
          "base_uri": "https://localhost:8080/",
          "height": 68
        },
        "outputId": "bba6c9e0-ebd5-41a2-98d1-9dddde1756a4"
      },
      "source": [
        "df['month'].unique()"
      ],
      "execution_count": null,
      "outputs": [
        {
          "output_type": "execute_result",
          "data": {
            "text/plain": [
              "array(['Janeiro', 'Fevereiro', 'Março', 'Abril', 'Maio', 'Junho', 'Julho',\n",
              "       'Agosto', 'Setembro', 'Outubro', 'Novembro', 'Dezembro'],\n",
              "      dtype=object)"
            ]
          },
          "metadata": {
            "tags": []
          },
          "execution_count": 17
        }
      ]
    },
    {
      "cell_type": "markdown",
      "metadata": {
        "id": "I15LrltB5ZSq"
      },
      "source": [
        "# Replacing text in columns"
      ]
    },
    {
      "cell_type": "code",
      "metadata": {
        "id": "_7J6R-hf5bct",
        "colab": {
          "base_uri": "https://localhost:8080/",
          "height": 204
        },
        "outputId": "0727423c-ff15-4773-9a80-739409cce535"
      },
      "source": [
        "# Let's convert our Portuguese month names to English\n",
        "\n",
        "month_translations = {'Janeiro': 'January',\n",
        "'Fevereiro': 'February',\n",
        "'Março': 'March',\n",
        "'Abril': 'April',\n",
        "'Maio': 'May',\n",
        "'Junho': 'June',\n",
        "'Julho': 'July',\n",
        "'Agosto': 'August',\n",
        "'Setembro': 'September',\n",
        "'Outubro': 'October',\n",
        "'Novembro': 'November',\n",
        "'Dezembro': 'December'}\n",
        "\n",
        "df[\"month\"] = df[\"month\"].map(month_translations)\n",
        "df.head()"
      ],
      "execution_count": null,
      "outputs": [
        {
          "output_type": "execute_result",
          "data": {
            "text/html": [
              "<div>\n",
              "<style scoped>\n",
              "    .dataframe tbody tr th:only-of-type {\n",
              "        vertical-align: middle;\n",
              "    }\n",
              "\n",
              "    .dataframe tbody tr th {\n",
              "        vertical-align: top;\n",
              "    }\n",
              "\n",
              "    .dataframe thead th {\n",
              "        text-align: right;\n",
              "    }\n",
              "</style>\n",
              "<table border=\"1\" class=\"dataframe\">\n",
              "  <thead>\n",
              "    <tr style=\"text-align: right;\">\n",
              "      <th></th>\n",
              "      <th>year</th>\n",
              "      <th>month</th>\n",
              "      <th>state</th>\n",
              "      <th>number_of_fires</th>\n",
              "      <th>date</th>\n",
              "    </tr>\n",
              "  </thead>\n",
              "  <tbody>\n",
              "    <tr>\n",
              "      <th>0</th>\n",
              "      <td>1998</td>\n",
              "      <td>January</td>\n",
              "      <td>Acre</td>\n",
              "      <td>0.0</td>\n",
              "      <td>1/1/1998</td>\n",
              "    </tr>\n",
              "    <tr>\n",
              "      <th>1</th>\n",
              "      <td>1999</td>\n",
              "      <td>January</td>\n",
              "      <td>Acre</td>\n",
              "      <td>0.0</td>\n",
              "      <td>1/1/1999</td>\n",
              "    </tr>\n",
              "    <tr>\n",
              "      <th>2</th>\n",
              "      <td>2000</td>\n",
              "      <td>January</td>\n",
              "      <td>Acre</td>\n",
              "      <td>0.0</td>\n",
              "      <td>1/1/2000</td>\n",
              "    </tr>\n",
              "    <tr>\n",
              "      <th>3</th>\n",
              "      <td>2001</td>\n",
              "      <td>January</td>\n",
              "      <td>Acre</td>\n",
              "      <td>0.0</td>\n",
              "      <td>1/1/2001</td>\n",
              "    </tr>\n",
              "    <tr>\n",
              "      <th>4</th>\n",
              "      <td>2002</td>\n",
              "      <td>January</td>\n",
              "      <td>Acre</td>\n",
              "      <td>0.0</td>\n",
              "      <td>1/1/2002</td>\n",
              "    </tr>\n",
              "  </tbody>\n",
              "</table>\n",
              "</div>"
            ],
            "text/plain": [
              "   year    month state  number_of_fires      date\n",
              "0  1998  January  Acre              0.0  1/1/1998\n",
              "1  1999  January  Acre              0.0  1/1/1999\n",
              "2  2000  January  Acre              0.0  1/1/2000\n",
              "3  2001  January  Acre              0.0  1/1/2001\n",
              "4  2002  January  Acre              0.0  1/1/2002"
            ]
          },
          "metadata": {
            "tags": []
          },
          "execution_count": 38
        }
      ]
    },
    {
      "cell_type": "code",
      "metadata": {
        "id": "flBKEp3m589g",
        "colab": {
          "base_uri": "https://localhost:8080/",
          "height": 119
        },
        "outputId": "f0ef61b2-8598-4c49-8126-ad21ef8a97cd"
      },
      "source": [
        "df.isnull().sum()"
      ],
      "execution_count": null,
      "outputs": [
        {
          "output_type": "execute_result",
          "data": {
            "text/plain": [
              "year                 0\n",
              "month                0\n",
              "state                0\n",
              "number_of_fires    132\n",
              "date                 0\n",
              "dtype: int64"
            ]
          },
          "metadata": {
            "tags": []
          },
          "execution_count": 39
        }
      ]
    },
    {
      "cell_type": "markdown",
      "metadata": {
        "id": "h5hoOdMq1Mqw"
      },
      "source": [
        "# Further string functions on columns"
      ]
    },
    {
      "cell_type": "code",
      "metadata": {
        "id": "iRlU8TfV1Q1-",
        "colab": {
          "base_uri": "https://localhost:8080/",
          "height": 102
        },
        "outputId": "64c00d35-1673-4b74-f6a1-648ab98aff0e"
      },
      "source": [
        "df['state'] = df['state'].str.title()\n",
        "df['state'].unique()"
      ],
      "execution_count": null,
      "outputs": [
        {
          "output_type": "execute_result",
          "data": {
            "text/plain": [
              "array(['Acre', 'Alagoas', 'Amapa', 'Amazonas', 'Bahia', 'Ceara',\n",
              "       'Distrito Federal', 'Espirito Santo', 'Goias', 'Maranhao',\n",
              "       'Mato Grosso', 'Minas Gerais', 'Pará', 'Paraiba', 'Pernambuco',\n",
              "       'Piau', 'Rio', 'Rondonia', 'Roraima', 'Santa Catarina',\n",
              "       'Sao Paulo', 'Sergipe', 'Tocantins'], dtype=object)"
            ]
          },
          "metadata": {
            "tags": []
          },
          "execution_count": 40
        }
      ]
    },
    {
      "cell_type": "markdown",
      "metadata": {
        "id": "C45xJKsD2jmd"
      },
      "source": [
        "# Removing columns"
      ]
    },
    {
      "cell_type": "code",
      "metadata": {
        "id": "kCpvnTdK2lJK",
        "colab": {
          "base_uri": "https://localhost:8080/",
          "height": 204
        },
        "outputId": "07348c6f-d24d-41dc-914b-423eb3bfb624"
      },
      "source": [
        "df.head()"
      ],
      "execution_count": null,
      "outputs": [
        {
          "output_type": "execute_result",
          "data": {
            "text/html": [
              "<div>\n",
              "<style scoped>\n",
              "    .dataframe tbody tr th:only-of-type {\n",
              "        vertical-align: middle;\n",
              "    }\n",
              "\n",
              "    .dataframe tbody tr th {\n",
              "        vertical-align: top;\n",
              "    }\n",
              "\n",
              "    .dataframe thead th {\n",
              "        text-align: right;\n",
              "    }\n",
              "</style>\n",
              "<table border=\"1\" class=\"dataframe\">\n",
              "  <thead>\n",
              "    <tr style=\"text-align: right;\">\n",
              "      <th></th>\n",
              "      <th>year</th>\n",
              "      <th>month</th>\n",
              "      <th>state</th>\n",
              "      <th>number_of_fires</th>\n",
              "      <th>date</th>\n",
              "    </tr>\n",
              "  </thead>\n",
              "  <tbody>\n",
              "    <tr>\n",
              "      <th>0</th>\n",
              "      <td>1998</td>\n",
              "      <td>January</td>\n",
              "      <td>Acre</td>\n",
              "      <td>0.0</td>\n",
              "      <td>1/1/1998</td>\n",
              "    </tr>\n",
              "    <tr>\n",
              "      <th>1</th>\n",
              "      <td>1999</td>\n",
              "      <td>January</td>\n",
              "      <td>Acre</td>\n",
              "      <td>0.0</td>\n",
              "      <td>1/1/1999</td>\n",
              "    </tr>\n",
              "    <tr>\n",
              "      <th>2</th>\n",
              "      <td>2000</td>\n",
              "      <td>January</td>\n",
              "      <td>Acre</td>\n",
              "      <td>0.0</td>\n",
              "      <td>1/1/2000</td>\n",
              "    </tr>\n",
              "    <tr>\n",
              "      <th>3</th>\n",
              "      <td>2001</td>\n",
              "      <td>January</td>\n",
              "      <td>Acre</td>\n",
              "      <td>0.0</td>\n",
              "      <td>1/1/2001</td>\n",
              "    </tr>\n",
              "    <tr>\n",
              "      <th>4</th>\n",
              "      <td>2002</td>\n",
              "      <td>January</td>\n",
              "      <td>Acre</td>\n",
              "      <td>0.0</td>\n",
              "      <td>1/1/2002</td>\n",
              "    </tr>\n",
              "  </tbody>\n",
              "</table>\n",
              "</div>"
            ],
            "text/plain": [
              "   year    month state  number_of_fires      date\n",
              "0  1998  January  Acre              0.0  1/1/1998\n",
              "1  1999  January  Acre              0.0  1/1/1999\n",
              "2  2000  January  Acre              0.0  1/1/2000\n",
              "3  2001  January  Acre              0.0  1/1/2001\n",
              "4  2002  January  Acre              0.0  1/1/2002"
            ]
          },
          "metadata": {
            "tags": []
          },
          "execution_count": 41
        }
      ]
    },
    {
      "cell_type": "code",
      "metadata": {
        "id": "21e6myQZ2p6W",
        "colab": {
          "base_uri": "https://localhost:8080/",
          "height": 204
        },
        "outputId": "022f2e2e-adfa-4a0f-ca1f-c547950014db"
      },
      "source": [
        "# Dropping multiple columns\n",
        "df = df.drop(\"date\", axis=1) # axis = 1 so that it works across our columns\n",
        "df.head()"
      ],
      "execution_count": null,
      "outputs": [
        {
          "output_type": "execute_result",
          "data": {
            "text/html": [
              "<div>\n",
              "<style scoped>\n",
              "    .dataframe tbody tr th:only-of-type {\n",
              "        vertical-align: middle;\n",
              "    }\n",
              "\n",
              "    .dataframe tbody tr th {\n",
              "        vertical-align: top;\n",
              "    }\n",
              "\n",
              "    .dataframe thead th {\n",
              "        text-align: right;\n",
              "    }\n",
              "</style>\n",
              "<table border=\"1\" class=\"dataframe\">\n",
              "  <thead>\n",
              "    <tr style=\"text-align: right;\">\n",
              "      <th></th>\n",
              "      <th>year</th>\n",
              "      <th>month</th>\n",
              "      <th>state</th>\n",
              "      <th>number_of_fires</th>\n",
              "    </tr>\n",
              "  </thead>\n",
              "  <tbody>\n",
              "    <tr>\n",
              "      <th>0</th>\n",
              "      <td>1998</td>\n",
              "      <td>January</td>\n",
              "      <td>Acre</td>\n",
              "      <td>0.0</td>\n",
              "    </tr>\n",
              "    <tr>\n",
              "      <th>1</th>\n",
              "      <td>1999</td>\n",
              "      <td>January</td>\n",
              "      <td>Acre</td>\n",
              "      <td>0.0</td>\n",
              "    </tr>\n",
              "    <tr>\n",
              "      <th>2</th>\n",
              "      <td>2000</td>\n",
              "      <td>January</td>\n",
              "      <td>Acre</td>\n",
              "      <td>0.0</td>\n",
              "    </tr>\n",
              "    <tr>\n",
              "      <th>3</th>\n",
              "      <td>2001</td>\n",
              "      <td>January</td>\n",
              "      <td>Acre</td>\n",
              "      <td>0.0</td>\n",
              "    </tr>\n",
              "    <tr>\n",
              "      <th>4</th>\n",
              "      <td>2002</td>\n",
              "      <td>January</td>\n",
              "      <td>Acre</td>\n",
              "      <td>0.0</td>\n",
              "    </tr>\n",
              "  </tbody>\n",
              "</table>\n",
              "</div>"
            ],
            "text/plain": [
              "   year    month state  number_of_fires\n",
              "0  1998  January  Acre              0.0\n",
              "1  1999  January  Acre              0.0\n",
              "2  2000  January  Acre              0.0\n",
              "3  2001  January  Acre              0.0\n",
              "4  2002  January  Acre              0.0"
            ]
          },
          "metadata": {
            "tags": []
          },
          "execution_count": 42
        }
      ]
    },
    {
      "cell_type": "code",
      "metadata": {
        "id": "NN-hWExd5JUD",
        "colab": {
          "base_uri": "https://localhost:8080/",
          "height": 204
        },
        "outputId": "76380a2f-23f2-4520-f293-560ed62208fb"
      },
      "source": [
        "# Let's reload the data\n",
        "\n",
        "# Let's reload our dataframe\n",
        "file_name = \"https://raw.githubusercontent.com/rajeevratan84/datascienceforbusiness/master/amazon_fires.csv\"\n",
        "df = pd.read_csv(file_name, encoding = \"ISO-8859-1\")\n",
        "new_columns = {'ano' : 'year',\n",
        "               'estado': 'state',\n",
        "               'mes': 'month',\n",
        "               'numero': 'number_of_fires',\n",
        "               'encontro': 'date'}\n",
        "df.rename(columns = new_columns, inplace=True)\n",
        "df['number_of_fires'] = df['number_of_fires'].str.strip(\" Fires\")\n",
        "df_copy = df.copy()\n",
        "df.head()"
      ],
      "execution_count": null,
      "outputs": [
        {
          "output_type": "execute_result",
          "data": {
            "text/html": [
              "<div>\n",
              "<style scoped>\n",
              "    .dataframe tbody tr th:only-of-type {\n",
              "        vertical-align: middle;\n",
              "    }\n",
              "\n",
              "    .dataframe tbody tr th {\n",
              "        vertical-align: top;\n",
              "    }\n",
              "\n",
              "    .dataframe thead th {\n",
              "        text-align: right;\n",
              "    }\n",
              "</style>\n",
              "<table border=\"1\" class=\"dataframe\">\n",
              "  <thead>\n",
              "    <tr style=\"text-align: right;\">\n",
              "      <th></th>\n",
              "      <th>year</th>\n",
              "      <th>month</th>\n",
              "      <th>state</th>\n",
              "      <th>number_of_fires</th>\n",
              "      <th>date</th>\n",
              "    </tr>\n",
              "  </thead>\n",
              "  <tbody>\n",
              "    <tr>\n",
              "      <th>0</th>\n",
              "      <td>1998</td>\n",
              "      <td>Janeiro</td>\n",
              "      <td>Acre</td>\n",
              "      <td>0</td>\n",
              "      <td>1/1/1998</td>\n",
              "    </tr>\n",
              "    <tr>\n",
              "      <th>1</th>\n",
              "      <td>1999</td>\n",
              "      <td>Janeiro</td>\n",
              "      <td>Acre</td>\n",
              "      <td>0</td>\n",
              "      <td>1/1/1999</td>\n",
              "    </tr>\n",
              "    <tr>\n",
              "      <th>2</th>\n",
              "      <td>2000</td>\n",
              "      <td>Janeiro</td>\n",
              "      <td>Acre</td>\n",
              "      <td>0</td>\n",
              "      <td>1/1/2000</td>\n",
              "    </tr>\n",
              "    <tr>\n",
              "      <th>3</th>\n",
              "      <td>2001</td>\n",
              "      <td>Janeiro</td>\n",
              "      <td>Acre</td>\n",
              "      <td>0</td>\n",
              "      <td>1/1/2001</td>\n",
              "    </tr>\n",
              "    <tr>\n",
              "      <th>4</th>\n",
              "      <td>2002</td>\n",
              "      <td>Janeiro</td>\n",
              "      <td>Acre</td>\n",
              "      <td>0</td>\n",
              "      <td>1/1/2002</td>\n",
              "    </tr>\n",
              "  </tbody>\n",
              "</table>\n",
              "</div>"
            ],
            "text/plain": [
              "   year    month state number_of_fires      date\n",
              "0  1998  Janeiro  Acre               0  1/1/1998\n",
              "1  1999  Janeiro  Acre               0  1/1/1999\n",
              "2  2000  Janeiro  Acre               0  1/1/2000\n",
              "3  2001  Janeiro  Acre               0  1/1/2001\n",
              "4  2002  Janeiro  Acre               0  1/1/2002"
            ]
          },
          "metadata": {
            "tags": []
          },
          "execution_count": 48
        }
      ]
    },
    {
      "cell_type": "code",
      "metadata": {
        "id": "0slNSrhM2xd4",
        "colab": {
          "base_uri": "https://localhost:8080/",
          "height": 204
        },
        "outputId": "f50e2c03-75c0-4d1f-f7d3-3a3b9ca1492e"
      },
      "source": [
        "# Drop multiple columns \n",
        "df = df.drop([\"year\", \"date\"], axis=1)\n",
        "df.head()"
      ],
      "execution_count": null,
      "outputs": [
        {
          "output_type": "execute_result",
          "data": {
            "text/html": [
              "<div>\n",
              "<style scoped>\n",
              "    .dataframe tbody tr th:only-of-type {\n",
              "        vertical-align: middle;\n",
              "    }\n",
              "\n",
              "    .dataframe tbody tr th {\n",
              "        vertical-align: top;\n",
              "    }\n",
              "\n",
              "    .dataframe thead th {\n",
              "        text-align: right;\n",
              "    }\n",
              "</style>\n",
              "<table border=\"1\" class=\"dataframe\">\n",
              "  <thead>\n",
              "    <tr style=\"text-align: right;\">\n",
              "      <th></th>\n",
              "      <th>month</th>\n",
              "      <th>state</th>\n",
              "      <th>number_of_fires</th>\n",
              "    </tr>\n",
              "  </thead>\n",
              "  <tbody>\n",
              "    <tr>\n",
              "      <th>0</th>\n",
              "      <td>Janeiro</td>\n",
              "      <td>Acre</td>\n",
              "      <td>0</td>\n",
              "    </tr>\n",
              "    <tr>\n",
              "      <th>1</th>\n",
              "      <td>Janeiro</td>\n",
              "      <td>Acre</td>\n",
              "      <td>0</td>\n",
              "    </tr>\n",
              "    <tr>\n",
              "      <th>2</th>\n",
              "      <td>Janeiro</td>\n",
              "      <td>Acre</td>\n",
              "      <td>0</td>\n",
              "    </tr>\n",
              "    <tr>\n",
              "      <th>3</th>\n",
              "      <td>Janeiro</td>\n",
              "      <td>Acre</td>\n",
              "      <td>0</td>\n",
              "    </tr>\n",
              "    <tr>\n",
              "      <th>4</th>\n",
              "      <td>Janeiro</td>\n",
              "      <td>Acre</td>\n",
              "      <td>0</td>\n",
              "    </tr>\n",
              "  </tbody>\n",
              "</table>\n",
              "</div>"
            ],
            "text/plain": [
              "     month state number_of_fires\n",
              "0  Janeiro  Acre               0\n",
              "1  Janeiro  Acre               0\n",
              "2  Janeiro  Acre               0\n",
              "3  Janeiro  Acre               0\n",
              "4  Janeiro  Acre               0"
            ]
          },
          "metadata": {
            "tags": []
          },
          "execution_count": 49
        }
      ]
    },
    {
      "cell_type": "markdown",
      "metadata": {
        "id": "uZgwkek_5wEk"
      },
      "source": [
        "# Dropping Rows\n",
        "\n",
        "Using the df.index function"
      ]
    },
    {
      "cell_type": "code",
      "metadata": {
        "id": "wkwh740u4fl0",
        "colab": {
          "base_uri": "https://localhost:8080/",
          "height": 204
        },
        "outputId": "fcfb428a-f1d4-45e3-ff9e-5806163ab108"
      },
      "source": [
        "# Let's drop the first row \n",
        "df = df.drop(df.index[0])\n",
        "df = df.reset_index()\n",
        "df.head()"
      ],
      "execution_count": null,
      "outputs": [
        {
          "output_type": "execute_result",
          "data": {
            "text/html": [
              "<div>\n",
              "<style scoped>\n",
              "    .dataframe tbody tr th:only-of-type {\n",
              "        vertical-align: middle;\n",
              "    }\n",
              "\n",
              "    .dataframe tbody tr th {\n",
              "        vertical-align: top;\n",
              "    }\n",
              "\n",
              "    .dataframe thead th {\n",
              "        text-align: right;\n",
              "    }\n",
              "</style>\n",
              "<table border=\"1\" class=\"dataframe\">\n",
              "  <thead>\n",
              "    <tr style=\"text-align: right;\">\n",
              "      <th></th>\n",
              "      <th>index</th>\n",
              "      <th>month</th>\n",
              "      <th>state</th>\n",
              "      <th>number_of_fires</th>\n",
              "    </tr>\n",
              "  </thead>\n",
              "  <tbody>\n",
              "    <tr>\n",
              "      <th>0</th>\n",
              "      <td>1</td>\n",
              "      <td>Janeiro</td>\n",
              "      <td>Acre</td>\n",
              "      <td>0</td>\n",
              "    </tr>\n",
              "    <tr>\n",
              "      <th>1</th>\n",
              "      <td>2</td>\n",
              "      <td>Janeiro</td>\n",
              "      <td>Acre</td>\n",
              "      <td>0</td>\n",
              "    </tr>\n",
              "    <tr>\n",
              "      <th>2</th>\n",
              "      <td>3</td>\n",
              "      <td>Janeiro</td>\n",
              "      <td>Acre</td>\n",
              "      <td>0</td>\n",
              "    </tr>\n",
              "    <tr>\n",
              "      <th>3</th>\n",
              "      <td>4</td>\n",
              "      <td>Janeiro</td>\n",
              "      <td>Acre</td>\n",
              "      <td>0</td>\n",
              "    </tr>\n",
              "    <tr>\n",
              "      <th>4</th>\n",
              "      <td>5</td>\n",
              "      <td>Janeiro</td>\n",
              "      <td>Acre</td>\n",
              "      <td>10</td>\n",
              "    </tr>\n",
              "  </tbody>\n",
              "</table>\n",
              "</div>"
            ],
            "text/plain": [
              "   index    month state number_of_fires\n",
              "0      1  Janeiro  Acre               0\n",
              "1      2  Janeiro  Acre               0\n",
              "2      3  Janeiro  Acre               0\n",
              "3      4  Janeiro  Acre               0\n",
              "4      5  Janeiro  Acre              10"
            ]
          },
          "metadata": {
            "tags": []
          },
          "execution_count": 50
        }
      ]
    },
    {
      "cell_type": "code",
      "metadata": {
        "id": "ScsfhmMP4O5c",
        "colab": {
          "base_uri": "https://localhost:8080/",
          "height": 204
        },
        "outputId": "5f1278d9-ac92-4fa6-9b76-f758e0b9809a"
      },
      "source": [
        "# Drop multiple rows\n",
        "\n",
        "df = df.drop(df.index[[2,3]])\n",
        "df.head()"
      ],
      "execution_count": null,
      "outputs": [
        {
          "output_type": "execute_result",
          "data": {
            "text/html": [
              "<div>\n",
              "<style scoped>\n",
              "    .dataframe tbody tr th:only-of-type {\n",
              "        vertical-align: middle;\n",
              "    }\n",
              "\n",
              "    .dataframe tbody tr th {\n",
              "        vertical-align: top;\n",
              "    }\n",
              "\n",
              "    .dataframe thead th {\n",
              "        text-align: right;\n",
              "    }\n",
              "</style>\n",
              "<table border=\"1\" class=\"dataframe\">\n",
              "  <thead>\n",
              "    <tr style=\"text-align: right;\">\n",
              "      <th></th>\n",
              "      <th>index</th>\n",
              "      <th>month</th>\n",
              "      <th>state</th>\n",
              "      <th>number_of_fires</th>\n",
              "    </tr>\n",
              "  </thead>\n",
              "  <tbody>\n",
              "    <tr>\n",
              "      <th>0</th>\n",
              "      <td>1</td>\n",
              "      <td>Janeiro</td>\n",
              "      <td>Acre</td>\n",
              "      <td>0</td>\n",
              "    </tr>\n",
              "    <tr>\n",
              "      <th>1</th>\n",
              "      <td>2</td>\n",
              "      <td>Janeiro</td>\n",
              "      <td>Acre</td>\n",
              "      <td>0</td>\n",
              "    </tr>\n",
              "    <tr>\n",
              "      <th>4</th>\n",
              "      <td>5</td>\n",
              "      <td>Janeiro</td>\n",
              "      <td>Acre</td>\n",
              "      <td>10</td>\n",
              "    </tr>\n",
              "    <tr>\n",
              "      <th>5</th>\n",
              "      <td>6</td>\n",
              "      <td>Janeiro</td>\n",
              "      <td>Acre</td>\n",
              "      <td>0</td>\n",
              "    </tr>\n",
              "    <tr>\n",
              "      <th>6</th>\n",
              "      <td>7</td>\n",
              "      <td>Janeiro</td>\n",
              "      <td>Acre</td>\n",
              "      <td>12</td>\n",
              "    </tr>\n",
              "  </tbody>\n",
              "</table>\n",
              "</div>"
            ],
            "text/plain": [
              "   index    month state number_of_fires\n",
              "0      1  Janeiro  Acre               0\n",
              "1      2  Janeiro  Acre               0\n",
              "4      5  Janeiro  Acre              10\n",
              "5      6  Janeiro  Acre               0\n",
              "6      7  Janeiro  Acre              12"
            ]
          },
          "metadata": {
            "tags": []
          },
          "execution_count": 51
        }
      ]
    },
    {
      "cell_type": "code",
      "metadata": {
        "id": "dotNsm8d2YjS",
        "colab": {
          "base_uri": "https://localhost:8080/",
          "height": 204
        },
        "outputId": "0ad6148c-fb72-4acf-9bf9-8a4836096692"
      },
      "source": [
        "# Drop a range of rows\n",
        "\n",
        "df = df.drop(df.index[1:4])\n",
        "df.head()"
      ],
      "execution_count": null,
      "outputs": [
        {
          "output_type": "execute_result",
          "data": {
            "text/html": [
              "<div>\n",
              "<style scoped>\n",
              "    .dataframe tbody tr th:only-of-type {\n",
              "        vertical-align: middle;\n",
              "    }\n",
              "\n",
              "    .dataframe tbody tr th {\n",
              "        vertical-align: top;\n",
              "    }\n",
              "\n",
              "    .dataframe thead th {\n",
              "        text-align: right;\n",
              "    }\n",
              "</style>\n",
              "<table border=\"1\" class=\"dataframe\">\n",
              "  <thead>\n",
              "    <tr style=\"text-align: right;\">\n",
              "      <th></th>\n",
              "      <th>index</th>\n",
              "      <th>month</th>\n",
              "      <th>state</th>\n",
              "      <th>number_of_fires</th>\n",
              "    </tr>\n",
              "  </thead>\n",
              "  <tbody>\n",
              "    <tr>\n",
              "      <th>0</th>\n",
              "      <td>1</td>\n",
              "      <td>Janeiro</td>\n",
              "      <td>Acre</td>\n",
              "      <td>0</td>\n",
              "    </tr>\n",
              "    <tr>\n",
              "      <th>6</th>\n",
              "      <td>7</td>\n",
              "      <td>Janeiro</td>\n",
              "      <td>Acre</td>\n",
              "      <td>12</td>\n",
              "    </tr>\n",
              "    <tr>\n",
              "      <th>7</th>\n",
              "      <td>8</td>\n",
              "      <td>Janeiro</td>\n",
              "      <td>Acre</td>\n",
              "      <td>4</td>\n",
              "    </tr>\n",
              "    <tr>\n",
              "      <th>8</th>\n",
              "      <td>9</td>\n",
              "      <td>Janeiro</td>\n",
              "      <td>Acre</td>\n",
              "      <td>0</td>\n",
              "    </tr>\n",
              "    <tr>\n",
              "      <th>9</th>\n",
              "      <td>10</td>\n",
              "      <td>Janeiro</td>\n",
              "      <td>Acre</td>\n",
              "      <td>0</td>\n",
              "    </tr>\n",
              "  </tbody>\n",
              "</table>\n",
              "</div>"
            ],
            "text/plain": [
              "   index    month state number_of_fires\n",
              "0      1  Janeiro  Acre               0\n",
              "6      7  Janeiro  Acre              12\n",
              "7      8  Janeiro  Acre               4\n",
              "8      9  Janeiro  Acre               0\n",
              "9     10  Janeiro  Acre               0"
            ]
          },
          "metadata": {
            "tags": []
          },
          "execution_count": 54
        }
      ]
    },
    {
      "cell_type": "code",
      "metadata": {
        "id": "uZrawexD6kgi"
      },
      "source": [
        ""
      ],
      "execution_count": null,
      "outputs": []
    }
  ]
}