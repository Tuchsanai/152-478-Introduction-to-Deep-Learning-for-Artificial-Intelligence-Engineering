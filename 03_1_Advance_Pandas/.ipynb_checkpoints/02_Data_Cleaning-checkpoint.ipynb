{
 "cells": [
  {
   "cell_type": "markdown",
   "metadata": {
    "id": "YZSnXLtHjPg1"
   },
   "source": [
    "# Pandas - Data Cleaning\n",
    "\n",
    "1. Renaming Columns\n",
    "2. Re-arranging Column Order\n",
    "3. Checking data types of specific columns\n",
    "4. Removing Text from column\n",
    "5. Deaing with Missing Data\n",
    "6. Changing Data Types\n",
    "7. Replacing Text within a column\n",
    "8. String operations of column data\n",
    "9. Removing Columns\n",
    "10. Dropping Rows\n"
   ]
  },
  {
   "cell_type": "code",
   "execution_count": 7,
   "metadata": {
    "colab": {
     "base_uri": "https://localhost:8080/",
     "height": 204
    },
    "id": "tCpBAX3FiCCZ",
    "outputId": "07ec703e-d07e-4fb0-f6e3-0dffcb2b0eeb"
   },
   "outputs": [
    {
     "data": {
      "text/html": [
       "<div>\n",
       "<style scoped>\n",
       "    .dataframe tbody tr th:only-of-type {\n",
       "        vertical-align: middle;\n",
       "    }\n",
       "\n",
       "    .dataframe tbody tr th {\n",
       "        vertical-align: top;\n",
       "    }\n",
       "\n",
       "    .dataframe thead th {\n",
       "        text-align: right;\n",
       "    }\n",
       "</style>\n",
       "<table border=\"1\" class=\"dataframe\">\n",
       "  <thead>\n",
       "    <tr style=\"text-align: right;\">\n",
       "      <th></th>\n",
       "      <th>ano</th>\n",
       "      <th>mes</th>\n",
       "      <th>estado</th>\n",
       "      <th>numero</th>\n",
       "      <th>encontro</th>\n",
       "    </tr>\n",
       "  </thead>\n",
       "  <tbody>\n",
       "    <tr>\n",
       "      <th>6449</th>\n",
       "      <td>2012</td>\n",
       "      <td>Dezembro</td>\n",
       "      <td>Tocantins</td>\n",
       "      <td>128</td>\n",
       "      <td>1/1/2012</td>\n",
       "    </tr>\n",
       "    <tr>\n",
       "      <th>6450</th>\n",
       "      <td>2013</td>\n",
       "      <td>Dezembro</td>\n",
       "      <td>Tocantins</td>\n",
       "      <td>85</td>\n",
       "      <td>1/1/2013</td>\n",
       "    </tr>\n",
       "    <tr>\n",
       "      <th>6451</th>\n",
       "      <td>2014</td>\n",
       "      <td>Dezembro</td>\n",
       "      <td>Tocantins</td>\n",
       "      <td>223</td>\n",
       "      <td>1/1/2014</td>\n",
       "    </tr>\n",
       "    <tr>\n",
       "      <th>6452</th>\n",
       "      <td>2015</td>\n",
       "      <td>Dezembro</td>\n",
       "      <td>Tocantins</td>\n",
       "      <td>373</td>\n",
       "      <td>1/1/2015</td>\n",
       "    </tr>\n",
       "    <tr>\n",
       "      <th>6453</th>\n",
       "      <td>2016</td>\n",
       "      <td>Dezembro</td>\n",
       "      <td>Tocantins</td>\n",
       "      <td>119</td>\n",
       "      <td>1/1/2016</td>\n",
       "    </tr>\n",
       "  </tbody>\n",
       "</table>\n",
       "</div>"
      ],
      "text/plain": [
       "       ano       mes     estado numero  encontro\n",
       "6449  2012  Dezembro  Tocantins    128  1/1/2012\n",
       "6450  2013  Dezembro  Tocantins     85  1/1/2013\n",
       "6451  2014  Dezembro  Tocantins    223  1/1/2014\n",
       "6452  2015  Dezembro  Tocantins    373  1/1/2015\n",
       "6453  2016  Dezembro  Tocantins    119  1/1/2016"
      ]
     },
     "execution_count": 7,
     "metadata": {},
     "output_type": "execute_result"
    }
   ],
   "source": [
    "# Let's load a new dataset on the number of fires in the Amazon rainforest \n",
    "\n",
    "import pandas as pd\n",
    "\n",
    "file_name = \"https://raw.githubusercontent.com/rajeevratan84/datascienceforbusiness/master/amazon_fires.csv\"\n",
    "df = pd.read_csv(file_name, encoding = \"ISO-8859-1\")\n",
    "\n",
    "df.tail()\n"
   ]
  },
  {
   "cell_type": "code",
   "execution_count": 8,
   "metadata": {
    "colab": {
     "base_uri": "https://localhost:8080/",
     "height": 221
    },
    "id": "R9N0RmGn2d_O",
    "outputId": "7573a321-10a1-4125-d41c-46de093c48ba"
   },
   "outputs": [
    {
     "name": "stdout",
     "output_type": "stream",
     "text": [
      "<class 'pandas.core.frame.DataFrame'>\n",
      "RangeIndex: 6454 entries, 0 to 6453\n",
      "Data columns (total 5 columns):\n",
      " #   Column    Non-Null Count  Dtype \n",
      "---  ------    --------------  ----- \n",
      " 0   ano       6454 non-null   int64 \n",
      " 1   mes       6454 non-null   object\n",
      " 2   estado    6454 non-null   object\n",
      " 3   numero    6322 non-null   object\n",
      " 4   encontro  6454 non-null   object\n",
      "dtypes: int64(1), object(4)\n",
      "memory usage: 252.2+ KB\n"
     ]
    }
   ],
   "source": [
    "df.info()"
   ]
  },
  {
   "cell_type": "code",
   "execution_count": 9,
   "metadata": {
    "colab": {
     "base_uri": "https://localhost:8080/",
     "height": 102
    },
    "id": "ltOfXHFzghuz",
    "outputId": "dc3c21f8-b6dd-4198-f880-39f3e94bd2d4"
   },
   "outputs": [
    {
     "data": {
      "text/plain": [
       "array(['Acre', 'alagoas', 'Amapa', 'Amazonas', 'Bahia', 'Ceara',\n",
       "       'Distrito Federal', 'Espirito Santo', 'Goias', 'Maranhao',\n",
       "       'Mato Grosso', 'Minas Gerais', 'pará', 'Paraiba', 'Pernambuco',\n",
       "       'Piau', 'Rio', 'rondonia', 'Roraima', 'Santa Catarina',\n",
       "       'Sao Paulo', 'Sergipe', 'Tocantins'], dtype=object)"
      ]
     },
     "execution_count": 9,
     "metadata": {},
     "output_type": "execute_result"
    }
   ],
   "source": [
    "# How many regions are in the dataset?\n",
    "df['estado'].unique()"
   ]
  },
  {
   "cell_type": "code",
   "execution_count": 10,
   "metadata": {
    "colab": {
     "base_uri": "https://localhost:8080/",
     "height": 34
    },
    "id": "CAwUlGwp9n-S",
    "outputId": "5ff9ba7a-0800-437e-b3fa-73a9f33e50a3"
   },
   "outputs": [
    {
     "data": {
      "text/plain": [
       "Index(['ano', 'mes', 'estado', 'numero', 'encontro'], dtype='object')"
      ]
     },
     "execution_count": 10,
     "metadata": {},
     "output_type": "execute_result"
    }
   ],
   "source": [
    "df.columns"
   ]
  },
  {
   "cell_type": "markdown",
   "metadata": {
    "id": "0jP8IvwOpA9k"
   },
   "source": [
    "# Renaming Columns"
   ]
  },
  {
   "cell_type": "code",
   "execution_count": 11,
   "metadata": {
    "id": "6-6ZsPU7pCwx"
   },
   "outputs": [],
   "source": [
    "new_columns = {'ano' : 'year',\n",
    "               'estado': 'state',\n",
    "               'mes': 'month',\n",
    "               'numero': 'number_of_fires',\n",
    "               'encontro': 'date'}\n",
    "\n",
    "df.rename(columns = new_columns, inplace=True)"
   ]
  },
  {
   "cell_type": "code",
   "execution_count": 12,
   "metadata": {
    "colab": {
     "base_uri": "https://localhost:8080/",
     "height": 204
    },
    "id": "zy3PLHgKpgYg",
    "outputId": "7b764669-22ab-4735-b503-de4f913a3b80"
   },
   "outputs": [
    {
     "data": {
      "text/html": [
       "<div>\n",
       "<style scoped>\n",
       "    .dataframe tbody tr th:only-of-type {\n",
       "        vertical-align: middle;\n",
       "    }\n",
       "\n",
       "    .dataframe tbody tr th {\n",
       "        vertical-align: top;\n",
       "    }\n",
       "\n",
       "    .dataframe thead th {\n",
       "        text-align: right;\n",
       "    }\n",
       "</style>\n",
       "<table border=\"1\" class=\"dataframe\">\n",
       "  <thead>\n",
       "    <tr style=\"text-align: right;\">\n",
       "      <th></th>\n",
       "      <th>year</th>\n",
       "      <th>month</th>\n",
       "      <th>state</th>\n",
       "      <th>number_of_fires</th>\n",
       "      <th>date</th>\n",
       "    </tr>\n",
       "  </thead>\n",
       "  <tbody>\n",
       "    <tr>\n",
       "      <th>0</th>\n",
       "      <td>1998</td>\n",
       "      <td>Janeiro</td>\n",
       "      <td>Acre</td>\n",
       "      <td>0 Fires</td>\n",
       "      <td>1/1/1998</td>\n",
       "    </tr>\n",
       "    <tr>\n",
       "      <th>1</th>\n",
       "      <td>1999</td>\n",
       "      <td>Janeiro</td>\n",
       "      <td>Acre</td>\n",
       "      <td>0 Fires</td>\n",
       "      <td>1/1/1999</td>\n",
       "    </tr>\n",
       "    <tr>\n",
       "      <th>2</th>\n",
       "      <td>2000</td>\n",
       "      <td>Janeiro</td>\n",
       "      <td>Acre</td>\n",
       "      <td>0 Fires</td>\n",
       "      <td>1/1/2000</td>\n",
       "    </tr>\n",
       "    <tr>\n",
       "      <th>3</th>\n",
       "      <td>2001</td>\n",
       "      <td>Janeiro</td>\n",
       "      <td>Acre</td>\n",
       "      <td>0 Fires</td>\n",
       "      <td>1/1/2001</td>\n",
       "    </tr>\n",
       "    <tr>\n",
       "      <th>4</th>\n",
       "      <td>2002</td>\n",
       "      <td>Janeiro</td>\n",
       "      <td>Acre</td>\n",
       "      <td>0 Fires</td>\n",
       "      <td>1/1/2002</td>\n",
       "    </tr>\n",
       "  </tbody>\n",
       "</table>\n",
       "</div>"
      ],
      "text/plain": [
       "   year    month state number_of_fires      date\n",
       "0  1998  Janeiro  Acre         0 Fires  1/1/1998\n",
       "1  1999  Janeiro  Acre         0 Fires  1/1/1999\n",
       "2  2000  Janeiro  Acre         0 Fires  1/1/2000\n",
       "3  2001  Janeiro  Acre         0 Fires  1/1/2001\n",
       "4  2002  Janeiro  Acre         0 Fires  1/1/2002"
      ]
     },
     "execution_count": 12,
     "metadata": {},
     "output_type": "execute_result"
    }
   ],
   "source": [
    "df.head()"
   ]
  },
  {
   "cell_type": "code",
   "execution_count": 13,
   "metadata": {
    "colab": {
     "base_uri": "https://localhost:8080/",
     "height": 51
    },
    "id": "9316IE7JjkMn",
    "outputId": "46fe0fb8-23f4-43d1-f78d-f426d7d98a75"
   },
   "outputs": [
    {
     "data": {
      "text/plain": [
       "array([1998, 1999, 2000, 2001, 2002, 2003, 2004, 2005, 2006, 2007, 2008,\n",
       "       2009, 2010, 2011, 2012, 2013, 2014, 2015, 2016, 2017])"
      ]
     },
     "execution_count": 13,
     "metadata": {},
     "output_type": "execute_result"
    }
   ],
   "source": [
    "# How many years of data do we have?\n",
    "df['year'].unique()"
   ]
  },
  {
   "cell_type": "code",
   "execution_count": 14,
   "metadata": {
    "colab": {
     "base_uri": "https://localhost:8080/",
     "height": 119
    },
    "id": "vPBgtMAuyDZE",
    "outputId": "0de8d948-8513-4330-e4fc-075dfdec808b"
   },
   "outputs": [
    {
     "data": {
      "text/plain": [
       "year                 0\n",
       "month                0\n",
       "state                0\n",
       "number_of_fires    132\n",
       "date                 0\n",
       "dtype: int64"
      ]
     },
     "execution_count": 14,
     "metadata": {},
     "output_type": "execute_result"
    }
   ],
   "source": [
    "df.isnull().sum()"
   ]
  },
  {
   "cell_type": "code",
   "execution_count": 15,
   "metadata": {
    "colab": {
     "base_uri": "https://localhost:8080/",
     "height": 34
    },
    "id": "OGKPU8fa65Re",
    "outputId": "d3d56e58-bf26-4aae-98ed-213c6a535a4a"
   },
   "outputs": [
    {
     "data": {
      "text/plain": [
       "Index(['year', 'month', 'state', 'number_of_fires', 'date'], dtype='object')"
      ]
     },
     "execution_count": 15,
     "metadata": {},
     "output_type": "execute_result"
    }
   ],
   "source": [
    "df.columns"
   ]
  },
  {
   "cell_type": "markdown",
   "metadata": {
    "id": "1Q6ugBSjADMh"
   },
   "source": [
    "# Re-arranging columns"
   ]
  },
  {
   "cell_type": "code",
   "execution_count": 16,
   "metadata": {
    "colab": {
     "base_uri": "https://localhost:8080/",
     "height": 204
    },
    "id": "rsia68dVAEnI",
    "outputId": "58a11cb5-dbb1-4304-8522-4b0861e34640"
   },
   "outputs": [
    {
     "data": {
      "text/html": [
       "<div>\n",
       "<style scoped>\n",
       "    .dataframe tbody tr th:only-of-type {\n",
       "        vertical-align: middle;\n",
       "    }\n",
       "\n",
       "    .dataframe tbody tr th {\n",
       "        vertical-align: top;\n",
       "    }\n",
       "\n",
       "    .dataframe thead th {\n",
       "        text-align: right;\n",
       "    }\n",
       "</style>\n",
       "<table border=\"1\" class=\"dataframe\">\n",
       "  <thead>\n",
       "    <tr style=\"text-align: right;\">\n",
       "      <th></th>\n",
       "      <th>date</th>\n",
       "      <th>month</th>\n",
       "      <th>year</th>\n",
       "      <th>state</th>\n",
       "      <th>number_of_fires</th>\n",
       "    </tr>\n",
       "  </thead>\n",
       "  <tbody>\n",
       "    <tr>\n",
       "      <th>0</th>\n",
       "      <td>1/1/1998</td>\n",
       "      <td>Janeiro</td>\n",
       "      <td>1998</td>\n",
       "      <td>Acre</td>\n",
       "      <td>0 Fires</td>\n",
       "    </tr>\n",
       "    <tr>\n",
       "      <th>1</th>\n",
       "      <td>1/1/1999</td>\n",
       "      <td>Janeiro</td>\n",
       "      <td>1999</td>\n",
       "      <td>Acre</td>\n",
       "      <td>0 Fires</td>\n",
       "    </tr>\n",
       "    <tr>\n",
       "      <th>2</th>\n",
       "      <td>1/1/2000</td>\n",
       "      <td>Janeiro</td>\n",
       "      <td>2000</td>\n",
       "      <td>Acre</td>\n",
       "      <td>0 Fires</td>\n",
       "    </tr>\n",
       "    <tr>\n",
       "      <th>3</th>\n",
       "      <td>1/1/2001</td>\n",
       "      <td>Janeiro</td>\n",
       "      <td>2001</td>\n",
       "      <td>Acre</td>\n",
       "      <td>0 Fires</td>\n",
       "    </tr>\n",
       "    <tr>\n",
       "      <th>4</th>\n",
       "      <td>1/1/2002</td>\n",
       "      <td>Janeiro</td>\n",
       "      <td>2002</td>\n",
       "      <td>Acre</td>\n",
       "      <td>0 Fires</td>\n",
       "    </tr>\n",
       "  </tbody>\n",
       "</table>\n",
       "</div>"
      ],
      "text/plain": [
       "       date    month  year state number_of_fires\n",
       "0  1/1/1998  Janeiro  1998  Acre         0 Fires\n",
       "1  1/1/1999  Janeiro  1999  Acre         0 Fires\n",
       "2  1/1/2000  Janeiro  2000  Acre         0 Fires\n",
       "3  1/1/2001  Janeiro  2001  Acre         0 Fires\n",
       "4  1/1/2002  Janeiro  2002  Acre         0 Fires"
      ]
     },
     "execution_count": 16,
     "metadata": {},
     "output_type": "execute_result"
    }
   ],
   "source": [
    "# Columns are numbered from 0, left to right\n",
    "# Let's put date first, month second and year 3rd\n",
    "\n",
    "new_order = [4,1,0,2,3,]\n",
    "df = df[df.columns[new_order]]\n",
    "df.head()"
   ]
  },
  {
   "cell_type": "code",
   "execution_count": 17,
   "metadata": {
    "colab": {
     "base_uri": "https://localhost:8080/",
     "height": 824
    },
    "id": "ILfBkSgRznr0",
    "outputId": "2f47e1d1-7038-4276-a4dd-074157da5873"
   },
   "outputs": [
    {
     "data": {
      "text/html": [
       "<div>\n",
       "<style scoped>\n",
       "    .dataframe tbody tr th:only-of-type {\n",
       "        vertical-align: middle;\n",
       "    }\n",
       "\n",
       "    .dataframe tbody tr th {\n",
       "        vertical-align: top;\n",
       "    }\n",
       "\n",
       "    .dataframe thead th {\n",
       "        text-align: right;\n",
       "    }\n",
       "</style>\n",
       "<table border=\"1\" class=\"dataframe\">\n",
       "  <thead>\n",
       "    <tr style=\"text-align: right;\">\n",
       "      <th></th>\n",
       "      <th>date</th>\n",
       "      <th>month</th>\n",
       "      <th>year</th>\n",
       "      <th>state</th>\n",
       "      <th>number_of_fires</th>\n",
       "    </tr>\n",
       "  </thead>\n",
       "  <tbody>\n",
       "    <tr>\n",
       "      <th>0</th>\n",
       "      <td>1/1/1998</td>\n",
       "      <td>Janeiro</td>\n",
       "      <td>1998</td>\n",
       "      <td>Acre</td>\n",
       "      <td>0 Fires</td>\n",
       "    </tr>\n",
       "    <tr>\n",
       "      <th>1</th>\n",
       "      <td>1/1/1999</td>\n",
       "      <td>Janeiro</td>\n",
       "      <td>1999</td>\n",
       "      <td>Acre</td>\n",
       "      <td>0 Fires</td>\n",
       "    </tr>\n",
       "    <tr>\n",
       "      <th>2</th>\n",
       "      <td>1/1/2000</td>\n",
       "      <td>Janeiro</td>\n",
       "      <td>2000</td>\n",
       "      <td>Acre</td>\n",
       "      <td>0 Fires</td>\n",
       "    </tr>\n",
       "    <tr>\n",
       "      <th>3</th>\n",
       "      <td>1/1/2001</td>\n",
       "      <td>Janeiro</td>\n",
       "      <td>2001</td>\n",
       "      <td>Acre</td>\n",
       "      <td>0 Fires</td>\n",
       "    </tr>\n",
       "    <tr>\n",
       "      <th>4</th>\n",
       "      <td>1/1/2002</td>\n",
       "      <td>Janeiro</td>\n",
       "      <td>2002</td>\n",
       "      <td>Acre</td>\n",
       "      <td>0 Fires</td>\n",
       "    </tr>\n",
       "    <tr>\n",
       "      <th>5</th>\n",
       "      <td>1/1/2003</td>\n",
       "      <td>Janeiro</td>\n",
       "      <td>2003</td>\n",
       "      <td>Acre</td>\n",
       "      <td>10 Fires</td>\n",
       "    </tr>\n",
       "    <tr>\n",
       "      <th>6</th>\n",
       "      <td>1/1/2004</td>\n",
       "      <td>Janeiro</td>\n",
       "      <td>2004</td>\n",
       "      <td>Acre</td>\n",
       "      <td>0 Fires</td>\n",
       "    </tr>\n",
       "    <tr>\n",
       "      <th>7</th>\n",
       "      <td>1/1/2005</td>\n",
       "      <td>Janeiro</td>\n",
       "      <td>2005</td>\n",
       "      <td>Acre</td>\n",
       "      <td>12 Fires</td>\n",
       "    </tr>\n",
       "    <tr>\n",
       "      <th>8</th>\n",
       "      <td>1/1/2006</td>\n",
       "      <td>Janeiro</td>\n",
       "      <td>2006</td>\n",
       "      <td>Acre</td>\n",
       "      <td>4 Fires</td>\n",
       "    </tr>\n",
       "    <tr>\n",
       "      <th>9</th>\n",
       "      <td>1/1/2007</td>\n",
       "      <td>Janeiro</td>\n",
       "      <td>2007</td>\n",
       "      <td>Acre</td>\n",
       "      <td>0 Fires</td>\n",
       "    </tr>\n",
       "    <tr>\n",
       "      <th>10</th>\n",
       "      <td>1/1/2008</td>\n",
       "      <td>Janeiro</td>\n",
       "      <td>2008</td>\n",
       "      <td>Acre</td>\n",
       "      <td>0 Fires</td>\n",
       "    </tr>\n",
       "    <tr>\n",
       "      <th>11</th>\n",
       "      <td>1/1/2009</td>\n",
       "      <td>Janeiro</td>\n",
       "      <td>2009</td>\n",
       "      <td>Acre</td>\n",
       "      <td>0 Fires</td>\n",
       "    </tr>\n",
       "    <tr>\n",
       "      <th>12</th>\n",
       "      <td>1/1/2010</td>\n",
       "      <td>Janeiro</td>\n",
       "      <td>2010</td>\n",
       "      <td>Acre</td>\n",
       "      <td>1 Fires</td>\n",
       "    </tr>\n",
       "    <tr>\n",
       "      <th>13</th>\n",
       "      <td>1/1/2011</td>\n",
       "      <td>Janeiro</td>\n",
       "      <td>2011</td>\n",
       "      <td>Acre</td>\n",
       "      <td>0 Fires</td>\n",
       "    </tr>\n",
       "    <tr>\n",
       "      <th>14</th>\n",
       "      <td>1/1/2012</td>\n",
       "      <td>Janeiro</td>\n",
       "      <td>2012</td>\n",
       "      <td>Acre</td>\n",
       "      <td>0 Fires</td>\n",
       "    </tr>\n",
       "    <tr>\n",
       "      <th>15</th>\n",
       "      <td>1/1/2013</td>\n",
       "      <td>Janeiro</td>\n",
       "      <td>2013</td>\n",
       "      <td>Acre</td>\n",
       "      <td>0 Fires</td>\n",
       "    </tr>\n",
       "    <tr>\n",
       "      <th>16</th>\n",
       "      <td>1/1/2014</td>\n",
       "      <td>Janeiro</td>\n",
       "      <td>2014</td>\n",
       "      <td>Acre</td>\n",
       "      <td>0 Fires</td>\n",
       "    </tr>\n",
       "    <tr>\n",
       "      <th>17</th>\n",
       "      <td>1/1/2015</td>\n",
       "      <td>Janeiro</td>\n",
       "      <td>2015</td>\n",
       "      <td>Acre</td>\n",
       "      <td>1 Fires</td>\n",
       "    </tr>\n",
       "    <tr>\n",
       "      <th>18</th>\n",
       "      <td>1/1/2016</td>\n",
       "      <td>Janeiro</td>\n",
       "      <td>2016</td>\n",
       "      <td>Acre</td>\n",
       "      <td>12 Fires</td>\n",
       "    </tr>\n",
       "    <tr>\n",
       "      <th>19</th>\n",
       "      <td>1/1/2017</td>\n",
       "      <td>Janeiro</td>\n",
       "      <td>2017</td>\n",
       "      <td>Acre</td>\n",
       "      <td>0 Fires</td>\n",
       "    </tr>\n",
       "    <tr>\n",
       "      <th>20</th>\n",
       "      <td>1/1/1998</td>\n",
       "      <td>Fevereiro</td>\n",
       "      <td>1998</td>\n",
       "      <td>Acre</td>\n",
       "      <td>0 Fires</td>\n",
       "    </tr>\n",
       "    <tr>\n",
       "      <th>21</th>\n",
       "      <td>1/1/1999</td>\n",
       "      <td>Fevereiro</td>\n",
       "      <td>1999</td>\n",
       "      <td>Acre</td>\n",
       "      <td>0 Fires</td>\n",
       "    </tr>\n",
       "    <tr>\n",
       "      <th>22</th>\n",
       "      <td>1/1/2000</td>\n",
       "      <td>Fevereiro</td>\n",
       "      <td>2000</td>\n",
       "      <td>Acre</td>\n",
       "      <td>0 Fires</td>\n",
       "    </tr>\n",
       "    <tr>\n",
       "      <th>23</th>\n",
       "      <td>1/1/2001</td>\n",
       "      <td>Fevereiro</td>\n",
       "      <td>2001</td>\n",
       "      <td>Acre</td>\n",
       "      <td>0 Fires</td>\n",
       "    </tr>\n",
       "    <tr>\n",
       "      <th>24</th>\n",
       "      <td>1/1/2002</td>\n",
       "      <td>Fevereiro</td>\n",
       "      <td>2002</td>\n",
       "      <td>Acre</td>\n",
       "      <td>1 Fires</td>\n",
       "    </tr>\n",
       "  </tbody>\n",
       "</table>\n",
       "</div>"
      ],
      "text/plain": [
       "        date      month  year state number_of_fires\n",
       "0   1/1/1998    Janeiro  1998  Acre         0 Fires\n",
       "1   1/1/1999    Janeiro  1999  Acre         0 Fires\n",
       "2   1/1/2000    Janeiro  2000  Acre         0 Fires\n",
       "3   1/1/2001    Janeiro  2001  Acre         0 Fires\n",
       "4   1/1/2002    Janeiro  2002  Acre         0 Fires\n",
       "5   1/1/2003    Janeiro  2003  Acre        10 Fires\n",
       "6   1/1/2004    Janeiro  2004  Acre         0 Fires\n",
       "7   1/1/2005    Janeiro  2005  Acre        12 Fires\n",
       "8   1/1/2006    Janeiro  2006  Acre         4 Fires\n",
       "9   1/1/2007    Janeiro  2007  Acre         0 Fires\n",
       "10  1/1/2008    Janeiro  2008  Acre         0 Fires\n",
       "11  1/1/2009    Janeiro  2009  Acre         0 Fires\n",
       "12  1/1/2010    Janeiro  2010  Acre         1 Fires\n",
       "13  1/1/2011    Janeiro  2011  Acre         0 Fires\n",
       "14  1/1/2012    Janeiro  2012  Acre         0 Fires\n",
       "15  1/1/2013    Janeiro  2013  Acre         0 Fires\n",
       "16  1/1/2014    Janeiro  2014  Acre         0 Fires\n",
       "17  1/1/2015    Janeiro  2015  Acre         1 Fires\n",
       "18  1/1/2016    Janeiro  2016  Acre        12 Fires\n",
       "19  1/1/2017    Janeiro  2017  Acre         0 Fires\n",
       "20  1/1/1998  Fevereiro  1998  Acre         0 Fires\n",
       "21  1/1/1999  Fevereiro  1999  Acre         0 Fires\n",
       "22  1/1/2000  Fevereiro  2000  Acre         0 Fires\n",
       "23  1/1/2001  Fevereiro  2001  Acre         0 Fires\n",
       "24  1/1/2002  Fevereiro  2002  Acre         1 Fires"
      ]
     },
     "execution_count": 17,
     "metadata": {},
     "output_type": "execute_result"
    }
   ],
   "source": [
    "df.head(25)"
   ]
  },
  {
   "cell_type": "code",
   "execution_count": 19,
   "metadata": {
    "colab": {
     "base_uri": "https://localhost:8080/",
     "height": 419
    },
    "id": "yXS2Khp_zGg1",
    "outputId": "7ead6324-9725-489a-ada6-6a124ec536a9"
   },
   "outputs": [
    {
     "data": {
      "text/html": [
       "<div>\n",
       "<style scoped>\n",
       "    .dataframe tbody tr th:only-of-type {\n",
       "        vertical-align: middle;\n",
       "    }\n",
       "\n",
       "    .dataframe tbody tr th {\n",
       "        vertical-align: top;\n",
       "    }\n",
       "\n",
       "    .dataframe thead th {\n",
       "        text-align: right;\n",
       "    }\n",
       "</style>\n",
       "<table border=\"1\" class=\"dataframe\">\n",
       "  <thead>\n",
       "    <tr style=\"text-align: right;\">\n",
       "      <th></th>\n",
       "      <th>date</th>\n",
       "      <th>month</th>\n",
       "      <th>year</th>\n",
       "      <th>state</th>\n",
       "      <th>number_of_fires</th>\n",
       "    </tr>\n",
       "  </thead>\n",
       "  <tbody>\n",
       "    <tr>\n",
       "      <th>68</th>\n",
       "      <td>1/1/2006</td>\n",
       "      <td>Abril</td>\n",
       "      <td>2006</td>\n",
       "      <td>Acre</td>\n",
       "      <td>NaN</td>\n",
       "    </tr>\n",
       "    <tr>\n",
       "      <th>110</th>\n",
       "      <td>1/1/2008</td>\n",
       "      <td>Junho</td>\n",
       "      <td>2008</td>\n",
       "      <td>Acre</td>\n",
       "      <td>NaN</td>\n",
       "    </tr>\n",
       "    <tr>\n",
       "      <th>127</th>\n",
       "      <td>1/1/2005</td>\n",
       "      <td>Julho</td>\n",
       "      <td>2005</td>\n",
       "      <td>Acre</td>\n",
       "      <td>NaN</td>\n",
       "    </tr>\n",
       "    <tr>\n",
       "      <th>206</th>\n",
       "      <td>1/1/2004</td>\n",
       "      <td>Novembro</td>\n",
       "      <td>2004</td>\n",
       "      <td>Acre</td>\n",
       "      <td>NaN</td>\n",
       "    </tr>\n",
       "    <tr>\n",
       "      <th>217</th>\n",
       "      <td>1/1/2015</td>\n",
       "      <td>Novembro</td>\n",
       "      <td>2015</td>\n",
       "      <td>Acre</td>\n",
       "      <td>NaN</td>\n",
       "    </tr>\n",
       "    <tr>\n",
       "      <th>...</th>\n",
       "      <td>...</td>\n",
       "      <td>...</td>\n",
       "      <td>...</td>\n",
       "      <td>...</td>\n",
       "      <td>...</td>\n",
       "    </tr>\n",
       "    <tr>\n",
       "      <th>6305</th>\n",
       "      <td>1/1/2008</td>\n",
       "      <td>Maio</td>\n",
       "      <td>2008</td>\n",
       "      <td>Tocantins</td>\n",
       "      <td>NaN</td>\n",
       "    </tr>\n",
       "    <tr>\n",
       "      <th>6354</th>\n",
       "      <td>1/1/2017</td>\n",
       "      <td>Julho</td>\n",
       "      <td>2017</td>\n",
       "      <td>Tocantins</td>\n",
       "      <td>NaN</td>\n",
       "    </tr>\n",
       "    <tr>\n",
       "      <th>6383</th>\n",
       "      <td>1/1/2006</td>\n",
       "      <td>Setembro</td>\n",
       "      <td>2006</td>\n",
       "      <td>Tocantins</td>\n",
       "      <td>NaN</td>\n",
       "    </tr>\n",
       "    <tr>\n",
       "      <th>6415</th>\n",
       "      <td>1/1/1998</td>\n",
       "      <td>Novembro</td>\n",
       "      <td>1998</td>\n",
       "      <td>Tocantins</td>\n",
       "      <td>NaN</td>\n",
       "    </tr>\n",
       "    <tr>\n",
       "      <th>6428</th>\n",
       "      <td>1/1/2011</td>\n",
       "      <td>Novembro</td>\n",
       "      <td>2011</td>\n",
       "      <td>Tocantins</td>\n",
       "      <td>NaN</td>\n",
       "    </tr>\n",
       "  </tbody>\n",
       "</table>\n",
       "<p>132 rows × 5 columns</p>\n",
       "</div>"
      ],
      "text/plain": [
       "          date     month  year      state number_of_fires\n",
       "68    1/1/2006     Abril  2006       Acre             NaN\n",
       "110   1/1/2008     Junho  2008       Acre             NaN\n",
       "127   1/1/2005     Julho  2005       Acre             NaN\n",
       "206   1/1/2004  Novembro  2004       Acre             NaN\n",
       "217   1/1/2015  Novembro  2015       Acre             NaN\n",
       "...        ...       ...   ...        ...             ...\n",
       "6305  1/1/2008      Maio  2008  Tocantins             NaN\n",
       "6354  1/1/2017     Julho  2017  Tocantins             NaN\n",
       "6383  1/1/2006  Setembro  2006  Tocantins             NaN\n",
       "6415  1/1/1998  Novembro  1998  Tocantins             NaN\n",
       "6428  1/1/2011  Novembro  2011  Tocantins             NaN\n",
       "\n",
       "[132 rows x 5 columns]"
      ]
     },
     "execution_count": 19,
     "metadata": {},
     "output_type": "execute_result"
    }
   ],
   "source": [
    "df[df['number_of_fires'].isnull() == True]"
   ]
  },
  {
   "cell_type": "markdown",
   "metadata": {
    "id": "hWNUppp2vK6B"
   },
   "source": [
    "# Determing if a column contains numeric data"
   ]
  },
  {
   "cell_type": "code",
   "execution_count": null,
   "metadata": {
    "colab": {
     "base_uri": "https://localhost:8080/",
     "height": 221
    },
    "id": "BYS0q1LYqT6G",
    "outputId": "55a2e657-156d-48d4-c1a1-7703d82e0c03"
   },
   "outputs": [
    {
     "data": {
      "text/plain": [
       "0       False\n",
       "1       False\n",
       "2       False\n",
       "3       False\n",
       "4       False\n",
       "        ...  \n",
       "6449     True\n",
       "6450     True\n",
       "6451     True\n",
       "6452     True\n",
       "6453     True\n",
       "Name: number_of_fires, Length: 6454, dtype: object"
      ]
     },
     "execution_count": 30,
     "metadata": {
      "tags": []
     },
     "output_type": "execute_result"
    }
   ],
   "source": [
    "# It isn't, let's find our why\n",
    "df['number_of_fires'].str.isnumeric()"
   ]
  },
  {
   "cell_type": "code",
   "execution_count": 20,
   "metadata": {
    "colab": {
     "base_uri": "https://localhost:8080/",
     "height": 316
    },
    "id": "aKihquGUqcmY",
    "outputId": "c9deb69e-ad11-4cec-8498-6d248e3bb577"
   },
   "outputs": [
    {
     "ename": "ValueError",
     "evalue": "Cannot mask with non-boolean array containing NA / NaN values",
     "output_type": "error",
     "traceback": [
      "\u001b[0;31m---------------------------------------------------------------------------\u001b[0m",
      "\u001b[0;31mValueError\u001b[0m                                Traceback (most recent call last)",
      "Input \u001b[0;32mIn [20]\u001b[0m, in \u001b[0;36m<cell line: 1>\u001b[0;34m()\u001b[0m\n\u001b[0;32m----> 1\u001b[0m \u001b[43mdf\u001b[49m\u001b[43m[\u001b[49m\u001b[43mdf\u001b[49m\u001b[43m[\u001b[49m\u001b[38;5;124;43m'\u001b[39;49m\u001b[38;5;124;43mnumber_of_fires\u001b[39;49m\u001b[38;5;124;43m'\u001b[39;49m\u001b[43m]\u001b[49m\u001b[38;5;241;43m.\u001b[39;49m\u001b[43mstr\u001b[49m\u001b[38;5;241;43m.\u001b[39;49m\u001b[43misdigit\u001b[49m\u001b[43m(\u001b[49m\u001b[43m)\u001b[49m\u001b[43m]\u001b[49m\n",
      "File \u001b[0;32m/opt/anaconda3/envs/torch/lib/python3.10/site-packages/pandas/core/frame.py:3495\u001b[0m, in \u001b[0;36mDataFrame.__getitem__\u001b[0;34m(self, key)\u001b[0m\n\u001b[1;32m   3492\u001b[0m     \u001b[38;5;28;01mreturn\u001b[39;00m \u001b[38;5;28mself\u001b[39m\u001b[38;5;241m.\u001b[39mwhere(key)\n\u001b[1;32m   3494\u001b[0m \u001b[38;5;66;03m# Do we have a (boolean) 1d indexer?\u001b[39;00m\n\u001b[0;32m-> 3495\u001b[0m \u001b[38;5;28;01mif\u001b[39;00m \u001b[43mcom\u001b[49m\u001b[38;5;241;43m.\u001b[39;49m\u001b[43mis_bool_indexer\u001b[49m\u001b[43m(\u001b[49m\u001b[43mkey\u001b[49m\u001b[43m)\u001b[49m:\n\u001b[1;32m   3496\u001b[0m     \u001b[38;5;28;01mreturn\u001b[39;00m \u001b[38;5;28mself\u001b[39m\u001b[38;5;241m.\u001b[39m_getitem_bool_array(key)\n\u001b[1;32m   3498\u001b[0m \u001b[38;5;66;03m# We are left with two options: a single key, and a collection of keys,\u001b[39;00m\n\u001b[1;32m   3499\u001b[0m \u001b[38;5;66;03m# We interpret tuples as collections only for non-MultiIndex\u001b[39;00m\n",
      "File \u001b[0;32m/opt/anaconda3/envs/torch/lib/python3.10/site-packages/pandas/core/common.py:144\u001b[0m, in \u001b[0;36mis_bool_indexer\u001b[0;34m(key)\u001b[0m\n\u001b[1;32m    140\u001b[0m     na_msg \u001b[38;5;241m=\u001b[39m \u001b[38;5;124m\"\u001b[39m\u001b[38;5;124mCannot mask with non-boolean array containing NA / NaN values\u001b[39m\u001b[38;5;124m\"\u001b[39m\n\u001b[1;32m    141\u001b[0m     \u001b[38;5;28;01mif\u001b[39;00m lib\u001b[38;5;241m.\u001b[39minfer_dtype(key) \u001b[38;5;241m==\u001b[39m \u001b[38;5;124m\"\u001b[39m\u001b[38;5;124mboolean\u001b[39m\u001b[38;5;124m\"\u001b[39m \u001b[38;5;129;01mand\u001b[39;00m isna(key)\u001b[38;5;241m.\u001b[39many():\n\u001b[1;32m    142\u001b[0m         \u001b[38;5;66;03m# Don't raise on e.g. [\"A\", \"B\", np.nan], see\u001b[39;00m\n\u001b[1;32m    143\u001b[0m         \u001b[38;5;66;03m#  test_loc_getitem_list_of_labels_categoricalindex_with_na\u001b[39;00m\n\u001b[0;32m--> 144\u001b[0m         \u001b[38;5;28;01mraise\u001b[39;00m \u001b[38;5;167;01mValueError\u001b[39;00m(na_msg)\n\u001b[1;32m    145\u001b[0m     \u001b[38;5;28;01mreturn\u001b[39;00m \u001b[38;5;28;01mFalse\u001b[39;00m\n\u001b[1;32m    146\u001b[0m \u001b[38;5;28;01mreturn\u001b[39;00m \u001b[38;5;28;01mTrue\u001b[39;00m\n",
      "\u001b[0;31mValueError\u001b[0m: Cannot mask with non-boolean array containing NA / NaN values"
     ]
    }
   ],
   "source": [
    "df[df['number_of_fires'].str.isdigit()]"
   ]
  },
  {
   "cell_type": "code",
   "execution_count": 22,
   "metadata": {},
   "outputs": [
    {
     "name": "stdout",
     "output_type": "stream",
     "text": [
      "<class 'pandas.core.frame.DataFrame'>\n",
      "RangeIndex: 6454 entries, 0 to 6453\n",
      "Data columns (total 5 columns):\n",
      " #   Column           Non-Null Count  Dtype \n",
      "---  ------           --------------  ----- \n",
      " 0   date             6454 non-null   object\n",
      " 1   month            6454 non-null   object\n",
      " 2   year             6454 non-null   int64 \n",
      " 3   state            6454 non-null   object\n",
      " 4   number_of_fires  6322 non-null   object\n",
      "dtypes: int64(1), object(4)\n",
      "memory usage: 252.2+ KB\n"
     ]
    }
   ],
   "source": [
    "df.info()"
   ]
  },
  {
   "cell_type": "code",
   "execution_count": 23,
   "metadata": {
    "colab": {
     "base_uri": "https://localhost:8080/",
     "height": 230
    },
    "id": "lcWU0PwYrCvs",
    "outputId": "d736a309-e2bd-454d-d81c-305db3002c49"
   },
   "outputs": [
    {
     "data": {
      "text/plain": [
       "0       False\n",
       "1       False\n",
       "2       False\n",
       "3       False\n",
       "4       False\n",
       "        ...  \n",
       "6449     True\n",
       "6450     True\n",
       "6451     True\n",
       "6452     True\n",
       "6453     True\n",
       "Name: number_of_fires, Length: 6454, dtype: bool"
      ]
     },
     "execution_count": 23,
     "metadata": {},
     "output_type": "execute_result"
    }
   ],
   "source": [
    "# We get the above error because our isdigit() returns Nan for blank or missing values\n",
    "# To fix this we need to convert our column datatype from non-null objects to a String\n",
    "\n",
    "df['number_of_fires'].astype(str).str.isdigit()"
   ]
  },
  {
   "cell_type": "markdown",
   "metadata": {
    "id": "rMuJ_Bc2xn76"
   },
   "source": [
    "\n",
    "- Bascially, `str.isdigit` only returns True for strings containing solely the digits 0-9. \n",
    "- By contrast, `str.isnumeric` returns True if it contains any numeric characters. e.g. '½'"
   ]
  },
  {
   "cell_type": "markdown",
   "metadata": {
    "id": "V1gaXjc-vuQq"
   },
   "source": [
    "# Removing unnecessary text from columns"
   ]
  },
  {
   "cell_type": "code",
   "execution_count": null,
   "metadata": {
    "colab": {
     "base_uri": "https://localhost:8080/",
     "height": 230
    },
    "id": "ModoDUIHvySz",
    "outputId": "ac3bf399-4145-40a6-f14c-a98dfe925e79"
   },
   "outputs": [
    {
     "data": {
      "text/plain": [
       "0         0\n",
       "1         0\n",
       "2         0\n",
       "3         0\n",
       "4         0\n",
       "       ... \n",
       "6449    128\n",
       "6450     85\n",
       "6451    223\n",
       "6452    373\n",
       "6453    119\n",
       "Name: number_of_fires, Length: 6454, dtype: object"
      ]
     },
     "execution_count": 14,
     "metadata": {
      "tags": []
     },
     "output_type": "execute_result"
    }
   ],
   "source": [
    "df['number_of_fires'].str.strip(\" Fires\")"
   ]
  },
  {
   "cell_type": "markdown",
   "metadata": {
    "id": "tmV--mWm1DZn"
   },
   "source": [
    "Strip - Return a copy of the string with leading and trailing characters removed. If chars is omitted or None, whitespace characters are removed. If given and not None, chars must be a string; the characters in the string will be stripped from the both ends of the string this method is called on."
   ]
  },
  {
   "cell_type": "code",
   "execution_count": null,
   "metadata": {
    "colab": {
     "base_uri": "https://localhost:8080/",
     "height": 204
    },
    "id": "iVLxwJ6Ssggj",
    "outputId": "1c609b9a-fa7f-4f70-8047-22a73757980a"
   },
   "outputs": [
    {
     "data": {
      "text/html": [
       "<div>\n",
       "<style scoped>\n",
       "    .dataframe tbody tr th:only-of-type {\n",
       "        vertical-align: middle;\n",
       "    }\n",
       "\n",
       "    .dataframe tbody tr th {\n",
       "        vertical-align: top;\n",
       "    }\n",
       "\n",
       "    .dataframe thead th {\n",
       "        text-align: right;\n",
       "    }\n",
       "</style>\n",
       "<table border=\"1\" class=\"dataframe\">\n",
       "  <thead>\n",
       "    <tr style=\"text-align: right;\">\n",
       "      <th></th>\n",
       "      <th>date</th>\n",
       "      <th>month</th>\n",
       "      <th>year</th>\n",
       "      <th>state</th>\n",
       "      <th>number_of_fires</th>\n",
       "    </tr>\n",
       "  </thead>\n",
       "  <tbody>\n",
       "    <tr>\n",
       "      <th>0</th>\n",
       "      <td>1/1/1998</td>\n",
       "      <td>Janeiro</td>\n",
       "      <td>1998</td>\n",
       "      <td>Acre</td>\n",
       "      <td>0</td>\n",
       "    </tr>\n",
       "    <tr>\n",
       "      <th>1</th>\n",
       "      <td>1/1/1999</td>\n",
       "      <td>Janeiro</td>\n",
       "      <td>1999</td>\n",
       "      <td>Acre</td>\n",
       "      <td>0</td>\n",
       "    </tr>\n",
       "    <tr>\n",
       "      <th>2</th>\n",
       "      <td>1/1/2000</td>\n",
       "      <td>Janeiro</td>\n",
       "      <td>2000</td>\n",
       "      <td>Acre</td>\n",
       "      <td>0</td>\n",
       "    </tr>\n",
       "    <tr>\n",
       "      <th>3</th>\n",
       "      <td>1/1/2001</td>\n",
       "      <td>Janeiro</td>\n",
       "      <td>2001</td>\n",
       "      <td>Acre</td>\n",
       "      <td>0</td>\n",
       "    </tr>\n",
       "    <tr>\n",
       "      <th>4</th>\n",
       "      <td>1/1/2002</td>\n",
       "      <td>Janeiro</td>\n",
       "      <td>2002</td>\n",
       "      <td>Acre</td>\n",
       "      <td>0</td>\n",
       "    </tr>\n",
       "  </tbody>\n",
       "</table>\n",
       "</div>"
      ],
      "text/plain": [
       "       date    month  year state number_of_fires\n",
       "0  1/1/1998  Janeiro  1998  Acre               0\n",
       "1  1/1/1999  Janeiro  1999  Acre               0\n",
       "2  1/1/2000  Janeiro  2000  Acre               0\n",
       "3  1/1/2001  Janeiro  2001  Acre               0\n",
       "4  1/1/2002  Janeiro  2002  Acre               0"
      ]
     },
     "execution_count": 5,
     "metadata": {
      "tags": []
     },
     "output_type": "execute_result"
    }
   ],
   "source": [
    "# To replace column with cleaned column\n",
    "\n",
    "df['number_of_fires'] = df['number_of_fires'].str.strip(\" Fires\")\n",
    "df.head()"
   ]
  },
  {
   "cell_type": "code",
   "execution_count": null,
   "metadata": {
    "colab": {
     "base_uri": "https://localhost:8080/",
     "height": 221
    },
    "id": "qEp3qxVEwc7c",
    "outputId": "e270d40a-0052-4465-9873-bdb71d4099c1"
   },
   "outputs": [
    {
     "name": "stdout",
     "output_type": "stream",
     "text": [
      "<class 'pandas.core.frame.DataFrame'>\n",
      "RangeIndex: 6454 entries, 0 to 6453\n",
      "Data columns (total 5 columns):\n",
      " #   Column           Non-Null Count  Dtype  \n",
      "---  ------           --------------  -----  \n",
      " 0   date             6454 non-null   object \n",
      " 1   month            6454 non-null   object \n",
      " 2   year             6454 non-null   int64  \n",
      " 3   state            6454 non-null   object \n",
      " 4   number_of_fires  6322 non-null   float64\n",
      "dtypes: float64(1), int64(1), object(3)\n",
      "memory usage: 252.2+ KB\n"
     ]
    }
   ],
   "source": [
    "df.info()"
   ]
  },
  {
   "cell_type": "code",
   "execution_count": null,
   "metadata": {
    "colab": {
     "base_uri": "https://localhost:8080/",
     "height": 204
    },
    "id": "9BFmmCGSwhie",
    "outputId": "5be9d03b-7043-434a-dd93-0188533f2e38"
   },
   "outputs": [
    {
     "data": {
      "text/html": [
       "<div>\n",
       "<style scoped>\n",
       "    .dataframe tbody tr th:only-of-type {\n",
       "        vertical-align: middle;\n",
       "    }\n",
       "\n",
       "    .dataframe tbody tr th {\n",
       "        vertical-align: top;\n",
       "    }\n",
       "\n",
       "    .dataframe thead th {\n",
       "        text-align: right;\n",
       "    }\n",
       "</style>\n",
       "<table border=\"1\" class=\"dataframe\">\n",
       "  <thead>\n",
       "    <tr style=\"text-align: right;\">\n",
       "      <th></th>\n",
       "      <th>date</th>\n",
       "      <th>month</th>\n",
       "      <th>year</th>\n",
       "      <th>state</th>\n",
       "      <th>number_of_fires</th>\n",
       "    </tr>\n",
       "  </thead>\n",
       "  <tbody>\n",
       "    <tr>\n",
       "      <th>0</th>\n",
       "      <td>1/1/1998</td>\n",
       "      <td>Janeiro</td>\n",
       "      <td>1998</td>\n",
       "      <td>Acre</td>\n",
       "      <td>0.0</td>\n",
       "    </tr>\n",
       "    <tr>\n",
       "      <th>1</th>\n",
       "      <td>1/1/1999</td>\n",
       "      <td>Janeiro</td>\n",
       "      <td>1999</td>\n",
       "      <td>Acre</td>\n",
       "      <td>0.0</td>\n",
       "    </tr>\n",
       "    <tr>\n",
       "      <th>2</th>\n",
       "      <td>1/1/2000</td>\n",
       "      <td>Janeiro</td>\n",
       "      <td>2000</td>\n",
       "      <td>Acre</td>\n",
       "      <td>0.0</td>\n",
       "    </tr>\n",
       "    <tr>\n",
       "      <th>3</th>\n",
       "      <td>1/1/2001</td>\n",
       "      <td>Janeiro</td>\n",
       "      <td>2001</td>\n",
       "      <td>Acre</td>\n",
       "      <td>0.0</td>\n",
       "    </tr>\n",
       "    <tr>\n",
       "      <th>4</th>\n",
       "      <td>1/1/2002</td>\n",
       "      <td>Janeiro</td>\n",
       "      <td>2002</td>\n",
       "      <td>Acre</td>\n",
       "      <td>0.0</td>\n",
       "    </tr>\n",
       "  </tbody>\n",
       "</table>\n",
       "</div>"
      ],
      "text/plain": [
       "       date    month  year state  number_of_fires\n",
       "0  1/1/1998  Janeiro  1998  Acre              0.0\n",
       "1  1/1/1999  Janeiro  1999  Acre              0.0\n",
       "2  1/1/2000  Janeiro  2000  Acre              0.0\n",
       "3  1/1/2001  Janeiro  2001  Acre              0.0\n",
       "4  1/1/2002  Janeiro  2002  Acre              0.0"
      ]
     },
     "execution_count": 6,
     "metadata": {
      "tags": []
     },
     "output_type": "execute_result"
    }
   ],
   "source": [
    "# We need to convert our number_of_fires column to a float data type\n",
    "# Also, here's an alternative string manipulation technique we can use\n",
    "\n",
    "df[\"number_of_fires\"] = df[\"number_of_fires\"].str.replace('','0').astype(float)\n",
    "df.head()"
   ]
  },
  {
   "cell_type": "code",
   "execution_count": null,
   "metadata": {
    "id": "VaInk9O4uvKs"
   },
   "outputs": [],
   "source": [
    "# That was one way we could have handled blank data"
   ]
  },
  {
   "cell_type": "markdown",
   "metadata": {
    "id": "zAwSjmRwyyPv"
   },
   "source": [
    "# Handling missing data"
   ]
  },
  {
   "cell_type": "code",
   "execution_count": null,
   "metadata": {
    "colab": {
     "base_uri": "https://localhost:8080/",
     "height": 204
    },
    "id": "ofXoeQDzyz4S",
    "outputId": "4aa380ea-addd-47d3-ab33-86e5df9b18f2"
   },
   "outputs": [
    {
     "data": {
      "text/html": [
       "<div>\n",
       "<style scoped>\n",
       "    .dataframe tbody tr th:only-of-type {\n",
       "        vertical-align: middle;\n",
       "    }\n",
       "\n",
       "    .dataframe tbody tr th {\n",
       "        vertical-align: top;\n",
       "    }\n",
       "\n",
       "    .dataframe thead th {\n",
       "        text-align: right;\n",
       "    }\n",
       "</style>\n",
       "<table border=\"1\" class=\"dataframe\">\n",
       "  <thead>\n",
       "    <tr style=\"text-align: right;\">\n",
       "      <th></th>\n",
       "      <th>year</th>\n",
       "      <th>month</th>\n",
       "      <th>state</th>\n",
       "      <th>number_of_fires</th>\n",
       "      <th>date</th>\n",
       "    </tr>\n",
       "  </thead>\n",
       "  <tbody>\n",
       "    <tr>\n",
       "      <th>0</th>\n",
       "      <td>1998</td>\n",
       "      <td>Janeiro</td>\n",
       "      <td>Acre</td>\n",
       "      <td>0</td>\n",
       "      <td>1/1/1998</td>\n",
       "    </tr>\n",
       "    <tr>\n",
       "      <th>1</th>\n",
       "      <td>1999</td>\n",
       "      <td>Janeiro</td>\n",
       "      <td>Acre</td>\n",
       "      <td>0</td>\n",
       "      <td>1/1/1999</td>\n",
       "    </tr>\n",
       "    <tr>\n",
       "      <th>2</th>\n",
       "      <td>2000</td>\n",
       "      <td>Janeiro</td>\n",
       "      <td>Acre</td>\n",
       "      <td>0</td>\n",
       "      <td>1/1/2000</td>\n",
       "    </tr>\n",
       "    <tr>\n",
       "      <th>3</th>\n",
       "      <td>2001</td>\n",
       "      <td>Janeiro</td>\n",
       "      <td>Acre</td>\n",
       "      <td>0</td>\n",
       "      <td>1/1/2001</td>\n",
       "    </tr>\n",
       "    <tr>\n",
       "      <th>4</th>\n",
       "      <td>2002</td>\n",
       "      <td>Janeiro</td>\n",
       "      <td>Acre</td>\n",
       "      <td>0</td>\n",
       "      <td>1/1/2002</td>\n",
       "    </tr>\n",
       "  </tbody>\n",
       "</table>\n",
       "</div>"
      ],
      "text/plain": [
       "   year    month state number_of_fires      date\n",
       "0  1998  Janeiro  Acre               0  1/1/1998\n",
       "1  1999  Janeiro  Acre               0  1/1/1999\n",
       "2  2000  Janeiro  Acre               0  1/1/2000\n",
       "3  2001  Janeiro  Acre               0  1/1/2001\n",
       "4  2002  Janeiro  Acre               0  1/1/2002"
      ]
     },
     "execution_count": 8,
     "metadata": {
      "tags": []
     },
     "output_type": "execute_result"
    }
   ],
   "source": [
    "# Let's reload our dataframe\n",
    "file_name = \"https://raw.githubusercontent.com/rajeevratan84/datascienceforbusiness/master/amazon_fires.csv\"\n",
    "df = pd.read_csv(file_name, encoding = \"ISO-8859-1\")\n",
    "new_columns = {'ano' : 'year',\n",
    "               'estado': 'state',\n",
    "               'mes': 'month',\n",
    "               'numero': 'number_of_fires',\n",
    "               'encontro': 'date'}\n",
    "df.rename(columns = new_columns, inplace=True)\n",
    "df['number_of_fires'] = df['number_of_fires'].str.strip(\" Fires\")\n",
    "# Creating a true copy of our dataframe\n",
    "df_copy = df.copy()\n",
    "df.head()"
   ]
  },
  {
   "cell_type": "code",
   "execution_count": null,
   "metadata": {
    "colab": {
     "base_uri": "https://localhost:8080/",
     "height": 119
    },
    "id": "1llYdbJmy0jX",
    "outputId": "ca842e85-0eb2-4039-ae7a-c494b069c0db"
   },
   "outputs": [
    {
     "data": {
      "text/plain": [
       "year                 0\n",
       "month                0\n",
       "state                0\n",
       "number_of_fires    132\n",
       "date                 0\n",
       "dtype: int64"
      ]
     },
     "execution_count": 9,
     "metadata": {
      "tags": []
     },
     "output_type": "execute_result"
    }
   ],
   "source": [
    "# Viewing the sum of missing values in each column\n",
    "\n",
    "df.isnull().sum()"
   ]
  },
  {
   "cell_type": "code",
   "execution_count": null,
   "metadata": {
    "colab": {
     "base_uri": "https://localhost:8080/",
     "height": 204
    },
    "id": "Z3VqKSGo1hZ2",
    "outputId": "b440a7ab-db92-46f1-c67b-f46ea753e71c"
   },
   "outputs": [
    {
     "data": {
      "text/html": [
       "<div>\n",
       "<style scoped>\n",
       "    .dataframe tbody tr th:only-of-type {\n",
       "        vertical-align: middle;\n",
       "    }\n",
       "\n",
       "    .dataframe tbody tr th {\n",
       "        vertical-align: top;\n",
       "    }\n",
       "\n",
       "    .dataframe thead th {\n",
       "        text-align: right;\n",
       "    }\n",
       "</style>\n",
       "<table border=\"1\" class=\"dataframe\">\n",
       "  <thead>\n",
       "    <tr style=\"text-align: right;\">\n",
       "      <th></th>\n",
       "      <th>index</th>\n",
       "      <th>year</th>\n",
       "      <th>month</th>\n",
       "      <th>state</th>\n",
       "      <th>number_of_fires</th>\n",
       "      <th>date</th>\n",
       "    </tr>\n",
       "  </thead>\n",
       "  <tbody>\n",
       "    <tr>\n",
       "      <th>0</th>\n",
       "      <td>0</td>\n",
       "      <td>1998</td>\n",
       "      <td>Janeiro</td>\n",
       "      <td>Acre</td>\n",
       "      <td>0</td>\n",
       "      <td>1/1/1998</td>\n",
       "    </tr>\n",
       "    <tr>\n",
       "      <th>1</th>\n",
       "      <td>1</td>\n",
       "      <td>1999</td>\n",
       "      <td>Janeiro</td>\n",
       "      <td>Acre</td>\n",
       "      <td>0</td>\n",
       "      <td>1/1/1999</td>\n",
       "    </tr>\n",
       "    <tr>\n",
       "      <th>2</th>\n",
       "      <td>2</td>\n",
       "      <td>2000</td>\n",
       "      <td>Janeiro</td>\n",
       "      <td>Acre</td>\n",
       "      <td>0</td>\n",
       "      <td>1/1/2000</td>\n",
       "    </tr>\n",
       "    <tr>\n",
       "      <th>3</th>\n",
       "      <td>3</td>\n",
       "      <td>2001</td>\n",
       "      <td>Janeiro</td>\n",
       "      <td>Acre</td>\n",
       "      <td>0</td>\n",
       "      <td>1/1/2001</td>\n",
       "    </tr>\n",
       "    <tr>\n",
       "      <th>4</th>\n",
       "      <td>4</td>\n",
       "      <td>2002</td>\n",
       "      <td>Janeiro</td>\n",
       "      <td>Acre</td>\n",
       "      <td>0</td>\n",
       "      <td>1/1/2002</td>\n",
       "    </tr>\n",
       "  </tbody>\n",
       "</table>\n",
       "</div>"
      ],
      "text/plain": [
       "   index  year    month state number_of_fires      date\n",
       "0      0  1998  Janeiro  Acre               0  1/1/1998\n",
       "1      1  1999  Janeiro  Acre               0  1/1/1999\n",
       "2      2  2000  Janeiro  Acre               0  1/1/2000\n",
       "3      3  2001  Janeiro  Acre               0  1/1/2001\n",
       "4      4  2002  Janeiro  Acre               0  1/1/2002"
      ]
     },
     "execution_count": 10,
     "metadata": {
      "tags": []
     },
     "output_type": "execute_result"
    }
   ],
   "source": [
    "# We can easily remove Null or NaN (not a number) values \n",
    "\n",
    "# Drop rows with NaN values\n",
    "df = df.dropna() \n",
    "df = df.reset_index() # reset's row indexes in case any rows were dropped\n",
    "df.head()"
   ]
  },
  {
   "cell_type": "code",
   "execution_count": null,
   "metadata": {
    "colab": {
     "base_uri": "https://localhost:8080/",
     "height": 136
    },
    "id": "R9TC4UrO18vR",
    "outputId": "74208aef-a871-4bac-ef04-7c9a31f5dfae"
   },
   "outputs": [
    {
     "data": {
      "text/plain": [
       "index              0\n",
       "year               0\n",
       "month              0\n",
       "state              0\n",
       "number_of_fires    0\n",
       "date               0\n",
       "dtype: int64"
      ]
     },
     "execution_count": 11,
     "metadata": {
      "tags": []
     },
     "output_type": "execute_result"
    }
   ],
   "source": [
    "# Let's check and see it worked\n",
    "\n",
    "df.isnull().sum()"
   ]
  },
  {
   "cell_type": "code",
   "execution_count": null,
   "metadata": {
    "colab": {
     "base_uri": "https://localhost:8080/",
     "height": 204
    },
    "id": "xsCrKdDe2I0S",
    "outputId": "7feb8ce9-fa56-4a97-f9b1-9bf4875fa618"
   },
   "outputs": [
    {
     "data": {
      "text/html": [
       "<div>\n",
       "<style scoped>\n",
       "    .dataframe tbody tr th:only-of-type {\n",
       "        vertical-align: middle;\n",
       "    }\n",
       "\n",
       "    .dataframe tbody tr th {\n",
       "        vertical-align: top;\n",
       "    }\n",
       "\n",
       "    .dataframe thead th {\n",
       "        text-align: right;\n",
       "    }\n",
       "</style>\n",
       "<table border=\"1\" class=\"dataframe\">\n",
       "  <thead>\n",
       "    <tr style=\"text-align: right;\">\n",
       "      <th></th>\n",
       "      <th>year</th>\n",
       "      <th>month</th>\n",
       "      <th>state</th>\n",
       "      <th>number_of_fires</th>\n",
       "      <th>date</th>\n",
       "    </tr>\n",
       "  </thead>\n",
       "  <tbody>\n",
       "    <tr>\n",
       "      <th>0</th>\n",
       "      <td>1998</td>\n",
       "      <td>Janeiro</td>\n",
       "      <td>Acre</td>\n",
       "      <td>0</td>\n",
       "      <td>1/1/1998</td>\n",
       "    </tr>\n",
       "    <tr>\n",
       "      <th>1</th>\n",
       "      <td>1999</td>\n",
       "      <td>Janeiro</td>\n",
       "      <td>Acre</td>\n",
       "      <td>0</td>\n",
       "      <td>1/1/1999</td>\n",
       "    </tr>\n",
       "    <tr>\n",
       "      <th>2</th>\n",
       "      <td>2000</td>\n",
       "      <td>Janeiro</td>\n",
       "      <td>Acre</td>\n",
       "      <td>0</td>\n",
       "      <td>1/1/2000</td>\n",
       "    </tr>\n",
       "    <tr>\n",
       "      <th>3</th>\n",
       "      <td>2001</td>\n",
       "      <td>Janeiro</td>\n",
       "      <td>Acre</td>\n",
       "      <td>0</td>\n",
       "      <td>1/1/2001</td>\n",
       "    </tr>\n",
       "    <tr>\n",
       "      <th>4</th>\n",
       "      <td>2002</td>\n",
       "      <td>Janeiro</td>\n",
       "      <td>Acre</td>\n",
       "      <td>0</td>\n",
       "      <td>1/1/2002</td>\n",
       "    </tr>\n",
       "  </tbody>\n",
       "</table>\n",
       "</div>"
      ],
      "text/plain": [
       "   year    month state number_of_fires      date\n",
       "0  1998  Janeiro  Acre               0  1/1/1998\n",
       "1  1999  Janeiro  Acre               0  1/1/1999\n",
       "2  2000  Janeiro  Acre               0  1/1/2000\n",
       "3  2001  Janeiro  Acre               0  1/1/2001\n",
       "4  2002  Janeiro  Acre               0  1/1/2002"
      ]
     },
     "execution_count": 12,
     "metadata": {
      "tags": []
     },
     "output_type": "execute_result"
    }
   ],
   "source": [
    "# Alright so it worked, now let's reload the data and look at a few other methods of dealing with NaN or Null values\n",
    "\n",
    "# Let's reload our dataframe\n",
    "file_name = \"https://raw.githubusercontent.com/rajeevratan84/datascienceforbusiness/master/amazon_fires.csv\"\n",
    "df = pd.read_csv(file_name, encoding = \"ISO-8859-1\")\n",
    "new_columns = {'ano' : 'year',\n",
    "               'estado': 'state',\n",
    "               'mes': 'month',\n",
    "               'numero': 'number_of_fires',\n",
    "               'encontro': 'date'}\n",
    "df.rename(columns = new_columns, inplace=True)\n",
    "df['number_of_fires'] = df['number_of_fires'].str.strip(\" Fires\")\n",
    "df_copy = df.copy()\n",
    "df.head()"
   ]
  },
  {
   "cell_type": "code",
   "execution_count": null,
   "metadata": {
    "colab": {
     "base_uri": "https://localhost:8080/",
     "height": 221
    },
    "id": "o17eMGD3zhBV",
    "outputId": "27ede39f-9546-4730-fb6a-8f76ccaa1930"
   },
   "outputs": [
    {
     "data": {
      "text/plain": [
       "0       False\n",
       "1       False\n",
       "2       False\n",
       "3       False\n",
       "4       False\n",
       "        ...  \n",
       "6449    False\n",
       "6450    False\n",
       "6451    False\n",
       "6452    False\n",
       "6453    False\n",
       "Name: number_of_fires, Length: 6454, dtype: bool"
      ]
     },
     "execution_count": 13,
     "metadata": {
      "tags": []
     },
     "output_type": "execute_result"
    }
   ],
   "source": [
    "# Create a boolean index for all null values\n",
    "\n",
    "df['number_of_fires'].isnull()"
   ]
  },
  {
   "cell_type": "code",
   "execution_count": null,
   "metadata": {
    "colab": {
     "base_uri": "https://localhost:8080/",
     "height": 359
    },
    "id": "OWfsRj0OzWJL",
    "outputId": "2d2add1a-9661-4aa6-cab7-dcbfe6695390"
   },
   "outputs": [
    {
     "data": {
      "text/html": [
       "<div>\n",
       "<style scoped>\n",
       "    .dataframe tbody tr th:only-of-type {\n",
       "        vertical-align: middle;\n",
       "    }\n",
       "\n",
       "    .dataframe tbody tr th {\n",
       "        vertical-align: top;\n",
       "    }\n",
       "\n",
       "    .dataframe thead th {\n",
       "        text-align: right;\n",
       "    }\n",
       "</style>\n",
       "<table border=\"1\" class=\"dataframe\">\n",
       "  <thead>\n",
       "    <tr style=\"text-align: right;\">\n",
       "      <th></th>\n",
       "      <th>year</th>\n",
       "      <th>month</th>\n",
       "      <th>state</th>\n",
       "      <th>number_of_fires</th>\n",
       "      <th>date</th>\n",
       "    </tr>\n",
       "  </thead>\n",
       "  <tbody>\n",
       "    <tr>\n",
       "      <th>68</th>\n",
       "      <td>2006</td>\n",
       "      <td>Abril</td>\n",
       "      <td>Acre</td>\n",
       "      <td>NaN</td>\n",
       "      <td>1/1/2006</td>\n",
       "    </tr>\n",
       "    <tr>\n",
       "      <th>110</th>\n",
       "      <td>2008</td>\n",
       "      <td>Junho</td>\n",
       "      <td>Acre</td>\n",
       "      <td>NaN</td>\n",
       "      <td>1/1/2008</td>\n",
       "    </tr>\n",
       "    <tr>\n",
       "      <th>127</th>\n",
       "      <td>2005</td>\n",
       "      <td>Julho</td>\n",
       "      <td>Acre</td>\n",
       "      <td>NaN</td>\n",
       "      <td>1/1/2005</td>\n",
       "    </tr>\n",
       "    <tr>\n",
       "      <th>206</th>\n",
       "      <td>2004</td>\n",
       "      <td>Novembro</td>\n",
       "      <td>Acre</td>\n",
       "      <td>NaN</td>\n",
       "      <td>1/1/2004</td>\n",
       "    </tr>\n",
       "    <tr>\n",
       "      <th>217</th>\n",
       "      <td>2015</td>\n",
       "      <td>Novembro</td>\n",
       "      <td>Acre</td>\n",
       "      <td>NaN</td>\n",
       "      <td>1/1/2015</td>\n",
       "    </tr>\n",
       "    <tr>\n",
       "      <th>444</th>\n",
       "      <td>2002</td>\n",
       "      <td>Novembro</td>\n",
       "      <td>alagoas</td>\n",
       "      <td>NaN</td>\n",
       "      <td>1/1/2002</td>\n",
       "    </tr>\n",
       "    <tr>\n",
       "      <th>522</th>\n",
       "      <td>2001</td>\n",
       "      <td>Março</td>\n",
       "      <td>Amapa</td>\n",
       "      <td>NaN</td>\n",
       "      <td>1/1/2001</td>\n",
       "    </tr>\n",
       "    <tr>\n",
       "      <th>550</th>\n",
       "      <td>2009</td>\n",
       "      <td>Abril</td>\n",
       "      <td>Amapa</td>\n",
       "      <td>NaN</td>\n",
       "      <td>1/1/2009</td>\n",
       "    </tr>\n",
       "    <tr>\n",
       "      <th>614</th>\n",
       "      <td>2013</td>\n",
       "      <td>Julho</td>\n",
       "      <td>Amapa</td>\n",
       "      <td>NaN</td>\n",
       "      <td>1/1/2013</td>\n",
       "    </tr>\n",
       "    <tr>\n",
       "      <th>642</th>\n",
       "      <td>2001</td>\n",
       "      <td>Setembro</td>\n",
       "      <td>Amapa</td>\n",
       "      <td>NaN</td>\n",
       "      <td>1/1/2001</td>\n",
       "    </tr>\n",
       "  </tbody>\n",
       "</table>\n",
       "</div>"
      ],
      "text/plain": [
       "     year     month    state number_of_fires      date\n",
       "68   2006     Abril     Acre             NaN  1/1/2006\n",
       "110  2008     Junho     Acre             NaN  1/1/2008\n",
       "127  2005     Julho     Acre             NaN  1/1/2005\n",
       "206  2004  Novembro     Acre             NaN  1/1/2004\n",
       "217  2015  Novembro     Acre             NaN  1/1/2015\n",
       "444  2002  Novembro  alagoas             NaN  1/1/2002\n",
       "522  2001     Março    Amapa             NaN  1/1/2001\n",
       "550  2009     Abril    Amapa             NaN  1/1/2009\n",
       "614  2013     Julho    Amapa             NaN  1/1/2013\n",
       "642  2001  Setembro    Amapa             NaN  1/1/2001"
      ]
     },
     "execution_count": 15,
     "metadata": {
      "tags": []
     },
     "output_type": "execute_result"
    }
   ],
   "source": [
    "df[df['number_of_fires'].isnull()].head(10)"
   ]
  },
  {
   "cell_type": "markdown",
   "metadata": {
    "id": "-fFL8Q1qz0w2"
   },
   "source": [
    "# What do to with missing data?\n",
    "\n",
    "* Remove them via .dropna(axis=0)\n",
    "* Replace them with some arbitary number (e.g. an average)\n",
    "* Replace them zeros, or Forward Fill (ffill) or Back Fill (backfill)"
   ]
  },
  {
   "cell_type": "code",
   "execution_count": null,
   "metadata": {
    "colab": {
     "base_uri": "https://localhost:8080/",
     "height": 119
    },
    "id": "71X8XQk5zWL9",
    "outputId": "64d0e5c7-0d65-4c00-ef1a-4d740baba1cf"
   },
   "outputs": [
    {
     "data": {
      "text/plain": [
       "0    0\n",
       "1    0\n",
       "2    0\n",
       "3    0\n",
       "4    0\n",
       "Name: number_of_fires, dtype: object"
      ]
     },
     "execution_count": 16,
     "metadata": {
      "tags": []
     },
     "output_type": "execute_result"
    }
   ],
   "source": [
    "# Using fillna with zeros\n",
    "\n",
    "df['number_of_fires'].fillna(0).head()"
   ]
  },
  {
   "cell_type": "code",
   "execution_count": null,
   "metadata": {
    "colab": {
     "base_uri": "https://localhost:8080/",
     "height": 230
    },
    "id": "0qEtD8XA0t4a",
    "outputId": "6096d765-1aaf-4d67-e345-7258b07417ff"
   },
   "outputs": [
    {
     "data": {
      "text/plain": [
       "0     0\n",
       "1     0\n",
       "2     0\n",
       "3     0\n",
       "4     0\n",
       "     ..\n",
       "65    1\n",
       "66    2\n",
       "67    1\n",
       "68    1\n",
       "69    0\n",
       "Name: number_of_fires, Length: 70, dtype: object"
      ]
     },
     "execution_count": 26,
     "metadata": {
      "tags": []
     },
     "output_type": "execute_result"
    }
   ],
   "source": [
    "# Let's try back filling\n",
    "df['number_of_fires'].fillna(method='ffill').head(70)"
   ]
  },
  {
   "cell_type": "code",
   "execution_count": null,
   "metadata": {
    "colab": {
     "base_uri": "https://localhost:8080/",
     "height": 123
    },
    "id": "wePIp1IT0zzD",
    "outputId": "73f82977-ba0f-4409-e185-4e19e829cb20"
   },
   "outputs": [
    {
     "data": {
      "text/plain": [
       "year                   2002\n",
       "month              Novembro\n",
       "state               alagoas\n",
       "number_of_fires         NaN\n",
       "date               1/1/2002\n",
       "Name: 444, dtype: object"
      ]
     },
     "execution_count": 27,
     "metadata": {
      "tags": []
     },
     "output_type": "execute_result"
    }
   ],
   "source": [
    "# View index 444 to see how it changes\n",
    "# Homework, change 444 using ffill and backfill to see how it changes\n",
    "df.iloc[444]"
   ]
  },
  {
   "cell_type": "code",
   "execution_count": null,
   "metadata": {
    "colab": {
     "base_uri": "https://localhost:8080/",
     "height": 123
    },
    "id": "roKWLYGs188d",
    "outputId": "78f1e613-78b1-43e1-a613-be367594dfe6"
   },
   "outputs": [
    {
     "data": {
      "text/plain": [
       "year                   2003\n",
       "month              Novembro\n",
       "state               alagoas\n",
       "number_of_fires          17\n",
       "date               1/1/2003\n",
       "Name: 445, dtype: object"
      ]
     },
     "execution_count": 28,
     "metadata": {
      "tags": []
     },
     "output_type": "execute_result"
    }
   ],
   "source": [
    "df.iloc[445]"
   ]
  },
  {
   "cell_type": "code",
   "execution_count": null,
   "metadata": {
    "id": "rGa2dV4KzWOe"
   },
   "outputs": [],
   "source": [
    "# let's make the assumption that blank values are 0 fires\n",
    "\n",
    "# let's get back our copy of our original pre-processed datafrmae\n",
    "df = df_copy\n",
    "\n",
    "# replace all missing or NaN values with 0\n",
    "df['number_of_fires'] = df['number_of_fires'].fillna(0)"
   ]
  },
  {
   "cell_type": "code",
   "execution_count": null,
   "metadata": {
    "colab": {
     "base_uri": "https://localhost:8080/",
     "height": 123
    },
    "id": "52hDq6tk2Qix",
    "outputId": "5976d5b8-a33c-40c6-d117-3617272fdd4d"
   },
   "outputs": [
    {
     "data": {
      "text/plain": [
       "year                   2002\n",
       "month              Novembro\n",
       "state               alagoas\n",
       "number_of_fires           0\n",
       "date               1/1/2002\n",
       "Name: 444, dtype: object"
      ]
     },
     "execution_count": 30,
     "metadata": {
      "tags": []
     },
     "output_type": "execute_result"
    }
   ],
   "source": [
    "# Let's check to see if we did change our Nans to 0s\n",
    "df.iloc[444]"
   ]
  },
  {
   "cell_type": "markdown",
   "metadata": {
    "id": "-Lai8wGj2aG6"
   },
   "source": [
    "# Assigning data types to our columns"
   ]
  },
  {
   "cell_type": "code",
   "execution_count": null,
   "metadata": {
    "colab": {
     "base_uri": "https://localhost:8080/",
     "height": 230
    },
    "id": "3WD-OJ1_4MYr",
    "outputId": "49ff1190-88c2-4876-91c6-199496ed8898"
   },
   "outputs": [
    {
     "name": "stdout",
     "output_type": "stream",
     "text": [
      "<class 'pandas.core.frame.DataFrame'>\n",
      "RangeIndex: 6454 entries, 0 to 6453\n",
      "Data columns (total 5 columns):\n",
      " #   Column           Non-Null Count  Dtype \n",
      "---  ------           --------------  ----- \n",
      " 0   year             6454 non-null   int64 \n",
      " 1   month            6454 non-null   object\n",
      " 2   state            6454 non-null   object\n",
      " 3   number_of_fires  6454 non-null   object\n",
      " 4   date             6454 non-null   object\n",
      "dtypes: int64(1), object(4)\n",
      "memory usage: 252.2+ KB\n"
     ]
    }
   ],
   "source": [
    "df.info()"
   ]
  },
  {
   "cell_type": "code",
   "execution_count": null,
   "metadata": {
    "id": "jo9b6QWT4nJk"
   },
   "outputs": [],
   "source": [
    "df[\"number_of_fires\"] = df[\"number_of_fires\"].str.replace('','0').astype(float)"
   ]
  },
  {
   "cell_type": "code",
   "execution_count": null,
   "metadata": {
    "colab": {
     "base_uri": "https://localhost:8080/",
     "height": 197
    },
    "id": "GqWxrU8Y5QMX",
    "outputId": "621bbb0c-92ad-442e-a797-e5b3c90de9f5"
   },
   "outputs": [
    {
     "data": {
      "text/html": [
       "<div>\n",
       "<style scoped>\n",
       "    .dataframe tbody tr th:only-of-type {\n",
       "        vertical-align: middle;\n",
       "    }\n",
       "\n",
       "    .dataframe tbody tr th {\n",
       "        vertical-align: top;\n",
       "    }\n",
       "\n",
       "    .dataframe thead th {\n",
       "        text-align: right;\n",
       "    }\n",
       "</style>\n",
       "<table border=\"1\" class=\"dataframe\">\n",
       "  <thead>\n",
       "    <tr style=\"text-align: right;\">\n",
       "      <th></th>\n",
       "      <th>year</th>\n",
       "      <th>month</th>\n",
       "      <th>state</th>\n",
       "      <th>number_of_fires</th>\n",
       "      <th>date</th>\n",
       "    </tr>\n",
       "  </thead>\n",
       "  <tbody>\n",
       "    <tr>\n",
       "      <th>0</th>\n",
       "      <td>1998</td>\n",
       "      <td>Janeiro</td>\n",
       "      <td>Acre</td>\n",
       "      <td>0.0</td>\n",
       "      <td>1/1/1998</td>\n",
       "    </tr>\n",
       "    <tr>\n",
       "      <th>1</th>\n",
       "      <td>1999</td>\n",
       "      <td>Janeiro</td>\n",
       "      <td>Acre</td>\n",
       "      <td>0.0</td>\n",
       "      <td>1/1/1999</td>\n",
       "    </tr>\n",
       "    <tr>\n",
       "      <th>2</th>\n",
       "      <td>2000</td>\n",
       "      <td>Janeiro</td>\n",
       "      <td>Acre</td>\n",
       "      <td>0.0</td>\n",
       "      <td>1/1/2000</td>\n",
       "    </tr>\n",
       "    <tr>\n",
       "      <th>3</th>\n",
       "      <td>2001</td>\n",
       "      <td>Janeiro</td>\n",
       "      <td>Acre</td>\n",
       "      <td>0.0</td>\n",
       "      <td>1/1/2001</td>\n",
       "    </tr>\n",
       "    <tr>\n",
       "      <th>4</th>\n",
       "      <td>2002</td>\n",
       "      <td>Janeiro</td>\n",
       "      <td>Acre</td>\n",
       "      <td>0.0</td>\n",
       "      <td>1/1/2002</td>\n",
       "    </tr>\n",
       "  </tbody>\n",
       "</table>\n",
       "</div>"
      ],
      "text/plain": [
       "   year    month state  number_of_fires      date\n",
       "0  1998  Janeiro  Acre              0.0  1/1/1998\n",
       "1  1999  Janeiro  Acre              0.0  1/1/1999\n",
       "2  2000  Janeiro  Acre              0.0  1/1/2000\n",
       "3  2001  Janeiro  Acre              0.0  1/1/2001\n",
       "4  2002  Janeiro  Acre              0.0  1/1/2002"
      ]
     },
     "execution_count": 33,
     "metadata": {
      "tags": []
     },
     "output_type": "execute_result"
    }
   ],
   "source": [
    "df.head()"
   ]
  },
  {
   "cell_type": "code",
   "execution_count": null,
   "metadata": {
    "colab": {
     "base_uri": "https://localhost:8080/",
     "height": 230
    },
    "id": "mPcJQ4_At4Rh",
    "outputId": "855b4687-db6c-4437-9e8e-603582cf9ebf"
   },
   "outputs": [
    {
     "name": "stdout",
     "output_type": "stream",
     "text": [
      "<class 'pandas.core.frame.DataFrame'>\n",
      "RangeIndex: 6454 entries, 0 to 6453\n",
      "Data columns (total 5 columns):\n",
      " #   Column           Non-Null Count  Dtype  \n",
      "---  ------           --------------  -----  \n",
      " 0   year             6454 non-null   int64  \n",
      " 1   month            6454 non-null   object \n",
      " 2   state            6454 non-null   object \n",
      " 3   number_of_fires  6322 non-null   float64\n",
      " 4   date             6454 non-null   object \n",
      "dtypes: float64(1), int64(1), object(3)\n",
      "memory usage: 252.2+ KB\n"
     ]
    }
   ],
   "source": [
    "df.info()"
   ]
  },
  {
   "cell_type": "code",
   "execution_count": null,
   "metadata": {
    "colab": {
     "base_uri": "https://localhost:8080/",
     "height": 68
    },
    "id": "jdI9gNI6512I",
    "outputId": "bba6c9e0-ebd5-41a2-98d1-9dddde1756a4"
   },
   "outputs": [
    {
     "data": {
      "text/plain": [
       "array(['Janeiro', 'Fevereiro', 'Março', 'Abril', 'Maio', 'Junho', 'Julho',\n",
       "       'Agosto', 'Setembro', 'Outubro', 'Novembro', 'Dezembro'],\n",
       "      dtype=object)"
      ]
     },
     "execution_count": 17,
     "metadata": {
      "tags": []
     },
     "output_type": "execute_result"
    }
   ],
   "source": [
    "df['month'].unique()"
   ]
  },
  {
   "cell_type": "markdown",
   "metadata": {
    "id": "I15LrltB5ZSq"
   },
   "source": [
    "# Replacing text in columns"
   ]
  },
  {
   "cell_type": "code",
   "execution_count": null,
   "metadata": {
    "colab": {
     "base_uri": "https://localhost:8080/",
     "height": 204
    },
    "id": "_7J6R-hf5bct",
    "outputId": "0727423c-ff15-4773-9a80-739409cce535"
   },
   "outputs": [
    {
     "data": {
      "text/html": [
       "<div>\n",
       "<style scoped>\n",
       "    .dataframe tbody tr th:only-of-type {\n",
       "        vertical-align: middle;\n",
       "    }\n",
       "\n",
       "    .dataframe tbody tr th {\n",
       "        vertical-align: top;\n",
       "    }\n",
       "\n",
       "    .dataframe thead th {\n",
       "        text-align: right;\n",
       "    }\n",
       "</style>\n",
       "<table border=\"1\" class=\"dataframe\">\n",
       "  <thead>\n",
       "    <tr style=\"text-align: right;\">\n",
       "      <th></th>\n",
       "      <th>year</th>\n",
       "      <th>month</th>\n",
       "      <th>state</th>\n",
       "      <th>number_of_fires</th>\n",
       "      <th>date</th>\n",
       "    </tr>\n",
       "  </thead>\n",
       "  <tbody>\n",
       "    <tr>\n",
       "      <th>0</th>\n",
       "      <td>1998</td>\n",
       "      <td>January</td>\n",
       "      <td>Acre</td>\n",
       "      <td>0.0</td>\n",
       "      <td>1/1/1998</td>\n",
       "    </tr>\n",
       "    <tr>\n",
       "      <th>1</th>\n",
       "      <td>1999</td>\n",
       "      <td>January</td>\n",
       "      <td>Acre</td>\n",
       "      <td>0.0</td>\n",
       "      <td>1/1/1999</td>\n",
       "    </tr>\n",
       "    <tr>\n",
       "      <th>2</th>\n",
       "      <td>2000</td>\n",
       "      <td>January</td>\n",
       "      <td>Acre</td>\n",
       "      <td>0.0</td>\n",
       "      <td>1/1/2000</td>\n",
       "    </tr>\n",
       "    <tr>\n",
       "      <th>3</th>\n",
       "      <td>2001</td>\n",
       "      <td>January</td>\n",
       "      <td>Acre</td>\n",
       "      <td>0.0</td>\n",
       "      <td>1/1/2001</td>\n",
       "    </tr>\n",
       "    <tr>\n",
       "      <th>4</th>\n",
       "      <td>2002</td>\n",
       "      <td>January</td>\n",
       "      <td>Acre</td>\n",
       "      <td>0.0</td>\n",
       "      <td>1/1/2002</td>\n",
       "    </tr>\n",
       "  </tbody>\n",
       "</table>\n",
       "</div>"
      ],
      "text/plain": [
       "   year    month state  number_of_fires      date\n",
       "0  1998  January  Acre              0.0  1/1/1998\n",
       "1  1999  January  Acre              0.0  1/1/1999\n",
       "2  2000  January  Acre              0.0  1/1/2000\n",
       "3  2001  January  Acre              0.0  1/1/2001\n",
       "4  2002  January  Acre              0.0  1/1/2002"
      ]
     },
     "execution_count": 38,
     "metadata": {
      "tags": []
     },
     "output_type": "execute_result"
    }
   ],
   "source": [
    "# Let's convert our Portuguese month names to English\n",
    "\n",
    "month_translations = {'Janeiro': 'January',\n",
    "'Fevereiro': 'February',\n",
    "'Março': 'March',\n",
    "'Abril': 'April',\n",
    "'Maio': 'May',\n",
    "'Junho': 'June',\n",
    "'Julho': 'July',\n",
    "'Agosto': 'August',\n",
    "'Setembro': 'September',\n",
    "'Outubro': 'October',\n",
    "'Novembro': 'November',\n",
    "'Dezembro': 'December'}\n",
    "\n",
    "df[\"month\"] = df[\"month\"].map(month_translations)\n",
    "df.head()"
   ]
  },
  {
   "cell_type": "code",
   "execution_count": null,
   "metadata": {
    "colab": {
     "base_uri": "https://localhost:8080/",
     "height": 119
    },
    "id": "flBKEp3m589g",
    "outputId": "f0ef61b2-8598-4c49-8126-ad21ef8a97cd"
   },
   "outputs": [
    {
     "data": {
      "text/plain": [
       "year                 0\n",
       "month                0\n",
       "state                0\n",
       "number_of_fires    132\n",
       "date                 0\n",
       "dtype: int64"
      ]
     },
     "execution_count": 39,
     "metadata": {
      "tags": []
     },
     "output_type": "execute_result"
    }
   ],
   "source": [
    "df.isnull().sum()"
   ]
  },
  {
   "cell_type": "markdown",
   "metadata": {
    "id": "h5hoOdMq1Mqw"
   },
   "source": [
    "# Further string functions on columns"
   ]
  },
  {
   "cell_type": "code",
   "execution_count": null,
   "metadata": {
    "colab": {
     "base_uri": "https://localhost:8080/",
     "height": 102
    },
    "id": "iRlU8TfV1Q1-",
    "outputId": "64c00d35-1673-4b74-f6a1-648ab98aff0e"
   },
   "outputs": [
    {
     "data": {
      "text/plain": [
       "array(['Acre', 'Alagoas', 'Amapa', 'Amazonas', 'Bahia', 'Ceara',\n",
       "       'Distrito Federal', 'Espirito Santo', 'Goias', 'Maranhao',\n",
       "       'Mato Grosso', 'Minas Gerais', 'Pará', 'Paraiba', 'Pernambuco',\n",
       "       'Piau', 'Rio', 'Rondonia', 'Roraima', 'Santa Catarina',\n",
       "       'Sao Paulo', 'Sergipe', 'Tocantins'], dtype=object)"
      ]
     },
     "execution_count": 40,
     "metadata": {
      "tags": []
     },
     "output_type": "execute_result"
    }
   ],
   "source": [
    "df['state'] = df['state'].str.title()\n",
    "df['state'].unique()"
   ]
  },
  {
   "cell_type": "markdown",
   "metadata": {
    "id": "C45xJKsD2jmd"
   },
   "source": [
    "# Removing columns"
   ]
  },
  {
   "cell_type": "code",
   "execution_count": null,
   "metadata": {
    "colab": {
     "base_uri": "https://localhost:8080/",
     "height": 204
    },
    "id": "kCpvnTdK2lJK",
    "outputId": "07348c6f-d24d-41dc-914b-423eb3bfb624"
   },
   "outputs": [
    {
     "data": {
      "text/html": [
       "<div>\n",
       "<style scoped>\n",
       "    .dataframe tbody tr th:only-of-type {\n",
       "        vertical-align: middle;\n",
       "    }\n",
       "\n",
       "    .dataframe tbody tr th {\n",
       "        vertical-align: top;\n",
       "    }\n",
       "\n",
       "    .dataframe thead th {\n",
       "        text-align: right;\n",
       "    }\n",
       "</style>\n",
       "<table border=\"1\" class=\"dataframe\">\n",
       "  <thead>\n",
       "    <tr style=\"text-align: right;\">\n",
       "      <th></th>\n",
       "      <th>year</th>\n",
       "      <th>month</th>\n",
       "      <th>state</th>\n",
       "      <th>number_of_fires</th>\n",
       "      <th>date</th>\n",
       "    </tr>\n",
       "  </thead>\n",
       "  <tbody>\n",
       "    <tr>\n",
       "      <th>0</th>\n",
       "      <td>1998</td>\n",
       "      <td>January</td>\n",
       "      <td>Acre</td>\n",
       "      <td>0.0</td>\n",
       "      <td>1/1/1998</td>\n",
       "    </tr>\n",
       "    <tr>\n",
       "      <th>1</th>\n",
       "      <td>1999</td>\n",
       "      <td>January</td>\n",
       "      <td>Acre</td>\n",
       "      <td>0.0</td>\n",
       "      <td>1/1/1999</td>\n",
       "    </tr>\n",
       "    <tr>\n",
       "      <th>2</th>\n",
       "      <td>2000</td>\n",
       "      <td>January</td>\n",
       "      <td>Acre</td>\n",
       "      <td>0.0</td>\n",
       "      <td>1/1/2000</td>\n",
       "    </tr>\n",
       "    <tr>\n",
       "      <th>3</th>\n",
       "      <td>2001</td>\n",
       "      <td>January</td>\n",
       "      <td>Acre</td>\n",
       "      <td>0.0</td>\n",
       "      <td>1/1/2001</td>\n",
       "    </tr>\n",
       "    <tr>\n",
       "      <th>4</th>\n",
       "      <td>2002</td>\n",
       "      <td>January</td>\n",
       "      <td>Acre</td>\n",
       "      <td>0.0</td>\n",
       "      <td>1/1/2002</td>\n",
       "    </tr>\n",
       "  </tbody>\n",
       "</table>\n",
       "</div>"
      ],
      "text/plain": [
       "   year    month state  number_of_fires      date\n",
       "0  1998  January  Acre              0.0  1/1/1998\n",
       "1  1999  January  Acre              0.0  1/1/1999\n",
       "2  2000  January  Acre              0.0  1/1/2000\n",
       "3  2001  January  Acre              0.0  1/1/2001\n",
       "4  2002  January  Acre              0.0  1/1/2002"
      ]
     },
     "execution_count": 41,
     "metadata": {
      "tags": []
     },
     "output_type": "execute_result"
    }
   ],
   "source": [
    "df.head()"
   ]
  },
  {
   "cell_type": "code",
   "execution_count": null,
   "metadata": {
    "colab": {
     "base_uri": "https://localhost:8080/",
     "height": 204
    },
    "id": "21e6myQZ2p6W",
    "outputId": "022f2e2e-adfa-4a0f-ca1f-c547950014db"
   },
   "outputs": [
    {
     "data": {
      "text/html": [
       "<div>\n",
       "<style scoped>\n",
       "    .dataframe tbody tr th:only-of-type {\n",
       "        vertical-align: middle;\n",
       "    }\n",
       "\n",
       "    .dataframe tbody tr th {\n",
       "        vertical-align: top;\n",
       "    }\n",
       "\n",
       "    .dataframe thead th {\n",
       "        text-align: right;\n",
       "    }\n",
       "</style>\n",
       "<table border=\"1\" class=\"dataframe\">\n",
       "  <thead>\n",
       "    <tr style=\"text-align: right;\">\n",
       "      <th></th>\n",
       "      <th>year</th>\n",
       "      <th>month</th>\n",
       "      <th>state</th>\n",
       "      <th>number_of_fires</th>\n",
       "    </tr>\n",
       "  </thead>\n",
       "  <tbody>\n",
       "    <tr>\n",
       "      <th>0</th>\n",
       "      <td>1998</td>\n",
       "      <td>January</td>\n",
       "      <td>Acre</td>\n",
       "      <td>0.0</td>\n",
       "    </tr>\n",
       "    <tr>\n",
       "      <th>1</th>\n",
       "      <td>1999</td>\n",
       "      <td>January</td>\n",
       "      <td>Acre</td>\n",
       "      <td>0.0</td>\n",
       "    </tr>\n",
       "    <tr>\n",
       "      <th>2</th>\n",
       "      <td>2000</td>\n",
       "      <td>January</td>\n",
       "      <td>Acre</td>\n",
       "      <td>0.0</td>\n",
       "    </tr>\n",
       "    <tr>\n",
       "      <th>3</th>\n",
       "      <td>2001</td>\n",
       "      <td>January</td>\n",
       "      <td>Acre</td>\n",
       "      <td>0.0</td>\n",
       "    </tr>\n",
       "    <tr>\n",
       "      <th>4</th>\n",
       "      <td>2002</td>\n",
       "      <td>January</td>\n",
       "      <td>Acre</td>\n",
       "      <td>0.0</td>\n",
       "    </tr>\n",
       "  </tbody>\n",
       "</table>\n",
       "</div>"
      ],
      "text/plain": [
       "   year    month state  number_of_fires\n",
       "0  1998  January  Acre              0.0\n",
       "1  1999  January  Acre              0.0\n",
       "2  2000  January  Acre              0.0\n",
       "3  2001  January  Acre              0.0\n",
       "4  2002  January  Acre              0.0"
      ]
     },
     "execution_count": 42,
     "metadata": {
      "tags": []
     },
     "output_type": "execute_result"
    }
   ],
   "source": [
    "# Dropping multiple columns\n",
    "df = df.drop(\"date\", axis=1) # axis = 1 so that it works across our columns\n",
    "df.head()"
   ]
  },
  {
   "cell_type": "code",
   "execution_count": null,
   "metadata": {
    "colab": {
     "base_uri": "https://localhost:8080/",
     "height": 204
    },
    "id": "NN-hWExd5JUD",
    "outputId": "76380a2f-23f2-4520-f293-560ed62208fb"
   },
   "outputs": [
    {
     "data": {
      "text/html": [
       "<div>\n",
       "<style scoped>\n",
       "    .dataframe tbody tr th:only-of-type {\n",
       "        vertical-align: middle;\n",
       "    }\n",
       "\n",
       "    .dataframe tbody tr th {\n",
       "        vertical-align: top;\n",
       "    }\n",
       "\n",
       "    .dataframe thead th {\n",
       "        text-align: right;\n",
       "    }\n",
       "</style>\n",
       "<table border=\"1\" class=\"dataframe\">\n",
       "  <thead>\n",
       "    <tr style=\"text-align: right;\">\n",
       "      <th></th>\n",
       "      <th>year</th>\n",
       "      <th>month</th>\n",
       "      <th>state</th>\n",
       "      <th>number_of_fires</th>\n",
       "      <th>date</th>\n",
       "    </tr>\n",
       "  </thead>\n",
       "  <tbody>\n",
       "    <tr>\n",
       "      <th>0</th>\n",
       "      <td>1998</td>\n",
       "      <td>Janeiro</td>\n",
       "      <td>Acre</td>\n",
       "      <td>0</td>\n",
       "      <td>1/1/1998</td>\n",
       "    </tr>\n",
       "    <tr>\n",
       "      <th>1</th>\n",
       "      <td>1999</td>\n",
       "      <td>Janeiro</td>\n",
       "      <td>Acre</td>\n",
       "      <td>0</td>\n",
       "      <td>1/1/1999</td>\n",
       "    </tr>\n",
       "    <tr>\n",
       "      <th>2</th>\n",
       "      <td>2000</td>\n",
       "      <td>Janeiro</td>\n",
       "      <td>Acre</td>\n",
       "      <td>0</td>\n",
       "      <td>1/1/2000</td>\n",
       "    </tr>\n",
       "    <tr>\n",
       "      <th>3</th>\n",
       "      <td>2001</td>\n",
       "      <td>Janeiro</td>\n",
       "      <td>Acre</td>\n",
       "      <td>0</td>\n",
       "      <td>1/1/2001</td>\n",
       "    </tr>\n",
       "    <tr>\n",
       "      <th>4</th>\n",
       "      <td>2002</td>\n",
       "      <td>Janeiro</td>\n",
       "      <td>Acre</td>\n",
       "      <td>0</td>\n",
       "      <td>1/1/2002</td>\n",
       "    </tr>\n",
       "  </tbody>\n",
       "</table>\n",
       "</div>"
      ],
      "text/plain": [
       "   year    month state number_of_fires      date\n",
       "0  1998  Janeiro  Acre               0  1/1/1998\n",
       "1  1999  Janeiro  Acre               0  1/1/1999\n",
       "2  2000  Janeiro  Acre               0  1/1/2000\n",
       "3  2001  Janeiro  Acre               0  1/1/2001\n",
       "4  2002  Janeiro  Acre               0  1/1/2002"
      ]
     },
     "execution_count": 48,
     "metadata": {
      "tags": []
     },
     "output_type": "execute_result"
    }
   ],
   "source": [
    "# Let's reload the data\n",
    "\n",
    "# Let's reload our dataframe\n",
    "file_name = \"https://raw.githubusercontent.com/rajeevratan84/datascienceforbusiness/master/amazon_fires.csv\"\n",
    "df = pd.read_csv(file_name, encoding = \"ISO-8859-1\")\n",
    "new_columns = {'ano' : 'year',\n",
    "               'estado': 'state',\n",
    "               'mes': 'month',\n",
    "               'numero': 'number_of_fires',\n",
    "               'encontro': 'date'}\n",
    "df.rename(columns = new_columns, inplace=True)\n",
    "df['number_of_fires'] = df['number_of_fires'].str.strip(\" Fires\")\n",
    "df_copy = df.copy()\n",
    "df.head()"
   ]
  },
  {
   "cell_type": "code",
   "execution_count": null,
   "metadata": {
    "colab": {
     "base_uri": "https://localhost:8080/",
     "height": 204
    },
    "id": "0slNSrhM2xd4",
    "outputId": "f50e2c03-75c0-4d1f-f7d3-3a3b9ca1492e"
   },
   "outputs": [
    {
     "data": {
      "text/html": [
       "<div>\n",
       "<style scoped>\n",
       "    .dataframe tbody tr th:only-of-type {\n",
       "        vertical-align: middle;\n",
       "    }\n",
       "\n",
       "    .dataframe tbody tr th {\n",
       "        vertical-align: top;\n",
       "    }\n",
       "\n",
       "    .dataframe thead th {\n",
       "        text-align: right;\n",
       "    }\n",
       "</style>\n",
       "<table border=\"1\" class=\"dataframe\">\n",
       "  <thead>\n",
       "    <tr style=\"text-align: right;\">\n",
       "      <th></th>\n",
       "      <th>month</th>\n",
       "      <th>state</th>\n",
       "      <th>number_of_fires</th>\n",
       "    </tr>\n",
       "  </thead>\n",
       "  <tbody>\n",
       "    <tr>\n",
       "      <th>0</th>\n",
       "      <td>Janeiro</td>\n",
       "      <td>Acre</td>\n",
       "      <td>0</td>\n",
       "    </tr>\n",
       "    <tr>\n",
       "      <th>1</th>\n",
       "      <td>Janeiro</td>\n",
       "      <td>Acre</td>\n",
       "      <td>0</td>\n",
       "    </tr>\n",
       "    <tr>\n",
       "      <th>2</th>\n",
       "      <td>Janeiro</td>\n",
       "      <td>Acre</td>\n",
       "      <td>0</td>\n",
       "    </tr>\n",
       "    <tr>\n",
       "      <th>3</th>\n",
       "      <td>Janeiro</td>\n",
       "      <td>Acre</td>\n",
       "      <td>0</td>\n",
       "    </tr>\n",
       "    <tr>\n",
       "      <th>4</th>\n",
       "      <td>Janeiro</td>\n",
       "      <td>Acre</td>\n",
       "      <td>0</td>\n",
       "    </tr>\n",
       "  </tbody>\n",
       "</table>\n",
       "</div>"
      ],
      "text/plain": [
       "     month state number_of_fires\n",
       "0  Janeiro  Acre               0\n",
       "1  Janeiro  Acre               0\n",
       "2  Janeiro  Acre               0\n",
       "3  Janeiro  Acre               0\n",
       "4  Janeiro  Acre               0"
      ]
     },
     "execution_count": 49,
     "metadata": {
      "tags": []
     },
     "output_type": "execute_result"
    }
   ],
   "source": [
    "# Drop multiple columns \n",
    "df = df.drop([\"year\", \"date\"], axis=1)\n",
    "df.head()"
   ]
  },
  {
   "cell_type": "markdown",
   "metadata": {
    "id": "uZgwkek_5wEk"
   },
   "source": [
    "# Dropping Rows\n",
    "\n",
    "Using the df.index function"
   ]
  },
  {
   "cell_type": "code",
   "execution_count": null,
   "metadata": {
    "colab": {
     "base_uri": "https://localhost:8080/",
     "height": 204
    },
    "id": "wkwh740u4fl0",
    "outputId": "fcfb428a-f1d4-45e3-ff9e-5806163ab108"
   },
   "outputs": [
    {
     "data": {
      "text/html": [
       "<div>\n",
       "<style scoped>\n",
       "    .dataframe tbody tr th:only-of-type {\n",
       "        vertical-align: middle;\n",
       "    }\n",
       "\n",
       "    .dataframe tbody tr th {\n",
       "        vertical-align: top;\n",
       "    }\n",
       "\n",
       "    .dataframe thead th {\n",
       "        text-align: right;\n",
       "    }\n",
       "</style>\n",
       "<table border=\"1\" class=\"dataframe\">\n",
       "  <thead>\n",
       "    <tr style=\"text-align: right;\">\n",
       "      <th></th>\n",
       "      <th>index</th>\n",
       "      <th>month</th>\n",
       "      <th>state</th>\n",
       "      <th>number_of_fires</th>\n",
       "    </tr>\n",
       "  </thead>\n",
       "  <tbody>\n",
       "    <tr>\n",
       "      <th>0</th>\n",
       "      <td>1</td>\n",
       "      <td>Janeiro</td>\n",
       "      <td>Acre</td>\n",
       "      <td>0</td>\n",
       "    </tr>\n",
       "    <tr>\n",
       "      <th>1</th>\n",
       "      <td>2</td>\n",
       "      <td>Janeiro</td>\n",
       "      <td>Acre</td>\n",
       "      <td>0</td>\n",
       "    </tr>\n",
       "    <tr>\n",
       "      <th>2</th>\n",
       "      <td>3</td>\n",
       "      <td>Janeiro</td>\n",
       "      <td>Acre</td>\n",
       "      <td>0</td>\n",
       "    </tr>\n",
       "    <tr>\n",
       "      <th>3</th>\n",
       "      <td>4</td>\n",
       "      <td>Janeiro</td>\n",
       "      <td>Acre</td>\n",
       "      <td>0</td>\n",
       "    </tr>\n",
       "    <tr>\n",
       "      <th>4</th>\n",
       "      <td>5</td>\n",
       "      <td>Janeiro</td>\n",
       "      <td>Acre</td>\n",
       "      <td>10</td>\n",
       "    </tr>\n",
       "  </tbody>\n",
       "</table>\n",
       "</div>"
      ],
      "text/plain": [
       "   index    month state number_of_fires\n",
       "0      1  Janeiro  Acre               0\n",
       "1      2  Janeiro  Acre               0\n",
       "2      3  Janeiro  Acre               0\n",
       "3      4  Janeiro  Acre               0\n",
       "4      5  Janeiro  Acre              10"
      ]
     },
     "execution_count": 50,
     "metadata": {
      "tags": []
     },
     "output_type": "execute_result"
    }
   ],
   "source": [
    "# Let's drop the first row \n",
    "df = df.drop(df.index[0])\n",
    "df = df.reset_index()\n",
    "df.head()"
   ]
  },
  {
   "cell_type": "code",
   "execution_count": null,
   "metadata": {
    "colab": {
     "base_uri": "https://localhost:8080/",
     "height": 204
    },
    "id": "ScsfhmMP4O5c",
    "outputId": "5f1278d9-ac92-4fa6-9b76-f758e0b9809a"
   },
   "outputs": [
    {
     "data": {
      "text/html": [
       "<div>\n",
       "<style scoped>\n",
       "    .dataframe tbody tr th:only-of-type {\n",
       "        vertical-align: middle;\n",
       "    }\n",
       "\n",
       "    .dataframe tbody tr th {\n",
       "        vertical-align: top;\n",
       "    }\n",
       "\n",
       "    .dataframe thead th {\n",
       "        text-align: right;\n",
       "    }\n",
       "</style>\n",
       "<table border=\"1\" class=\"dataframe\">\n",
       "  <thead>\n",
       "    <tr style=\"text-align: right;\">\n",
       "      <th></th>\n",
       "      <th>index</th>\n",
       "      <th>month</th>\n",
       "      <th>state</th>\n",
       "      <th>number_of_fires</th>\n",
       "    </tr>\n",
       "  </thead>\n",
       "  <tbody>\n",
       "    <tr>\n",
       "      <th>0</th>\n",
       "      <td>1</td>\n",
       "      <td>Janeiro</td>\n",
       "      <td>Acre</td>\n",
       "      <td>0</td>\n",
       "    </tr>\n",
       "    <tr>\n",
       "      <th>1</th>\n",
       "      <td>2</td>\n",
       "      <td>Janeiro</td>\n",
       "      <td>Acre</td>\n",
       "      <td>0</td>\n",
       "    </tr>\n",
       "    <tr>\n",
       "      <th>4</th>\n",
       "      <td>5</td>\n",
       "      <td>Janeiro</td>\n",
       "      <td>Acre</td>\n",
       "      <td>10</td>\n",
       "    </tr>\n",
       "    <tr>\n",
       "      <th>5</th>\n",
       "      <td>6</td>\n",
       "      <td>Janeiro</td>\n",
       "      <td>Acre</td>\n",
       "      <td>0</td>\n",
       "    </tr>\n",
       "    <tr>\n",
       "      <th>6</th>\n",
       "      <td>7</td>\n",
       "      <td>Janeiro</td>\n",
       "      <td>Acre</td>\n",
       "      <td>12</td>\n",
       "    </tr>\n",
       "  </tbody>\n",
       "</table>\n",
       "</div>"
      ],
      "text/plain": [
       "   index    month state number_of_fires\n",
       "0      1  Janeiro  Acre               0\n",
       "1      2  Janeiro  Acre               0\n",
       "4      5  Janeiro  Acre              10\n",
       "5      6  Janeiro  Acre               0\n",
       "6      7  Janeiro  Acre              12"
      ]
     },
     "execution_count": 51,
     "metadata": {
      "tags": []
     },
     "output_type": "execute_result"
    }
   ],
   "source": [
    "# Drop multiple rows\n",
    "\n",
    "df = df.drop(df.index[[2,3]])\n",
    "df.head()"
   ]
  },
  {
   "cell_type": "code",
   "execution_count": null,
   "metadata": {
    "colab": {
     "base_uri": "https://localhost:8080/",
     "height": 204
    },
    "id": "dotNsm8d2YjS",
    "outputId": "0ad6148c-fb72-4acf-9bf9-8a4836096692"
   },
   "outputs": [
    {
     "data": {
      "text/html": [
       "<div>\n",
       "<style scoped>\n",
       "    .dataframe tbody tr th:only-of-type {\n",
       "        vertical-align: middle;\n",
       "    }\n",
       "\n",
       "    .dataframe tbody tr th {\n",
       "        vertical-align: top;\n",
       "    }\n",
       "\n",
       "    .dataframe thead th {\n",
       "        text-align: right;\n",
       "    }\n",
       "</style>\n",
       "<table border=\"1\" class=\"dataframe\">\n",
       "  <thead>\n",
       "    <tr style=\"text-align: right;\">\n",
       "      <th></th>\n",
       "      <th>index</th>\n",
       "      <th>month</th>\n",
       "      <th>state</th>\n",
       "      <th>number_of_fires</th>\n",
       "    </tr>\n",
       "  </thead>\n",
       "  <tbody>\n",
       "    <tr>\n",
       "      <th>0</th>\n",
       "      <td>1</td>\n",
       "      <td>Janeiro</td>\n",
       "      <td>Acre</td>\n",
       "      <td>0</td>\n",
       "    </tr>\n",
       "    <tr>\n",
       "      <th>6</th>\n",
       "      <td>7</td>\n",
       "      <td>Janeiro</td>\n",
       "      <td>Acre</td>\n",
       "      <td>12</td>\n",
       "    </tr>\n",
       "    <tr>\n",
       "      <th>7</th>\n",
       "      <td>8</td>\n",
       "      <td>Janeiro</td>\n",
       "      <td>Acre</td>\n",
       "      <td>4</td>\n",
       "    </tr>\n",
       "    <tr>\n",
       "      <th>8</th>\n",
       "      <td>9</td>\n",
       "      <td>Janeiro</td>\n",
       "      <td>Acre</td>\n",
       "      <td>0</td>\n",
       "    </tr>\n",
       "    <tr>\n",
       "      <th>9</th>\n",
       "      <td>10</td>\n",
       "      <td>Janeiro</td>\n",
       "      <td>Acre</td>\n",
       "      <td>0</td>\n",
       "    </tr>\n",
       "  </tbody>\n",
       "</table>\n",
       "</div>"
      ],
      "text/plain": [
       "   index    month state number_of_fires\n",
       "0      1  Janeiro  Acre               0\n",
       "6      7  Janeiro  Acre              12\n",
       "7      8  Janeiro  Acre               4\n",
       "8      9  Janeiro  Acre               0\n",
       "9     10  Janeiro  Acre               0"
      ]
     },
     "execution_count": 54,
     "metadata": {
      "tags": []
     },
     "output_type": "execute_result"
    }
   ],
   "source": [
    "# Drop a range of rows\n",
    "\n",
    "df = df.drop(df.index[1:4])\n",
    "df.head()"
   ]
  },
  {
   "cell_type": "code",
   "execution_count": null,
   "metadata": {
    "id": "uZrawexD6kgi"
   },
   "outputs": [],
   "source": []
  }
 ],
 "metadata": {
  "colab": {
   "collapsed_sections": [],
   "name": "4.2 Pandas 3 - Data Cleaning.ipynb",
   "provenance": []
  },
  "kernelspec": {
   "display_name": "Python 3 (ipykernel)",
   "language": "python",
   "name": "python3"
  },
  "language_info": {
   "codemirror_mode": {
    "name": "ipython",
    "version": 3
   },
   "file_extension": ".py",
   "mimetype": "text/x-python",
   "name": "python",
   "nbconvert_exporter": "python",
   "pygments_lexer": "ipython3",
   "version": "3.10.4"
  }
 },
 "nbformat": 4,
 "nbformat_minor": 4
}
