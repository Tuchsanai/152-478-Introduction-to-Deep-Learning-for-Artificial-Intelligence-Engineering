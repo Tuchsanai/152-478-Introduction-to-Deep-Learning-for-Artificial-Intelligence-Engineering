{
 "cells": [
  {
   "cell_type": "markdown",
   "metadata": {
    "id": "YZSnXLtHjPg1"
   },
   "source": [
    "# Pandas - Data Cleaning\n",
    "\n",
    "1. Renaming Columns\n",
    "2. Re-arranging Column Order\n",
    "3. Checking data types of specific columns\n",
    "4. Removing Text from column\n",
    "5. Deaing with Missing Data\n",
    "6. Changing Data Types\n",
    "7. Replacing Text within a column\n",
    "8. String operations of column data\n",
    "9. Removing Columns\n",
    "10. Dropping Rows\n",
    "\n",
    "\n",
    "https://raw.githubusercontent.com/rajeevratan84/datascienceforbusiness/master/amazon_fires.csv\n"
   ]
  },
  {
   "cell_type": "code",
   "execution_count": 1,
   "metadata": {
    "colab": {
     "base_uri": "https://localhost:8080/",
     "height": 204
    },
    "id": "tCpBAX3FiCCZ",
    "outputId": "07ec703e-d07e-4fb0-f6e3-0dffcb2b0eeb"
   },
   "outputs": [
    {
     "data": {
      "text/html": [
       "<div>\n",
       "<style scoped>\n",
       "    .dataframe tbody tr th:only-of-type {\n",
       "        vertical-align: middle;\n",
       "    }\n",
       "\n",
       "    .dataframe tbody tr th {\n",
       "        vertical-align: top;\n",
       "    }\n",
       "\n",
       "    .dataframe thead th {\n",
       "        text-align: right;\n",
       "    }\n",
       "</style>\n",
       "<table border=\"1\" class=\"dataframe\">\n",
       "  <thead>\n",
       "    <tr style=\"text-align: right;\">\n",
       "      <th></th>\n",
       "      <th>ano</th>\n",
       "      <th>mes</th>\n",
       "      <th>estado</th>\n",
       "      <th>numero</th>\n",
       "      <th>encontro</th>\n",
       "    </tr>\n",
       "  </thead>\n",
       "  <tbody>\n",
       "    <tr>\n",
       "      <th>6449</th>\n",
       "      <td>2012</td>\n",
       "      <td>Dezembro</td>\n",
       "      <td>Tocantins</td>\n",
       "      <td>128</td>\n",
       "      <td>1/1/2012</td>\n",
       "    </tr>\n",
       "    <tr>\n",
       "      <th>6450</th>\n",
       "      <td>2013</td>\n",
       "      <td>Dezembro</td>\n",
       "      <td>Tocantins</td>\n",
       "      <td>85</td>\n",
       "      <td>1/1/2013</td>\n",
       "    </tr>\n",
       "    <tr>\n",
       "      <th>6451</th>\n",
       "      <td>2014</td>\n",
       "      <td>Dezembro</td>\n",
       "      <td>Tocantins</td>\n",
       "      <td>223</td>\n",
       "      <td>1/1/2014</td>\n",
       "    </tr>\n",
       "    <tr>\n",
       "      <th>6452</th>\n",
       "      <td>2015</td>\n",
       "      <td>Dezembro</td>\n",
       "      <td>Tocantins</td>\n",
       "      <td>373</td>\n",
       "      <td>1/1/2015</td>\n",
       "    </tr>\n",
       "    <tr>\n",
       "      <th>6453</th>\n",
       "      <td>2016</td>\n",
       "      <td>Dezembro</td>\n",
       "      <td>Tocantins</td>\n",
       "      <td>119</td>\n",
       "      <td>1/1/2016</td>\n",
       "    </tr>\n",
       "  </tbody>\n",
       "</table>\n",
       "</div>"
      ],
      "text/plain": [
       "       ano       mes     estado numero  encontro\n",
       "6449  2012  Dezembro  Tocantins    128  1/1/2012\n",
       "6450  2013  Dezembro  Tocantins     85  1/1/2013\n",
       "6451  2014  Dezembro  Tocantins    223  1/1/2014\n",
       "6452  2015  Dezembro  Tocantins    373  1/1/2015\n",
       "6453  2016  Dezembro  Tocantins    119  1/1/2016"
      ]
     },
     "execution_count": 1,
     "metadata": {},
     "output_type": "execute_result"
    }
   ],
   "source": [
    "# Let's load a new dataset on the number of fires in the Amazon rainforest \n",
    "\n",
    "import pandas as pd\n",
    "\n",
    "file_name = \"https://raw.githubusercontent.com/rajeevratan84/datascienceforbusiness/master/amazon_fires.csv\"\n",
    "df = pd.read_csv(file_name, encoding = \"ISO-8859-1\")\n",
    "\n",
    "df.tail()\n"
   ]
  },
  {
   "cell_type": "code",
   "execution_count": 2,
   "metadata": {
    "colab": {
     "base_uri": "https://localhost:8080/",
     "height": 221
    },
    "id": "R9N0RmGn2d_O",
    "outputId": "7573a321-10a1-4125-d41c-46de093c48ba"
   },
   "outputs": [
    {
     "name": "stdout",
     "output_type": "stream",
     "text": [
      "<class 'pandas.core.frame.DataFrame'>\n",
      "RangeIndex: 6454 entries, 0 to 6453\n",
      "Data columns (total 5 columns):\n",
      " #   Column    Non-Null Count  Dtype \n",
      "---  ------    --------------  ----- \n",
      " 0   ano       6454 non-null   int64 \n",
      " 1   mes       6454 non-null   object\n",
      " 2   estado    6454 non-null   object\n",
      " 3   numero    6322 non-null   object\n",
      " 4   encontro  6454 non-null   object\n",
      "dtypes: int64(1), object(4)\n",
      "memory usage: 252.2+ KB\n"
     ]
    }
   ],
   "source": [
    "df.info()"
   ]
  },
  {
   "cell_type": "code",
   "execution_count": 3,
   "metadata": {
    "colab": {
     "base_uri": "https://localhost:8080/",
     "height": 102
    },
    "id": "ltOfXHFzghuz",
    "outputId": "dc3c21f8-b6dd-4198-f880-39f3e94bd2d4"
   },
   "outputs": [
    {
     "data": {
      "text/plain": [
       "array(['Acre', 'alagoas', 'Amapa', 'Amazonas', 'Bahia', 'Ceara',\n",
       "       'Distrito Federal', 'Espirito Santo', 'Goias', 'Maranhao',\n",
       "       'Mato Grosso', 'Minas Gerais', 'pará', 'Paraiba', 'Pernambuco',\n",
       "       'Piau', 'Rio', 'rondonia', 'Roraima', 'Santa Catarina',\n",
       "       'Sao Paulo', 'Sergipe', 'Tocantins'], dtype=object)"
      ]
     },
     "execution_count": 3,
     "metadata": {},
     "output_type": "execute_result"
    }
   ],
   "source": [
    "# How many regions are in the dataset?\n",
    "df['estado'].unique()"
   ]
  },
  {
   "cell_type": "code",
   "execution_count": 10,
   "metadata": {
    "colab": {
     "base_uri": "https://localhost:8080/",
     "height": 34
    },
    "id": "CAwUlGwp9n-S",
    "outputId": "5ff9ba7a-0800-437e-b3fa-73a9f33e50a3"
   },
   "outputs": [
    {
     "data": {
      "text/plain": [
       "Index(['ano', 'mes', 'estado', 'numero', 'encontro'], dtype='object')"
      ]
     },
     "execution_count": 10,
     "metadata": {},
     "output_type": "execute_result"
    }
   ],
   "source": [
    "df.columns"
   ]
  },
  {
   "cell_type": "markdown",
   "metadata": {
    "id": "0jP8IvwOpA9k"
   },
   "source": [
    "# Renaming Columns"
   ]
  },
  {
   "cell_type": "code",
   "execution_count": 4,
   "metadata": {
    "id": "6-6ZsPU7pCwx"
   },
   "outputs": [],
   "source": [
    "new_columns = {'ano' : 'year',\n",
    "               'estado': 'state',\n",
    "               'mes': 'month',\n",
    "               'numero': 'number_of_fires',\n",
    "               'encontro': 'date'}\n",
    "\n",
    "df.rename(columns = new_columns, inplace=True)"
   ]
  },
  {
   "cell_type": "code",
   "execution_count": 5,
   "metadata": {
    "colab": {
     "base_uri": "https://localhost:8080/",
     "height": 204
    },
    "id": "zy3PLHgKpgYg",
    "outputId": "7b764669-22ab-4735-b503-de4f913a3b80"
   },
   "outputs": [
    {
     "data": {
      "text/html": [
       "<div>\n",
       "<style scoped>\n",
       "    .dataframe tbody tr th:only-of-type {\n",
       "        vertical-align: middle;\n",
       "    }\n",
       "\n",
       "    .dataframe tbody tr th {\n",
       "        vertical-align: top;\n",
       "    }\n",
       "\n",
       "    .dataframe thead th {\n",
       "        text-align: right;\n",
       "    }\n",
       "</style>\n",
       "<table border=\"1\" class=\"dataframe\">\n",
       "  <thead>\n",
       "    <tr style=\"text-align: right;\">\n",
       "      <th></th>\n",
       "      <th>year</th>\n",
       "      <th>month</th>\n",
       "      <th>state</th>\n",
       "      <th>number_of_fires</th>\n",
       "      <th>date</th>\n",
       "    </tr>\n",
       "  </thead>\n",
       "  <tbody>\n",
       "    <tr>\n",
       "      <th>0</th>\n",
       "      <td>1998</td>\n",
       "      <td>Janeiro</td>\n",
       "      <td>Acre</td>\n",
       "      <td>0 Fires</td>\n",
       "      <td>1/1/1998</td>\n",
       "    </tr>\n",
       "    <tr>\n",
       "      <th>1</th>\n",
       "      <td>1999</td>\n",
       "      <td>Janeiro</td>\n",
       "      <td>Acre</td>\n",
       "      <td>0 Fires</td>\n",
       "      <td>1/1/1999</td>\n",
       "    </tr>\n",
       "    <tr>\n",
       "      <th>2</th>\n",
       "      <td>2000</td>\n",
       "      <td>Janeiro</td>\n",
       "      <td>Acre</td>\n",
       "      <td>0 Fires</td>\n",
       "      <td>1/1/2000</td>\n",
       "    </tr>\n",
       "    <tr>\n",
       "      <th>3</th>\n",
       "      <td>2001</td>\n",
       "      <td>Janeiro</td>\n",
       "      <td>Acre</td>\n",
       "      <td>0 Fires</td>\n",
       "      <td>1/1/2001</td>\n",
       "    </tr>\n",
       "    <tr>\n",
       "      <th>4</th>\n",
       "      <td>2002</td>\n",
       "      <td>Janeiro</td>\n",
       "      <td>Acre</td>\n",
       "      <td>0 Fires</td>\n",
       "      <td>1/1/2002</td>\n",
       "    </tr>\n",
       "  </tbody>\n",
       "</table>\n",
       "</div>"
      ],
      "text/plain": [
       "   year    month state number_of_fires      date\n",
       "0  1998  Janeiro  Acre         0 Fires  1/1/1998\n",
       "1  1999  Janeiro  Acre         0 Fires  1/1/1999\n",
       "2  2000  Janeiro  Acre         0 Fires  1/1/2000\n",
       "3  2001  Janeiro  Acre         0 Fires  1/1/2001\n",
       "4  2002  Janeiro  Acre         0 Fires  1/1/2002"
      ]
     },
     "execution_count": 5,
     "metadata": {},
     "output_type": "execute_result"
    }
   ],
   "source": [
    "df.head()"
   ]
  },
  {
   "cell_type": "code",
   "execution_count": 6,
   "metadata": {
    "colab": {
     "base_uri": "https://localhost:8080/",
     "height": 51
    },
    "id": "9316IE7JjkMn",
    "outputId": "46fe0fb8-23f4-43d1-f78d-f426d7d98a75"
   },
   "outputs": [
    {
     "data": {
      "text/plain": [
       "array([1998, 1999, 2000, 2001, 2002, 2003, 2004, 2005, 2006, 2007, 2008,\n",
       "       2009, 2010, 2011, 2012, 2013, 2014, 2015, 2016, 2017])"
      ]
     },
     "execution_count": 6,
     "metadata": {},
     "output_type": "execute_result"
    }
   ],
   "source": [
    "# How many years of data do we have?\n",
    "df['year'].unique()"
   ]
  },
  {
   "cell_type": "code",
   "execution_count": 7,
   "metadata": {
    "colab": {
     "base_uri": "https://localhost:8080/",
     "height": 119
    },
    "id": "vPBgtMAuyDZE",
    "outputId": "0de8d948-8513-4330-e4fc-075dfdec808b"
   },
   "outputs": [
    {
     "data": {
      "text/plain": [
       "year                 0\n",
       "month                0\n",
       "state                0\n",
       "number_of_fires    132\n",
       "date                 0\n",
       "dtype: int64"
      ]
     },
     "execution_count": 7,
     "metadata": {},
     "output_type": "execute_result"
    }
   ],
   "source": [
    "df.isnull().sum()"
   ]
  },
  {
   "cell_type": "code",
   "execution_count": 15,
   "metadata": {
    "colab": {
     "base_uri": "https://localhost:8080/",
     "height": 34
    },
    "id": "OGKPU8fa65Re",
    "outputId": "d3d56e58-bf26-4aae-98ed-213c6a535a4a"
   },
   "outputs": [
    {
     "data": {
      "text/plain": [
       "Index(['year', 'month', 'state', 'number_of_fires', 'date'], dtype='object')"
      ]
     },
     "execution_count": 15,
     "metadata": {},
     "output_type": "execute_result"
    }
   ],
   "source": [
    "df.columns"
   ]
  },
  {
   "cell_type": "markdown",
   "metadata": {
    "id": "1Q6ugBSjADMh"
   },
   "source": [
    "# Re-arranging columns"
   ]
  },
  {
   "cell_type": "code",
   "execution_count": 16,
   "metadata": {
    "colab": {
     "base_uri": "https://localhost:8080/",
     "height": 204
    },
    "id": "rsia68dVAEnI",
    "outputId": "58a11cb5-dbb1-4304-8522-4b0861e34640"
   },
   "outputs": [
    {
     "data": {
      "text/html": [
       "<div>\n",
       "<style scoped>\n",
       "    .dataframe tbody tr th:only-of-type {\n",
       "        vertical-align: middle;\n",
       "    }\n",
       "\n",
       "    .dataframe tbody tr th {\n",
       "        vertical-align: top;\n",
       "    }\n",
       "\n",
       "    .dataframe thead th {\n",
       "        text-align: right;\n",
       "    }\n",
       "</style>\n",
       "<table border=\"1\" class=\"dataframe\">\n",
       "  <thead>\n",
       "    <tr style=\"text-align: right;\">\n",
       "      <th></th>\n",
       "      <th>date</th>\n",
       "      <th>month</th>\n",
       "      <th>year</th>\n",
       "      <th>state</th>\n",
       "      <th>number_of_fires</th>\n",
       "    </tr>\n",
       "  </thead>\n",
       "  <tbody>\n",
       "    <tr>\n",
       "      <th>0</th>\n",
       "      <td>1/1/1998</td>\n",
       "      <td>Janeiro</td>\n",
       "      <td>1998</td>\n",
       "      <td>Acre</td>\n",
       "      <td>0 Fires</td>\n",
       "    </tr>\n",
       "    <tr>\n",
       "      <th>1</th>\n",
       "      <td>1/1/1999</td>\n",
       "      <td>Janeiro</td>\n",
       "      <td>1999</td>\n",
       "      <td>Acre</td>\n",
       "      <td>0 Fires</td>\n",
       "    </tr>\n",
       "    <tr>\n",
       "      <th>2</th>\n",
       "      <td>1/1/2000</td>\n",
       "      <td>Janeiro</td>\n",
       "      <td>2000</td>\n",
       "      <td>Acre</td>\n",
       "      <td>0 Fires</td>\n",
       "    </tr>\n",
       "    <tr>\n",
       "      <th>3</th>\n",
       "      <td>1/1/2001</td>\n",
       "      <td>Janeiro</td>\n",
       "      <td>2001</td>\n",
       "      <td>Acre</td>\n",
       "      <td>0 Fires</td>\n",
       "    </tr>\n",
       "    <tr>\n",
       "      <th>4</th>\n",
       "      <td>1/1/2002</td>\n",
       "      <td>Janeiro</td>\n",
       "      <td>2002</td>\n",
       "      <td>Acre</td>\n",
       "      <td>0 Fires</td>\n",
       "    </tr>\n",
       "  </tbody>\n",
       "</table>\n",
       "</div>"
      ],
      "text/plain": [
       "       date    month  year state number_of_fires\n",
       "0  1/1/1998  Janeiro  1998  Acre         0 Fires\n",
       "1  1/1/1999  Janeiro  1999  Acre         0 Fires\n",
       "2  1/1/2000  Janeiro  2000  Acre         0 Fires\n",
       "3  1/1/2001  Janeiro  2001  Acre         0 Fires\n",
       "4  1/1/2002  Janeiro  2002  Acre         0 Fires"
      ]
     },
     "execution_count": 16,
     "metadata": {},
     "output_type": "execute_result"
    }
   ],
   "source": [
    "# Columns are numbered from 0, left to right\n",
    "# Let's put date first, month second and year 3rd\n",
    "\n",
    "new_order = [4,1,0,2,3,]\n",
    "df = df[df.columns[new_order]]\n",
    "df.head()"
   ]
  },
  {
   "cell_type": "code",
   "execution_count": 19,
   "metadata": {
    "colab": {
     "base_uri": "https://localhost:8080/",
     "height": 419
    },
    "id": "yXS2Khp_zGg1",
    "outputId": "7ead6324-9725-489a-ada6-6a124ec536a9"
   },
   "outputs": [
    {
     "data": {
      "text/html": [
       "<div>\n",
       "<style scoped>\n",
       "    .dataframe tbody tr th:only-of-type {\n",
       "        vertical-align: middle;\n",
       "    }\n",
       "\n",
       "    .dataframe tbody tr th {\n",
       "        vertical-align: top;\n",
       "    }\n",
       "\n",
       "    .dataframe thead th {\n",
       "        text-align: right;\n",
       "    }\n",
       "</style>\n",
       "<table border=\"1\" class=\"dataframe\">\n",
       "  <thead>\n",
       "    <tr style=\"text-align: right;\">\n",
       "      <th></th>\n",
       "      <th>date</th>\n",
       "      <th>month</th>\n",
       "      <th>year</th>\n",
       "      <th>state</th>\n",
       "      <th>number_of_fires</th>\n",
       "    </tr>\n",
       "  </thead>\n",
       "  <tbody>\n",
       "    <tr>\n",
       "      <th>68</th>\n",
       "      <td>1/1/2006</td>\n",
       "      <td>Abril</td>\n",
       "      <td>2006</td>\n",
       "      <td>Acre</td>\n",
       "      <td>NaN</td>\n",
       "    </tr>\n",
       "    <tr>\n",
       "      <th>110</th>\n",
       "      <td>1/1/2008</td>\n",
       "      <td>Junho</td>\n",
       "      <td>2008</td>\n",
       "      <td>Acre</td>\n",
       "      <td>NaN</td>\n",
       "    </tr>\n",
       "    <tr>\n",
       "      <th>127</th>\n",
       "      <td>1/1/2005</td>\n",
       "      <td>Julho</td>\n",
       "      <td>2005</td>\n",
       "      <td>Acre</td>\n",
       "      <td>NaN</td>\n",
       "    </tr>\n",
       "    <tr>\n",
       "      <th>206</th>\n",
       "      <td>1/1/2004</td>\n",
       "      <td>Novembro</td>\n",
       "      <td>2004</td>\n",
       "      <td>Acre</td>\n",
       "      <td>NaN</td>\n",
       "    </tr>\n",
       "    <tr>\n",
       "      <th>217</th>\n",
       "      <td>1/1/2015</td>\n",
       "      <td>Novembro</td>\n",
       "      <td>2015</td>\n",
       "      <td>Acre</td>\n",
       "      <td>NaN</td>\n",
       "    </tr>\n",
       "    <tr>\n",
       "      <th>...</th>\n",
       "      <td>...</td>\n",
       "      <td>...</td>\n",
       "      <td>...</td>\n",
       "      <td>...</td>\n",
       "      <td>...</td>\n",
       "    </tr>\n",
       "    <tr>\n",
       "      <th>6305</th>\n",
       "      <td>1/1/2008</td>\n",
       "      <td>Maio</td>\n",
       "      <td>2008</td>\n",
       "      <td>Tocantins</td>\n",
       "      <td>NaN</td>\n",
       "    </tr>\n",
       "    <tr>\n",
       "      <th>6354</th>\n",
       "      <td>1/1/2017</td>\n",
       "      <td>Julho</td>\n",
       "      <td>2017</td>\n",
       "      <td>Tocantins</td>\n",
       "      <td>NaN</td>\n",
       "    </tr>\n",
       "    <tr>\n",
       "      <th>6383</th>\n",
       "      <td>1/1/2006</td>\n",
       "      <td>Setembro</td>\n",
       "      <td>2006</td>\n",
       "      <td>Tocantins</td>\n",
       "      <td>NaN</td>\n",
       "    </tr>\n",
       "    <tr>\n",
       "      <th>6415</th>\n",
       "      <td>1/1/1998</td>\n",
       "      <td>Novembro</td>\n",
       "      <td>1998</td>\n",
       "      <td>Tocantins</td>\n",
       "      <td>NaN</td>\n",
       "    </tr>\n",
       "    <tr>\n",
       "      <th>6428</th>\n",
       "      <td>1/1/2011</td>\n",
       "      <td>Novembro</td>\n",
       "      <td>2011</td>\n",
       "      <td>Tocantins</td>\n",
       "      <td>NaN</td>\n",
       "    </tr>\n",
       "  </tbody>\n",
       "</table>\n",
       "<p>132 rows × 5 columns</p>\n",
       "</div>"
      ],
      "text/plain": [
       "          date     month  year      state number_of_fires\n",
       "68    1/1/2006     Abril  2006       Acre             NaN\n",
       "110   1/1/2008     Junho  2008       Acre             NaN\n",
       "127   1/1/2005     Julho  2005       Acre             NaN\n",
       "206   1/1/2004  Novembro  2004       Acre             NaN\n",
       "217   1/1/2015  Novembro  2015       Acre             NaN\n",
       "...        ...       ...   ...        ...             ...\n",
       "6305  1/1/2008      Maio  2008  Tocantins             NaN\n",
       "6354  1/1/2017     Julho  2017  Tocantins             NaN\n",
       "6383  1/1/2006  Setembro  2006  Tocantins             NaN\n",
       "6415  1/1/1998  Novembro  1998  Tocantins             NaN\n",
       "6428  1/1/2011  Novembro  2011  Tocantins             NaN\n",
       "\n",
       "[132 rows x 5 columns]"
      ]
     },
     "execution_count": 19,
     "metadata": {},
     "output_type": "execute_result"
    }
   ],
   "source": [
    "df[df['number_of_fires'].isnull() == True]"
   ]
  },
  {
   "cell_type": "markdown",
   "metadata": {
    "id": "hWNUppp2vK6B"
   },
   "source": [
    "# Determing if a column contains numeric data"
   ]
  },
  {
   "cell_type": "code",
   "execution_count": null,
   "metadata": {
    "colab": {
     "base_uri": "https://localhost:8080/",
     "height": 221
    },
    "id": "BYS0q1LYqT6G",
    "outputId": "55a2e657-156d-48d4-c1a1-7703d82e0c03"
   },
   "outputs": [
    {
     "data": {
      "text/plain": [
       "0       False\n",
       "1       False\n",
       "2       False\n",
       "3       False\n",
       "4       False\n",
       "        ...  \n",
       "6449     True\n",
       "6450     True\n",
       "6451     True\n",
       "6452     True\n",
       "6453     True\n",
       "Name: number_of_fires, Length: 6454, dtype: object"
      ]
     },
     "execution_count": 30,
     "metadata": {
      "tags": []
     },
     "output_type": "execute_result"
    }
   ],
   "source": [
    "# It isn't, let's find our why\n",
    "df['number_of_fires'].str.isnumeric()"
   ]
  },
  {
   "cell_type": "code",
   "execution_count": 10,
   "metadata": {
    "colab": {
     "base_uri": "https://localhost:8080/",
     "height": 230
    },
    "id": "lcWU0PwYrCvs",
    "outputId": "d736a309-e2bd-454d-d81c-305db3002c49"
   },
   "outputs": [
    {
     "data": {
      "text/plain": [
       "0       False\n",
       "1       False\n",
       "2       False\n",
       "3       False\n",
       "4       False\n",
       "        ...  \n",
       "6449     True\n",
       "6450     True\n",
       "6451     True\n",
       "6452     True\n",
       "6453     True\n",
       "Name: number_of_fires, Length: 6454, dtype: bool"
      ]
     },
     "execution_count": 10,
     "metadata": {},
     "output_type": "execute_result"
    }
   ],
   "source": [
    "# We get the above error because our isdigit() returns Nan for blank or missing values\n",
    "\n",
    "df['number_of_fires'].astype(str).str.isdigit()"
   ]
  },
  {
   "cell_type": "markdown",
   "metadata": {
    "id": "rMuJ_Bc2xn76"
   },
   "source": [
    "\n",
    "- Bascially, `str.isdigit` only returns True for strings containing solely the digits 0-9. \n",
    "- By contrast, `str.isnumeric` returns True if it contains any numeric characters. e.g. '½'"
   ]
  },
  {
   "cell_type": "markdown",
   "metadata": {
    "id": "V1gaXjc-vuQq"
   },
   "source": [
    "# Removing unnecessary text from columns"
   ]
  },
  {
   "cell_type": "code",
   "execution_count": 11,
   "metadata": {
    "colab": {
     "base_uri": "https://localhost:8080/",
     "height": 230
    },
    "id": "ModoDUIHvySz",
    "outputId": "ac3bf399-4145-40a6-f14c-a98dfe925e79"
   },
   "outputs": [
    {
     "data": {
      "text/plain": [
       "0         0\n",
       "1         0\n",
       "2         0\n",
       "3         0\n",
       "4         0\n",
       "       ... \n",
       "6449    128\n",
       "6450     85\n",
       "6451    223\n",
       "6452    373\n",
       "6453    119\n",
       "Name: number_of_fires, Length: 6454, dtype: object"
      ]
     },
     "execution_count": 11,
     "metadata": {},
     "output_type": "execute_result"
    }
   ],
   "source": [
    "df['number_of_fires'].str.strip(\" Fires\")"
   ]
  },
  {
   "cell_type": "markdown",
   "metadata": {
    "id": "tmV--mWm1DZn"
   },
   "source": [
    "Strip - Return a copy of the string with leading and trailing characters removed. If chars is omitted or None, whitespace characters are removed. If given and not None, chars must be a string; the characters in the string will be stripped from the both ends of the string this method is called on."
   ]
  },
  {
   "cell_type": "code",
   "execution_count": 12,
   "metadata": {
    "colab": {
     "base_uri": "https://localhost:8080/",
     "height": 204
    },
    "id": "iVLxwJ6Ssggj",
    "outputId": "1c609b9a-fa7f-4f70-8047-22a73757980a"
   },
   "outputs": [
    {
     "data": {
      "text/html": [
       "<div>\n",
       "<style scoped>\n",
       "    .dataframe tbody tr th:only-of-type {\n",
       "        vertical-align: middle;\n",
       "    }\n",
       "\n",
       "    .dataframe tbody tr th {\n",
       "        vertical-align: top;\n",
       "    }\n",
       "\n",
       "    .dataframe thead th {\n",
       "        text-align: right;\n",
       "    }\n",
       "</style>\n",
       "<table border=\"1\" class=\"dataframe\">\n",
       "  <thead>\n",
       "    <tr style=\"text-align: right;\">\n",
       "      <th></th>\n",
       "      <th>year</th>\n",
       "      <th>month</th>\n",
       "      <th>state</th>\n",
       "      <th>number_of_fires</th>\n",
       "      <th>date</th>\n",
       "    </tr>\n",
       "  </thead>\n",
       "  <tbody>\n",
       "    <tr>\n",
       "      <th>0</th>\n",
       "      <td>1998</td>\n",
       "      <td>Janeiro</td>\n",
       "      <td>Acre</td>\n",
       "      <td>0</td>\n",
       "      <td>1/1/1998</td>\n",
       "    </tr>\n",
       "    <tr>\n",
       "      <th>1</th>\n",
       "      <td>1999</td>\n",
       "      <td>Janeiro</td>\n",
       "      <td>Acre</td>\n",
       "      <td>0</td>\n",
       "      <td>1/1/1999</td>\n",
       "    </tr>\n",
       "    <tr>\n",
       "      <th>2</th>\n",
       "      <td>2000</td>\n",
       "      <td>Janeiro</td>\n",
       "      <td>Acre</td>\n",
       "      <td>0</td>\n",
       "      <td>1/1/2000</td>\n",
       "    </tr>\n",
       "    <tr>\n",
       "      <th>3</th>\n",
       "      <td>2001</td>\n",
       "      <td>Janeiro</td>\n",
       "      <td>Acre</td>\n",
       "      <td>0</td>\n",
       "      <td>1/1/2001</td>\n",
       "    </tr>\n",
       "    <tr>\n",
       "      <th>4</th>\n",
       "      <td>2002</td>\n",
       "      <td>Janeiro</td>\n",
       "      <td>Acre</td>\n",
       "      <td>0</td>\n",
       "      <td>1/1/2002</td>\n",
       "    </tr>\n",
       "  </tbody>\n",
       "</table>\n",
       "</div>"
      ],
      "text/plain": [
       "   year    month state number_of_fires      date\n",
       "0  1998  Janeiro  Acre               0  1/1/1998\n",
       "1  1999  Janeiro  Acre               0  1/1/1999\n",
       "2  2000  Janeiro  Acre               0  1/1/2000\n",
       "3  2001  Janeiro  Acre               0  1/1/2001\n",
       "4  2002  Janeiro  Acre               0  1/1/2002"
      ]
     },
     "execution_count": 12,
     "metadata": {},
     "output_type": "execute_result"
    }
   ],
   "source": [
    "# To replace column with cleaned column\n",
    "\n",
    "df['number_of_fires'] = df['number_of_fires'].str.strip(\" Fires\")\n",
    "df.head()"
   ]
  },
  {
   "cell_type": "code",
   "execution_count": null,
   "metadata": {
    "colab": {
     "base_uri": "https://localhost:8080/",
     "height": 221
    },
    "id": "qEp3qxVEwc7c",
    "outputId": "e270d40a-0052-4465-9873-bdb71d4099c1",
    "scrolled": false
   },
   "outputs": [
    {
     "name": "stdout",
     "output_type": "stream",
     "text": [
      "<class 'pandas.core.frame.DataFrame'>\n",
      "RangeIndex: 6454 entries, 0 to 6453\n",
      "Data columns (total 5 columns):\n",
      " #   Column           Non-Null Count  Dtype  \n",
      "---  ------           --------------  -----  \n",
      " 0   date             6454 non-null   object \n",
      " 1   month            6454 non-null   object \n",
      " 2   year             6454 non-null   int64  \n",
      " 3   state            6454 non-null   object \n",
      " 4   number_of_fires  6322 non-null   float64\n",
      "dtypes: float64(1), int64(1), object(3)\n",
      "memory usage: 252.2+ KB\n"
     ]
    }
   ],
   "source": [
    "df.info()"
   ]
  },
  {
   "cell_type": "code",
   "execution_count": 13,
   "metadata": {},
   "outputs": [
    {
     "data": {
      "text/plain": [
       "year                 0\n",
       "month                0\n",
       "state                0\n",
       "number_of_fires    132\n",
       "date                 0\n",
       "dtype: int64"
      ]
     },
     "execution_count": 13,
     "metadata": {},
     "output_type": "execute_result"
    }
   ],
   "source": [
    "df.isnull().sum()"
   ]
  },
  {
   "cell_type": "code",
   "execution_count": 18,
   "metadata": {},
   "outputs": [],
   "source": [
    "df['number_of_fires'] = df['number_of_fires'].fillna(0.0)"
   ]
  },
  {
   "cell_type": "code",
   "execution_count": 19,
   "metadata": {},
   "outputs": [
    {
     "data": {
      "text/plain": [
       "year               0\n",
       "month              0\n",
       "state              0\n",
       "number_of_fires    0\n",
       "date               0\n",
       "dtype: int64"
      ]
     },
     "execution_count": 19,
     "metadata": {},
     "output_type": "execute_result"
    }
   ],
   "source": [
    "df.isnull().sum()"
   ]
  },
  {
   "cell_type": "code",
   "execution_count": null,
   "metadata": {
    "id": "VaInk9O4uvKs"
   },
   "outputs": [],
   "source": [
    "# That was one way we could have handled blank data"
   ]
  }
 ],
 "metadata": {
  "colab": {
   "collapsed_sections": [],
   "name": "4.2 Pandas 3 - Data Cleaning.ipynb",
   "provenance": []
  },
  "kernelspec": {
   "display_name": "Python 3 (ipykernel)",
   "language": "python",
   "name": "python3"
  },
  "language_info": {
   "codemirror_mode": {
    "name": "ipython",
    "version": 3
   },
   "file_extension": ".py",
   "mimetype": "text/x-python",
   "name": "python",
   "nbconvert_exporter": "python",
   "pygments_lexer": "ipython3",
   "version": "3.10.4"
  }
 },
 "nbformat": 4,
 "nbformat_minor": 4
}
