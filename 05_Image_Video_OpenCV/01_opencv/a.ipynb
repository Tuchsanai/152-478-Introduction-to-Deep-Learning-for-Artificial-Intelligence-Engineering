{
 "cells": [
  {
   "cell_type": "code",
   "execution_count": 1,
   "metadata": {},
   "outputs": [],
   "source": [
    "import numpy as np\n",
    "import matplotlib.pyplot as plt\n",
    "import cv2\n",
    "import time"
   ]
  },
  {
   "cell_type": "code",
   "execution_count": 2,
   "metadata": {},
   "outputs": [],
   "source": [
    "filename = \"archive\\WADADA .mp4\""
   ]
  },
  {
   "cell_type": "code",
   "execution_count": 4,
   "metadata": {},
   "outputs": [
    {
     "name": "stdout",
     "output_type": "stream",
     "text": [
      "Video read successful!\n",
      "Total frames: 7672\n",
      "width: 854\n",
      "height: 480\n",
      "fps: 29.97\n"
     ]
    }
   ],
   "source": [
    "# capture the video\n",
    "cap = cv2.VideoCapture(filename)\n",
    "\n",
    "# check if capture was successful\n",
    "if not cap.isOpened(): \n",
    "    print(\"Could not open!\")\n",
    "else:\n",
    "    print(\"Video read successful!\")\n",
    "    \n",
    "    total_frames = int(cap.get(cv2.CAP_PROP_FRAME_COUNT))\n",
    "    width        = int(cap.get(cv2.CAP_PROP_FRAME_WIDTH))\n",
    "    height       = int(cap.get(cv2.CAP_PROP_FRAME_HEIGHT))\n",
    "    fps          = cap.get(cv2.CAP_PROP_FPS)\n",
    "    \n",
    "    print('Total frames: ' + str(total_frames))\n",
    "    print('width: ' + str(width))\n",
    "    print('height: ' + str(height))\n",
    "    print('fps: ' + str(fps))"
   ]
  },
  {
   "cell_type": "code",
   "execution_count": null,
   "metadata": {},
   "outputs": [],
   "source": []
  }
 ],
 "metadata": {
  "interpreter": {
   "hash": "47113254f01db2a7e4001bb0ddcbee7f4720d5d28bc888fd9526880e7fe8fabf"
  },
  "kernelspec": {
   "display_name": "Python 3.9.7 ('torch')",
   "language": "python",
   "name": "python3"
  },
  "language_info": {
   "codemirror_mode": {
    "name": "ipython",
    "version": 3
   },
   "file_extension": ".py",
   "mimetype": "text/x-python",
   "name": "python",
   "nbconvert_exporter": "python",
   "pygments_lexer": "ipython3",
   "version": "3.9.7"
  },
  "orig_nbformat": 4
 },
 "nbformat": 4,
 "nbformat_minor": 2
}
