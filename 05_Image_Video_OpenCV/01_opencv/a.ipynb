{
  "cells": [
    {
      "cell_type": "code",
      "source": [
        "pip install -q -U kora\n"
      ],
      "metadata": {
        "id": "rS9j8T3eCfnU"
      },
      "execution_count": 3,
      "outputs": []
    },
    {
      "cell_type": "code",
      "source": [
        "from kora.drive import upload_public\n",
        "# then display it\n",
        "from IPython.display import HTML\n",
        "\n",
        "\n",
        "import numpy as np\n",
        "import matplotlib.pyplot as plt\n",
        "import cv2\n",
        "import time\n",
        "\n"
      ],
      "metadata": {
        "id": "9UBzuk73DREO"
      },
      "execution_count": 7,
      "outputs": []
    },
    {
      "cell_type": "code",
      "source": [
        "from google.colab import drive\n",
        "drive.mount('/content/drive')"
      ],
      "metadata": {
        "id": "uw0rdSHaCnx2",
        "outputId": "5d1a5b0f-1e5d-4ed9-8ba9-0a6a90b6dfc3",
        "colab": {
          "base_uri": "https://localhost:8080/"
        }
      },
      "execution_count": 4,
      "outputs": [
        {
          "output_type": "stream",
          "name": "stdout",
          "text": [
            "Mounted at /content/drive\n"
          ]
        }
      ]
    },
    {
      "cell_type": "code",
      "execution_count": 14,
      "metadata": {
        "id": "eTaSKq_7CXej"
      },
      "outputs": [],
      "source": [
        "filename = \"archive\\WADADA .mp4\"\n",
        "filename = '/content/drive/MyDrive/152_478_AI_2564_2/video_data/WADADA .mp4'\n"
      ]
    },
    {
      "cell_type": "code",
      "execution_count": 15,
      "metadata": {
        "id": "O4UGXLVWCXek",
        "outputId": "9787f5e6-d374-4533-954a-ec818f3f442e",
        "colab": {
          "base_uri": "https://localhost:8080/"
        }
      },
      "outputs": [
        {
          "output_type": "stream",
          "name": "stdout",
          "text": [
            "Video read successful!\n",
            "Total frames: 7672\n",
            "width: 854\n",
            "height: 480\n",
            "fps: 29.97\n"
          ]
        }
      ],
      "source": [
        "# capture the video\n",
        "cap = cv2.VideoCapture(filename)\n",
        "\n",
        "# check if capture was successful\n",
        "if not cap.isOpened(): \n",
        "    print(\"Could not open!\")\n",
        "else:\n",
        "    print(\"Video read successful!\")\n",
        "    \n",
        "    total_frames = int(cap.get(cv2.CAP_PROP_FRAME_COUNT))\n",
        "    width        = int(cap.get(cv2.CAP_PROP_FRAME_WIDTH))\n",
        "    height       = int(cap.get(cv2.CAP_PROP_FRAME_HEIGHT))\n",
        "    fps          = cap.get(cv2.CAP_PROP_FPS)\n",
        "    \n",
        "    print('Total frames: ' + str(total_frames))\n",
        "    print('width: ' + str(width))\n",
        "    print('height: ' + str(height))\n",
        "    print('fps: ' + str(fps))"
      ]
    },
    {
      "cell_type": "code",
      "execution_count": 19,
      "metadata": {
        "id": "w-jyAviaCXel",
        "outputId": "f4b65fe2-2ef9-4cca-cb1e-f9902343a3a4",
        "colab": {
          "base_uri": "https://localhost:8080/",
          "height": 471
        }
      },
      "outputs": [
        {
          "output_type": "execute_result",
          "data": {
            "text/html": [
              "<video src=https://drive.google.com/uc?id=1zzShpZjAyzJllYRvXhFtKWj3_qehqfik width=800 controls/>"
            ],
            "text/plain": [
              "<IPython.core.display.HTML object>"
            ]
          },
          "metadata": {},
          "execution_count": 19
        }
      ],
      "source": [
        "url = upload_public(filename)\n",
        "HTML(f\"\"\"<video src={url} width=800 controls/>\"\"\")"
      ]
    },
    {
      "cell_type": "code",
      "source": [
        ""
      ],
      "metadata": {
        "id": "MnxIDLihEyHr"
      },
      "execution_count": null,
      "outputs": []
    }
  ],
  "metadata": {
    "interpreter": {
      "hash": "47113254f01db2a7e4001bb0ddcbee7f4720d5d28bc888fd9526880e7fe8fabf"
    },
    "kernelspec": {
      "display_name": "Python 3.9.7 ('torch')",
      "language": "python",
      "name": "python3"
    },
    "language_info": {
      "codemirror_mode": {
        "name": "ipython",
        "version": 3
      },
      "file_extension": ".py",
      "mimetype": "text/x-python",
      "name": "python",
      "nbconvert_exporter": "python",
      "pygments_lexer": "ipython3",
      "version": "3.9.7"
    },
    "orig_nbformat": 4,
    "colab": {
      "name": "a.ipynb",
      "provenance": []
    }
  },
  "nbformat": 4,
  "nbformat_minor": 0
}