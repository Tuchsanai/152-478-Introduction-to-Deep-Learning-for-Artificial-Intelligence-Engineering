{
  "cells": [
    {
      "cell_type": "code",
      "execution_count": 2,
      "metadata": {
        "id": "lIYdn1woOS1n"
      },
      "outputs": [],
      "source": [
        "import torch\n",
        "from skimage import io\n",
        "from skimage import io\n",
        "import matplotlib.pyplot as plt\n",
        "import cv2\n",
        "\n",
        "%matplotlib inline"
      ]
    },
    {
      "cell_type": "code",
      "execution_count": 2,
      "metadata": {
        "colab": {
          "base_uri": "https://localhost:8080/"
        },
        "id": "p0ZOi79v3ju8",
        "outputId": "a4462a9b-e8d2-4497-b4e8-b39d0693cdf4"
      },
      "outputs": [
        {
          "name": "stderr",
          "output_type": "stream",
          "text": [
            "Using cache found in /root/.cache/torch/hub/ultralytics_yolov5_master\n",
            "YOLOv5 🚀 2022-2-16 torch 1.10.0+cu111 CPU\n",
            "\n",
            "Fusing layers... \n",
            "Model Summary: 213 layers, 7225885 parameters, 0 gradients\n",
            "Adding AutoShape... \n"
          ]
        }
      ],
      "source": [
        "model = torch.hub.load('ultralytics/yolov5', 'yolov5s')  # or yolov5m, yolov5l, yolov5x, custom"
      ]
    },
    {
      "cell_type": "code",
      "execution_count": 50,
      "metadata": {},
      "outputs": [
        {
          "data": {
            "text/plain": [
              "'./archive/WADADA .mp4'"
            ]
          },
          "execution_count": 50,
          "metadata": {},
          "output_type": "execute_result"
        }
      ],
      "source": [
        "Path      = \"./archive/\"\n",
        "#Path      = \"/content/drive/MyDrive/152_478_AI_2564_2/video_data/\"    \n",
        "filename  = \"WADADA .mp4\"\n",
        "\n",
        "\n",
        "print(Path+filename)"
      ]
    },
    {
      "cell_type": "code",
      "execution_count": 51,
      "metadata": {},
      "outputs": [
        {
          "name": "stdout",
          "output_type": "stream",
          "text": [
            "Could not open!\n"
          ]
        }
      ],
      "source": [
        "# capture the video\n",
        "cap = cv2.VideoCapture(Path+filename)\n",
        "\n",
        "# check if capture was successful\n",
        "if not cap.isOpened(): \n",
        "    print(\"Could not open!\")\n",
        "else:\n",
        "    print(\"Video read successful!\")\n",
        "    \n",
        "    total_frames = int(cap.get(cv2.CAP_PROP_FRAME_COUNT))\n",
        "    width        = int(cap.get(cv2.CAP_PROP_FRAME_WIDTH))\n",
        "    height       = int(cap.get(cv2.CAP_PROP_FRAME_HEIGHT))\n",
        "    fps          = cap.get(cv2.CAP_PROP_FPS)\n",
        "    \n",
        "    print('Total frames: ' + str(total_frames))\n",
        "    print('width: ' + str(width))\n",
        "    print('height: ' + str(height))\n",
        "    print('fps: ' + str(fps))"
      ]
    },
    {
      "cell_type": "code",
      "execution_count": null,
      "metadata": {},
      "outputs": [],
      "source": []
    }
  ],
  "metadata": {
    "colab": {
      "include_colab_link": true,
      "name": "scratchpad",
      "provenance": []
    },
    "kernelspec": {
      "display_name": "Python 3",
      "name": "python3"
    },
    "language_info": {
      "codemirror_mode": {
        "name": "ipython",
        "version": 3
      },
      "file_extension": ".py",
      "mimetype": "text/x-python",
      "name": "python",
      "nbconvert_exporter": "python",
      "pygments_lexer": "ipython3",
      "version": "3.9.7"
    }
  },
  "nbformat": 4,
  "nbformat_minor": 0
}
