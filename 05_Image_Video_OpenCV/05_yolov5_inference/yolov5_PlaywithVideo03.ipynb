{
 "cells": [
  {
   "cell_type": "code",
   "execution_count": 1,
   "metadata": {},
   "outputs": [],
   "source": [
    "import torch\n",
    "from skimage import io\n",
    "from skimage import io\n",
    "import matplotlib.pyplot as plt\n",
    "import cv2\n",
    "\n",
    "%matplotlib inline"
   ]
  },
  {
   "cell_type": "code",
   "execution_count": null,
   "metadata": {},
   "outputs": [],
   "source": [
    "model = torch.hub.load('ultralytics/yolov5', 'yolov5s')  # or yolov5m, yolov5l, yolov5x, custom"
   ]
  },
  {
   "cell_type": "code",
   "execution_count": 7,
   "metadata": {},
   "outputs": [
    {
     "name": "stdout",
     "output_type": "stream",
     "text": [
      "archive/WADADA .mp4\n"
     ]
    }
   ],
   "source": [
    "Path      = \"archive/\"\n",
    "#Path      = \"/content/drive/MyDrive/152_478_AI_2564_2/video_data/\"    \n",
    "filename  = \"WADADA .mp4\"\n",
    "\n",
    "\n",
    "print(Path+filename)"
   ]
  },
  {
   "cell_type": "code",
   "execution_count": 8,
   "metadata": {},
   "outputs": [
    {
     "name": "stdout",
     "output_type": "stream",
     "text": [
      "Could not open!\n"
     ]
    }
   ],
   "source": [
    "# capture the video\n",
    "cap = cv2.VideoCapture(Path+filename)\n",
    "\n",
    "# check if capture was successful\n",
    "if not cap.isOpened(): \n",
    "    print(\"Could not open!\")\n",
    "else:\n",
    "    print(\"Video read successful!\")\n",
    "    \n",
    "    total_frames = int(cap.get(cv2.CAP_PROP_FRAME_COUNT))\n",
    "    width        = int(cap.get(cv2.CAP_PROP_FRAME_WIDTH))\n",
    "    height       = int(cap.get(cv2.CAP_PROP_FRAME_HEIGHT))\n",
    "    fps          = cap.get(cv2.CAP_PROP_FPS)\n",
    "    \n",
    "    print('Total frames: ' + str(total_frames))\n",
    "    print('width: ' + str(width))\n",
    "    print('height: ' + str(height))\n",
    "    print('fps: ' + str(fps))"
   ]
  },
  {
   "cell_type": "code",
   "execution_count": null,
   "metadata": {},
   "outputs": [],
   "source": [
    "savepath = \"\"\n",
    "savepath = \"/content/drive/MyDrive/152_478_AI_2564_2/video_data/\"\n",
    "savefile = 'Time_stamp_output.mp4'\n",
    "\n",
    "fourcc = cv2.VideoWriter_fourcc(*'MP4V')\n",
    "out    = cv2.VideoWriter(savepath+savefile, fourcc, fps, (width,height))\n",
    "    \n",
    "\n",
    "\n",
    "cap = cv2.VideoCapture(filename)\n",
    "\n",
    "\n",
    "for i in range(1000):\n",
    "\n",
    "    cap.set(cv2.CAP_PROP_POS_FRAMES, i)    \n",
    "\n",
    "   # Get the next frame, but don't decode if we're not using it.\n",
    "    success    = cap.grab()\n",
    "\n",
    "    ret, image = cap.retrieve()\n",
    "\n",
    "    if  ret :\n",
    "      duration = i/fps\n",
    "      text = f\"FrameNo {i} Time = {duration:.2f}\"\n",
    "\n",
    "      start_point = (20,height-30)\n",
    "      image = cv2.putText(image, text, start_point, cv2.FONT_HERSHEY_SIMPLEX, 0.5, (255, 255, 255), 1, cv2.LINE_AA, False)\n",
    "      out.write(image)\n",
    "\n",
    "\n",
    "    \n",
    "    if i%100 ==0 :\n",
    "        plt.figure(figsize=(10, 10))\n",
    "        plt.imshow(image)\n",
    "        plt.show()\n",
    "\n",
    "\n",
    "out.release()      \n",
    "cap.release()\n"
   ]
  }
 ],
 "metadata": {
  "interpreter": {
   "hash": "47113254f01db2a7e4001bb0ddcbee7f4720d5d28bc888fd9526880e7fe8fabf"
  },
  "kernelspec": {
   "display_name": "Python 3.9.7 ('torch')",
   "language": "python",
   "name": "python3"
  },
  "language_info": {
   "codemirror_mode": {
    "name": "ipython",
    "version": 3
   },
   "file_extension": ".py",
   "mimetype": "text/x-python",
   "name": "python",
   "nbconvert_exporter": "python",
   "pygments_lexer": "ipython3",
   "version": "3.9.7"
  },
  "orig_nbformat": 4
 },
 "nbformat": 4,
 "nbformat_minor": 2
}
