{
  "cells": [
    {
      "cell_type": "markdown",
      "metadata": {
        "id": "JyyMW0pX-Ofw"
      },
      "source": [
        "# Dictionaries \n",
        "\n",
        "\n",
        "Dictionary เป็น Datatype ชนิดหนึ่งของ Python ที่มีรูปแบบการจัดเก็บข้อมูลเป็น key กับ value\n",
        "\n",
        "<!--  -->\n",
        "<!--  -->"
      ]
    },
    {
      "cell_type": "markdown",
      "metadata": {},
      "source": [
        "การสร้าง dictionary แบบที่ 1"
      ]
    },
    {
      "cell_type": "code",
      "execution_count": 15,
      "metadata": {
        "colab": {
          "base_uri": "https://localhost:8080/"
        },
        "id": "tfbSUE68-ctm",
        "outputId": "cdfbc304-f19e-4d39-ebae-b7b268ba6daf"
      },
      "outputs": [
        {
          "data": {
            "text/plain": [
              "{'alien_name': 'ET01',\n",
              " 'alien_surname': 'Galaxy789',\n",
              " 'color': 'green',\n",
              " 'points': 500}"
            ]
          },
          "execution_count": 15,
          "metadata": {},
          "output_type": "execute_result"
        }
      ],
      "source": [
        "# A Simple dictionary (key, value paires) or items={key: value, ...}\n",
        "alien = {'alien_name' :\"ET01\",'alien_surname':'Galaxy789','color': 'green', 'points': 500}\n",
        "alien"
      ]
    },
    {
      "cell_type": "markdown",
      "metadata": {},
      "source": [
        "การสร้าง dictionary แบบที่ 2"
      ]
    },
    {
      "cell_type": "code",
      "execution_count": 11,
      "metadata": {},
      "outputs": [
        {
          "data": {
            "text/plain": [
              "{'alien_name': 'ET01',\n",
              " 'alien_surname': 'Galaxy789',\n",
              " 'color': 'green',\n",
              " 'points': 500}"
            ]
          },
          "execution_count": 11,
          "metadata": {},
          "output_type": "execute_result"
        }
      ],
      "source": [
        "alien = dict([ ['alien_name' ,'ET01'],\n",
        "               ['alien_surname','Galaxy789'],\n",
        "               ['color','green'], \n",
        "               ['points', 500]]\n",
        "            )\n",
        "\n",
        "alien"
      ]
    },
    {
      "cell_type": "code",
      "execution_count": 16,
      "metadata": {},
      "outputs": [
        {
          "data": {
            "text/plain": [
              "{'alien_name': 'ET01',\n",
              " 'alien_surname': 'Galaxy789',\n",
              " 'color': 'green',\n",
              " 'points': 500,\n",
              " 'age': 300,\n",
              " 'positon': [500, -100]}"
            ]
          },
          "execution_count": 16,
          "metadata": {},
          "output_type": "execute_result"
        }
      ],
      "source": [
        "alien['age'] = 300\n",
        "alien['positon'] = [500,-100]\n",
        "\n",
        "alien"
      ]
    },
    {
      "cell_type": "code",
      "execution_count": 17,
      "metadata": {
        "colab": {
          "base_uri": "https://localhost:8080/"
        },
        "id": "dJzWjEHf_KC6",
        "outputId": "eb10c711-8cc4-4da3-9ec2-94e856a4a334"
      },
      "outputs": [
        {
          "data": {
            "text/plain": [
              "dict_keys(['alien_name', 'alien_surname', 'color', 'points', 'age', 'positon'])"
            ]
          },
          "execution_count": 17,
          "metadata": {},
          "output_type": "execute_result"
        }
      ],
      "source": [
        "alien.keys()"
      ]
    },
    {
      "cell_type": "code",
      "execution_count": 18,
      "metadata": {
        "colab": {
          "base_uri": "https://localhost:8080/"
        },
        "id": "MvvLcv1i_QbM",
        "outputId": "d2e2f262-7bdf-4af1-8c3f-12b0ae12e09b"
      },
      "outputs": [
        {
          "data": {
            "text/plain": [
              "dict_values(['ET01', 'Galaxy789', 'green', 500, 300, [500, -100]])"
            ]
          },
          "execution_count": 18,
          "metadata": {},
          "output_type": "execute_result"
        }
      ],
      "source": [
        "alien.values()"
      ]
    },
    {
      "cell_type": "code",
      "execution_count": 13,
      "metadata": {
        "colab": {
          "base_uri": "https://localhost:8080/"
        },
        "id": "Htm7Zfs_-hAA",
        "outputId": "808c4107-475b-464a-92b5-b61aa8821ad2"
      },
      "outputs": [
        {
          "name": "stdout",
          "output_type": "stream",
          "text": [
            "The alien's color isgreen\n"
          ]
        }
      ],
      "source": [
        "# Access a value\n",
        "print(\"The alien's color is\" + alien['color'])"
      ]
    },
    {
      "cell_type": "code",
      "execution_count": 8,
      "metadata": {
        "colab": {
          "base_uri": "https://localhost:8080/"
        },
        "id": "Q7qePT4u--sy",
        "outputId": "99e3659d-a36c-457e-dc6c-fb396c65a302"
      },
      "outputs": [
        {
          "name": "stdout",
          "output_type": "stream",
          "text": [
            "alien_name : ET01\n",
            "alien_surname : Galaxy789\n",
            "color : green\n",
            "points : 500\n"
          ]
        }
      ],
      "source": [
        "for key in alien:\n",
        "    print(key,\":\",alien[key])\n",
        "    "
      ]
    },
    {
      "cell_type": "code",
      "execution_count": 12,
      "metadata": {},
      "outputs": [
        {
          "name": "stdout",
          "output_type": "stream",
          "text": [
            "alien_name : ET01\n",
            "alien_surname : Galaxy789\n",
            "color : green\n",
            "points : 500\n"
          ]
        }
      ],
      "source": [
        "for key,item in alien.items():\n",
        "    print(key,\":\",item)\n",
        "    \n",
        "\n"
      ]
    },
    {
      "cell_type": "markdown",
      "metadata": {
        "id": "YONe0Z-Fwl5l"
      },
      "source": [
        "## Function"
      ]
    },
    {
      "cell_type": "code",
      "execution_count": 15,
      "metadata": {
        "colab": {
          "base_uri": "https://localhost:8080/"
        },
        "id": "NeOwoSJAOGC4",
        "outputId": "823e387b-fac0-4c24-99a3-e9a600b3cd65"
      },
      "outputs": [
        {
          "name": "stdout",
          "output_type": "stream",
          "text": [
            "please insert integer9\n"
          ]
        }
      ],
      "source": [
        "a = input('please insert integer')"
      ]
    },
    {
      "cell_type": "code",
      "execution_count": 16,
      "metadata": {
        "colab": {
          "base_uri": "https://localhost:8080/",
          "height": 35
        },
        "id": "rq_ItItCOSkU",
        "outputId": "e94d7bce-8119-4246-9b1f-4e77d108695a"
      },
      "outputs": [
        {
          "data": {
            "application/vnd.google.colaboratory.intrinsic+json": {
              "type": "string"
            },
            "text/plain": [
              "'9'"
            ]
          },
          "execution_count": 16,
          "metadata": {},
          "output_type": "execute_result"
        }
      ],
      "source": [
        "a"
      ]
    },
    {
      "cell_type": "markdown",
      "metadata": {
        "id": "4xjbbWxaQ521"
      },
      "source": [
        "#### ทดสอบ Error"
      ]
    },
    {
      "cell_type": "code",
      "execution_count": 17,
      "metadata": {
        "colab": {
          "base_uri": "https://localhost:8080/",
          "height": 166
        },
        "id": "cJjXNLQKQ521",
        "outputId": "8c564731-5fe1-4441-b222-62c0d5034b75"
      },
      "outputs": [
        {
          "ename": "TypeError",
          "evalue": "ignored",
          "output_type": "error",
          "traceback": [
            "\u001b[0;31m---------------------------------------------------------------------------\u001b[0m",
            "\u001b[0;31mTypeError\u001b[0m                                 Traceback (most recent call last)",
            "\u001b[0;32m<ipython-input-17-62ad895bdfa8>\u001b[0m in \u001b[0;36m<module>\u001b[0;34m()\u001b[0m\n\u001b[0;32m----> 1\u001b[0;31m \u001b[0ma\u001b[0m\u001b[0;34m+\u001b[0m\u001b[0;36m10\u001b[0m\u001b[0;34m\u001b[0m\u001b[0;34m\u001b[0m\u001b[0m\n\u001b[0m",
            "\u001b[0;31mTypeError\u001b[0m: can only concatenate str (not \"int\") to str"
          ]
        }
      ],
      "source": [
        "a+10"
      ]
    },
    {
      "cell_type": "markdown",
      "metadata": {
        "id": "TAS5dxkpQ521"
      },
      "source": [
        "##### ต้องแปลงจาก string เป็น integer"
      ]
    },
    {
      "cell_type": "code",
      "execution_count": 18,
      "metadata": {
        "colab": {
          "base_uri": "https://localhost:8080/"
        },
        "id": "RIjWerVoOj_c",
        "outputId": "fb8fc15b-40ba-4cc8-8896-dc2d6382d1da"
      },
      "outputs": [
        {
          "data": {
            "text/plain": [
              "10"
            ]
          },
          "execution_count": 18,
          "metadata": {},
          "output_type": "execute_result"
        }
      ],
      "source": [
        "int(a)+1"
      ]
    },
    {
      "cell_type": "code",
      "execution_count": 19,
      "metadata": {
        "id": "qqS29xz1Q522"
      },
      "outputs": [],
      "source": [
        "def addone(x):\n",
        "  return x+1\n",
        "\n",
        "\n"
      ]
    },
    {
      "cell_type": "code",
      "execution_count": 20,
      "metadata": {
        "colab": {
          "base_uri": "https://localhost:8080/"
        },
        "id": "8jmzNTvsQ522",
        "outputId": "6f4db481-3f5f-483c-ea36-eb25308b10aa"
      },
      "outputs": [
        {
          "data": {
            "text/plain": [
              "10"
            ]
          },
          "execution_count": 20,
          "metadata": {},
          "output_type": "execute_result"
        }
      ],
      "source": [
        "addone( int(a))"
      ]
    },
    {
      "cell_type": "code",
      "execution_count": 21,
      "metadata": {
        "id": "I6BIfxe4d1wG"
      },
      "outputs": [],
      "source": [
        "def hellofriend():\n",
        "  namefriend = input('Please insert your name.\\n')\n",
        "  output = 'hello '+namefriend + '!'\n",
        "  return output"
      ]
    },
    {
      "cell_type": "code",
      "execution_count": 22,
      "metadata": {
        "colab": {
          "base_uri": "https://localhost:8080/",
          "height": 70
        },
        "id": "YwqwfXukfltJ",
        "outputId": "15059436-ea40-4e33-90ea-a636b6f28949"
      },
      "outputs": [
        {
          "name": "stdout",
          "output_type": "stream",
          "text": [
            "Please insert your name.\n",
            "hello\n"
          ]
        },
        {
          "data": {
            "application/vnd.google.colaboratory.intrinsic+json": {
              "type": "string"
            },
            "text/plain": [
              "'hello hello!'"
            ]
          },
          "execution_count": 22,
          "metadata": {},
          "output_type": "execute_result"
        }
      ],
      "source": [
        "hellofriend()"
      ]
    },
    {
      "cell_type": "code",
      "execution_count": 23,
      "metadata": {
        "colab": {
          "base_uri": "https://localhost:8080/"
        },
        "id": "H605Gp_D9YUW",
        "outputId": "9bcf7e92-a60e-4156-e69f-fcc8245ab643"
      },
      "outputs": [
        {
          "data": {
            "text/plain": [
              "['hello', <function __main__.hellofriend>, 3, 4, 5, 6]"
            ]
          },
          "execution_count": 23,
          "metadata": {},
          "output_type": "execute_result"
        }
      ],
      "source": [
        "x = ['hello',hellofriend,3,4,5,6]\n",
        "x"
      ]
    },
    {
      "cell_type": "code",
      "execution_count": 24,
      "metadata": {
        "colab": {
          "base_uri": "https://localhost:8080/",
          "height": 35
        },
        "id": "6jnIQNHy9lNp",
        "outputId": "846a7dcd-4eea-4297-966e-3a44ee996c3a"
      },
      "outputs": [
        {
          "data": {
            "application/vnd.google.colaboratory.intrinsic+json": {
              "type": "string"
            },
            "text/plain": [
              "'hello'"
            ]
          },
          "execution_count": 24,
          "metadata": {},
          "output_type": "execute_result"
        }
      ],
      "source": [
        "x[0]"
      ]
    },
    {
      "cell_type": "code",
      "execution_count": 25,
      "metadata": {
        "colab": {
          "base_uri": "https://localhost:8080/"
        },
        "id": "7buCCU1Y9pCD",
        "outputId": "10225230-ab9a-46a4-cbd0-b88c1e24cdc6"
      },
      "outputs": [
        {
          "data": {
            "text/plain": [
              "<function __main__.hellofriend>"
            ]
          },
          "execution_count": 25,
          "metadata": {},
          "output_type": "execute_result"
        }
      ],
      "source": [
        "x[1]"
      ]
    },
    {
      "cell_type": "code",
      "execution_count": 27,
      "metadata": {
        "colab": {
          "base_uri": "https://localhost:8080/",
          "height": 70
        },
        "id": "5XpRsoDC9rne",
        "outputId": "fe1872db-6d7e-4866-f211-58aaa0188634"
      },
      "outputs": [
        {
          "name": "stdout",
          "output_type": "stream",
          "text": [
            "Please insert your name.\n",
            "9\n"
          ]
        },
        {
          "data": {
            "application/vnd.google.colaboratory.intrinsic+json": {
              "type": "string"
            },
            "text/plain": [
              "'hello 9!'"
            ]
          },
          "execution_count": 27,
          "metadata": {},
          "output_type": "execute_result"
        }
      ],
      "source": [
        "x[1]()"
      ]
    },
    {
      "cell_type": "markdown",
      "metadata": {
        "id": "3qhZeGeykTTh"
      },
      "source": [
        "**Expressions**"
      ]
    },
    {
      "cell_type": "code",
      "execution_count": null,
      "metadata": {
        "colab": {
          "base_uri": "https://localhost:8080/",
          "height": 119
        },
        "id": "giEzzFDtjs67",
        "outputId": "f88ab15d-2283-4954-c6f2-a6b961cf2a75"
      },
      "outputs": [
        {
          "name": "stdout",
          "output_type": "stream",
          "text": [
            "True\n",
            "False\n",
            "False\n",
            "True\n",
            "False\n",
            "True\n"
          ]
        }
      ],
      "source": [
        "x = 5\n",
        "y = 5\n",
        "print(x == y)\n",
        "print(x != y)\n",
        "print(x < y)\n",
        "print(x <=y)\n",
        "print(x > y)\n",
        "print(x >= y)"
      ]
    },
    {
      "cell_type": "code",
      "execution_count": null,
      "metadata": {
        "id": "dasupu_pwpDj"
      },
      "outputs": [],
      "source": [
        "x = 5\n",
        "y = 5\n",
        "z = 2\n"
      ]
    },
    {
      "cell_type": "code",
      "execution_count": null,
      "metadata": {
        "colab": {
          "base_uri": "https://localhost:8080/",
          "height": 34
        },
        "id": "NhNLgQjGtvxN",
        "outputId": "852e150d-1e6b-4a56-b247-f773a7184b4d"
      },
      "outputs": [
        {
          "data": {
            "text/plain": [
              "True"
            ]
          },
          "execution_count": 46,
          "metadata": {},
          "output_type": "execute_result"
        }
      ],
      "source": [
        "x = 5\n",
        "y = 4\n",
        "x = y\n",
        "x == y\n"
      ]
    },
    {
      "cell_type": "code",
      "execution_count": null,
      "metadata": {
        "colab": {
          "base_uri": "https://localhost:8080/",
          "height": 34
        },
        "id": "DntxexKjxmjr",
        "outputId": "3bad4952-6ace-4bb8-ff8e-be883ea824d3"
      },
      "outputs": [
        {
          "data": {
            "text/plain": [
              "True"
            ]
          },
          "execution_count": 47,
          "metadata": {},
          "output_type": "execute_result"
        }
      ],
      "source": [
        "x = [1,2,3,4,5]\n",
        "(6 in x) | (x[0]<5)"
      ]
    },
    {
      "cell_type": "code",
      "execution_count": null,
      "metadata": {
        "colab": {
          "base_uri": "https://localhost:8080/",
          "height": 102
        },
        "id": "3NhPbHK4kpFt",
        "outputId": "a0d39060-a65c-43f6-c063-d06eaacc72aa"
      },
      "outputs": [
        {
          "name": "stdout",
          "output_type": "stream",
          "text": [
            "True\n",
            "True\n",
            "False\n",
            "True\n",
            "False\n"
          ]
        }
      ],
      "source": [
        "x = [1,2,3,4,5]\n",
        "print(1 in x)\n",
        "print(len(x)<=10)\n",
        "print(len(x)>=10)\n",
        "print(sum(x)<=100)\n",
        "print(sum(x)>=100)"
      ]
    },
    {
      "cell_type": "code",
      "execution_count": null,
      "metadata": {
        "colab": {
          "base_uri": "https://localhost:8080/",
          "height": 34
        },
        "id": "aOfV-5oJmTjV",
        "outputId": "383844fc-3756-4fb1-b011-23e4ddc7ddfc"
      },
      "outputs": [
        {
          "data": {
            "text/plain": [
              "True"
            ]
          },
          "execution_count": 49,
          "metadata": {},
          "output_type": "execute_result"
        }
      ],
      "source": [
        "x = 'taoshinjuku'\n",
        "y = 'tao'\n",
        "x[0:3] == y"
      ]
    },
    {
      "cell_type": "markdown",
      "metadata": {
        "id": "30gm5cS2lxI5"
      },
      "source": [
        "**Condition**"
      ]
    },
    {
      "cell_type": "code",
      "execution_count": null,
      "metadata": {
        "colab": {
          "base_uri": "https://localhost:8080/",
          "height": 34
        },
        "id": "NVeBA9qyl0Fe",
        "outputId": "c32d5332-2b75-4ab6-9d7f-c954ac01cdcd"
      },
      "outputs": [
        {
          "name": "stdout",
          "output_type": "stream",
          "text": [
            "good bye\n"
          ]
        }
      ],
      "source": [
        "x = 3\n",
        "y = 2\n",
        "if x < y:\n",
        "  print('hello')\n",
        "else:\n",
        "  print('good bye')"
      ]
    },
    {
      "cell_type": "code",
      "execution_count": null,
      "metadata": {
        "colab": {
          "base_uri": "https://localhost:8080/",
          "height": 34
        },
        "id": "IOkYt5cEyviP",
        "outputId": "009c4b0c-0c55-454d-e946-9ad29aac5111"
      },
      "outputs": [
        {
          "name": "stdout",
          "output_type": "stream",
          "text": [
            "who are you?\n"
          ]
        }
      ],
      "source": [
        "x = 'taoshinjuku'\n",
        "y = 'taorama9'\n",
        "if x[0:4] == y [0:4]:\n",
        "  print('hey we have common names')\n",
        "else:\n",
        "  print('who are you?')"
      ]
    },
    {
      "cell_type": "code",
      "execution_count": null,
      "metadata": {
        "colab": {
          "base_uri": "https://localhost:8080/",
          "height": 51
        },
        "id": "lPB_yQfczVli",
        "outputId": "bbf32baa-8701-4820-9444-0913bf64d8a9"
      },
      "outputs": [
        {
          "name": "stdout",
          "output_type": "stream",
          "text": [
            "False\n"
          ]
        },
        {
          "data": {
            "text/plain": [
              "1"
            ]
          },
          "execution_count": 52,
          "metadata": {},
          "output_type": "execute_result"
        }
      ],
      "source": [
        "x = 1\n",
        "y = 2\n",
        "print(x == y)\n",
        "x"
      ]
    },
    {
      "cell_type": "code",
      "execution_count": null,
      "metadata": {
        "id": "mlKQc7hCmL7r"
      },
      "outputs": [],
      "source": [
        "def howmuch():\n",
        "  mywallet = 100\n",
        "  pricetag = input('how much is that thing?\\n')\n",
        "  pricetag = int(pricetag)\n",
        "  if mywallet < pricetag:\n",
        "    return \"Sorry, may be next time.\"\n",
        "  else:\n",
        "    return \"Could I have one, please.\""
      ]
    },
    {
      "cell_type": "code",
      "execution_count": null,
      "metadata": {
        "colab": {
          "base_uri": "https://localhost:8080/",
          "height": 68
        },
        "id": "EIosR5m6mx_K",
        "outputId": "c9379695-8243-4d87-8a6a-567652ec367f"
      },
      "outputs": [
        {
          "name": "stdout",
          "output_type": "stream",
          "text": [
            "how much is that thing?\n",
            " 12\n"
          ]
        },
        {
          "data": {
            "text/plain": [
              "'Could I have one, please.'"
            ]
          },
          "execution_count": 55,
          "metadata": {},
          "output_type": "execute_result"
        }
      ],
      "source": [
        "howmuch()"
      ]
    },
    {
      "cell_type": "code",
      "execution_count": null,
      "metadata": {
        "id": "0EMzGCgx0DS8"
      },
      "outputs": [],
      "source": []
    },
    {
      "cell_type": "markdown",
      "metadata": {
        "id": "Kuo525g6u6QQ"
      },
      "source": [
        "**for LOOP**"
      ]
    },
    {
      "cell_type": "code",
      "execution_count": null,
      "metadata": {
        "colab": {
          "base_uri": "https://localhost:8080/",
          "height": 272
        },
        "id": "ypd_YO-Z0dI3",
        "outputId": "e78d4193-a876-44c0-ad84-32ae406daecc"
      },
      "outputs": [
        {
          "name": "stdout",
          "output_type": "stream",
          "text": [
            "1\n",
            "สวัสดีชาวโลก\n"
          ]
        },
        {
          "name": "stdout",
          "output_type": "stream",
          "text": [
            " \n"
          ]
        },
        {
          "name": "stdout",
          "output_type": "stream",
          "text": [
            "2\n",
            "สวัสดีชาวโลก\n"
          ]
        },
        {
          "name": "stdout",
          "output_type": "stream",
          "text": [
            " \n"
          ]
        },
        {
          "name": "stdout",
          "output_type": "stream",
          "text": [
            "3\n",
            "สวัสดีชาวโลก\n"
          ]
        },
        {
          "name": "stdout",
          "output_type": "stream",
          "text": [
            " \n"
          ]
        },
        {
          "name": "stdout",
          "output_type": "stream",
          "text": [
            "4\n",
            "สวัสดีชาวโลก\n"
          ]
        },
        {
          "name": "stdout",
          "output_type": "stream",
          "text": [
            " \n"
          ]
        },
        {
          "name": "stdout",
          "output_type": "stream",
          "text": [
            "5\n",
            "สวัสดีชาวโลก\n"
          ]
        },
        {
          "name": "stdout",
          "output_type": "stream",
          "text": [
            " \n"
          ]
        }
      ],
      "source": [
        "for i in [1,2,3,4,5]:\n",
        "  print(i)\n",
        "  print('สวัสดีชาวโลก')\n",
        "  input()"
      ]
    },
    {
      "cell_type": "code",
      "execution_count": null,
      "metadata": {
        "id": "B-0Me9-X1Fvs"
      },
      "outputs": [],
      "source": [
        "namelist = ['winn','tao','arm','met','pint','wan','worachai','bee','wasunee']\n",
        "countname = 0\n",
        "for name in namelist:\n",
        "  print(name)\n",
        "  nameinitial = name[0]\n",
        "  print(nameinitial)\n",
        "  if nameinitial == 'w':\n",
        "    print('name initial is \"w\"')\n",
        "    print(countname)\n",
        "    countname = countname + 1\n",
        "    print('countname has been increased')\n",
        "    print(countname)\n",
        "  input()\n"
      ]
    },
    {
      "cell_type": "markdown",
      "metadata": {
        "id": "R9x1MSAdr89h"
      },
      "source": [
        "**while LOOP**"
      ]
    },
    {
      "cell_type": "code",
      "execution_count": null,
      "metadata": {
        "colab": {
          "base_uri": "https://localhost:8080/",
          "height": 187
        },
        "id": "ZH4T9XUAr7vV",
        "outputId": "75c7c5df-ebdc-41a6-85f4-06305508fc80"
      },
      "outputs": [
        {
          "name": "stdout",
          "output_type": "stream",
          "text": [
            "0\n",
            "1\n",
            "2\n",
            "3\n",
            "4\n",
            "5\n",
            "6\n",
            "7\n",
            "8\n",
            "9\n"
          ]
        }
      ],
      "source": [
        "i = 0\n",
        "while i < 10:\n",
        "  print(i)\n",
        "  i = i + 1\n"
      ]
    },
    {
      "cell_type": "code",
      "execution_count": null,
      "metadata": {
        "colab": {
          "base_uri": "https://localhost:8080/",
          "height": 51
        },
        "id": "SPqJNaelqAHH",
        "outputId": "4314c35c-3c0f-4a7b-89cd-4d1bf01fedce"
      },
      "outputs": [
        {
          "name": "stdout",
          "output_type": "stream",
          "text": [
            "<class 'str'>\n",
            "<class 'int'>\n"
          ]
        }
      ],
      "source": [
        "a='10'\n",
        "print(type(a))\n",
        "a = int(a)\n",
        "print(type(a))"
      ]
    },
    {
      "cell_type": "code",
      "execution_count": null,
      "metadata": {
        "colab": {
          "base_uri": "https://localhost:8080/",
          "height": 187
        },
        "id": "pDHiEg8gu9tr",
        "outputId": "fdd01dfe-dda2-4a04-a731-0c0f261df715"
      },
      "outputs": [
        {
          "name": "stdout",
          "output_type": "stream",
          "text": [
            "2\n",
            "hi1\n",
            "4\n",
            "5\n",
            "6\n",
            "7\n",
            "8\n",
            "9\n",
            "10\n",
            "11\n"
          ]
        }
      ],
      "source": [
        "a = [1,'hi',3,4,5,6,7,[1,2],8,9,10]\n",
        "for i in a:\n",
        "  typei = type(i)\n",
        "  if typei == int:\n",
        "    print(i+1)\n",
        "  elif typei == str:\n",
        "    print(i+str(1))\n",
        "  else:\n",
        "    pass\n",
        "  #print('hello world!')"
      ]
    },
    {
      "cell_type": "code",
      "execution_count": null,
      "metadata": {
        "colab": {
          "base_uri": "https://localhost:8080/",
          "height": 34
        },
        "id": "xH12mc0dvbDo",
        "outputId": "2bd21b22-902b-404f-cba0-23888af13c8d"
      },
      "outputs": [
        {
          "data": {
            "text/plain": [
              "['choco_added', 'coffee_added', 'milk_added']"
            ]
          },
          "execution_count": 51,
          "metadata": {},
          "output_type": "execute_result"
        }
      ],
      "source": [
        "def checkproduct(product):\n",
        "  return product+'_added'\n",
        "\n",
        "productList = ['choco','coffee','milk']\n",
        "outputList = []\n",
        "\n",
        "for product in productList:\n",
        "  output = checkproduct(product)\n",
        "  outputList.append(output)\n",
        "outputList"
      ]
    },
    {
      "cell_type": "markdown",
      "metadata": {
        "id": "nOOhqWe2xrWR"
      },
      "source": [
        "**Function**"
      ]
    },
    {
      "cell_type": "code",
      "execution_count": null,
      "metadata": {
        "id": "L-rs_u2b_CTD"
      },
      "outputs": [],
      "source": [
        "def addonetonum(num):\n",
        "  output = num + 1\n",
        "  return output"
      ]
    },
    {
      "cell_type": "code",
      "execution_count": null,
      "metadata": {
        "colab": {
          "base_uri": "https://localhost:8080/",
          "height": 34
        },
        "id": "iOJZXyy9_uQn",
        "outputId": "8d2b3027-2117-4066-8fee-50239bc74b2d"
      },
      "outputs": [
        {
          "data": {
            "text/plain": [
              "30"
            ]
          },
          "execution_count": 53,
          "metadata": {},
          "output_type": "execute_result"
        }
      ],
      "source": [
        "def sumtwonumbers(num1,num2):\n",
        "  output = num1 + num2\n",
        "  return output\n",
        "\n",
        "sumtwonumbers(10,20)"
      ]
    },
    {
      "cell_type": "markdown",
      "metadata": {
        "id": "amsEGczd1LQR"
      },
      "source": [
        "**Exercise**"
      ]
    },
    {
      "cell_type": "markdown",
      "metadata": {
        "id": "dKr0LMUPGTyx"
      },
      "source": [
        "ให้สร้าง เงื่อนไข รักสามเศร้า เลือกรักใครได้แค่คนเดียว\n",
        "\n",
        "โดยรับ Input เป็นชื่อ\n",
        "\n",
        "หากเป็นชื่อ โกแฮรี ให้บอกว่า ผมรักคุณ\n",
        "\n",
        "หากเป็นชื่อ ลำยอง ให้บอกว่า\n",
        "เราเป็นได้แค่พี่น้อง\n",
        "\n",
        "หากเป็นชื่อ อื่นๆ ให้บอกว่า ผมไม่รู้จักคุณ"
      ]
    },
    {
      "cell_type": "code",
      "execution_count": null,
      "metadata": {
        "id": "COdwIOz4GTYJ"
      },
      "outputs": [],
      "source": [
        "def trianglelove(name):\n",
        "  if name == 'โกแฮรี':\n",
        "    return 'ผมรักคุณ'\n",
        "  elif name == 'ลำยอง':\n",
        "    return 'เราเป็นได้แค่พี่น้อง'\n",
        "  else:\n",
        "    return 'ผมไม่รู้จักคุณ'\n"
      ]
    },
    {
      "cell_type": "code",
      "execution_count": null,
      "metadata": {
        "colab": {
          "base_uri": "https://localhost:8080/",
          "height": 34
        },
        "id": "atxdmaC-Qpuw",
        "outputId": "4df34498-c2dc-41c1-f1f1-e080a02484ad"
      },
      "outputs": [
        {
          "data": {
            "text/plain": [
              "'ผมไม่รู้จักคุณ'"
            ]
          },
          "execution_count": 64,
          "metadata": {},
          "output_type": "execute_result"
        }
      ],
      "source": [
        "trianglelove('เต๋า')"
      ]
    },
    {
      "cell_type": "markdown",
      "metadata": {
        "id": "pxgapIReKO-a"
      },
      "source": [
        "ให้เขียน function รับค่าตัวเลขเข้ามา 2 ตัว \n",
        "แล้วให้หาผลรวมทั้งหมดระหว่างค่าของตัวเลขทั้ง 2 ตัวนั้น\n",
        "อย่างเช่น \n",
        "f(a,b) เมื่อ a=2, b=4\n",
        "ผลลัพธ์ที่ได้จาก function นี้จะต้องได้เท่ากับ 9 ซึ่งมาจาก 2+3+4\n",
        "หรือ\n",
        " f(a,b) เมื่อ a=5, b=1\n",
        "ผลลัพธ์ที่ได้จาก function นี้จะต้องได้เท่ากับ 15 ซึ่งมาจาก 1+2+3+4+5"
      ]
    },
    {
      "cell_type": "code",
      "execution_count": null,
      "metadata": {
        "id": "L4EdsChiJ7XB"
      },
      "outputs": [],
      "source": [
        "def getsumofallnumberbetween(num1,num2):\n",
        "  if num1 > num2:\n",
        "    num1, num2 = num2, num1\n",
        "  sumnum = 0\n",
        "  for num in range(num1,num2+1):\n",
        "    sumnum = sumnum + num\n",
        "    #print(num)\n",
        "  return sumnum"
      ]
    },
    {
      "cell_type": "code",
      "execution_count": null,
      "metadata": {
        "colab": {
          "base_uri": "https://localhost:8080/",
          "height": 34
        },
        "id": "mSaoFf6ORGPY",
        "outputId": "cf7cb2d9-6a76-4c5f-db0c-d6b44734fe65"
      },
      "outputs": [
        {
          "data": {
            "text/plain": [
              "55"
            ]
          },
          "execution_count": 68,
          "metadata": {},
          "output_type": "execute_result"
        }
      ],
      "source": [
        "getsumofallnumberbetween(1,10)"
      ]
    },
    {
      "cell_type": "markdown",
      "metadata": {
        "id": "Ix1UXbs-HEaR"
      },
      "source": [
        "จงเขียนฟังก์ชั่นหาค่าตัวเลขที่น้อยที่สุดใน LIST \n",
        "\n"
      ]
    },
    {
      "cell_type": "code",
      "execution_count": null,
      "metadata": {
        "id": "cNzSGx7YKjN5"
      },
      "outputs": [],
      "source": [
        "def getsmallestnuminlist(numList):\n",
        "  smallestnum = 100000000000000\n",
        "  for num in numList:\n",
        "    if type(num)==str:\n",
        "      continue\n",
        "    if num < smallestnum:\n",
        "      smallestnum = num\n",
        "\n",
        "  return smallestnum"
      ]
    },
    {
      "cell_type": "code",
      "execution_count": null,
      "metadata": {
        "colab": {
          "base_uri": "https://localhost:8080/",
          "height": 34
        },
        "id": "FYEXlP3wSpVK",
        "outputId": "532f9fb1-a659-468e-af8b-4ef92c1fa5f2"
      },
      "outputs": [
        {
          "data": {
            "text/plain": [
              "-1"
            ]
          },
          "execution_count": 70,
          "metadata": {},
          "output_type": "execute_result"
        }
      ],
      "source": [
        "numList = [10,5,0,21,412,'df',2,123,123,-1,29]\n",
        "getsmallestnuminlist(numList)"
      ]
    },
    {
      "cell_type": "markdown",
      "metadata": {
        "id": "GMdfInK6KxAI"
      },
      "source": [
        "จงเขียนฟังก์ชันที่สกัดตัวเลขที่หาร 2 ลงตัว รับ input เป็น list"
      ]
    },
    {
      "cell_type": "code",
      "execution_count": null,
      "metadata": {
        "id": "zf1jpS8vK5KZ"
      },
      "outputs": [],
      "source": [
        "def getevennum(numList):\n",
        "  evenList = []\n",
        "  for num in numList:\n",
        "    if num%3 == 0:\n",
        "      evenList.append(num)\n",
        "  return evenList"
      ]
    },
    {
      "cell_type": "code",
      "execution_count": null,
      "metadata": {
        "colab": {
          "base_uri": "https://localhost:8080/",
          "height": 34
        },
        "id": "uIdmnNRfUB06",
        "outputId": "b30a04b5-7ee5-4a82-d7b1-d0a2acf54550"
      },
      "outputs": [
        {
          "data": {
            "text/plain": [
              "[3, 6, 9]"
            ]
          },
          "execution_count": 72,
          "metadata": {},
          "output_type": "execute_result"
        }
      ],
      "source": [
        "getevennum([1,2,3,4,5,6,7,8,9,10])"
      ]
    },
    {
      "cell_type": "markdown",
      "metadata": {
        "id": "m9l-34ug5Obr"
      },
      "source": [
        "1. จงหาผลรวมของตัวเลขที่อยู่ใน alist (ให้รวมตัวเลขที่เป็น format string ด้วย)"
      ]
    },
    {
      "cell_type": "code",
      "execution_count": null,
      "metadata": {
        "colab": {
          "base_uri": "https://localhost:8080/",
          "height": 34
        },
        "id": "gxWaFuHS5NB_",
        "outputId": "6ddff9fe-f895-4dc5-9d75-33fd5dd27ff6"
      },
      "outputs": [
        {
          "data": {
            "text/plain": [
              "55"
            ]
          },
          "execution_count": 73,
          "metadata": {},
          "output_type": "execute_result"
        }
      ],
      "source": [
        "alist = ['hello',1,'b','2',4,1,'how',5,2,10,'are','you',4,3,'2','1','20']\n",
        "def sumnum():\n",
        "  result = 0\n",
        "  for a in alist:\n",
        "    if type(a)==int:\n",
        "      result = result + a\n",
        "    elif type(a)==str:\n",
        "      try:\n",
        "        a = int(a)\n",
        "        result = result + a\n",
        "      except:\n",
        "        pass\n",
        "      else:\n",
        "        pass\n",
        "  return result\n",
        "sumnum()"
      ]
    },
    {
      "cell_type": "markdown",
      "metadata": {
        "id": "H2rJ9GYo6Man"
      },
      "source": [
        "2. จงเขียนฟังก์ชั่นหาค่าตัวเลขที่สูงที่สุดใน \n",
        "\n",
        "*   List item\n",
        "*   List item\n",
        "\n",
        "alist\n",
        "\n"
      ]
    },
    {
      "cell_type": "code",
      "execution_count": null,
      "metadata": {
        "colab": {
          "base_uri": "https://localhost:8080/",
          "height": 198
        },
        "id": "XTe5KN1U5NXz",
        "outputId": "20fae738-a617-4a29-bcbc-cc90eccaeb81"
      },
      "outputs": [
        {
          "data": {
            "text/plain": [
              "400"
            ]
          },
          "execution_count": 74,
          "metadata": {},
          "output_type": "execute_result"
        }
      ],
      "source": [
        "alist = [1,5,2,10,2,5,3,2,6,0,20,84,20,10,4,23,294,400,290,10]\n",
        "def getmax():\n",
        "  maxval = -1\n",
        "  for a in alist:\n",
        "    if a > maxval:\n",
        "      maxval = a\n",
        "  return maxval\n",
        "getmax()"
      ]
    },
    {
      "cell_type": "markdown",
      "metadata": {
        "id": "65ZEf0_K60JG"
      },
      "source": [
        "3. จงเขียนฟังก์ชันหาตำแหน่งของตัวเลขที่น้อยที่สุดใน alist"
      ]
    },
    {
      "cell_type": "code",
      "execution_count": null,
      "metadata": {
        "colab": {
          "base_uri": "https://localhost:8080/",
          "height": 34
        },
        "id": "CxrCxzoY5NiQ",
        "outputId": "de664738-362a-4009-99d6-82fad1ebcf49"
      },
      "outputs": [
        {
          "data": {
            "text/plain": [
              "9"
            ]
          },
          "execution_count": 75,
          "metadata": {},
          "output_type": "execute_result"
        }
      ],
      "source": [
        "alist = [1,5,2,10,2,5,3,2,6,0,20,84,20,10,4,23,294,400,290,10]\n",
        "def getminpos():\n",
        "  minval = 10000\n",
        "  minind = 0\n",
        "  for i in range(len(alist)):\n",
        "    #print(i)\n",
        "    numbi = alist[i]\n",
        "    if numbi < minval:\n",
        "      minval = numbi\n",
        "      minind = i\n",
        "  return minind\n",
        "getminpos()"
      ]
    },
    {
      "cell_type": "code",
      "execution_count": null,
      "metadata": {
        "id": "8q50G4nKDANG"
      },
      "outputs": [],
      "source": [
        "a = 'hello'"
      ]
    },
    {
      "cell_type": "code",
      "execution_count": null,
      "metadata": {
        "id": "5hqN3dJFDkkD"
      },
      "outputs": [],
      "source": [
        "namelist = ['Winslet, Miss. Kate','Dawson, Mr. Jack','Voravuthikunchai, Mr. Winn','Voravuthikunchai, Master. Prin']"
      ]
    },
    {
      "cell_type": "code",
      "execution_count": null,
      "metadata": {
        "id": "uik3DdJOF_6T"
      },
      "outputs": [],
      "source": [
        "def getinitiallist(namelist):\n",
        "  initialList = []\n",
        "  for name in namelist:\n",
        "    nsplit = name.split(',')[1].split('.')[0]\n",
        "    initialList.append(nsplit)\n",
        "  return initialList"
      ]
    },
    {
      "cell_type": "markdown",
      "metadata": {
        "id": "Nx0XuNke7PRB"
      },
      "source": []
    },
    {
      "cell_type": "code",
      "execution_count": null,
      "metadata": {
        "colab": {
          "base_uri": "https://localhost:8080/",
          "height": 34
        },
        "id": "rHMtFV7I5Nqf",
        "outputId": "39b4b2de-7f9e-4be6-93c7-5c5c7720ec22"
      },
      "outputs": [
        {
          "data": {
            "text/plain": [
              "[' Miss', ' Mr', ' Mr', ' Master']"
            ]
          },
          "execution_count": 79,
          "metadata": {},
          "output_type": "execute_result"
        }
      ],
      "source": [
        "getinitiallist(namelist)"
      ]
    },
    {
      "cell_type": "code",
      "execution_count": null,
      "metadata": {
        "id": "y1Yio4R45NyH"
      },
      "outputs": [],
      "source": [
        "a = [10,2,30]\n",
        "\n"
      ]
    },
    {
      "cell_type": "code",
      "execution_count": null,
      "metadata": {
        "colab": {
          "base_uri": "https://localhost:8080/",
          "height": 34
        },
        "id": "eEEfJ-vlHxQp",
        "outputId": "b14c5ec1-af62-48bf-b688-95292e46a04b"
      },
      "outputs": [
        {
          "data": {
            "text/plain": [
              "11.775681155103795"
            ]
          },
          "execution_count": 81,
          "metadata": {},
          "output_type": "execute_result"
        }
      ],
      "source": [
        "import numpy as np\n",
        "a = np.array(a)\n",
        "a.std()"
      ]
    },
    {
      "cell_type": "markdown",
      "metadata": {
        "id": "sPVu5PRC127-"
      },
      "source": [
        "1. เขียนฟังก์ชันรับตัวแปร 2 ตัว แล้ว return ผลรวมของตัวแปรทั้งสองนั้น\n"
      ]
    },
    {
      "cell_type": "code",
      "execution_count": null,
      "metadata": {
        "colab": {
          "base_uri": "https://localhost:8080/",
          "height": 102
        },
        "id": "2hCxjodo4piG",
        "outputId": "f147fc31-8b69-4ea2-cc0a-3c099747f922"
      },
      "outputs": [
        {
          "name": "stdout",
          "output_type": "stream",
          "text": [
            "Please enter number 1 :\n"
          ]
        },
        {
          "name": "stdout",
          "output_type": "stream",
          "text": [
            " 2\n"
          ]
        },
        {
          "name": "stdout",
          "output_type": "stream",
          "text": [
            "Please enter number 2 :\n"
          ]
        },
        {
          "name": "stdout",
          "output_type": "stream",
          "text": [
            " 3\n"
          ]
        },
        {
          "name": "stdout",
          "output_type": "stream",
          "text": [
            "The sum is 5\n"
          ]
        },
        {
          "data": {
            "text/plain": [
              "5"
            ]
          },
          "execution_count": 83,
          "metadata": {},
          "output_type": "execute_result"
        }
      ],
      "source": [
        "def cal():\n",
        "  print('Please enter number 1 :')\n",
        "  input1 = int(input())\n",
        "  print('Please enter number 2 :')\n",
        "  input2 = int(input())\n",
        "  print ('The sum is ' + str(input1 + input2))\n",
        "  output = input1 + input2\n",
        "  return output\n",
        "cal()"
      ]
    },
    {
      "cell_type": "markdown",
      "metadata": {
        "id": "xYMu7Tn01uEK"
      },
      "source": [
        "2. เขียนฟังก์ชันรับตัวแปร 2 ตัว แล้ว return ผลลบของตัวแปรทั้งสองนั้น"
      ]
    },
    {
      "cell_type": "code",
      "execution_count": null,
      "metadata": {
        "id": "Zqcn3j1t4qE5"
      },
      "outputs": [],
      "source": [
        "def cal():\n",
        "  print('Please enter number 1 :')\n",
        "  input1 = int(input())\n",
        "  print('Please enter number 2 :')\n",
        "  input2 = int(input())\n",
        "  print ('The subtraction is ' + str(input1 - input2))\n",
        "cal()"
      ]
    },
    {
      "cell_type": "markdown",
      "metadata": {
        "id": "B3ikU6XJ2cUU"
      },
      "source": [
        "3. เขียนฟังก์ชันรับตัวแปรเป็น string แล้ว return ความยาวของ string\n"
      ]
    },
    {
      "cell_type": "code",
      "execution_count": null,
      "metadata": {
        "id": "shoob8XU4qrB"
      },
      "outputs": [],
      "source": [
        "def callen():\n",
        "  print('Please type sth :')\n",
        "  msg = input()\n",
        "  print(len(msg))\n",
        "callen()"
      ]
    },
    {
      "cell_type": "markdown",
      "metadata": {
        "id": "Uvj4fbY-2eTU"
      },
      "source": [
        "4. เขียนฟังก์ชั่นรับตัวแปรสองตัว ตัวแรกเป็น string ตัวที่สองเป็น ตัวเลข n แล้ว print ตัวแปรแรก เป็นจำนวน n ครั้ง"
      ]
    },
    {
      "cell_type": "code",
      "execution_count": null,
      "metadata": {
        "id": "3MwJP1kd4rUo"
      },
      "outputs": [],
      "source": [
        "def myloop():\n",
        "  print('Please enter number 1 :')\n",
        "  input1 = input()\n",
        "  print('Please enter number 2 :')\n",
        "  input2 = int(input())\n",
        "  i = 0\n",
        "  while i < input2:\n",
        "    print(input1)\n",
        "    i = i + 1\n",
        "myloop()"
      ]
    },
    {
      "cell_type": "markdown",
      "metadata": {
        "id": "gzyxb6X73A2r"
      },
      "source": [
        "5. เขียนโปรแกรมทายชื่ออาหารที่ชอบ โดยให้แสดงรายการอาหารที่ให้คนทายเห็น ให้ตั้งค่ารายการอาหารที่เราชอบในโปรแกรม ถ้าคนทายทายถูกให้บอกว่า \"ถูกต้องนะคร๊าป\" ถ้าทายผิดให้บอกว่า \"ผิดครับ\"\n"
      ]
    },
    {
      "cell_type": "code",
      "execution_count": null,
      "metadata": {
        "id": "HH0uwOQn3OY6"
      },
      "outputs": [],
      "source": [
        "def guessfood():\n",
        "  my_fav_food = 'padthai'\n",
        "  print('Please enter foodname :')\n",
        "  guessfood = input()\n",
        "  if guessfood == my_fav_food:\n",
        "    print(guessfood)\n",
        "    print(\"ถูกต้องนะคร๊าป\")\n",
        "  else:\n",
        "    print(guessfood)\n",
        "    print(\"ผิดครับ\")\n",
        "guessfood()"
      ]
    },
    {
      "cell_type": "markdown",
      "metadata": {
        "id": "gi21DoO_3Qc_"
      },
      "source": [
        "6. เขียนโปรแกรมเพื่อหาตำแหน่งของเลข 81 ใน numbers = [\n",
        "    386, 462, 47, 418, 907, 344, 236, 375, 823, 566, 597, 978, 328, 615, 953, 345, \n",
        "    399, 162, 758, 219, 918, 237, 412, 566, 826, 248, 866, 950, 626, 949, 687, 217, \n",
        "    815, 67, 104, 58, 512, 24, 892, 894, 767, 553, 81, 379, 843, 831, 445, 742, 717, \n",
        "    958,743, 527\n",
        "    ]"
      ]
    },
    {
      "cell_type": "code",
      "execution_count": null,
      "metadata": {
        "id": "NYWywGH43sRn"
      },
      "outputs": [],
      "source": [
        "def find_index():\n",
        "  numbers = [ 386, 462, 47, 418, 907, 344, 236, 375, 823, 566, 597, 978, 328, 615, 953, \\\n",
        "            345, 399, 162, 758, 219, 918, 237, 412, 566, 826, 248, 866, 950, 626, 949, \\\n",
        "            687, 217, 815, 67, 104, 58, 512, 24, 892, 894, 767, 553, 81, 379, 843, 831, \\\n",
        "            445, 742, 717, 958,743, 527 ]\n",
        "\n",
        "  for i in range(len(numbers)):\n",
        "    if number[i] == 81:\n",
        "      return i"
      ]
    },
    {
      "cell_type": "code",
      "execution_count": null,
      "metadata": {
        "id": "s_2nQdN9-p5k"
      },
      "outputs": [],
      "source": [
        "\n"
      ]
    }
  ],
  "metadata": {
    "colab": {
      "collapsed_sections": [],
      "name": "สำเนาของ Basic_Python_Super_AI_Part1.ipynb",
      "provenance": []
    },
    "kernelspec": {
      "display_name": "Python 3",
      "language": "python",
      "name": "python3"
    },
    "language_info": {
      "codemirror_mode": {
        "name": "ipython",
        "version": 3
      },
      "file_extension": ".py",
      "mimetype": "text/x-python",
      "name": "python",
      "nbconvert_exporter": "python",
      "pygments_lexer": "ipython3",
      "version": "3.8.12"
    }
  },
  "nbformat": 4,
  "nbformat_minor": 0
}
