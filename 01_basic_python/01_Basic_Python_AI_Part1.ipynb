{
 "cells": [
  {
   "cell_type": "markdown",
   "metadata": {},
   "source": [
    "<a href=\"https://colab.research.google.com/github/Tuchsanai/152-478-Introduction-to-Deep-Learning-for-Artificial-Intelligence-Engineering/blob/main/01_basic_python/01_Basic_Python_AI_Part1.ipynb\" target=\"_parent\"><img src=\"https://colab.research.google.com/assets/colab-badge.svg\" alt=\"Open In Colab\"/></a>"
   ]
  },
  {
   "cell_type": "markdown",
   "metadata": {
    "colab_type": "text",
    "id": "11Igdmb1mJOK"
   },
   "source": [
    "## Variable (ตัวแปร)\n",
    "- เหมือนกำลังเก็บของ มีป้ายแปะที่ลังเป็นชื่อตัวแปร ส่วนของข้างในคือข้อมูล\n",
    "- ทุกครั้งที่เห็นเครื่องหมาย = คือการนำค่าจากทางขวามือ มาใส่ลังที่มีชื่อทางซ้ายมือเสมอ"
   ]
  },
  {
   "cell_type": "markdown",
   "metadata": {
    "colab_type": "text",
    "id": "bpVeRGQ6Y4ZF"
   },
   "source": [
    "### Numerical variable (ตัวแปรตัวเลข)\n",
    "\n"
   ]
  },
  {
   "cell_type": "code",
   "execution_count": 1,
   "metadata": {
    "colab": {
     "base_uri": "https://localhost:8080/",
     "height": 34
    },
    "colab_type": "code",
    "executionInfo": {
     "elapsed": 521,
     "status": "ok",
     "timestamp": 1596839323681,
     "user": {
      "displayName": "Peerapon Wechsuwanmanee",
      "photoUrl": "https://lh3.googleusercontent.com/a-/AOh14GjR01io4M44a0iRysbkpTqavoqyxq9XSHYVwJLs2Q=s64",
      "userId": "13269611334844040151"
     },
     "user_tz": -120
    },
    "id": "54lYRlPUl3EA",
    "outputId": "310b16cf-309b-4845-fbe6-838e6eba3206"
   },
   "outputs": [
    {
     "data": {
      "text/plain": [
       "3"
      ]
     },
     "execution_count": 1,
     "metadata": {},
     "output_type": "execute_result"
    }
   ],
   "source": [
    "a = 1 # ลังแปะป้ายชื่อ a ใส่ข้อมูลเป็นตัวเลข 1\n",
    "b = 2 # ลังแปะป้ายชื่อ b ใส่ข้อมูลเป็นตัวเลข 2\n",
    "c = a + b # ลังแปะป้ายชื่อ c ใส่ข้อมูลเป็นผลลัพธ์การจากการบวกกันของลัง a และลัง b ณ เวลาที่เอามาใส่\n",
    "c"
   ]
  },
  {
   "cell_type": "markdown",
   "metadata": {
    "colab_type": "text",
    "id": "_SkLpNdDZA-H"
   },
   "source": [
    "## String variable (ตัวแปรตัวอักษร)\n"
   ]
  },
  {
   "cell_type": "markdown",
   "metadata": {
    "colab_type": "text",
    "id": "tDJA_DbSs5io"
   },
   "source": [
    "- สิ่งที่อยู่ใน `' '` หรือ `\" \" `จะนับเป็นตัวอักษรทั้งหมดแม้ว่าจะเป็นตัวเลขหรือเครื่องหมายก็ตาม\n",
    "- การใช้ `\"` หรือ `'` ก็นับเป็น string เหมือนกัน ตัวภาษา python อนุญาตให้เราใช้ทั้งสองแบบ เผื่อในกรณีดังนี้\n",
    "\n",
    "1.   `text = \"I'm fine. Thank you.\"`\n",
    "2.   `text = 'This is an \"important\" part.'`\n",
    "\n"
   ]
  },
  {
   "cell_type": "code",
   "execution_count": 14,
   "metadata": {
    "colab": {
     "base_uri": "https://localhost:8080/",
     "height": 35
    },
    "colab_type": "code",
    "executionInfo": {
     "elapsed": 562,
     "status": "ok",
     "timestamp": 1596839554676,
     "user": {
      "displayName": "Peerapon Wechsuwanmanee",
      "photoUrl": "https://lh3.googleusercontent.com/a-/AOh14GjR01io4M44a0iRysbkpTqavoqyxq9XSHYVwJLs2Q=s64",
      "userId": "13269611334844040151"
     },
     "user_tz": -120
    },
    "id": "jHmubc0MmcF7",
    "outputId": "f3c5a142-31d6-49e1-be25-34abe773b007"
   },
   "outputs": [
    {
     "data": {
      "text/plain": [
       "'hi, how are you?'"
      ]
     },
     "execution_count": 14,
     "metadata": {},
     "output_type": "execute_result"
    }
   ],
   "source": [
    "a = 'hi, '\n",
    "b = 'how are you?'\n",
    "c = a + b # การ + ของ string คือการนำมาต่อกัน\n",
    "c"
   ]
  },
  {
   "cell_type": "code",
   "execution_count": 15,
   "metadata": {},
   "outputs": [
    {
     "name": "stdout",
     "output_type": "stream",
     "text": [
      "hi, how are you?\n"
     ]
    }
   ],
   "source": [
    "print(c)"
   ]
  },
  {
   "cell_type": "code",
   "execution_count": 10,
   "metadata": {
    "colab": {
     "base_uri": "https://localhost:8080/",
     "height": 35
    },
    "colab_type": "code",
    "executionInfo": {
     "elapsed": 519,
     "status": "ok",
     "timestamp": 1596839601967,
     "user": {
      "displayName": "Peerapon Wechsuwanmanee",
      "photoUrl": "https://lh3.googleusercontent.com/a-/AOh14GjR01io4M44a0iRysbkpTqavoqyxq9XSHYVwJLs2Q=s64",
      "userId": "13269611334844040151"
     },
     "user_tz": -120
    },
    "id": "DiIxrLdKmu0y",
    "outputId": "4e722fbc-dfb2-4fce-f469-069c1eadebec"
   },
   "outputs": [
    {
     "data": {
      "text/plain": [
       "'John has 10 USD.'"
      ]
     },
     "execution_count": 10,
     "metadata": {},
     "output_type": "execute_result"
    }
   ],
   "source": [
    "name = 'John'\n",
    "money = '10 USD'\n",
    "sentence = name + ' has ' + money + '.'\n",
    "sentence"
   ]
  },
  {
   "cell_type": "code",
   "execution_count": 11,
   "metadata": {},
   "outputs": [
    {
     "name": "stdout",
     "output_type": "stream",
     "text": [
      "John has 10 USD\n"
     ]
    }
   ],
   "source": [
    "print(name + ' has ' + money) # ใช้การ + เพื่อนำ string มาต่อกัน (concatenate)"
   ]
  },
  {
   "cell_type": "code",
   "execution_count": 12,
   "metadata": {},
   "outputs": [
    {
     "name": "stdout",
     "output_type": "stream",
     "text": [
      "Johnhi, \n"
     ]
    }
   ],
   "source": [
    "print(name + a) # ตัวแปรคนละประเภทไม่สามารถนำมา + กันได้ "
   ]
  },
  {
   "cell_type": "markdown",
   "metadata": {},
   "source": [
    "###  Slicing a string"
   ]
  },
  {
   "cell_type": "code",
   "execution_count": 4,
   "metadata": {},
   "outputs": [],
   "source": [
    "s = \"programming\"\n"
   ]
  },
  {
   "cell_type": "code",
   "execution_count": 5,
   "metadata": {},
   "outputs": [
    {
     "data": {
      "text/plain": [
       "'pro'"
      ]
     },
     "execution_count": 5,
     "metadata": {},
     "output_type": "execute_result"
    }
   ],
   "source": [
    "s[0:3]"
   ]
  },
  {
   "cell_type": "code",
   "execution_count": 6,
   "metadata": {},
   "outputs": [
    {
     "data": {
      "text/plain": [
       "'progr'"
      ]
     },
     "execution_count": 6,
     "metadata": {},
     "output_type": "execute_result"
    }
   ],
   "source": [
    "s[0:5]"
   ]
  },
  {
   "cell_type": "code",
   "execution_count": 7,
   "metadata": {},
   "outputs": [
    {
     "data": {
      "text/plain": [
       "'amming'"
      ]
     },
     "execution_count": 7,
     "metadata": {},
     "output_type": "execute_result"
    }
   ],
   "source": [
    "s[5:]"
   ]
  },
  {
   "cell_type": "markdown",
   "metadata": {},
   "source": [
    "## Strip"
   ]
  },
  {
   "cell_type": "code",
   "execution_count": 1,
   "metadata": {},
   "outputs": [
    {
     "data": {
      "text/plain": [
       "'     programming is easy    '"
      ]
     },
     "execution_count": 1,
     "metadata": {},
     "output_type": "execute_result"
    }
   ],
   "source": [
    "string = \"     programming is easy    \"\n",
    "string"
   ]
  },
  {
   "cell_type": "code",
   "execution_count": 2,
   "metadata": {},
   "outputs": [
    {
     "data": {
      "text/plain": [
       "'programming is easy'"
      ]
     },
     "execution_count": 2,
     "metadata": {},
     "output_type": "execute_result"
    }
   ],
   "source": [
    "string.strip()"
   ]
  },
  {
   "cell_type": "markdown",
   "metadata": {
    "colab_type": "text",
    "id": "l5fGaL8snC_-"
   },
   "source": [
    "# Data types (ประเภทตัวแปร)"
   ]
  },
  {
   "cell_type": "markdown",
   "metadata": {
    "colab_type": "text",
    "id": "V7_Oc4phnPZM"
   },
   "source": [
    "## Number"
   ]
  },
  {
   "cell_type": "code",
   "execution_count": 17,
   "metadata": {
    "colab": {
     "base_uri": "https://localhost:8080/",
     "height": 51
    },
    "colab_type": "code",
    "executionInfo": {
     "elapsed": 504,
     "status": "ok",
     "timestamp": 1596839702591,
     "user": {
      "displayName": "Peerapon Wechsuwanmanee",
      "photoUrl": "https://lh3.googleusercontent.com/a-/AOh14GjR01io4M44a0iRysbkpTqavoqyxq9XSHYVwJLs2Q=s64",
      "userId": "13269611334844040151"
     },
     "user_tz": -120
    },
    "id": "VfpYi40cnJgR",
    "outputId": "a7d2a4f3-ab05-49de-ef47-92d297c62a64"
   },
   "outputs": [
    {
     "name": "stdout",
     "output_type": "stream",
     "text": [
      "4\n",
      "2.0\n"
     ]
    }
   ],
   "source": [
    "a = 4 # integer จำนวนเต็ม\n",
    "b = 2.0 # float จำนวนทศนิยม \n",
    "print(a) \n",
    "print(b)"
   ]
  },
  {
   "cell_type": "markdown",
   "metadata": {
    "colab_type": "text",
    "id": "WCO6cwWdn6Hm"
   },
   "source": [
    "float ในภาษาอื่นอาจแบ่งเป็น single และ double เพื่อระบุพื้นที่ใน RAM ในการเก็บข้อมูล แต่ใน python จะใช้ double เสมอ ยกเว้นจะใช้ฟังก์ชันพิเศษจาก library numpy `numpy.float32`\n"
   ]
  },
  {
   "cell_type": "markdown",
   "metadata": {
    "colab_type": "text",
    "id": "1D3jrr9qn6Em"
   },
   "source": [
    "### Number operations"
   ]
  },
  {
   "cell_type": "code",
   "execution_count": 18,
   "metadata": {
    "colab": {
     "base_uri": "https://localhost:8080/",
     "height": 103
    },
    "colab_type": "code",
    "executionInfo": {
     "elapsed": 502,
     "status": "ok",
     "timestamp": 1596839923910,
     "user": {
      "displayName": "Peerapon Wechsuwanmanee",
      "photoUrl": "https://lh3.googleusercontent.com/a-/AOh14GjR01io4M44a0iRysbkpTqavoqyxq9XSHYVwJLs2Q=s64",
      "userId": "13269611334844040151"
     },
     "user_tz": -120
    },
    "id": "BrGSbnArn9TB",
    "outputId": "32c33e07-0a10-42d3-f978-27024534472f"
   },
   "outputs": [
    {
     "name": "stdout",
     "output_type": "stream",
     "text": [
      "6.0\n",
      "8.0\n",
      "2.0\n",
      "16.0\n",
      "2.0\n"
     ]
    }
   ],
   "source": [
    "print(a+b)\n",
    "print(a*b)\n",
    "print(a/b)\n",
    "print(a**b)\n",
    "print(a**(1/b)) "
   ]
  },
  {
   "cell_type": "markdown",
   "metadata": {
    "colab_type": "text",
    "id": "Mx9xisEOqUNI"
   },
   "source": [
    "**ระวัง** กรณีที่ใช้ python version 2 การหาร int กับ int จะได้ผลเป็น int"
   ]
  },
  {
   "cell_type": "code",
   "execution_count": 19,
   "metadata": {
    "colab": {
     "base_uri": "https://localhost:8080/",
     "height": 34
    },
    "colab_type": "code",
    "executionInfo": {
     "elapsed": 538,
     "status": "ok",
     "timestamp": 1596840064108,
     "user": {
      "displayName": "Peerapon Wechsuwanmanee",
      "photoUrl": "https://lh3.googleusercontent.com/a-/AOh14GjR01io4M44a0iRysbkpTqavoqyxq9XSHYVwJLs2Q=s64",
      "userId": "13269611334844040151"
     },
     "user_tz": -120
    },
    "id": "-73ES_Z1qel_",
    "outputId": "2696c264-0281-4b31-9f71-eb2de4c9980c"
   },
   "outputs": [
    {
     "data": {
      "text/plain": [
       "2.5"
      ]
     },
     "execution_count": 19,
     "metadata": {},
     "output_type": "execute_result"
    }
   ],
   "source": [
    "d = 5\n",
    "g = 2\n",
    "d/g # ได้ผลลัพธ์เป็น 2.5 แต่ python version 2 ได้เป็น 2"
   ]
  },
  {
   "cell_type": "markdown",
   "metadata": {
    "colab_type": "text",
    "id": "05BvrS3WDpo3"
   },
   "source": [
    "## data type transformation"
   ]
  },
  {
   "cell_type": "markdown",
   "metadata": {
    "colab_type": "text",
    "id": "k7KW6JeMD0lj"
   },
   "source": [
    "ใช้คำสั่ง `str(ตัวแปร)`, `int(ตัวแปร)`, `float(ตัวแปร)` เพื่อเปลี่ยนประเภทตัวแปรเป็น string, integer และ float ตามลำดับ"
   ]
  },
  {
   "cell_type": "code",
   "execution_count": 12,
   "metadata": {
    "colab": {
     "base_uri": "https://localhost:8080/",
     "height": 86
    },
    "colab_type": "code",
    "executionInfo": {
     "elapsed": 508,
     "status": "ok",
     "timestamp": 1596840382107,
     "user": {
      "displayName": "Peerapon Wechsuwanmanee",
      "photoUrl": "https://lh3.googleusercontent.com/a-/AOh14GjR01io4M44a0iRysbkpTqavoqyxq9XSHYVwJLs2Q=s64",
      "userId": "13269611334844040151"
     },
     "user_tz": -120
    },
    "id": "7CMczwxsDwrQ",
    "outputId": "4dc37769-59bb-4370-93d3-3f55255dca9e"
   },
   "outputs": [
    {
     "name": "stdout",
     "output_type": "stream",
     "text": [
      "4\n",
      "<class 'int'>\n",
      "4\n",
      "<class 'str'>\n"
     ]
    }
   ],
   "source": [
    "print(a)\n",
    "print(type(a))\n",
    "print(str(a)) # a = '4'\n",
    "print(type(str(a)))"
   ]
  },
  {
   "cell_type": "code",
   "execution_count": 13,
   "metadata": {
    "colab": {
     "base_uri": "https://localhost:8080/",
     "height": 69
    },
    "colab_type": "code",
    "executionInfo": {
     "elapsed": 508,
     "status": "ok",
     "timestamp": 1596840427491,
     "user": {
      "displayName": "Peerapon Wechsuwanmanee",
      "photoUrl": "https://lh3.googleusercontent.com/a-/AOh14GjR01io4M44a0iRysbkpTqavoqyxq9XSHYVwJLs2Q=s64",
      "userId": "13269611334844040151"
     },
     "user_tz": -120
    },
    "id": "zJW5YLloFA7b",
    "outputId": "497c73f0-1410-42c2-a981-aed68e19e382"
   },
   "outputs": [
    {
     "name": "stdout",
     "output_type": "stream",
     "text": [
      "8.401592\n",
      "3.1415925.26\n",
      "3\n"
     ]
    }
   ],
   "source": [
    "p = 3.141592\n",
    "print(p + 5.26) # float + float\n",
    "print(str(p) + str(5.26)) # str + str\n",
    "print(int(p))"
   ]
  },
  {
   "cell_type": "markdown",
   "metadata": {
    "colab_type": "text",
    "id": "1P7N2wp3HG_o"
   },
   "source": [
    "## printing string-number combination\n",
    "\n",
    "มี 4 วิธี ดังนี้"
   ]
  },
  {
   "cell_type": "markdown",
   "metadata": {
    "colab_type": "text",
    "id": "yLXeuPhnHQnx"
   },
   "source": [
    "### 1) `,`\n",
    "\n"
   ]
  },
  {
   "cell_type": "code",
   "execution_count": 14,
   "metadata": {
    "colab": {
     "base_uri": "https://localhost:8080/",
     "height": 51
    },
    "colab_type": "code",
    "executionInfo": {
     "elapsed": 548,
     "status": "ok",
     "timestamp": 1596741109652,
     "user": {
      "displayName": "Peerapon Wechsuwanmanee",
      "photoUrl": "https://lh3.googleusercontent.com/a-/AOh14GjR01io4M44a0iRysbkpTqavoqyxq9XSHYVwJLs2Q=s64",
      "userId": "13269611334844040151"
     },
     "user_tz": -120
    },
    "id": "ZajEiQLDHNvs",
    "outputId": "257bc371-1b3c-475e-8f4a-650543c10b3d"
   },
   "outputs": [
    {
     "name": "stdout",
     "output_type": "stream",
     "text": [
      "There are 4 cats in this room.\n",
      "There are 4 cats in this room.\n"
     ]
    }
   ],
   "source": [
    "print('There are',a,'cats in this room.')\n",
    "# ให้ผลเหมือนกันกับ\n",
    "print('There are '+str(a)+' cats in this room.')"
   ]
  },
  {
   "cell_type": "markdown",
   "metadata": {
    "colab_type": "text",
    "id": "HkSSUIQmJJh2"
   },
   "source": [
    "### 2) `%`\n",
    "\n",
    "วิธีนี้เริ่มหมดความนิยมแล้ว รู้ไว้เผื่อ google ไปเจอคำอธิบายเก่า ๆ\n",
    "\n",
    "\n"
   ]
  },
  {
   "cell_type": "code",
   "execution_count": 22,
   "metadata": {
    "colab": {
     "base_uri": "https://localhost:8080/",
     "height": 69
    },
    "colab_type": "code",
    "executionInfo": {
     "elapsed": 511,
     "status": "ok",
     "timestamp": 1596840607880,
     "user": {
      "displayName": "Peerapon Wechsuwanmanee",
      "photoUrl": "https://lh3.googleusercontent.com/a-/AOh14GjR01io4M44a0iRysbkpTqavoqyxq9XSHYVwJLs2Q=s64",
      "userId": "13269611334844040151"
     },
     "user_tz": -120
    },
    "id": "o_Zxc_SzJI3q",
    "outputId": "671c56c0-785f-4450-a072-07c4db1e9345"
   },
   "outputs": [
    {
     "name": "stdout",
     "output_type": "stream",
     "text": [
      "Approximated Pi value is 3.141592\n",
      "Approximated Pi value is 3.1416\n",
      "My name is John. I've been here for 4 years\n"
     ]
    }
   ],
   "source": [
    "print(\"Approximated Pi value is %f\" % p)\n",
    "print(\"Approximated Pi value is %.4f\" % p)\n",
    "print(\"My name is %s. I've been here for %i years\" % (name, a))"
   ]
  },
  {
   "cell_type": "markdown",
   "metadata": {
    "colab_type": "text",
    "id": "Wf79klXxJQjS"
   },
   "source": [
    "### 3) .format()\n",
    "\n",
    "ค่อนข้างเป็นที่นิยม ก่อนจะมี f-string ใช้\n"
   ]
  },
  {
   "cell_type": "code",
   "execution_count": 23,
   "metadata": {
    "colab": {
     "base_uri": "https://localhost:8080/",
     "height": 103
    },
    "colab_type": "code",
    "executionInfo": {
     "elapsed": 528,
     "status": "ok",
     "timestamp": 1596840748482,
     "user": {
      "displayName": "Peerapon Wechsuwanmanee",
      "photoUrl": "https://lh3.googleusercontent.com/a-/AOh14GjR01io4M44a0iRysbkpTqavoqyxq9XSHYVwJLs2Q=s64",
      "userId": "13269611334844040151"
     },
     "user_tz": -120
    },
    "id": "oCb_-ECDJTOQ",
    "outputId": "c95780bc-7364-4b7f-be21-339d9a9ebb6d"
   },
   "outputs": [
    {
     "name": "stdout",
     "output_type": "stream",
     "text": [
      "Approximated Pi value is 3.141592\n",
      "Approximated Pi value is 3.1416\n",
      "My name is John. I've been here for 4 years\n",
      "My name is John. I've been here for 4.00000 years\n",
      "My name is John. I've been here for 4 years\n"
     ]
    }
   ],
   "source": [
    "print(\"Approximated Pi value is {}\".format(p))\n",
    "print(\"Approximated Pi value is {:.4f}\".format(p))\n",
    "print(\"My name is {}. I've been here for {} years\".format(name, a))\n",
    "print(\"My name is {n}. I've been here for {time:.5f} years\".format(n=name, time=float(a)))\n",
    "\n",
    "print(\"My name is {1}. I've been here for {0} years\".format(a, name))"
   ]
  },
  {
   "cell_type": "markdown",
   "metadata": {
    "colab_type": "text",
    "id": "94LpiwuQJTgG"
   },
   "source": [
    "### 4) f-string (ใช้ได้ตั้งแต่ python 3.6 เป็นต้นไป)"
   ]
  },
  {
   "cell_type": "code",
   "execution_count": 24,
   "metadata": {
    "colab": {
     "base_uri": "https://localhost:8080/",
     "height": 86
    },
    "colab_type": "code",
    "executionInfo": {
     "elapsed": 560,
     "status": "ok",
     "timestamp": 1596741745840,
     "user": {
      "displayName": "Peerapon Wechsuwanmanee",
      "photoUrl": "https://lh3.googleusercontent.com/a-/AOh14GjR01io4M44a0iRysbkpTqavoqyxq9XSHYVwJLs2Q=s64",
      "userId": "13269611334844040151"
     },
     "user_tz": -120
    },
    "id": "6AvRJzyZOCjV",
    "outputId": "cd80afb4-4ef5-4493-9089-63ded8b25ddc"
   },
   "outputs": [
    {
     "name": "stdout",
     "output_type": "stream",
     "text": [
      "Approximated Pi value is 3.141592\n",
      "Approximated Pi value is 3.1416\n",
      "My name is John. I've been here for 4 years\n",
      "My name is John. I've been here for 4.00000 years\n"
     ]
    }
   ],
   "source": [
    "print(f\"Approximated Pi value is {p}\")\n",
    "print(f\"Approximated Pi value is {p:.4f}\")\n",
    "print(f\"My name is {name}. I've been here for {a} years\")\n",
    "print(f\"My name is {name}. I've been here for {a:.5f} years\") # a ไม่ต้องแปลงเป็น float ก่อนก็ได้"
   ]
  },
  {
   "cell_type": "code",
   "execution_count": 25,
   "metadata": {
    "colab": {
     "base_uri": "https://localhost:8080/",
     "height": 86
    },
    "colab_type": "code",
    "executionInfo": {
     "elapsed": 557,
     "status": "ok",
     "timestamp": 1596841057707,
     "user": {
      "displayName": "Peerapon Wechsuwanmanee",
      "photoUrl": "https://lh3.googleusercontent.com/a-/AOh14GjR01io4M44a0iRysbkpTqavoqyxq9XSHYVwJLs2Q=s64",
      "userId": "13269611334844040151"
     },
     "user_tz": -120
    },
    "id": "WhXbmU4e1SAo",
    "outputId": "fbdb64dc-6b4e-4616-b8ac-bc7671fcb66b"
   },
   "outputs": [
    {
     "name": "stdout",
     "output_type": "stream",
     "text": [
      "5\n",
      "5.0\n",
      "2\n",
      "2.445\n"
     ]
    }
   ],
   "source": [
    "n1 = '5'\n",
    "n2 = '2.445'\n",
    "n3 = '3.44s'\n",
    "\n",
    "print(int(n1))\n",
    "print(float(n1))\n",
    "\n",
    "print(int(float(n2)))\n",
    "print(float(n2))\n",
    "\n"
   ]
  },
  {
   "cell_type": "markdown",
   "metadata": {
    "colab_type": "text",
    "id": "3clC3wR6pqIM"
   },
   "source": [
    "## Access character & substrings"
   ]
  },
  {
   "cell_type": "markdown",
   "metadata": {
    "colab_type": "text",
    "id": "9Iolgl1yu1Xg"
   },
   "source": [
    "ตัวแปร string ที่จริงแล้วคือการนำลังใส่ข้อมูลตัวอักษรมาผูกเรียงต่อกัน"
   ]
  },
  {
   "cell_type": "code",
   "execution_count": 26,
   "metadata": {
    "colab": {
     "base_uri": "https://localhost:8080/",
     "height": 103
    },
    "colab_type": "code",
    "executionInfo": {
     "elapsed": 537,
     "status": "ok",
     "timestamp": 1596841651238,
     "user": {
      "displayName": "Peerapon Wechsuwanmanee",
      "photoUrl": "https://lh3.googleusercontent.com/a-/AOh14GjR01io4M44a0iRysbkpTqavoqyxq9XSHYVwJLs2Q=s64",
      "userId": "13269611334844040151"
     },
     "user_tz": -120
    },
    "id": "3ei6O8vnpvTA",
    "outputId": "0270bca0-48cc-44b0-b844-f15ce768467a"
   },
   "outputs": [
    {
     "name": "stdout",
     "output_type": "stream",
     "text": [
      "John\n",
      "J\n",
      "o\n",
      "h\n",
      "n\n"
     ]
    }
   ],
   "source": [
    "print(name)\n",
    "print(name[0])\n",
    "print(name[1])\n",
    "print(name[2])\n",
    "print(name[3])"
   ]
  },
  {
   "cell_type": "code",
   "execution_count": 30,
   "metadata": {
    "colab": {
     "base_uri": "https://localhost:8080/",
     "height": 103
    },
    "colab_type": "code",
    "executionInfo": {
     "elapsed": 522,
     "status": "ok",
     "timestamp": 1596842012353,
     "user": {
      "displayName": "Peerapon Wechsuwanmanee",
      "photoUrl": "https://lh3.googleusercontent.com/a-/AOh14GjR01io4M44a0iRysbkpTqavoqyxq9XSHYVwJLs2Q=s64",
      "userId": "13269611334844040151"
     },
     "user_tz": -120
    },
    "id": "s4OR_iDVKz_y",
    "outputId": "0d935d58-2468-4a1f-e0a7-6f508d1d5f6b"
   },
   "outputs": [
    {
     "name": "stdout",
     "output_type": "stream",
     "text": [
      " Welc\n",
      "Welcome\n",
      "room\n",
      "s roo\n",
      " Welc\n"
     ]
    }
   ],
   "source": [
    "mystr = ' Welcome to Siam class room'\n",
    "print(mystr[0:5]) # เลือกตั้งแต่ตัวที่ 0 ถึงตัวที่ 4\n",
    "print(mystr[1:8]) # เลือกตั้งแต่ตัวที่ 1 ถึงตัวที่ 7\n",
    "print(mystr[-4:]) # เลือกตั้งแต่ตัวที่ 4 นับจากสุดท้าย ไปจนจบ\n",
    "print(mystr[-6:-1]) # เลือกตั้งแต่ตัวที่ 6 นับจากสุดท้าย ถึงตัวที่ 2 นับจากสุดท้าย\n",
    "print(mystr[:5])  # เลือกตั้งแต่ตัวแรก ถึงตัวที่ 4"
   ]
  },
  {
   "cell_type": "code",
   "execution_count": 31,
   "metadata": {
    "colab": {
     "base_uri": "https://localhost:8080/",
     "height": 69
    },
    "colab_type": "code",
    "executionInfo": {
     "elapsed": 527,
     "status": "ok",
     "timestamp": 1596842014464,
     "user": {
      "displayName": "Peerapon Wechsuwanmanee",
      "photoUrl": "https://lh3.googleusercontent.com/a-/AOh14GjR01io4M44a0iRysbkpTqavoqyxq9XSHYVwJLs2Q=s64",
      "userId": "13269611334844040151"
     },
     "user_tz": -120
    },
    "id": "uLL5GPVKvwAt",
    "outputId": "58c721c2-cb25-4eb0-c99c-08f2ddd0ab83"
   },
   "outputs": [
    {
     "name": "stdout",
     "output_type": "stream",
     "text": [
      " ecm\n",
      "moor ssalc maiS ot emocleW \n",
      "lmtSmlso\n"
     ]
    }
   ],
   "source": [
    "# [start: end: step] ตำแหน่งของ start ต้องอยู่ท้ายซ้ายของ end เสมอ\n",
    "print(mystr[:8:2]) # เลือกตั้งแต่ตัวแรก ถึงตัวที่ 7 ขยับทีละ 2\n",
    "print(mystr[::-1]) # เลือกทุกตัว ขยับทีละ -1\n",
    "print(mystr[3::3]) # เลือกตั้งแต่ตัวที่ 3 ไปจนจบ ขยับทีละ 3\n"
   ]
  },
  {
   "cell_type": "code",
   "execution_count": 32,
   "metadata": {
    "colab": {
     "base_uri": "https://localhost:8080/",
     "height": 34
    },
    "colab_type": "code",
    "executionInfo": {
     "elapsed": 501,
     "status": "ok",
     "timestamp": 1596802827870,
     "user": {
      "displayName": "Peerapon Wechsuwanmanee",
      "photoUrl": "https://lh3.googleusercontent.com/a-/AOh14GjR01io4M44a0iRysbkpTqavoqyxq9XSHYVwJLs2Q=s64",
      "userId": "13269611334844040151"
     },
     "user_tz": -120
    },
    "id": "xlu5epygLK7-",
    "outputId": "64032255-5cb9-4706-8414-934439ea621f"
   },
   "outputs": [
    {
     "data": {
      "text/plain": [
       "['Welcome', 'to', 'Siam', 'class', 'room']"
      ]
     },
     "execution_count": 32,
     "metadata": {},
     "output_type": "execute_result"
    }
   ],
   "source": [
    "mystr.split() # แยกข้อความออกจากกันด้วยสิ่งที่อยู่ในวงเล็บของ split หากไม่ใส่จะใช้เว้นวรรค"
   ]
  },
  {
   "cell_type": "code",
   "execution_count": 33,
   "metadata": {
    "colab": {
     "base_uri": "https://localhost:8080/",
     "height": 34
    },
    "colab_type": "code",
    "executionInfo": {
     "elapsed": 557,
     "status": "ok",
     "timestamp": 1596802818918,
     "user": {
      "displayName": "Peerapon Wechsuwanmanee",
      "photoUrl": "https://lh3.googleusercontent.com/a-/AOh14GjR01io4M44a0iRysbkpTqavoqyxq9XSHYVwJLs2Q=s64",
      "userId": "13269611334844040151"
     },
     "user_tz": -120
    },
    "id": "gDRE-Y6zLVDJ",
    "outputId": "69efbed0-6f79-48bc-83db-e9b7d5d2bfdd"
   },
   "outputs": [
    {
     "data": {
      "text/plain": [
       "[' Welcome ', ' Siam class room']"
      ]
     },
     "execution_count": 33,
     "metadata": {},
     "output_type": "execute_result"
    }
   ],
   "source": [
    "mystr.split('to') # หากใส่ จะหาตัวที่ตรงกันแล้วใช้เป็นตัวแยกข้อความ"
   ]
  },
  {
   "cell_type": "code",
   "execution_count": 34,
   "metadata": {
    "colab": {
     "base_uri": "https://localhost:8080/",
     "height": 35
    },
    "colab_type": "code",
    "executionInfo": {
     "elapsed": 469,
     "status": "ok",
     "timestamp": 1596802849540,
     "user": {
      "displayName": "Peerapon Wechsuwanmanee",
      "photoUrl": "https://lh3.googleusercontent.com/a-/AOh14GjR01io4M44a0iRysbkpTqavoqyxq9XSHYVwJLs2Q=s64",
      "userId": "13269611334844040151"
     },
     "user_tz": -120
    },
    "id": "OW5pcS1RLRun",
    "outputId": "98ffdfce-3061-4f7f-e087-7be808a4402d"
   },
   "outputs": [
    {
     "data": {
      "text/plain": [
       "' welcome to siam class room'"
      ]
     },
     "execution_count": 34,
     "metadata": {},
     "output_type": "execute_result"
    }
   ],
   "source": [
    "mystr.lower() # ทำให้เป็นตัวเล็ก"
   ]
  },
  {
   "cell_type": "code",
   "execution_count": 35,
   "metadata": {
    "colab": {
     "base_uri": "https://localhost:8080/",
     "height": 35
    },
    "colab_type": "code",
    "executionInfo": {
     "elapsed": 464,
     "status": "ok",
     "timestamp": 1596802882715,
     "user": {
      "displayName": "Peerapon Wechsuwanmanee",
      "photoUrl": "https://lh3.googleusercontent.com/a-/AOh14GjR01io4M44a0iRysbkpTqavoqyxq9XSHYVwJLs2Q=s64",
      "userId": "13269611334844040151"
     },
     "user_tz": -120
    },
    "id": "7BqGnJXyLiH3",
    "outputId": "8960ea28-8c8f-4c3e-b6ce-d4c517cc6483"
   },
   "outputs": [
    {
     "data": {
      "text/plain": [
       "'Welcome to Siam class room'"
      ]
     },
     "execution_count": 35,
     "metadata": {},
     "output_type": "execute_result"
    }
   ],
   "source": [
    "mystr.strip() # ตัดเว้นวรรคหน้า-หลัง"
   ]
  },
  {
   "cell_type": "markdown",
   "metadata": {
    "colab_type": "text",
    "id": "CmckZOw4riFV"
   },
   "source": [
    "**List variable**"
   ]
  },
  {
   "cell_type": "code",
   "execution_count": 36,
   "metadata": {
    "colab": {
     "base_uri": "https://localhost:8080/",
     "height": 34
    },
    "colab_type": "code",
    "executionInfo": {
     "elapsed": 1215,
     "status": "ok",
     "timestamp": 1591616012534,
     "user": {
      "displayName": "บอทน้อย Little bot",
      "photoUrl": "https://lh3.googleusercontent.com/a-/AOh14Gg_oKIVWfi33Hl20-CFISRlD3Yn6O6vRr0Kh3fdjBM=s64",
      "userId": "00386448689616224988"
     },
     "user_tz": -420
    },
    "id": "Oc3x-E4hrlQO",
    "outputId": "d6d7cb63-be9a-4755-cdfc-6c6d59a2fd85"
   },
   "outputs": [
    {
     "data": {
      "text/plain": [
       "[1, 2, 3, 4, 5, 'hi', 1, 3, [1, 2, 3, 4, 5]]"
      ]
     },
     "execution_count": 36,
     "metadata": {},
     "output_type": "execute_result"
    }
   ],
   "source": [
    "x = [1,2,3,4,5]\n",
    "y = ['hi',1,3,x]\n",
    "z = x + y\n",
    "z"
   ]
  },
  {
   "cell_type": "markdown",
   "metadata": {
    "colab_type": "text",
    "id": "JwyCPrRWtEGd"
   },
   "source": [
    "How to access element in LIST"
   ]
  },
  {
   "cell_type": "code",
   "execution_count": 37,
   "metadata": {
    "colab": {
     "base_uri": "https://localhost:8080/",
     "height": 34
    },
    "colab_type": "code",
    "executionInfo": {
     "elapsed": 1065,
     "status": "ok",
     "timestamp": 1591616080245,
     "user": {
      "displayName": "บอทน้อย Little bot",
      "photoUrl": "https://lh3.googleusercontent.com/a-/AOh14Gg_oKIVWfi33Hl20-CFISRlD3Yn6O6vRr0Kh3fdjBM=s64",
      "userId": "00386448689616224988"
     },
     "user_tz": -420
    },
    "id": "4j2NFF3XtHlq",
    "outputId": "91544162-481a-4139-d683-2dac03ca3ab6"
   },
   "outputs": [
    {
     "data": {
      "text/plain": [
       "[4, 5, 'hi', 1, 3, [1, 2, 3, 4, 5]]"
      ]
     },
     "execution_count": 37,
     "metadata": {},
     "output_type": "execute_result"
    }
   ],
   "source": [
    "z[3:]"
   ]
  },
  {
   "cell_type": "code",
   "execution_count": 38,
   "metadata": {
    "colab": {
     "base_uri": "https://localhost:8080/",
     "height": 34
    },
    "colab_type": "code",
    "executionInfo": {
     "elapsed": 1102,
     "status": "ok",
     "timestamp": 1591616132638,
     "user": {
      "displayName": "บอทน้อย Little bot",
      "photoUrl": "https://lh3.googleusercontent.com/a-/AOh14Gg_oKIVWfi33Hl20-CFISRlD3Yn6O6vRr0Kh3fdjBM=s64",
      "userId": "00386448689616224988"
     },
     "user_tz": -420
    },
    "id": "OJ6YNzSUtmWr",
    "outputId": "913d57da-b98d-496b-d651-9f76aefcabd7"
   },
   "outputs": [
    {
     "data": {
      "text/plain": [
       "3"
      ]
     },
     "execution_count": 38,
     "metadata": {},
     "output_type": "execute_result"
    }
   ],
   "source": [
    "z[8][2]"
   ]
  },
  {
   "cell_type": "markdown",
   "metadata": {
    "colab_type": "text",
    "id": "PjaTvvdzar5r"
   },
   "source": [
    "**My first Python lesson**\n",
    "\n"
   ]
  },
  {
   "cell_type": "markdown",
   "metadata": {
    "colab_type": "text",
    "id": "T8E5LnnpbxHW"
   },
   "source": [
    "Hello, World!\n",
    "Variables and Types\n",
    "Lists\n",
    "Basic Operators\n",
    "String Formatting\n",
    "Basic String Operations\n",
    "Conditions\n",
    "Loops\n",
    "Functions\n",
    "Classes and Objects\n",
    "Dictionaries\n",
    "Modules and Packages\n"
   ]
  },
  {
   "cell_type": "markdown",
   "metadata": {
    "colab_type": "text",
    "id": "YONe0Z-Fwl5l"
   },
   "source": [
    "**Math operators**"
   ]
  },
  {
   "cell_type": "code",
   "execution_count": 39,
   "metadata": {
    "colab": {
     "base_uri": "https://localhost:8080/",
     "height": 102
    },
    "colab_type": "code",
    "executionInfo": {
     "elapsed": 1055,
     "status": "ok",
     "timestamp": 1591616430748,
     "user": {
      "displayName": "บอทน้อย Little bot",
      "photoUrl": "https://lh3.googleusercontent.com/a-/AOh14Gg_oKIVWfi33Hl20-CFISRlD3Yn6O6vRr0Kh3fdjBM=s64",
      "userId": "00386448689616224988"
     },
     "user_tz": -420
    },
    "id": "uLGsAXl6wpXh",
    "outputId": "8ec6b9e7-bb81-4863-80cf-88f67d5e2062"
   },
   "outputs": [
    {
     "name": "stdout",
     "output_type": "stream",
     "text": [
      "6\n",
      "8\n",
      "-2\n",
      "4\n",
      "8.0\n"
     ]
    }
   ],
   "source": [
    "x=2\n",
    "y=4\n",
    "z=64\n",
    "\n",
    "print(x+y)\n",
    "print(x*y)\n",
    "print(x-y)\n",
    "print(x**2)\n",
    "print(z**(1/2))"
   ]
  },
  {
   "cell_type": "markdown",
   "metadata": {
    "colab_type": "text",
    "id": "p2ulZScbxKHm"
   },
   "source": [
    "**String format**"
   ]
  },
  {
   "cell_type": "code",
   "execution_count": 40,
   "metadata": {
    "colab": {
     "base_uri": "https://localhost:8080/",
     "height": 102
    },
    "colab_type": "code",
    "executionInfo": {
     "elapsed": 1044,
     "status": "ok",
     "timestamp": 1591616671482,
     "user": {
      "displayName": "บอทน้อย Little bot",
      "photoUrl": "https://lh3.googleusercontent.com/a-/AOh14Gg_oKIVWfi33Hl20-CFISRlD3Yn6O6vRr0Kh3fdjBM=s64",
      "userId": "00386448689616224988"
     },
     "user_tz": -420
    },
    "id": "9NYb0vOuxOiZ",
    "outputId": "10628fd3-0134-44c6-b961-77e007118e3f"
   },
   "outputs": [
    {
     "name": "stdout",
     "output_type": "stream",
     "text": [
      "hello world\n",
      "hel\n",
      "hello 10\n",
      "hello 10\n"
     ]
    },
    {
     "data": {
      "text/plain": [
       "20"
      ]
     },
     "execution_count": 40,
     "metadata": {},
     "output_type": "execute_result"
    }
   ],
   "source": [
    "a = 'hello '\n",
    "b = 'world'\n",
    "print(a+b)\n",
    "print(a[0:3])\n",
    "c = '10'\n",
    "print(a+c)\n",
    "d = 10\n",
    "print(a+str(d))\n",
    "e = int(c) + d\n",
    "e "
   ]
  },
  {
   "cell_type": "code",
   "execution_count": 41,
   "metadata": {
    "colab": {},
    "colab_type": "code",
    "id": "I6BIfxe4d1wG"
   },
   "outputs": [],
   "source": [
    "def hellofriend():\n",
    "  namefriend = input('Please insert your name.\\n')\n",
    "  output = 'hello '+namefriend + '!'\n",
    "  return output"
   ]
  },
  {
   "cell_type": "code",
   "execution_count": 42,
   "metadata": {
    "colab": {},
    "colab_type": "code",
    "id": "bCPC2LxRo1mU"
   },
   "outputs": [],
   "source": [
    "def addone(x):\n",
    "  ''' this is a function to add one to the input x\n",
    "      input : integer\n",
    "      output : integer\n",
    "  '''\n",
    "  return x+1\n",
    "### f(x) = x + 1"
   ]
  },
  {
   "cell_type": "code",
   "execution_count": null,
   "metadata": {
    "colab": {},
    "colab_type": "code",
    "id": "iaVkxJw4pXXd"
   },
   "outputs": [],
   "source": []
  },
  {
   "cell_type": "code",
   "execution_count": null,
   "metadata": {
    "colab": {
     "base_uri": "https://localhost:8080/",
     "height": 68
    },
    "colab_type": "code",
    "executionInfo": {
     "elapsed": 4913,
     "status": "ok",
     "timestamp": 1591598558126,
     "user": {
      "displayName": "บอทน้อย Little bot",
      "photoUrl": "https://lh3.googleusercontent.com/a-/AOh14Gg_oKIVWfi33Hl20-CFISRlD3Yn6O6vRr0Kh3fdjBM=s64",
      "userId": "00386448689616224988"
     },
     "user_tz": -420
    },
    "id": "YwqwfXukfltJ",
    "outputId": "b43dfbc3-4ebd-42f8-bcf0-119320b9bad3"
   },
   "outputs": [],
   "source": [
    "hellofriend()"
   ]
  },
  {
   "cell_type": "markdown",
   "metadata": {
    "colab_type": "text",
    "id": "Vc7BiJyKk5Gd"
   },
   "source": [
    "**LIST**\n",
    "It's a container that can contain any anything i.e. datatype, function, object, variables etc. "
   ]
  },
  {
   "cell_type": "code",
   "execution_count": 43,
   "metadata": {
    "colab": {
     "base_uri": "https://localhost:8080/",
     "height": 34
    },
    "colab_type": "code",
    "executionInfo": {
     "elapsed": 848,
     "status": "ok",
     "timestamp": 1591599270421,
     "user": {
      "displayName": "บอทน้อย Little bot",
      "photoUrl": "https://lh3.googleusercontent.com/a-/AOh14Gg_oKIVWfi33Hl20-CFISRlD3Yn6O6vRr0Kh3fdjBM=s64",
      "userId": "00386448689616224988"
     },
     "user_tz": -420
    },
    "id": "Zvo-u74mgSok",
    "outputId": "f355541e-3fae-4083-8b24-2554780d916e"
   },
   "outputs": [
    {
     "data": {
      "text/plain": [
       "'hello'"
      ]
     },
     "execution_count": 43,
     "metadata": {},
     "output_type": "execute_result"
    }
   ],
   "source": [
    "x = ['hello',hellofriend,3,4,5,6]\n",
    "y = [x]\n",
    "z = ['hello',x,y]\n",
    "#x[2:]\n",
    "z[2][0][0]"
   ]
  },
  {
   "cell_type": "code",
   "execution_count": 44,
   "metadata": {
    "colab": {
     "base_uri": "https://localhost:8080/",
     "height": 51
    },
    "colab_type": "code",
    "executionInfo": {
     "elapsed": 880,
     "status": "ok",
     "timestamp": 1591598981865,
     "user": {
      "displayName": "บอทน้อย Little bot",
      "photoUrl": "https://lh3.googleusercontent.com/a-/AOh14Gg_oKIVWfi33Hl20-CFISRlD3Yn6O6vRr0Kh3fdjBM=s64",
      "userId": "00386448689616224988"
     },
     "user_tz": -420
    },
    "id": "3dVMsm14iyiJ",
    "outputId": "4a846f2a-e255-4cc7-cb21-2705f74f53a1"
   },
   "outputs": [
    {
     "name": "stdout",
     "output_type": "stream",
     "text": [
      "[1, 2, 3, 4, 5]\n",
      "[1, 2, 3, 4, 5, 6, 7, 8]\n"
     ]
    }
   ],
   "source": [
    "y = [1,2,3,4,5,6,7,8]\n",
    "#print(y[0:5])\n",
    "#print(len(y))\n",
    "#print(sum(y))\n",
    "print(y[0:5])\n",
    "print(y)"
   ]
  },
  {
   "cell_type": "markdown",
   "metadata": {
    "colab_type": "text",
    "id": "3qhZeGeykTTh"
   },
   "source": [
    "**Expressions**"
   ]
  },
  {
   "cell_type": "code",
   "execution_count": 45,
   "metadata": {
    "colab": {
     "base_uri": "https://localhost:8080/",
     "height": 119
    },
    "colab_type": "code",
    "executionInfo": {
     "elapsed": 880,
     "status": "ok",
     "timestamp": 1591599485812,
     "user": {
      "displayName": "บอทน้อย Little bot",
      "photoUrl": "https://lh3.googleusercontent.com/a-/AOh14Gg_oKIVWfi33Hl20-CFISRlD3Yn6O6vRr0Kh3fdjBM=s64",
      "userId": "00386448689616224988"
     },
     "user_tz": -420
    },
    "id": "giEzzFDtjs67",
    "outputId": "f88ab15d-2283-4954-c6f2-a6b961cf2a75"
   },
   "outputs": [
    {
     "name": "stdout",
     "output_type": "stream",
     "text": [
      "True\n",
      "False\n",
      "False\n",
      "True\n",
      "False\n",
      "True\n"
     ]
    }
   ],
   "source": [
    "x = 5\n",
    "y = 5\n",
    "print(x == y)\n",
    "print(x != y)\n",
    "print(x < y)\n",
    "print(x <=y)\n",
    "print(x > y)\n",
    "print(x >= y)"
   ]
  },
  {
   "cell_type": "code",
   "execution_count": 36,
   "metadata": {
    "colab": {
     "base_uri": "https://localhost:8080/",
     "height": 34
    },
    "colab_type": "code",
    "executionInfo": {
     "elapsed": 996,
     "status": "ok",
     "timestamp": 1591617095741,
     "user": {
      "displayName": "บอทน้อย Little bot",
      "photoUrl": "https://lh3.googleusercontent.com/a-/AOh14Gg_oKIVWfi33Hl20-CFISRlD3Yn6O6vRr0Kh3fdjBM=s64",
      "userId": "00386448689616224988"
     },
     "user_tz": -420
    },
    "id": "dasupu_pwpDj",
    "outputId": "4ac96f0d-f292-4be6-e104-6b49744b4e38"
   },
   "outputs": [],
   "source": [
    "x = 5\n",
    "y = 5\n",
    "z = 2\n"
   ]
  },
  {
   "cell_type": "code",
   "execution_count": 46,
   "metadata": {
    "colab": {
     "base_uri": "https://localhost:8080/",
     "height": 34
    },
    "colab_type": "code",
    "executionInfo": {
     "elapsed": 862,
     "status": "ok",
     "timestamp": 1591599456294,
     "user": {
      "displayName": "บอทน้อย Little bot",
      "photoUrl": "https://lh3.googleusercontent.com/a-/AOh14Gg_oKIVWfi33Hl20-CFISRlD3Yn6O6vRr0Kh3fdjBM=s64",
      "userId": "00386448689616224988"
     },
     "user_tz": -420
    },
    "id": "NhNLgQjGtvxN",
    "outputId": "852e150d-1e6b-4a56-b247-f773a7184b4d"
   },
   "outputs": [
    {
     "data": {
      "text/plain": [
       "True"
      ]
     },
     "execution_count": 46,
     "metadata": {},
     "output_type": "execute_result"
    }
   ],
   "source": [
    "x = 5\n",
    "y = 4\n",
    "x = y\n",
    "x == y\n"
   ]
  },
  {
   "cell_type": "code",
   "execution_count": 47,
   "metadata": {
    "colab": {
     "base_uri": "https://localhost:8080/",
     "height": 34
    },
    "colab_type": "code",
    "executionInfo": {
     "elapsed": 1044,
     "status": "ok",
     "timestamp": 1591617240633,
     "user": {
      "displayName": "บอทน้อย Little bot",
      "photoUrl": "https://lh3.googleusercontent.com/a-/AOh14Gg_oKIVWfi33Hl20-CFISRlD3Yn6O6vRr0Kh3fdjBM=s64",
      "userId": "00386448689616224988"
     },
     "user_tz": -420
    },
    "id": "DntxexKjxmjr",
    "outputId": "3bad4952-6ace-4bb8-ff8e-be883ea824d3"
   },
   "outputs": [
    {
     "data": {
      "text/plain": [
       "True"
      ]
     },
     "execution_count": 47,
     "metadata": {},
     "output_type": "execute_result"
    }
   ],
   "source": [
    "x = [1,2,3,4,5]\n",
    "(6 in x) | (x[0]<5)"
   ]
  },
  {
   "cell_type": "code",
   "execution_count": 48,
   "metadata": {
    "colab": {
     "base_uri": "https://localhost:8080/",
     "height": 102
    },
    "colab_type": "code",
    "executionInfo": {
     "elapsed": 1094,
     "status": "ok",
     "timestamp": 1591412588449,
     "user": {
      "displayName": "บอทน้อย Little bot",
      "photoUrl": "https://lh3.googleusercontent.com/a-/AOh14Gg_oKIVWfi33Hl20-CFISRlD3Yn6O6vRr0Kh3fdjBM=s64",
      "userId": "00386448689616224988"
     },
     "user_tz": -420
    },
    "id": "3NhPbHK4kpFt",
    "outputId": "a0d39060-a65c-43f6-c063-d06eaacc72aa"
   },
   "outputs": [
    {
     "name": "stdout",
     "output_type": "stream",
     "text": [
      "True\n",
      "True\n",
      "False\n",
      "True\n",
      "False\n"
     ]
    }
   ],
   "source": [
    "x = [1,2,3,4,5]\n",
    "print(1 in x)\n",
    "print(len(x)<=10)\n",
    "print(len(x)>=10)\n",
    "print(sum(x)<=100)\n",
    "print(sum(x)>=100)"
   ]
  },
  {
   "cell_type": "code",
   "execution_count": 49,
   "metadata": {
    "colab": {
     "base_uri": "https://localhost:8080/",
     "height": 34
    },
    "colab_type": "code",
    "executionInfo": {
     "elapsed": 1031,
     "status": "ok",
     "timestamp": 1591617313798,
     "user": {
      "displayName": "บอทน้อย Little bot",
      "photoUrl": "https://lh3.googleusercontent.com/a-/AOh14Gg_oKIVWfi33Hl20-CFISRlD3Yn6O6vRr0Kh3fdjBM=s64",
      "userId": "00386448689616224988"
     },
     "user_tz": -420
    },
    "id": "aOfV-5oJmTjV",
    "outputId": "383844fc-3756-4fb1-b011-23e4ddc7ddfc"
   },
   "outputs": [
    {
     "data": {
      "text/plain": [
       "True"
      ]
     },
     "execution_count": 49,
     "metadata": {},
     "output_type": "execute_result"
    }
   ],
   "source": [
    "x = 'taoshinjuku'\n",
    "y = 'tao'\n",
    "x[0:3] == y"
   ]
  },
  {
   "cell_type": "markdown",
   "metadata": {
    "colab_type": "text",
    "id": "30gm5cS2lxI5"
   },
   "source": [
    "**Condition**"
   ]
  },
  {
   "cell_type": "code",
   "execution_count": 50,
   "metadata": {
    "colab": {
     "base_uri": "https://localhost:8080/",
     "height": 34
    },
    "colab_type": "code",
    "executionInfo": {
     "elapsed": 1038,
     "status": "ok",
     "timestamp": 1591617421873,
     "user": {
      "displayName": "บอทน้อย Little bot",
      "photoUrl": "https://lh3.googleusercontent.com/a-/AOh14Gg_oKIVWfi33Hl20-CFISRlD3Yn6O6vRr0Kh3fdjBM=s64",
      "userId": "00386448689616224988"
     },
     "user_tz": -420
    },
    "id": "NVeBA9qyl0Fe",
    "outputId": "c32d5332-2b75-4ab6-9d7f-c954ac01cdcd"
   },
   "outputs": [
    {
     "name": "stdout",
     "output_type": "stream",
     "text": [
      "good bye\n"
     ]
    }
   ],
   "source": [
    "x = 3\n",
    "y = 2\n",
    "if x < y:\n",
    "  print('hello')\n",
    "else:\n",
    "  print('good bye')"
   ]
  },
  {
   "cell_type": "code",
   "execution_count": 51,
   "metadata": {
    "colab": {
     "base_uri": "https://localhost:8080/",
     "height": 34
    },
    "colab_type": "code",
    "executionInfo": {
     "elapsed": 1055,
     "status": "ok",
     "timestamp": 1591617552791,
     "user": {
      "displayName": "บอทน้อย Little bot",
      "photoUrl": "https://lh3.googleusercontent.com/a-/AOh14Gg_oKIVWfi33Hl20-CFISRlD3Yn6O6vRr0Kh3fdjBM=s64",
      "userId": "00386448689616224988"
     },
     "user_tz": -420
    },
    "id": "IOkYt5cEyviP",
    "outputId": "009c4b0c-0c55-454d-e946-9ad29aac5111"
   },
   "outputs": [
    {
     "name": "stdout",
     "output_type": "stream",
     "text": [
      "who are you?\n"
     ]
    }
   ],
   "source": [
    "x = 'taoshinjuku'\n",
    "y = 'taorama9'\n",
    "if x[0:4] == y [0:4]:\n",
    "  print('hey we have common names')\n",
    "else:\n",
    "  print('who are you?')"
   ]
  },
  {
   "cell_type": "code",
   "execution_count": 52,
   "metadata": {
    "colab": {
     "base_uri": "https://localhost:8080/",
     "height": 51
    },
    "colab_type": "code",
    "executionInfo": {
     "elapsed": 1058,
     "status": "ok",
     "timestamp": 1591617690441,
     "user": {
      "displayName": "บอทน้อย Little bot",
      "photoUrl": "https://lh3.googleusercontent.com/a-/AOh14Gg_oKIVWfi33Hl20-CFISRlD3Yn6O6vRr0Kh3fdjBM=s64",
      "userId": "00386448689616224988"
     },
     "user_tz": -420
    },
    "id": "lPB_yQfczVli",
    "outputId": "bbf32baa-8701-4820-9444-0913bf64d8a9"
   },
   "outputs": [
    {
     "name": "stdout",
     "output_type": "stream",
     "text": [
      "False\n"
     ]
    },
    {
     "data": {
      "text/plain": [
       "1"
      ]
     },
     "execution_count": 52,
     "metadata": {},
     "output_type": "execute_result"
    }
   ],
   "source": [
    "x = 1\n",
    "y = 2\n",
    "print(x == y)\n",
    "x"
   ]
  },
  {
   "cell_type": "code",
   "execution_count": 54,
   "metadata": {
    "colab": {},
    "colab_type": "code",
    "id": "mlKQc7hCmL7r"
   },
   "outputs": [],
   "source": [
    "def howmuch():\n",
    "  mywallet = 100\n",
    "  pricetag = input('how much is that thing?\\n')\n",
    "  pricetag = int(pricetag)\n",
    "  if mywallet < pricetag:\n",
    "    return \"Sorry, may be next time.\"\n",
    "  else:\n",
    "    return \"Could I have one, please.\""
   ]
  },
  {
   "cell_type": "code",
   "execution_count": 55,
   "metadata": {
    "colab": {
     "base_uri": "https://localhost:8080/",
     "height": 68
    },
    "colab_type": "code",
    "executionInfo": {
     "elapsed": 4377,
     "status": "ok",
     "timestamp": 1591600566781,
     "user": {
      "displayName": "บอทน้อย Little bot",
      "photoUrl": "https://lh3.googleusercontent.com/a-/AOh14Gg_oKIVWfi33Hl20-CFISRlD3Yn6O6vRr0Kh3fdjBM=s64",
      "userId": "00386448689616224988"
     },
     "user_tz": -420
    },
    "id": "EIosR5m6mx_K",
    "outputId": "c9379695-8243-4d87-8a6a-567652ec367f"
   },
   "outputs": [
    {
     "name": "stdout",
     "output_type": "stream",
     "text": [
      "how much is that thing?\n",
      " 12\n"
     ]
    },
    {
     "data": {
      "text/plain": [
       "'Could I have one, please.'"
      ]
     },
     "execution_count": 55,
     "metadata": {},
     "output_type": "execute_result"
    }
   ],
   "source": [
    "howmuch()"
   ]
  },
  {
   "cell_type": "code",
   "execution_count": null,
   "metadata": {
    "colab": {
     "base_uri": "https://localhost:8080/",
     "height": 187
    },
    "colab_type": "code",
    "executionInfo": {
     "elapsed": 754,
     "status": "ok",
     "timestamp": 1591617830992,
     "user": {
      "displayName": "บอทน้อย Little bot",
      "photoUrl": "https://lh3.googleusercontent.com/a-/AOh14Gg_oKIVWfi33Hl20-CFISRlD3Yn6O6vRr0Kh3fdjBM=s64",
      "userId": "00386448689616224988"
     },
     "user_tz": -420
    },
    "id": "0EMzGCgx0DS8",
    "outputId": "244fd0c6-caea-4ccb-ff7a-5e16dda3a085"
   },
   "outputs": [],
   "source": []
  },
  {
   "cell_type": "markdown",
   "metadata": {
    "colab_type": "text",
    "id": "Kuo525g6u6QQ"
   },
   "source": [
    "**for LOOP**"
   ]
  },
  {
   "cell_type": "code",
   "execution_count": 56,
   "metadata": {
    "colab": {
     "base_uri": "https://localhost:8080/",
     "height": 272
    },
    "colab_type": "code",
    "executionInfo": {
     "elapsed": 31150,
     "status": "ok",
     "timestamp": 1591619997060,
     "user": {
      "displayName": "บอทน้อย Little bot",
      "photoUrl": "https://lh3.googleusercontent.com/a-/AOh14Gg_oKIVWfi33Hl20-CFISRlD3Yn6O6vRr0Kh3fdjBM=s64",
      "userId": "00386448689616224988"
     },
     "user_tz": -420
    },
    "id": "ypd_YO-Z0dI3",
    "outputId": "e78d4193-a876-44c0-ad84-32ae406daecc"
   },
   "outputs": [
    {
     "name": "stdout",
     "output_type": "stream",
     "text": [
      "1\n",
      "สวัสดีชาวโลก\n"
     ]
    },
    {
     "name": "stdout",
     "output_type": "stream",
     "text": [
      " \n"
     ]
    },
    {
     "name": "stdout",
     "output_type": "stream",
     "text": [
      "2\n",
      "สวัสดีชาวโลก\n"
     ]
    },
    {
     "name": "stdout",
     "output_type": "stream",
     "text": [
      " \n"
     ]
    },
    {
     "name": "stdout",
     "output_type": "stream",
     "text": [
      "3\n",
      "สวัสดีชาวโลก\n"
     ]
    },
    {
     "name": "stdout",
     "output_type": "stream",
     "text": [
      " \n"
     ]
    },
    {
     "name": "stdout",
     "output_type": "stream",
     "text": [
      "4\n",
      "สวัสดีชาวโลก\n"
     ]
    },
    {
     "name": "stdout",
     "output_type": "stream",
     "text": [
      " \n"
     ]
    },
    {
     "name": "stdout",
     "output_type": "stream",
     "text": [
      "5\n",
      "สวัสดีชาวโลก\n"
     ]
    },
    {
     "name": "stdout",
     "output_type": "stream",
     "text": [
      " \n"
     ]
    }
   ],
   "source": [
    "for i in [1,2,3,4,5]:\n",
    "  print(i)\n",
    "  print('สวัสดีชาวโลก')\n",
    "  input()"
   ]
  },
  {
   "cell_type": "code",
   "execution_count": null,
   "metadata": {
    "colab": {
     "base_uri": "https://localhost:8080/",
     "height": 748
    },
    "colab_type": "code",
    "executionInfo": {
     "elapsed": 129721,
     "status": "ok",
     "timestamp": 1591620281229,
     "user": {
      "displayName": "บอทน้อย Little bot",
      "photoUrl": "https://lh3.googleusercontent.com/a-/AOh14Gg_oKIVWfi33Hl20-CFISRlD3Yn6O6vRr0Kh3fdjBM=s64",
      "userId": "00386448689616224988"
     },
     "user_tz": -420
    },
    "id": "B-0Me9-X1Fvs",
    "outputId": "bb3eecd1-5764-4d1d-d02e-ccf0b3bdd825"
   },
   "outputs": [],
   "source": [
    "namelist = ['winn','tao','arm','met','pint','wan','worachai','bee','wasunee']\n",
    "countname = 0\n",
    "for name in namelist:\n",
    "  print(name)\n",
    "  nameinitial = name[0]\n",
    "  print(nameinitial)\n",
    "  if nameinitial == 'w':\n",
    "    print('name initial is \"w\"')\n",
    "    print(countname)\n",
    "    countname = countname + 1\n",
    "    print('countname has been increased')\n",
    "    print(countname)\n",
    "  input()\n"
   ]
  },
  {
   "cell_type": "markdown",
   "metadata": {
    "colab_type": "text",
    "id": "R9x1MSAdr89h"
   },
   "source": [
    "**while LOOP**"
   ]
  },
  {
   "cell_type": "code",
   "execution_count": 48,
   "metadata": {
    "colab": {
     "base_uri": "https://localhost:8080/",
     "height": 187
    },
    "colab_type": "code",
    "executionInfo": {
     "elapsed": 1043,
     "status": "ok",
     "timestamp": 1591620534392,
     "user": {
      "displayName": "บอทน้อย Little bot",
      "photoUrl": "https://lh3.googleusercontent.com/a-/AOh14Gg_oKIVWfi33Hl20-CFISRlD3Yn6O6vRr0Kh3fdjBM=s64",
      "userId": "00386448689616224988"
     },
     "user_tz": -420
    },
    "id": "ZH4T9XUAr7vV",
    "outputId": "75c7c5df-ebdc-41a6-85f4-06305508fc80"
   },
   "outputs": [
    {
     "name": "stdout",
     "output_type": "stream",
     "text": [
      "0\n",
      "1\n",
      "2\n",
      "3\n",
      "4\n",
      "5\n",
      "6\n",
      "7\n",
      "8\n",
      "9\n"
     ]
    }
   ],
   "source": [
    "i = 0\n",
    "while i < 10:\n",
    "  print(i)\n",
    "  i = i + 1\n"
   ]
  },
  {
   "cell_type": "code",
   "execution_count": 49,
   "metadata": {
    "colab": {
     "base_uri": "https://localhost:8080/",
     "height": 51
    },
    "colab_type": "code",
    "executionInfo": {
     "elapsed": 1308,
     "status": "ok",
     "timestamp": 1591413926363,
     "user": {
      "displayName": "บอทน้อย Little bot",
      "photoUrl": "https://lh3.googleusercontent.com/a-/AOh14Gg_oKIVWfi33Hl20-CFISRlD3Yn6O6vRr0Kh3fdjBM=s64",
      "userId": "00386448689616224988"
     },
     "user_tz": -420
    },
    "id": "SPqJNaelqAHH",
    "outputId": "4314c35c-3c0f-4a7b-89cd-4d1bf01fedce"
   },
   "outputs": [
    {
     "name": "stdout",
     "output_type": "stream",
     "text": [
      "<class 'str'>\n",
      "<class 'int'>\n"
     ]
    }
   ],
   "source": [
    "a='10'\n",
    "print(type(a))\n",
    "a = int(a)\n",
    "print(type(a))"
   ]
  },
  {
   "cell_type": "code",
   "execution_count": 50,
   "metadata": {
    "colab": {
     "base_uri": "https://localhost:8080/",
     "height": 187
    },
    "colab_type": "code",
    "executionInfo": {
     "elapsed": 902,
     "status": "ok",
     "timestamp": 1591601170129,
     "user": {
      "displayName": "บอทน้อย Little bot",
      "photoUrl": "https://lh3.googleusercontent.com/a-/AOh14Gg_oKIVWfi33Hl20-CFISRlD3Yn6O6vRr0Kh3fdjBM=s64",
      "userId": "00386448689616224988"
     },
     "user_tz": -420
    },
    "id": "pDHiEg8gu9tr",
    "outputId": "fdd01dfe-dda2-4a04-a731-0c0f261df715"
   },
   "outputs": [
    {
     "name": "stdout",
     "output_type": "stream",
     "text": [
      "2\n",
      "hi1\n",
      "4\n",
      "5\n",
      "6\n",
      "7\n",
      "8\n",
      "9\n",
      "10\n",
      "11\n"
     ]
    }
   ],
   "source": [
    "a = [1,'hi',3,4,5,6,7,[1,2],8,9,10]\n",
    "for i in a:\n",
    "  typei = type(i)\n",
    "  if typei == int:\n",
    "    print(i+1)\n",
    "  elif typei == str:\n",
    "    print(i+str(1))\n",
    "  else:\n",
    "    pass\n",
    "  #print('hello world!')"
   ]
  },
  {
   "cell_type": "code",
   "execution_count": 51,
   "metadata": {
    "colab": {
     "base_uri": "https://localhost:8080/",
     "height": 34
    },
    "colab_type": "code",
    "executionInfo": {
     "elapsed": 857,
     "status": "ok",
     "timestamp": 1591601585319,
     "user": {
      "displayName": "บอทน้อย Little bot",
      "photoUrl": "https://lh3.googleusercontent.com/a-/AOh14Gg_oKIVWfi33Hl20-CFISRlD3Yn6O6vRr0Kh3fdjBM=s64",
      "userId": "00386448689616224988"
     },
     "user_tz": -420
    },
    "id": "xH12mc0dvbDo",
    "outputId": "2bd21b22-902b-404f-cba0-23888af13c8d"
   },
   "outputs": [
    {
     "data": {
      "text/plain": [
       "['choco_added', 'coffee_added', 'milk_added']"
      ]
     },
     "execution_count": 51,
     "metadata": {},
     "output_type": "execute_result"
    }
   ],
   "source": [
    "def checkproduct(product):\n",
    "  return product+'_added'\n",
    "\n",
    "productList = ['choco','coffee','milk']\n",
    "outputList = []\n",
    "\n",
    "for product in productList:\n",
    "  output = checkproduct(product)\n",
    "  outputList.append(output)\n",
    "outputList"
   ]
  },
  {
   "cell_type": "markdown",
   "metadata": {
    "colab_type": "text",
    "id": "nOOhqWe2xrWR"
   },
   "source": [
    "**Function**"
   ]
  },
  {
   "cell_type": "code",
   "execution_count": 52,
   "metadata": {
    "colab": {
     "base_uri": "https://localhost:8080/",
     "height": 34
    },
    "colab_type": "code",
    "executionInfo": {
     "elapsed": 1040,
     "status": "ok",
     "timestamp": 1591620818941,
     "user": {
      "displayName": "บอทน้อย Little bot",
      "photoUrl": "https://lh3.googleusercontent.com/a-/AOh14Gg_oKIVWfi33Hl20-CFISRlD3Yn6O6vRr0Kh3fdjBM=s64",
      "userId": "00386448689616224988"
     },
     "user_tz": -420
    },
    "id": "L-rs_u2b_CTD",
    "outputId": "90f01a60-fc87-472f-bd65-54a9e4ad0dd2"
   },
   "outputs": [],
   "source": [
    "def addonetonum(num):\n",
    "  output = num + 1\n",
    "  return output"
   ]
  },
  {
   "cell_type": "code",
   "execution_count": 53,
   "metadata": {
    "colab": {
     "base_uri": "https://localhost:8080/",
     "height": 34
    },
    "colab_type": "code",
    "executionInfo": {
     "elapsed": 1303,
     "status": "ok",
     "timestamp": 1591620944115,
     "user": {
      "displayName": "บอทน้อย Little bot",
      "photoUrl": "https://lh3.googleusercontent.com/a-/AOh14Gg_oKIVWfi33Hl20-CFISRlD3Yn6O6vRr0Kh3fdjBM=s64",
      "userId": "00386448689616224988"
     },
     "user_tz": -420
    },
    "id": "iOJZXyy9_uQn",
    "outputId": "8d2b3027-2117-4066-8fee-50239bc74b2d"
   },
   "outputs": [
    {
     "data": {
      "text/plain": [
       "30"
      ]
     },
     "execution_count": 53,
     "metadata": {},
     "output_type": "execute_result"
    }
   ],
   "source": [
    "def sumtwonumbers(num1,num2):\n",
    "  output = num1 + num2\n",
    "  return output\n",
    "\n",
    "sumtwonumbers(10,20)"
   ]
  },
  {
   "cell_type": "markdown",
   "metadata": {
    "colab_type": "text",
    "id": "amsEGczd1LQR"
   },
   "source": [
    "**Exercise**"
   ]
  },
  {
   "cell_type": "markdown",
   "metadata": {
    "colab_type": "text",
    "id": "dKr0LMUPGTyx"
   },
   "source": [
    "ให้สร้าง เงื่อนไข รักสามเศร้า เลือกรักใครได้แค่คนเดียว\n",
    "\n",
    "โดยรับ Input เป็นชื่อ\n",
    "\n",
    "หากเป็นชื่อ โกแฮรี ให้บอกว่า ผมรักคุณ\n",
    "\n",
    "หากเป็นชื่อ ลำยอง ให้บอกว่า\n",
    "เราเป็นได้แค่พี่น้อง\n",
    "\n",
    "หากเป็นชื่อ อื่นๆ ให้บอกว่า ผมไม่รู้จักคุณ"
   ]
  },
  {
   "cell_type": "code",
   "execution_count": 63,
   "metadata": {
    "colab": {},
    "colab_type": "code",
    "id": "COdwIOz4GTYJ"
   },
   "outputs": [],
   "source": [
    "def trianglelove(name):\n",
    "  if name == 'โกแฮรี':\n",
    "    return 'ผมรักคุณ'\n",
    "  elif name == 'ลำยอง':\n",
    "    return 'เราเป็นได้แค่พี่น้อง'\n",
    "  else:\n",
    "    return 'ผมไม่รู้จักคุณ'\n"
   ]
  },
  {
   "cell_type": "code",
   "execution_count": 64,
   "metadata": {
    "colab": {
     "base_uri": "https://localhost:8080/",
     "height": 34
    },
    "colab_type": "code",
    "executionInfo": {
     "elapsed": 1069,
     "status": "ok",
     "timestamp": 1591625331686,
     "user": {
      "displayName": "บอทน้อย Little bot",
      "photoUrl": "https://lh3.googleusercontent.com/a-/AOh14Gg_oKIVWfi33Hl20-CFISRlD3Yn6O6vRr0Kh3fdjBM=s64",
      "userId": "00386448689616224988"
     },
     "user_tz": -420
    },
    "id": "atxdmaC-Qpuw",
    "outputId": "4df34498-c2dc-41c1-f1f1-e080a02484ad"
   },
   "outputs": [
    {
     "data": {
      "text/plain": [
       "'ผมไม่รู้จักคุณ'"
      ]
     },
     "execution_count": 64,
     "metadata": {},
     "output_type": "execute_result"
    }
   ],
   "source": [
    "trianglelove('เต๋า')"
   ]
  },
  {
   "cell_type": "markdown",
   "metadata": {
    "colab_type": "text",
    "id": "pxgapIReKO-a"
   },
   "source": [
    "ให้เขียน function รับค่าตัวเลขเข้ามา 2 ตัว \n",
    "แล้วให้หาผลรวมทั้งหมดระหว่างค่าของตัวเลขทั้ง 2 ตัวนั้น\n",
    "อย่างเช่น \n",
    "f(a,b) เมื่อ a=2, b=4\n",
    "ผลลัพธ์ที่ได้จาก function นี้จะต้องได้เท่ากับ 9 ซึ่งมาจาก 2+3+4\n",
    "หรือ\n",
    " f(a,b) เมื่อ a=5, b=1\n",
    "ผลลัพธ์ที่ได้จาก function นี้จะต้องได้เท่ากับ 15 ซึ่งมาจาก 1+2+3+4+5"
   ]
  },
  {
   "cell_type": "code",
   "execution_count": 67,
   "metadata": {
    "colab": {},
    "colab_type": "code",
    "id": "L4EdsChiJ7XB"
   },
   "outputs": [],
   "source": [
    "def getsumofallnumberbetween(num1,num2):\n",
    "  if num1 > num2:\n",
    "    num1, num2 = num2, num1\n",
    "  sumnum = 0\n",
    "  for num in range(num1,num2+1):\n",
    "    sumnum = sumnum + num\n",
    "    #print(num)\n",
    "  return sumnum"
   ]
  },
  {
   "cell_type": "code",
   "execution_count": 68,
   "metadata": {
    "colab": {
     "base_uri": "https://localhost:8080/",
     "height": 34
    },
    "colab_type": "code",
    "executionInfo": {
     "elapsed": 1076,
     "status": "ok",
     "timestamp": 1591625720246,
     "user": {
      "displayName": "บอทน้อย Little bot",
      "photoUrl": "https://lh3.googleusercontent.com/a-/AOh14Gg_oKIVWfi33Hl20-CFISRlD3Yn6O6vRr0Kh3fdjBM=s64",
      "userId": "00386448689616224988"
     },
     "user_tz": -420
    },
    "id": "mSaoFf6ORGPY",
    "outputId": "cf7cb2d9-6a76-4c5f-db0c-d6b44734fe65"
   },
   "outputs": [
    {
     "data": {
      "text/plain": [
       "55"
      ]
     },
     "execution_count": 68,
     "metadata": {},
     "output_type": "execute_result"
    }
   ],
   "source": [
    "getsumofallnumberbetween(1,10)"
   ]
  },
  {
   "cell_type": "markdown",
   "metadata": {
    "colab_type": "text",
    "id": "Ix1UXbs-HEaR"
   },
   "source": [
    "จงเขียนฟังก์ชั่นหาค่าตัวเลขที่น้อยที่สุดใน LIST \n",
    "\n"
   ]
  },
  {
   "cell_type": "code",
   "execution_count": 69,
   "metadata": {
    "colab": {},
    "colab_type": "code",
    "id": "cNzSGx7YKjN5"
   },
   "outputs": [],
   "source": [
    "def getsmallestnuminlist(numList):\n",
    "  smallestnum = 100000000000000\n",
    "  for num in numList:\n",
    "    if type(num)==str:\n",
    "      continue\n",
    "    if num < smallestnum:\n",
    "      smallestnum = num\n",
    "\n",
    "  return smallestnum"
   ]
  },
  {
   "cell_type": "code",
   "execution_count": 70,
   "metadata": {
    "colab": {
     "base_uri": "https://localhost:8080/",
     "height": 34
    },
    "colab_type": "code",
    "executionInfo": {
     "elapsed": 673,
     "status": "ok",
     "timestamp": 1591626078790,
     "user": {
      "displayName": "บอทน้อย Little bot",
      "photoUrl": "https://lh3.googleusercontent.com/a-/AOh14Gg_oKIVWfi33Hl20-CFISRlD3Yn6O6vRr0Kh3fdjBM=s64",
      "userId": "00386448689616224988"
     },
     "user_tz": -420
    },
    "id": "FYEXlP3wSpVK",
    "outputId": "532f9fb1-a659-468e-af8b-4ef92c1fa5f2"
   },
   "outputs": [
    {
     "data": {
      "text/plain": [
       "-1"
      ]
     },
     "execution_count": 70,
     "metadata": {},
     "output_type": "execute_result"
    }
   ],
   "source": [
    "numList = [10,5,0,21,412,'df',2,123,123,-1,29]\n",
    "getsmallestnuminlist(numList)"
   ]
  },
  {
   "cell_type": "markdown",
   "metadata": {
    "colab_type": "text",
    "id": "GMdfInK6KxAI"
   },
   "source": [
    "จงเขียนฟังก์ชันที่สกัดตัวเลขที่หาร 2 ลงตัว รับ input เป็น list"
   ]
  },
  {
   "cell_type": "code",
   "execution_count": 71,
   "metadata": {
    "colab": {},
    "colab_type": "code",
    "id": "zf1jpS8vK5KZ"
   },
   "outputs": [],
   "source": [
    "def getevennum(numList):\n",
    "  evenList = []\n",
    "  for num in numList:\n",
    "    if num%3 == 0:\n",
    "      evenList.append(num)\n",
    "  return evenList"
   ]
  },
  {
   "cell_type": "code",
   "execution_count": 72,
   "metadata": {
    "colab": {
     "base_uri": "https://localhost:8080/",
     "height": 34
    },
    "colab_type": "code",
    "executionInfo": {
     "elapsed": 1154,
     "status": "ok",
     "timestamp": 1591626272901,
     "user": {
      "displayName": "บอทน้อย Little bot",
      "photoUrl": "https://lh3.googleusercontent.com/a-/AOh14Gg_oKIVWfi33Hl20-CFISRlD3Yn6O6vRr0Kh3fdjBM=s64",
      "userId": "00386448689616224988"
     },
     "user_tz": -420
    },
    "id": "uIdmnNRfUB06",
    "outputId": "b30a04b5-7ee5-4a82-d7b1-d0a2acf54550"
   },
   "outputs": [
    {
     "data": {
      "text/plain": [
       "[3, 6, 9]"
      ]
     },
     "execution_count": 72,
     "metadata": {},
     "output_type": "execute_result"
    }
   ],
   "source": [
    "getevennum([1,2,3,4,5,6,7,8,9,10])"
   ]
  },
  {
   "cell_type": "markdown",
   "metadata": {
    "colab_type": "text",
    "id": "e6X0h_4QHFFy"
   },
   "source": []
  },
  {
   "cell_type": "markdown",
   "metadata": {
    "colab_type": "text",
    "id": "m9l-34ug5Obr"
   },
   "source": [
    "1. จงหาผลรวมของตัวเลขที่อยู่ใน alist (ให้รวมตัวเลขที่เป็น format string ด้วย)"
   ]
  },
  {
   "cell_type": "code",
   "execution_count": 73,
   "metadata": {
    "colab": {
     "base_uri": "https://localhost:8080/",
     "height": 34
    },
    "colab_type": "code",
    "executionInfo": {
     "elapsed": 899,
     "status": "ok",
     "timestamp": 1591604409460,
     "user": {
      "displayName": "บอทน้อย Little bot",
      "photoUrl": "https://lh3.googleusercontent.com/a-/AOh14Gg_oKIVWfi33Hl20-CFISRlD3Yn6O6vRr0Kh3fdjBM=s64",
      "userId": "00386448689616224988"
     },
     "user_tz": -420
    },
    "id": "gxWaFuHS5NB_",
    "outputId": "6ddff9fe-f895-4dc5-9d75-33fd5dd27ff6"
   },
   "outputs": [
    {
     "data": {
      "text/plain": [
       "55"
      ]
     },
     "execution_count": 73,
     "metadata": {},
     "output_type": "execute_result"
    }
   ],
   "source": [
    "alist = ['hello',1,'b','2',4,1,'how',5,2,10,'are','you',4,3,'2','1','20']\n",
    "def sumnum():\n",
    "  result = 0\n",
    "  for a in alist:\n",
    "    if type(a)==int:\n",
    "      result = result + a\n",
    "    elif type(a)==str:\n",
    "      try:\n",
    "        a = int(a)\n",
    "        result = result + a\n",
    "      except:\n",
    "        pass\n",
    "      else:\n",
    "        pass\n",
    "  return result\n",
    "sumnum()"
   ]
  },
  {
   "cell_type": "markdown",
   "metadata": {
    "colab_type": "text",
    "id": "H2rJ9GYo6Man"
   },
   "source": [
    "2. จงเขียนฟังก์ชั่นหาค่าตัวเลขที่สูงที่สุดใน \n",
    "\n",
    "*   List item\n",
    "*   List item\n",
    "\n",
    "alist\n",
    "\n"
   ]
  },
  {
   "cell_type": "code",
   "execution_count": 74,
   "metadata": {
    "colab": {
     "base_uri": "https://localhost:8080/",
     "height": 198
    },
    "colab_type": "code",
    "executionInfo": {
     "elapsed": 904,
     "status": "error",
     "timestamp": 1591604706002,
     "user": {
      "displayName": "บอทน้อย Little bot",
      "photoUrl": "https://lh3.googleusercontent.com/a-/AOh14Gg_oKIVWfi33Hl20-CFISRlD3Yn6O6vRr0Kh3fdjBM=s64",
      "userId": "00386448689616224988"
     },
     "user_tz": -420
    },
    "id": "XTe5KN1U5NXz",
    "outputId": "20fae738-a617-4a29-bcbc-cc90eccaeb81"
   },
   "outputs": [
    {
     "data": {
      "text/plain": [
       "400"
      ]
     },
     "execution_count": 74,
     "metadata": {},
     "output_type": "execute_result"
    }
   ],
   "source": [
    "alist = [1,5,2,10,2,5,3,2,6,0,20,84,20,10,4,23,294,400,290,10]\n",
    "def getmax():\n",
    "  maxval = -1\n",
    "  for a in alist:\n",
    "    if a > maxval:\n",
    "      maxval = a\n",
    "  return maxval\n",
    "getmax()"
   ]
  },
  {
   "cell_type": "markdown",
   "metadata": {
    "colab_type": "text",
    "id": "65ZEf0_K60JG"
   },
   "source": [
    "3. จงเขียนฟังก์ชันหาตำแหน่งของตัวเลขที่น้อยที่สุดใน alist"
   ]
  },
  {
   "cell_type": "code",
   "execution_count": 75,
   "metadata": {
    "colab": {
     "base_uri": "https://localhost:8080/",
     "height": 34
    },
    "colab_type": "code",
    "executionInfo": {
     "elapsed": 1014,
     "status": "ok",
     "timestamp": 1591604860494,
     "user": {
      "displayName": "บอทน้อย Little bot",
      "photoUrl": "https://lh3.googleusercontent.com/a-/AOh14Gg_oKIVWfi33Hl20-CFISRlD3Yn6O6vRr0Kh3fdjBM=s64",
      "userId": "00386448689616224988"
     },
     "user_tz": -420
    },
    "id": "CxrCxzoY5NiQ",
    "outputId": "de664738-362a-4009-99d6-82fad1ebcf49"
   },
   "outputs": [
    {
     "data": {
      "text/plain": [
       "9"
      ]
     },
     "execution_count": 75,
     "metadata": {},
     "output_type": "execute_result"
    }
   ],
   "source": [
    "alist = [1,5,2,10,2,5,3,2,6,0,20,84,20,10,4,23,294,400,290,10]\n",
    "def getminpos():\n",
    "  minval = 10000\n",
    "  minind = 0\n",
    "  for i in range(len(alist)):\n",
    "    #print(i)\n",
    "    numbi = alist[i]\n",
    "    if numbi < minval:\n",
    "      minval = numbi\n",
    "      minind = i\n",
    "  return minind\n",
    "getminpos()"
   ]
  },
  {
   "cell_type": "code",
   "execution_count": 76,
   "metadata": {
    "colab": {},
    "colab_type": "code",
    "id": "8q50G4nKDANG"
   },
   "outputs": [],
   "source": [
    "a = 'hello'"
   ]
  },
  {
   "cell_type": "code",
   "execution_count": 77,
   "metadata": {
    "colab": {},
    "colab_type": "code",
    "id": "5hqN3dJFDkkD"
   },
   "outputs": [],
   "source": [
    "namelist = ['Winslet, Miss. Kate','Dawson, Mr. Jack','Voravuthikunchai, Mr. Winn','Voravuthikunchai, Master. Prin']"
   ]
  },
  {
   "cell_type": "code",
   "execution_count": 78,
   "metadata": {
    "colab": {},
    "colab_type": "code",
    "id": "uik3DdJOF_6T"
   },
   "outputs": [],
   "source": [
    "def getinitiallist(namelist):\n",
    "  initialList = []\n",
    "  for name in namelist:\n",
    "    nsplit = name.split(',')[1].split('.')[0]\n",
    "    initialList.append(nsplit)\n",
    "  return initialList"
   ]
  },
  {
   "cell_type": "markdown",
   "metadata": {
    "colab_type": "text",
    "id": "Nx0XuNke7PRB"
   },
   "source": []
  },
  {
   "cell_type": "code",
   "execution_count": 79,
   "metadata": {
    "colab": {
     "base_uri": "https://localhost:8080/",
     "height": 34
    },
    "colab_type": "code",
    "executionInfo": {
     "elapsed": 912,
     "status": "ok",
     "timestamp": 1591606103456,
     "user": {
      "displayName": "บอทน้อย Little bot",
      "photoUrl": "https://lh3.googleusercontent.com/a-/AOh14Gg_oKIVWfi33Hl20-CFISRlD3Yn6O6vRr0Kh3fdjBM=s64",
      "userId": "00386448689616224988"
     },
     "user_tz": -420
    },
    "id": "rHMtFV7I5Nqf",
    "outputId": "39b4b2de-7f9e-4be6-93c7-5c5c7720ec22"
   },
   "outputs": [
    {
     "data": {
      "text/plain": [
       "[' Miss', ' Mr', ' Mr', ' Master']"
      ]
     },
     "execution_count": 79,
     "metadata": {},
     "output_type": "execute_result"
    }
   ],
   "source": [
    "getinitiallist(namelist)"
   ]
  },
  {
   "cell_type": "code",
   "execution_count": 80,
   "metadata": {
    "colab": {},
    "colab_type": "code",
    "id": "y1Yio4R45NyH"
   },
   "outputs": [],
   "source": [
    "a = [10,2,30]\n",
    "\n"
   ]
  },
  {
   "cell_type": "code",
   "execution_count": 81,
   "metadata": {
    "colab": {
     "base_uri": "https://localhost:8080/",
     "height": 34
    },
    "colab_type": "code",
    "executionInfo": {
     "elapsed": 867,
     "status": "ok",
     "timestamp": 1591606409196,
     "user": {
      "displayName": "บอทน้อย Little bot",
      "photoUrl": "https://lh3.googleusercontent.com/a-/AOh14Gg_oKIVWfi33Hl20-CFISRlD3Yn6O6vRr0Kh3fdjBM=s64",
      "userId": "00386448689616224988"
     },
     "user_tz": -420
    },
    "id": "eEEfJ-vlHxQp",
    "outputId": "b14c5ec1-af62-48bf-b688-95292e46a04b"
   },
   "outputs": [
    {
     "data": {
      "text/plain": [
       "11.775681155103795"
      ]
     },
     "execution_count": 81,
     "metadata": {},
     "output_type": "execute_result"
    }
   ],
   "source": [
    "import numpy as np\n",
    "a = np.array(a)\n",
    "a.std()"
   ]
  },
  {
   "cell_type": "markdown",
   "metadata": {
    "colab_type": "text",
    "id": "sPVu5PRC127-"
   },
   "source": [
    "1. เขียนฟังก์ชันรับตัวแปร 2 ตัว แล้ว return ผลรวมของตัวแปรทั้งสองนั้น\n"
   ]
  },
  {
   "cell_type": "code",
   "execution_count": 83,
   "metadata": {
    "colab": {
     "base_uri": "https://localhost:8080/",
     "height": 102
    },
    "colab_type": "code",
    "executionInfo": {
     "elapsed": 8782,
     "status": "ok",
     "timestamp": 1591418006987,
     "user": {
      "displayName": "Natthaphat Itthiwaranurak",
      "photoUrl": "https://lh3.googleusercontent.com/a-/AOh14GjSzxYFkDfseJKpJ3cRi7XBpLHFCK-BVwdMyrvoPw=s64",
      "userId": "10026343638164926725"
     },
     "user_tz": -480
    },
    "id": "2hCxjodo4piG",
    "outputId": "f147fc31-8b69-4ea2-cc0a-3c099747f922"
   },
   "outputs": [
    {
     "name": "stdout",
     "output_type": "stream",
     "text": [
      "Please enter number 1 :\n"
     ]
    },
    {
     "name": "stdout",
     "output_type": "stream",
     "text": [
      " 2\n"
     ]
    },
    {
     "name": "stdout",
     "output_type": "stream",
     "text": [
      "Please enter number 2 :\n"
     ]
    },
    {
     "name": "stdout",
     "output_type": "stream",
     "text": [
      " 3\n"
     ]
    },
    {
     "name": "stdout",
     "output_type": "stream",
     "text": [
      "The sum is 5\n"
     ]
    },
    {
     "data": {
      "text/plain": [
       "5"
      ]
     },
     "execution_count": 83,
     "metadata": {},
     "output_type": "execute_result"
    }
   ],
   "source": [
    "def cal():\n",
    "  print('Please enter number 1 :')\n",
    "  input1 = int(input())\n",
    "  print('Please enter number 2 :')\n",
    "  input2 = int(input())\n",
    "  print ('The sum is ' + str(input1 + input2))\n",
    "  output = input1 + input2\n",
    "  return output\n",
    "cal()"
   ]
  },
  {
   "cell_type": "markdown",
   "metadata": {
    "colab_type": "text",
    "id": "xYMu7Tn01uEK"
   },
   "source": [
    "2. เขียนฟังก์ชันรับตัวแปร 2 ตัว แล้ว return ผลลบของตัวแปรทั้งสองนั้น"
   ]
  },
  {
   "cell_type": "code",
   "execution_count": null,
   "metadata": {
    "colab": {
     "base_uri": "https://localhost:8080/",
     "height": 102
    },
    "colab_type": "code",
    "executionInfo": {
     "elapsed": 6369,
     "status": "ok",
     "timestamp": 1591418023270,
     "user": {
      "displayName": "Natthaphat Itthiwaranurak",
      "photoUrl": "https://lh3.googleusercontent.com/a-/AOh14GjSzxYFkDfseJKpJ3cRi7XBpLHFCK-BVwdMyrvoPw=s64",
      "userId": "10026343638164926725"
     },
     "user_tz": -480
    },
    "id": "Zqcn3j1t4qE5",
    "outputId": "6b0e9ceb-0132-4bf4-d5fb-8ed9407489c4"
   },
   "outputs": [],
   "source": [
    "def cal():\n",
    "  print('Please enter number 1 :')\n",
    "  input1 = int(input())\n",
    "  print('Please enter number 2 :')\n",
    "  input2 = int(input())\n",
    "  print ('The subtraction is ' + str(input1 - input2))\n",
    "cal()"
   ]
  },
  {
   "cell_type": "markdown",
   "metadata": {
    "colab_type": "text",
    "id": "B3ikU6XJ2cUU"
   },
   "source": [
    "3. เขียนฟังก์ชันรับตัวแปรเป็น string แล้ว return ความยาวของ string\n"
   ]
  },
  {
   "cell_type": "code",
   "execution_count": null,
   "metadata": {
    "colab": {
     "base_uri": "https://localhost:8080/",
     "height": 68
    },
    "colab_type": "code",
    "executionInfo": {
     "elapsed": 6131,
     "status": "ok",
     "timestamp": 1591418121480,
     "user": {
      "displayName": "Natthaphat Itthiwaranurak",
      "photoUrl": "https://lh3.googleusercontent.com/a-/AOh14GjSzxYFkDfseJKpJ3cRi7XBpLHFCK-BVwdMyrvoPw=s64",
      "userId": "10026343638164926725"
     },
     "user_tz": -480
    },
    "id": "shoob8XU4qrB",
    "outputId": "2ac65fe6-d8ae-49a6-a1d2-686659e549c8"
   },
   "outputs": [],
   "source": [
    "def callen():\n",
    "  print('Please type sth :')\n",
    "  msg = input()\n",
    "  print(len(msg))\n",
    "callen()"
   ]
  },
  {
   "cell_type": "markdown",
   "metadata": {
    "colab_type": "text",
    "id": "Uvj4fbY-2eTU"
   },
   "source": [
    "4. เขียนฟังก์ชั่นรับตัวแปรสองตัว ตัวแรกเป็น string ตัวที่สองเป็น ตัวเลข n แล้ว print ตัวแปรแรก เป็นจำนวน n ครั้ง"
   ]
  },
  {
   "cell_type": "code",
   "execution_count": null,
   "metadata": {
    "colab": {
     "base_uri": "https://localhost:8080/",
     "height": 136
    },
    "colab_type": "code",
    "executionInfo": {
     "elapsed": 6003,
     "status": "ok",
     "timestamp": 1591418594597,
     "user": {
      "displayName": "Natthaphat Itthiwaranurak",
      "photoUrl": "https://lh3.googleusercontent.com/a-/AOh14GjSzxYFkDfseJKpJ3cRi7XBpLHFCK-BVwdMyrvoPw=s64",
      "userId": "10026343638164926725"
     },
     "user_tz": -480
    },
    "id": "3MwJP1kd4rUo",
    "outputId": "ab4d206b-2994-429c-f215-3aff65b37c8c"
   },
   "outputs": [],
   "source": [
    "def myloop():\n",
    "  print('Please enter number 1 :')\n",
    "  input1 = input()\n",
    "  print('Please enter number 2 :')\n",
    "  input2 = int(input())\n",
    "  i = 0\n",
    "  while i < input2:\n",
    "    print(input1)\n",
    "    i = i + 1\n",
    "myloop()"
   ]
  },
  {
   "cell_type": "markdown",
   "metadata": {
    "colab_type": "text",
    "id": "gzyxb6X73A2r"
   },
   "source": [
    "5. เขียนโปรแกรมทายชื่ออาหารที่ชอบ โดยให้แสดงรายการอาหารที่ให้คนทายเห็น ให้ตั้งค่ารายการอาหารที่เราชอบในโปรแกรม ถ้าคนทายทายถูกให้บอกว่า \"ถูกต้องนะคร๊าป\" ถ้าทายผิดให้บอกว่า \"ผิดครับ\"\n"
   ]
  },
  {
   "cell_type": "code",
   "execution_count": null,
   "metadata": {
    "colab": {
     "base_uri": "https://localhost:8080/",
     "height": 85
    },
    "colab_type": "code",
    "executionInfo": {
     "elapsed": 4154,
     "status": "ok",
     "timestamp": 1591418799163,
     "user": {
      "displayName": "Natthaphat Itthiwaranurak",
      "photoUrl": "https://lh3.googleusercontent.com/a-/AOh14GjSzxYFkDfseJKpJ3cRi7XBpLHFCK-BVwdMyrvoPw=s64",
      "userId": "10026343638164926725"
     },
     "user_tz": -480
    },
    "id": "HH0uwOQn3OY6",
    "outputId": "6bb89df9-8a60-44cf-884f-974fffee6689"
   },
   "outputs": [],
   "source": [
    "def guessfood():\n",
    "  my_fav_food = 'padthai'\n",
    "  print('Please enter foodname :')\n",
    "  guessfood = input()\n",
    "  if guessfood == my_fav_food:\n",
    "    print(guessfood)\n",
    "    print(\"ถูกต้องนะคร๊าป\")\n",
    "  else:\n",
    "    print(guessfood)\n",
    "    print(\"ผิดครับ\")\n",
    "guessfood()"
   ]
  },
  {
   "cell_type": "markdown",
   "metadata": {
    "colab_type": "text",
    "id": "gi21DoO_3Qc_"
   },
   "source": [
    "6. เขียนโปรแกรมเพื่อหาตำแหน่งของเลข 81 ใน numbers = [\n",
    "    386, 462, 47, 418, 907, 344, 236, 375, 823, 566, 597, 978, 328, 615, 953, 345, \n",
    "    399, 162, 758, 219, 918, 237, 412, 566, 826, 248, 866, 950, 626, 949, 687, 217, \n",
    "    815, 67, 104, 58, 512, 24, 892, 894, 767, 553, 81, 379, 843, 831, 445, 742, 717, \n",
    "    958,743, 527\n",
    "    ]"
   ]
  },
  {
   "cell_type": "code",
   "execution_count": null,
   "metadata": {
    "colab": {},
    "colab_type": "code",
    "id": "NYWywGH43sRn"
   },
   "outputs": [],
   "source": [
    "def find_index():\n",
    "  numbers = [ 386, 462, 47, 418, 907, 344, 236, 375, 823, 566, 597, 978, 328, 615, 953, \\\n",
    "            345, 399, 162, 758, 219, 918, 237, 412, 566, 826, 248, 866, 950, 626, 949, \\\n",
    "            687, 217, 815, 67, 104, 58, 512, 24, 892, 894, 767, 553, 81, 379, 843, 831, \\\n",
    "            445, 742, 717, 958,743, 527 ]\n",
    "\n",
    "  for i in range(len(numbers)):\n",
    "    if number[i] == 81:\n",
    "      return i"
   ]
  },
  {
   "cell_type": "code",
   "execution_count": null,
   "metadata": {
    "colab": {
     "base_uri": "https://localhost:8080/",
     "height": 266
    },
    "colab_type": "code",
    "executionInfo": {
     "elapsed": 1141,
     "status": "error",
     "timestamp": 1591420245604,
     "user": {
      "displayName": "Natthaphat Itthiwaranurak",
      "photoUrl": "https://lh3.googleusercontent.com/a-/AOh14GjSzxYFkDfseJKpJ3cRi7XBpLHFCK-BVwdMyrvoPw=s64",
      "userId": "10026343638164926725"
     },
     "user_tz": -480
    },
    "id": "s_2nQdN9-p5k",
    "outputId": "31a47011-445b-4b30-b518-cbddb24bb2f1"
   },
   "outputs": [],
   "source": [
    "\n"
   ]
  }
 ],
 "metadata": {
  "colab": {
   "collapsed_sections": [],
   "name": "สำเนาของ Basic_Python_Super_AI_Part1.ipynb",
   "provenance": [
    {
     "file_id": "1e3r2rKP8Zo31DAXL-2hn5B-ZW1R885uQ",
     "timestamp": 1600486555741
    },
    {
     "file_id": "1XTL87iMJ8D87G0xfiRTrYp5U_a9q89Fx",
     "timestamp": 1600428813078
    },
    {
     "file_id": "1nOgnf-Beu4_-qB0_ublhAkD9SP3SERcv",
     "timestamp": 1591622721620
    },
    {
     "file_id": "1ITfueDT_eNmOARWT5jWS0fAMkLkge9uA",
     "timestamp": 1591595877506
    },
    {
     "file_id": "1Y38v16vXgG5KHLE0nwd5yJsU4vDxRK-J",
     "timestamp": 1591417737733
    }
   ]
  },
  "kernelspec": {
   "display_name": "Python 3",
   "language": "python",
   "name": "python3"
  },
  "language_info": {
   "codemirror_mode": {
    "name": "ipython",
    "version": 3
   },
   "file_extension": ".py",
   "mimetype": "text/x-python",
   "name": "python",
   "nbconvert_exporter": "python",
   "pygments_lexer": "ipython3",
   "version": "3.8.12"
  }
 },
 "nbformat": 4,
 "nbformat_minor": 4
}
