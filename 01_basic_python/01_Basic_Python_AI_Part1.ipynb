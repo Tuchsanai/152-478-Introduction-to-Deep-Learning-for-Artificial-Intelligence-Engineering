{
  "cells": [
    {
      "cell_type": "markdown",
      "metadata": {
        "id": "xki3EXRScbBi"
      },
      "source": [
        "<a href=\"https://colab.research.google.com/github/Tuchsanai/152-478-Introduction-to-Deep-Learning-for-Artificial-Intelligence-Engineering/blob/main/01_basic_python/01_Basic_Python_AI_Part1.ipynb\" target=\"_parent\"><img src=\"https://colab.research.google.com/assets/colab-badge.svg\" alt=\"Open In Colab\"/></a>"
      ]
    },
    {
      "cell_type": "markdown",
      "metadata": {
        "id": "11Igdmb1mJOK"
      },
      "source": [
        "## Variable (ตัวแปร)\n",
        "- เหมือนกำลังเก็บของ มีป้ายแปะที่ลังเป็นชื่อตัวแปร ส่วนของข้างในคือข้อมูล\n",
        "- ทุกครั้งที่เห็นเครื่องหมาย = คือการนำค่าจากทางขวามือ มาใส่ลังที่มีชื่อทางซ้ายมือเสมอ"
      ]
    },
    {
      "cell_type": "markdown",
      "metadata": {
        "id": "bpVeRGQ6Y4ZF"
      },
      "source": [
        "### Numerical variable (ตัวแปรตัวเลข)\n",
        "\n"
      ]
    },
    {
      "cell_type": "code",
      "execution_count": null,
      "metadata": {
        "colab": {
          "base_uri": "https://localhost:8080/"
        },
        "id": "54lYRlPUl3EA",
        "outputId": "c1b91559-6291-45ba-e34e-fae187f0b183"
      },
      "outputs": [
        {
          "data": {
            "text/plain": [
              "3"
            ]
          },
          "execution_count": 1,
          "metadata": {},
          "output_type": "execute_result"
        }
      ],
      "source": [
        "a = 1 # ลังแปะป้ายชื่อ a ใส่ข้อมูลเป็นตัวเลข 1\n",
        "b = 2 # ลังแปะป้ายชื่อ b ใส่ข้อมูลเป็นตัวเลข 2\n",
        "c = a + b # ลังแปะป้ายชื่อ c ใส่ข้อมูลเป็นผลลัพธ์การจากการบวกกันของลัง a และลัง b ณ เวลาที่เอามาใส่\n",
        "c"
      ]
    },
    {
      "cell_type": "markdown",
      "metadata": {
        "id": "sy077VEhcqEt"
      },
      "source": [
        "float ในภาษาอื่นอาจแบ่งเป็น single และ double เพื่อระบุพื้นที่ใน RAM ในการเก็บข้อมูล แต่ใน python จะใช้ double เสมอ ยกเว้นจะใช้ฟังก์ชันพิเศษจาก library numpy `numpy.float32`\n"
      ]
    },
    {
      "cell_type": "code",
      "execution_count": null,
      "metadata": {
        "colab": {
          "base_uri": "https://localhost:8080/"
        },
        "id": "O8nBveEgchd2",
        "outputId": "1f802bd2-c47d-486a-f806-5a81b7f8a412"
      },
      "outputs": [
        {
          "name": "stdout",
          "output_type": "stream",
          "text": [
            "4\n",
            "2.0\n"
          ]
        }
      ],
      "source": [
        "a = 4 # integer จำนวนเต็ม\n",
        "b = 2.0 # float จำนวนทศนิยม \n",
        "print(a) \n",
        "print(b)"
      ]
    },
    {
      "cell_type": "code",
      "execution_count": null,
      "metadata": {
        "colab": {
          "base_uri": "https://localhost:8080/"
        },
        "id": "YT--aQNYczHA",
        "outputId": "1dae8402-4d3c-45c2-c24b-524e61f086b4"
      },
      "outputs": [
        {
          "name": "stdout",
          "output_type": "stream",
          "text": [
            "6.0\n",
            "8.0\n",
            "2.0\n",
            "16.0\n",
            "2.0\n"
          ]
        }
      ],
      "source": [
        "print(a+b)\n",
        "print(a*b)\n",
        "print(a/b)\n",
        "print(a**b)\n",
        "print(a**(1/b)) "
      ]
    },
    {
      "cell_type": "markdown",
      "metadata": {
        "id": "_SkLpNdDZA-H"
      },
      "source": [
        "## String variable (ตัวแปรตัวอักษร)\n"
      ]
    },
    {
      "cell_type": "markdown",
      "metadata": {
        "id": "tDJA_DbSs5io"
      },
      "source": [
        "- สิ่งที่อยู่ใน `' '` หรือ `\" \" `จะนับเป็นตัวอักษรทั้งหมดแม้ว่าจะเป็นตัวเลขหรือเครื่องหมายก็ตาม\n",
        "- การใช้ `\"` หรือ `'` ก็นับเป็น string เหมือนกัน ตัวภาษา python อนุญาตให้เราใช้ทั้งสองแบบ เผื่อในกรณีดังนี้\n",
        "\n",
        "1.   `text = \"I'm fine. Thank you.\"`\n",
        "2.   `text = 'This is an \"important\" part.'`\n",
        "\n"
      ]
    },
    {
      "cell_type": "code",
      "execution_count": null,
      "metadata": {
        "colab": {
          "base_uri": "https://localhost:8080/",
          "height": 35
        },
        "id": "jHmubc0MmcF7",
        "outputId": "f3c5a142-31d6-49e1-be25-34abe773b007"
      },
      "outputs": [
        {
          "data": {
            "text/plain": [
              "'hi, how are you?'"
            ]
          },
          "execution_count": 14,
          "metadata": {},
          "output_type": "execute_result"
        }
      ],
      "source": [
        "a = 'hi, '\n",
        "b = 'how are you?'\n",
        "c = a + b # การ + ของ string คือการนำมาต่อกัน\n",
        "c"
      ]
    },
    {
      "cell_type": "code",
      "execution_count": null,
      "metadata": {
        "id": "FHZQOgBjcbBn",
        "outputId": "d09ec64f-32f0-456a-879b-3e3113eaf258"
      },
      "outputs": [
        {
          "name": "stdout",
          "output_type": "stream",
          "text": [
            "hi, how are you?\n"
          ]
        }
      ],
      "source": [
        "print(c)"
      ]
    },
    {
      "cell_type": "code",
      "execution_count": null,
      "metadata": {
        "colab": {
          "base_uri": "https://localhost:8080/",
          "height": 35
        },
        "id": "DiIxrLdKmu0y",
        "outputId": "4e722fbc-dfb2-4fce-f469-069c1eadebec"
      },
      "outputs": [
        {
          "data": {
            "text/plain": [
              "'John has 10 USD.'"
            ]
          },
          "execution_count": 10,
          "metadata": {},
          "output_type": "execute_result"
        }
      ],
      "source": [
        "name = 'John'\n",
        "money = '10 USD'\n",
        "sentence = name + ' has ' + money + '.'\n",
        "sentence"
      ]
    },
    {
      "cell_type": "code",
      "execution_count": null,
      "metadata": {
        "id": "ei54yiK_cbBo",
        "outputId": "7e60c8a4-a69d-45eb-bc21-6986323c5fa1"
      },
      "outputs": [
        {
          "name": "stdout",
          "output_type": "stream",
          "text": [
            "John has 10 USD\n"
          ]
        }
      ],
      "source": [
        "print(name + ' has ' + money) # ใช้การ + เพื่อนำ string มาต่อกัน (concatenate)"
      ]
    },
    {
      "cell_type": "code",
      "execution_count": null,
      "metadata": {
        "id": "AcSANOZ1cbBo",
        "outputId": "4b793665-3cef-4bed-fc07-e34461874ca4"
      },
      "outputs": [
        {
          "name": "stdout",
          "output_type": "stream",
          "text": [
            "Johnhi, \n"
          ]
        }
      ],
      "source": [
        "print(name + a) # ตัวแปรคนละประเภทไม่สามารถนำมา + กันได้ "
      ]
    },
    {
      "cell_type": "markdown",
      "metadata": {
        "id": "MmIjzk6iN0zc"
      },
      "source": [
        "### Methods similar to Python string methods\n",
        "Nearly all Python's built-in string methods are mirrored by a Pandas vectorized string method. Here is a list of Pandas ``str`` methods that mirror Python string methods:\n",
        "\n",
        "|             |                  |                  |                  |\n",
        "|-------------|------------------|------------------|------------------|\n",
        "|``len()``    | ``lower()``      | ``translate()``  | ``islower()``    | \n",
        "|``ljust()``  | ``upper()``      | ``startswith()`` | ``isupper()``    | \n",
        "|``rjust()``  | ``find()``       | ``endswith()``   | ``isnumeric()``  | \n",
        "|``center()`` | ``rfind()``      | ``isalnum()``    | ``isdecimal()``  | \n",
        "|``zfill()``  | ``index()``      | ``isalpha()``    | ``split()``      | \n",
        "|``strip()``  | ``rindex()``     | ``isdigit()``    | ``rsplit()``     | \n",
        "|``rstrip()`` | ``capitalize()`` | ``isspace()``    | ``partition()``  | \n",
        "|``lstrip()`` |  ``swapcase()``  |  ``istitle()``   | ``rpartition()`` |\n",
        "\n",
        "Notice that these have various return values. Some, like ``lower()``, return a series of strings:"
      ]
    },
    {
      "cell_type": "markdown",
      "metadata": {
        "id": "YEGvntcgcbBp"
      },
      "source": [
        "###  Slicing a string"
      ]
    },
    {
      "cell_type": "code",
      "execution_count": null,
      "metadata": {
        "id": "ca23WHYXcbBp"
      },
      "outputs": [],
      "source": [
        "s = \"programming\"\n"
      ]
    },
    {
      "cell_type": "code",
      "execution_count": null,
      "metadata": {
        "id": "TIP56E-ScbBp",
        "outputId": "9194e488-81f6-4f65-a811-e14a3e022c9d"
      },
      "outputs": [
        {
          "data": {
            "text/plain": [
              "'pro'"
            ]
          },
          "execution_count": 5,
          "metadata": {},
          "output_type": "execute_result"
        }
      ],
      "source": [
        "s[0:3]"
      ]
    },
    {
      "cell_type": "code",
      "execution_count": null,
      "metadata": {
        "id": "jwdLRytgcbBp",
        "outputId": "4e938938-e571-4d78-e9b7-439d7200fc0d"
      },
      "outputs": [
        {
          "data": {
            "text/plain": [
              "'progr'"
            ]
          },
          "execution_count": 6,
          "metadata": {},
          "output_type": "execute_result"
        }
      ],
      "source": [
        "s[0:5]"
      ]
    },
    {
      "cell_type": "code",
      "execution_count": null,
      "metadata": {
        "id": "bEran1FLcbBp",
        "outputId": "2e1430d8-a398-4546-f59f-571258401643"
      },
      "outputs": [
        {
          "data": {
            "text/plain": [
              "'amming'"
            ]
          },
          "execution_count": 7,
          "metadata": {},
          "output_type": "execute_result"
        }
      ],
      "source": [
        "s[5:]"
      ]
    },
    {
      "cell_type": "markdown",
      "metadata": {
        "id": "NdQdg5cUcbBq"
      },
      "source": [
        "## Strip"
      ]
    },
    {
      "cell_type": "code",
      "execution_count": null,
      "metadata": {
        "id": "lTj0-F_9cbBq",
        "outputId": "8c97e700-9919-4ff8-b77d-a2b59f9f3364"
      },
      "outputs": [
        {
          "data": {
            "text/plain": [
              "'     programming is easy    '"
            ]
          },
          "execution_count": 1,
          "metadata": {},
          "output_type": "execute_result"
        }
      ],
      "source": [
        "string = \"     programming is easy    \"\n",
        "string"
      ]
    },
    {
      "cell_type": "code",
      "execution_count": null,
      "metadata": {
        "id": "b8-88rCEcbBq",
        "outputId": "2108b79b-0e8d-414c-9e23-25577123ade0"
      },
      "outputs": [
        {
          "data": {
            "text/plain": [
              "'programming is easy'"
            ]
          },
          "execution_count": 2,
          "metadata": {},
          "output_type": "execute_result"
        }
      ],
      "source": [
        "string.strip()"
      ]
    },
    {
      "cell_type": "markdown",
      "metadata": {
        "id": "BchoXdcAN0zf"
      },
      "source": [
        "## Upper"
      ]
    },
    {
      "cell_type": "code",
      "execution_count": null,
      "metadata": {
        "id": "0z_MRC8aN0zf",
        "outputId": "bf1fedbe-fd68-410a-ec37-09e10f94ab47"
      },
      "outputs": [
        {
          "data": {
            "text/plain": [
              "'PROGRAMMING'"
            ]
          },
          "execution_count": 24,
          "metadata": {},
          "output_type": "execute_result"
        }
      ],
      "source": [
        "s.upper()"
      ]
    },
    {
      "cell_type": "markdown",
      "metadata": {
        "id": "Rfgo9ZyiN0zf"
      },
      "source": [
        "## Lower"
      ]
    },
    {
      "cell_type": "code",
      "execution_count": null,
      "metadata": {
        "id": "Gi_c_Q4VN0zg",
        "outputId": "69f5e5b8-52c5-4299-f566-b856908f7bbb"
      },
      "outputs": [
        {
          "data": {
            "text/plain": [
              "'programming'"
            ]
          },
          "execution_count": 25,
          "metadata": {},
          "output_type": "execute_result"
        }
      ],
      "source": [
        "s.lower()"
      ]
    },
    {
      "cell_type": "markdown",
      "metadata": {
        "id": "dDTa8WoLN0zg"
      },
      "source": [
        "## Capitalize"
      ]
    },
    {
      "cell_type": "code",
      "execution_count": null,
      "metadata": {
        "id": "BDpwL1BsN0zg",
        "outputId": "9ed1f0d7-f779-47a9-c7e5-62de01d1b271"
      },
      "outputs": [
        {
          "data": {
            "text/plain": [
              "'Programming'"
            ]
          },
          "execution_count": 23,
          "metadata": {},
          "output_type": "execute_result"
        }
      ],
      "source": [
        "s.capitalize()"
      ]
    },
    {
      "cell_type": "markdown",
      "metadata": {
        "id": "8UfKndeqN0zg"
      },
      "source": [
        "## Startswith"
      ]
    },
    {
      "cell_type": "code",
      "execution_count": null,
      "metadata": {
        "id": "gX36vZ-DN0zg",
        "outputId": "6aca883a-5fdf-4fef-c4d7-bffe5b4903db"
      },
      "outputs": [
        {
          "data": {
            "text/plain": [
              "False"
            ]
          },
          "execution_count": 30,
          "metadata": {},
          "output_type": "execute_result"
        }
      ],
      "source": [
        "s.startswith('P')"
      ]
    },
    {
      "cell_type": "code",
      "execution_count": null,
      "metadata": {
        "id": "GCvYVqgeN0zh",
        "outputId": "5bc04672-abfd-40e3-da9d-dcc738d19718"
      },
      "outputs": [
        {
          "data": {
            "text/plain": [
              "True"
            ]
          },
          "execution_count": 31,
          "metadata": {},
          "output_type": "execute_result"
        }
      ],
      "source": [
        "s.startswith('p')"
      ]
    },
    {
      "cell_type": "code",
      "execution_count": null,
      "metadata": {
        "id": "ezDL89PxN0zh",
        "outputId": "2e42e6b1-950d-4a07-a110-b198fdfbae26"
      },
      "outputs": [
        {
          "data": {
            "text/plain": [
              "True"
            ]
          },
          "execution_count": 32,
          "metadata": {},
          "output_type": "execute_result"
        }
      ],
      "source": [
        "s.startswith('pro')"
      ]
    },
    {
      "cell_type": "code",
      "execution_count": null,
      "metadata": {
        "id": "e8coC25vN0zh",
        "outputId": "b26861c6-7dba-43eb-aa7b-96a5aaade2b7"
      },
      "outputs": [
        {
          "data": {
            "text/plain": [
              "False"
            ]
          },
          "execution_count": 33,
          "metadata": {},
          "output_type": "execute_result"
        }
      ],
      "source": [
        "s.startswith('prox')"
      ]
    },
    {
      "cell_type": "markdown",
      "metadata": {
        "id": "RqOQxYzHN0zh"
      },
      "source": [
        "## Find"
      ]
    },
    {
      "cell_type": "code",
      "execution_count": null,
      "metadata": {
        "id": "A4iL8XPEN0zh",
        "outputId": "3ad9b28d-9aa8-417e-a5b5-75adc15e8ce9"
      },
      "outputs": [
        {
          "data": {
            "text/plain": [
              "'programming'"
            ]
          },
          "execution_count": 39,
          "metadata": {},
          "output_type": "execute_result"
        }
      ],
      "source": [
        "s"
      ]
    },
    {
      "cell_type": "code",
      "execution_count": null,
      "metadata": {
        "id": "B0QeNCaqN0zi",
        "outputId": "2c9ad33c-02c4-468f-edfe-1c3097152081"
      },
      "outputs": [
        {
          "data": {
            "text/plain": [
              "6"
            ]
          },
          "execution_count": 42,
          "metadata": {},
          "output_type": "execute_result"
        }
      ],
      "source": [
        "s.find(\"m\")"
      ]
    },
    {
      "cell_type": "code",
      "execution_count": null,
      "metadata": {
        "id": "IwvLkzvcN0zi",
        "outputId": "58b40e4f-5c31-40a2-e1a5-f544ef841206"
      },
      "outputs": [
        {
          "data": {
            "text/plain": [
              "3"
            ]
          },
          "execution_count": 38,
          "metadata": {},
          "output_type": "execute_result"
        }
      ],
      "source": [
        "s.find(\"gram\")"
      ]
    },
    {
      "cell_type": "markdown",
      "metadata": {
        "id": "05BvrS3WDpo3"
      },
      "source": [
        "## Data type transformation"
      ]
    },
    {
      "cell_type": "markdown",
      "metadata": {
        "id": "k7KW6JeMD0lj"
      },
      "source": [
        "ใช้คำสั่ง `str(ตัวแปร)`, `int(ตัวแปร)`, `float(ตัวแปร)` เพื่อเปลี่ยนประเภทตัวแปรเป็น string, integer และ float ตามลำดับ"
      ]
    },
    {
      "cell_type": "code",
      "execution_count": null,
      "metadata": {
        "id": "W_DeX7iIN0zi"
      },
      "outputs": [],
      "source": [
        "a = 4\n",
        "name = 'John'"
      ]
    },
    {
      "cell_type": "code",
      "execution_count": null,
      "metadata": {
        "colab": {
          "base_uri": "https://localhost:8080/",
          "height": 86
        },
        "id": "7CMczwxsDwrQ",
        "outputId": "4dc37769-59bb-4370-93d3-3f55255dca9e"
      },
      "outputs": [
        {
          "name": "stdout",
          "output_type": "stream",
          "text": [
            "4\n",
            "<class 'int'>\n",
            "4\n",
            "<class 'str'>\n"
          ]
        }
      ],
      "source": [
        "print(a)\n",
        "print(type(a))\n",
        "print(str(a)) # a = '4'\n",
        "print(type(str(a)))"
      ]
    },
    {
      "cell_type": "code",
      "execution_count": null,
      "metadata": {
        "colab": {
          "base_uri": "https://localhost:8080/",
          "height": 69
        },
        "id": "zJW5YLloFA7b",
        "outputId": "497c73f0-1410-42c2-a981-aed68e19e382"
      },
      "outputs": [
        {
          "name": "stdout",
          "output_type": "stream",
          "text": [
            "8.401592\n",
            "3.1415925.26\n",
            "3\n"
          ]
        }
      ],
      "source": [
        "p = 3.141592\n",
        "print(p + 5.26) # float + float\n",
        "print(str(p) + str(5.26)) # str + str\n",
        "print(int(p))"
      ]
    },
    {
      "cell_type": "markdown",
      "metadata": {
        "id": "1P7N2wp3HG_o"
      },
      "source": [
        "## Printing string-number combination\n",
        "\n",
        "มี 3 วิธี ดังนี้"
      ]
    },
    {
      "cell_type": "markdown",
      "metadata": {
        "id": "yLXeuPhnHQnx"
      },
      "source": [
        "### 1) `,`\n",
        "\n"
      ]
    },
    {
      "cell_type": "code",
      "execution_count": null,
      "metadata": {
        "colab": {
          "base_uri": "https://localhost:8080/",
          "height": 51
        },
        "id": "ZajEiQLDHNvs",
        "outputId": "257bc371-1b3c-475e-8f4a-650543c10b3d"
      },
      "outputs": [
        {
          "name": "stdout",
          "output_type": "stream",
          "text": [
            "There are 4 cats in this room.\n",
            "There are 4 cats in this room.\n"
          ]
        }
      ],
      "source": [
        "print('There are',a,'cats in this room.')\n",
        "# ให้ผลเหมือนกันกับ\n",
        "print('There are '+str(a)+' cats in this room.')"
      ]
    },
    {
      "cell_type": "markdown",
      "metadata": {
        "id": "HkSSUIQmJJh2"
      },
      "source": [
        "### 2) \n",
        "\n",
        "\n",
        "\n"
      ]
    },
    {
      "cell_type": "code",
      "execution_count": null,
      "metadata": {
        "colab": {
          "base_uri": "https://localhost:8080/",
          "height": 103
        },
        "id": "oCb_-ECDJTOQ",
        "outputId": "c95780bc-7364-4b7f-be21-339d9a9ebb6d"
      },
      "outputs": [
        {
          "name": "stdout",
          "output_type": "stream",
          "text": [
            "Approximated Pi value is 3.141592\n",
            "Approximated Pi value is 3.1416\n"
          ]
        }
      ],
      "source": [
        "print(\"Approximated Pi value is {}\".format(p))\n",
        "print(\"Approximated Pi value is {:.4f}\".format(p))\n"
      ]
    },
    {
      "cell_type": "code",
      "execution_count": null,
      "metadata": {
        "id": "0CrUOxN2N0zk",
        "outputId": "f830657b-c7a9-457f-b52f-a5d277724748"
      },
      "outputs": [
        {
          "name": "stdout",
          "output_type": "stream",
          "text": [
            "My name is John. I've been here for 4 years\n",
            "My name is John. I've been here for 4.00000 years\n",
            "My name is John. I've been here for 4 years\n"
          ]
        }
      ],
      "source": [
        "print(\"My name is {}. I've been here for {} years\".format(name, a))\n",
        "print(\"My name is {n}. I've been here for {time:.5f} years\".format(n=name, time=float(a)))\n",
        "print(\"My name is {1}. I've been here for {0} years\".format(a, name))"
      ]
    },
    {
      "cell_type": "markdown",
      "metadata": {
        "id": "94LpiwuQJTgG"
      },
      "source": [
        "### 3) f-string "
      ]
    },
    {
      "cell_type": "code",
      "execution_count": null,
      "metadata": {
        "colab": {
          "base_uri": "https://localhost:8080/",
          "height": 86
        },
        "id": "6AvRJzyZOCjV",
        "outputId": "cd80afb4-4ef5-4493-9089-63ded8b25ddc"
      },
      "outputs": [
        {
          "name": "stdout",
          "output_type": "stream",
          "text": [
            "Approximated Pi value is 3.141592\n",
            "Approximated Pi value is 3.1416\n",
            "My name is John. I've been here for 4 years\n",
            "My name is John. I've been here for 4.00000 years\n"
          ]
        }
      ],
      "source": [
        "print(f\"Approximated Pi value is {p}\")\n",
        "print(f\"Approximated Pi value is {p:.4f}\")\n",
        "print(f\"My name is {name}. I've been here for {a} years\")\n",
        "print(f\"My name is {name}. I've been here for {a:.5f} years\") # a ไม่ต้องแปลงเป็น float ก่อนก็ได้"
      ]
    },
    {
      "cell_type": "code",
      "execution_count": null,
      "metadata": {
        "colab": {
          "base_uri": "https://localhost:8080/",
          "height": 86
        },
        "id": "WhXbmU4e1SAo",
        "outputId": "fbdb64dc-6b4e-4616-b8ac-bc7671fcb66b"
      },
      "outputs": [
        {
          "name": "stdout",
          "output_type": "stream",
          "text": [
            "5\n",
            "5.0\n",
            "2\n",
            "2.445\n"
          ]
        }
      ],
      "source": [
        "n1 = '5'\n",
        "n2 = '2.445'\n",
        "n3 = '3.44s'\n",
        "\n",
        "print(int(n1))\n",
        "print(float(n1))\n",
        "\n",
        "print(int(float(n2)))\n",
        "print(float(n2))\n",
        "\n"
      ]
    },
    {
      "cell_type": "markdown",
      "metadata": {
        "id": "CmckZOw4riFV"
      },
      "source": [
        "## List variable"
      ]
    },
    {
      "cell_type": "code",
      "execution_count": null,
      "metadata": {
        "colab": {
          "base_uri": "https://localhost:8080/",
          "height": 34
        },
        "id": "Oc3x-E4hrlQO",
        "outputId": "d6d7cb63-be9a-4755-cdfc-6c6d59a2fd85"
      },
      "outputs": [
        {
          "data": {
            "text/plain": [
              "[1, 2, 3, 4, 5, 'hi', 1, 3, [1, 2, 3, 4, 5]]"
            ]
          },
          "execution_count": 36,
          "metadata": {},
          "output_type": "execute_result"
        }
      ],
      "source": [
        "x = [1,2,3,4,5]\n",
        "y = ['hi',1,3,x]\n",
        "z = x + y\n",
        "z"
      ]
    },
    {
      "cell_type": "markdown",
      "metadata": {
        "id": "JwyCPrRWtEGd"
      },
      "source": [
        "How to access element in LIST"
      ]
    },
    {
      "cell_type": "code",
      "execution_count": null,
      "metadata": {
        "colab": {
          "base_uri": "https://localhost:8080/",
          "height": 34
        },
        "id": "4j2NFF3XtHlq",
        "outputId": "91544162-481a-4139-d683-2dac03ca3ab6"
      },
      "outputs": [
        {
          "data": {
            "text/plain": [
              "[4, 5, 'hi', 1, 3, [1, 2, 3, 4, 5]]"
            ]
          },
          "execution_count": 37,
          "metadata": {},
          "output_type": "execute_result"
        }
      ],
      "source": [
        "z[3:]"
      ]
    },
    {
      "cell_type": "code",
      "execution_count": null,
      "metadata": {
        "colab": {
          "base_uri": "https://localhost:8080/",
          "height": 34
        },
        "id": "OJ6YNzSUtmWr",
        "outputId": "913d57da-b98d-496b-d651-9f76aefcabd7"
      },
      "outputs": [
        {
          "data": {
            "text/plain": [
              "3"
            ]
          },
          "execution_count": 38,
          "metadata": {},
          "output_type": "execute_result"
        }
      ],
      "source": [
        "z[8][2]"
      ]
    },
    {
      "cell_type": "markdown",
      "metadata": {
        "id": "Vc7BiJyKk5Gd"
      },
      "source": [
        "**LIST**\n",
        "It's a container that can contain any anything i.e. datatype, function, object, variables etc. "
      ]
    },
    {
      "cell_type": "code",
      "execution_count": null,
      "metadata": {
        "colab": {
          "base_uri": "https://localhost:8080/",
          "height": 34
        },
        "id": "Zvo-u74mgSok",
        "outputId": "f355541e-3fae-4083-8b24-2554780d916e"
      },
      "outputs": [
        {
          "data": {
            "text/plain": [
              "'hello'"
            ]
          },
          "execution_count": 43,
          "metadata": {},
          "output_type": "execute_result"
        }
      ],
      "source": [
        "x = ['hello',hellofriend,3,4,5,6]\n",
        "y = [x]\n",
        "z = ['hello',x,y]\n",
        "#x[2:]\n",
        "z[2][0][0]"
      ]
    },
    {
      "cell_type": "code",
      "execution_count": null,
      "metadata": {
        "colab": {
          "base_uri": "https://localhost:8080/",
          "height": 51
        },
        "id": "3dVMsm14iyiJ",
        "outputId": "4a846f2a-e255-4cc7-cb21-2705f74f53a1"
      },
      "outputs": [
        {
          "name": "stdout",
          "output_type": "stream",
          "text": [
            "[1, 2, 3, 4, 5]\n",
            "[1, 2, 3, 4, 5, 6, 7, 8]\n"
          ]
        }
      ],
      "source": [
        "y = [1,2,3,4,5,6,7,8]\n",
        "#print(y[0:5])\n",
        "#print(len(y))\n",
        "#print(sum(y))\n",
        "print(y[0:5])\n",
        "print(y)"
      ]
    },
    {
      "cell_type": "markdown",
      "metadata": {
        "id": "YONe0Z-Fwl5l"
      },
      "source": [
        "## Function"
      ]
    },
    {
      "cell_type": "code",
      "execution_count": null,
      "metadata": {
        "id": "NeOwoSJAOGC4"
      },
      "outputs": [],
      "source": [
        "a = input('please insert integer')"
      ]
    },
    {
      "cell_type": "code",
      "execution_count": null,
      "metadata": {
        "colab": {
          "base_uri": "https://localhost:8080/",
          "height": 35
        },
        "id": "rq_ItItCOSkU",
        "outputId": "7d36fd26-f1e7-4a2d-89eb-690087959780"
      },
      "outputs": [
        {
          "data": {
            "text/plain": [
              "'5'"
            ]
          },
          "execution_count": 3,
          "metadata": {},
          "output_type": "execute_result"
        }
      ],
      "source": [
        "a"
      ]
    },
    {
      "cell_type": "markdown",
      "metadata": {
        "id": "4xjbbWxaQ521"
      },
      "source": [
        "#### ทดสอบ Error"
      ]
    },
    {
      "cell_type": "code",
      "execution_count": null,
      "metadata": {
        "id": "cJjXNLQKQ521"
      },
      "outputs": [],
      "source": [
        "a+10"
      ]
    },
    {
      "cell_type": "markdown",
      "metadata": {
        "id": "TAS5dxkpQ521"
      },
      "source": [
        "##### ต้องแปลงจาก string เป็น integer"
      ]
    },
    {
      "cell_type": "code",
      "execution_count": null,
      "metadata": {
        "colab": {
          "base_uri": "https://localhost:8080/"
        },
        "id": "RIjWerVoOj_c",
        "outputId": "e235fa48-96b8-43f1-960a-07e76368355c"
      },
      "outputs": [
        {
          "data": {
            "text/plain": [
              "6"
            ]
          },
          "execution_count": 5,
          "metadata": {},
          "output_type": "execute_result"
        }
      ],
      "source": [
        "int(a)+1"
      ]
    },
    {
      "cell_type": "code",
      "execution_count": null,
      "metadata": {
        "id": "qqS29xz1Q522"
      },
      "outputs": [],
      "source": [
        "def addone(x):\n",
        "  return x+1\n",
        "\n",
        "\n"
      ]
    },
    {
      "cell_type": "code",
      "execution_count": null,
      "metadata": {
        "id": "8jmzNTvsQ522",
        "outputId": "eefa0ad9-29ec-47e3-8b56-c6fc13038ceb"
      },
      "outputs": [
        {
          "data": {
            "text/plain": [
              "6"
            ]
          },
          "execution_count": 8,
          "metadata": {},
          "output_type": "execute_result"
        }
      ],
      "source": [
        "addone( int(a))"
      ]
    },
    {
      "cell_type": "code",
      "execution_count": null,
      "metadata": {
        "id": "I6BIfxe4d1wG"
      },
      "outputs": [],
      "source": [
        "def hellofriend():\n",
        "  namefriend = input('Please insert your name.\\n')\n",
        "  output = 'hello '+namefriend + '!'\n",
        "  return output"
      ]
    },
    {
      "cell_type": "code",
      "execution_count": null,
      "metadata": {
        "id": "YwqwfXukfltJ"
      },
      "outputs": [],
      "source": [
        "hellofriend()"
      ]
    },
    {
      "cell_type": "markdown",
      "metadata": {
        "id": "3qhZeGeykTTh"
      },
      "source": [
        "**Expressions**"
      ]
    },
    {
      "cell_type": "code",
      "execution_count": null,
      "metadata": {
        "colab": {
          "base_uri": "https://localhost:8080/",
          "height": 119
        },
        "id": "giEzzFDtjs67",
        "outputId": "f88ab15d-2283-4954-c6f2-a6b961cf2a75"
      },
      "outputs": [
        {
          "name": "stdout",
          "output_type": "stream",
          "text": [
            "True\n",
            "False\n",
            "False\n",
            "True\n",
            "False\n",
            "True\n"
          ]
        }
      ],
      "source": [
        "x = 5\n",
        "y = 5\n",
        "print(x == y)\n",
        "print(x != y)\n",
        "print(x < y)\n",
        "print(x <=y)\n",
        "print(x > y)\n",
        "print(x >= y)"
      ]
    },
    {
      "cell_type": "code",
      "execution_count": null,
      "metadata": {
        "id": "dasupu_pwpDj"
      },
      "outputs": [],
      "source": [
        "x = 5\n",
        "y = 5\n",
        "z = 2\n"
      ]
    },
    {
      "cell_type": "code",
      "execution_count": null,
      "metadata": {
        "colab": {
          "base_uri": "https://localhost:8080/",
          "height": 34
        },
        "id": "NhNLgQjGtvxN",
        "outputId": "852e150d-1e6b-4a56-b247-f773a7184b4d"
      },
      "outputs": [
        {
          "data": {
            "text/plain": [
              "True"
            ]
          },
          "execution_count": 46,
          "metadata": {},
          "output_type": "execute_result"
        }
      ],
      "source": [
        "x = 5\n",
        "y = 4\n",
        "x = y\n",
        "x == y\n"
      ]
    },
    {
      "cell_type": "code",
      "execution_count": null,
      "metadata": {
        "colab": {
          "base_uri": "https://localhost:8080/",
          "height": 34
        },
        "id": "DntxexKjxmjr",
        "outputId": "3bad4952-6ace-4bb8-ff8e-be883ea824d3"
      },
      "outputs": [
        {
          "data": {
            "text/plain": [
              "True"
            ]
          },
          "execution_count": 47,
          "metadata": {},
          "output_type": "execute_result"
        }
      ],
      "source": [
        "x = [1,2,3,4,5]\n",
        "(6 in x) | (x[0]<5)"
      ]
    },
    {
      "cell_type": "code",
      "execution_count": null,
      "metadata": {
        "colab": {
          "base_uri": "https://localhost:8080/",
          "height": 102
        },
        "id": "3NhPbHK4kpFt",
        "outputId": "a0d39060-a65c-43f6-c063-d06eaacc72aa"
      },
      "outputs": [
        {
          "name": "stdout",
          "output_type": "stream",
          "text": [
            "True\n",
            "True\n",
            "False\n",
            "True\n",
            "False\n"
          ]
        }
      ],
      "source": [
        "x = [1,2,3,4,5]\n",
        "print(1 in x)\n",
        "print(len(x)<=10)\n",
        "print(len(x)>=10)\n",
        "print(sum(x)<=100)\n",
        "print(sum(x)>=100)"
      ]
    },
    {
      "cell_type": "code",
      "execution_count": null,
      "metadata": {
        "colab": {
          "base_uri": "https://localhost:8080/",
          "height": 34
        },
        "id": "aOfV-5oJmTjV",
        "outputId": "383844fc-3756-4fb1-b011-23e4ddc7ddfc"
      },
      "outputs": [
        {
          "data": {
            "text/plain": [
              "True"
            ]
          },
          "execution_count": 49,
          "metadata": {},
          "output_type": "execute_result"
        }
      ],
      "source": [
        "x = 'taoshinjuku'\n",
        "y = 'tao'\n",
        "x[0:3] == y"
      ]
    },
    {
      "cell_type": "markdown",
      "metadata": {
        "id": "30gm5cS2lxI5"
      },
      "source": [
        "**Condition**"
      ]
    },
    {
      "cell_type": "code",
      "execution_count": null,
      "metadata": {
        "colab": {
          "base_uri": "https://localhost:8080/",
          "height": 34
        },
        "id": "NVeBA9qyl0Fe",
        "outputId": "c32d5332-2b75-4ab6-9d7f-c954ac01cdcd"
      },
      "outputs": [
        {
          "name": "stdout",
          "output_type": "stream",
          "text": [
            "good bye\n"
          ]
        }
      ],
      "source": [
        "x = 3\n",
        "y = 2\n",
        "if x < y:\n",
        "  print('hello')\n",
        "else:\n",
        "  print('good bye')"
      ]
    },
    {
      "cell_type": "code",
      "execution_count": null,
      "metadata": {
        "colab": {
          "base_uri": "https://localhost:8080/",
          "height": 34
        },
        "id": "IOkYt5cEyviP",
        "outputId": "009c4b0c-0c55-454d-e946-9ad29aac5111"
      },
      "outputs": [
        {
          "name": "stdout",
          "output_type": "stream",
          "text": [
            "who are you?\n"
          ]
        }
      ],
      "source": [
        "x = 'taoshinjuku'\n",
        "y = 'taorama9'\n",
        "if x[0:4] == y [0:4]:\n",
        "  print('hey we have common names')\n",
        "else:\n",
        "  print('who are you?')"
      ]
    },
    {
      "cell_type": "code",
      "execution_count": null,
      "metadata": {
        "colab": {
          "base_uri": "https://localhost:8080/",
          "height": 51
        },
        "id": "lPB_yQfczVli",
        "outputId": "bbf32baa-8701-4820-9444-0913bf64d8a9"
      },
      "outputs": [
        {
          "name": "stdout",
          "output_type": "stream",
          "text": [
            "False\n"
          ]
        },
        {
          "data": {
            "text/plain": [
              "1"
            ]
          },
          "execution_count": 52,
          "metadata": {},
          "output_type": "execute_result"
        }
      ],
      "source": [
        "x = 1\n",
        "y = 2\n",
        "print(x == y)\n",
        "x"
      ]
    },
    {
      "cell_type": "code",
      "execution_count": null,
      "metadata": {
        "id": "mlKQc7hCmL7r"
      },
      "outputs": [],
      "source": [
        "def howmuch():\n",
        "  mywallet = 100\n",
        "  pricetag = input('how much is that thing?\\n')\n",
        "  pricetag = int(pricetag)\n",
        "  if mywallet < pricetag:\n",
        "    return \"Sorry, may be next time.\"\n",
        "  else:\n",
        "    return \"Could I have one, please.\""
      ]
    },
    {
      "cell_type": "code",
      "execution_count": null,
      "metadata": {
        "colab": {
          "base_uri": "https://localhost:8080/",
          "height": 68
        },
        "id": "EIosR5m6mx_K",
        "outputId": "c9379695-8243-4d87-8a6a-567652ec367f"
      },
      "outputs": [
        {
          "name": "stdout",
          "output_type": "stream",
          "text": [
            "how much is that thing?\n",
            " 12\n"
          ]
        },
        {
          "data": {
            "text/plain": [
              "'Could I have one, please.'"
            ]
          },
          "execution_count": 55,
          "metadata": {},
          "output_type": "execute_result"
        }
      ],
      "source": [
        "howmuch()"
      ]
    },
    {
      "cell_type": "code",
      "execution_count": null,
      "metadata": {
        "id": "0EMzGCgx0DS8"
      },
      "outputs": [],
      "source": [
        ""
      ]
    },
    {
      "cell_type": "markdown",
      "metadata": {
        "id": "Kuo525g6u6QQ"
      },
      "source": [
        "**for LOOP**"
      ]
    },
    {
      "cell_type": "code",
      "execution_count": null,
      "metadata": {
        "colab": {
          "base_uri": "https://localhost:8080/",
          "height": 272
        },
        "id": "ypd_YO-Z0dI3",
        "outputId": "e78d4193-a876-44c0-ad84-32ae406daecc"
      },
      "outputs": [
        {
          "name": "stdout",
          "output_type": "stream",
          "text": [
            "1\n",
            "สวัสดีชาวโลก\n"
          ]
        },
        {
          "name": "stdout",
          "output_type": "stream",
          "text": [
            " \n"
          ]
        },
        {
          "name": "stdout",
          "output_type": "stream",
          "text": [
            "2\n",
            "สวัสดีชาวโลก\n"
          ]
        },
        {
          "name": "stdout",
          "output_type": "stream",
          "text": [
            " \n"
          ]
        },
        {
          "name": "stdout",
          "output_type": "stream",
          "text": [
            "3\n",
            "สวัสดีชาวโลก\n"
          ]
        },
        {
          "name": "stdout",
          "output_type": "stream",
          "text": [
            " \n"
          ]
        },
        {
          "name": "stdout",
          "output_type": "stream",
          "text": [
            "4\n",
            "สวัสดีชาวโลก\n"
          ]
        },
        {
          "name": "stdout",
          "output_type": "stream",
          "text": [
            " \n"
          ]
        },
        {
          "name": "stdout",
          "output_type": "stream",
          "text": [
            "5\n",
            "สวัสดีชาวโลก\n"
          ]
        },
        {
          "name": "stdout",
          "output_type": "stream",
          "text": [
            " \n"
          ]
        }
      ],
      "source": [
        "for i in [1,2,3,4,5]:\n",
        "  print(i)\n",
        "  print('สวัสดีชาวโลก')\n",
        "  input()"
      ]
    },
    {
      "cell_type": "code",
      "execution_count": null,
      "metadata": {
        "id": "B-0Me9-X1Fvs"
      },
      "outputs": [],
      "source": [
        "namelist = ['winn','tao','arm','met','pint','wan','worachai','bee','wasunee']\n",
        "countname = 0\n",
        "for name in namelist:\n",
        "  print(name)\n",
        "  nameinitial = name[0]\n",
        "  print(nameinitial)\n",
        "  if nameinitial == 'w':\n",
        "    print('name initial is \"w\"')\n",
        "    print(countname)\n",
        "    countname = countname + 1\n",
        "    print('countname has been increased')\n",
        "    print(countname)\n",
        "  input()\n"
      ]
    },
    {
      "cell_type": "markdown",
      "metadata": {
        "id": "R9x1MSAdr89h"
      },
      "source": [
        "**while LOOP**"
      ]
    },
    {
      "cell_type": "code",
      "execution_count": null,
      "metadata": {
        "colab": {
          "base_uri": "https://localhost:8080/",
          "height": 187
        },
        "id": "ZH4T9XUAr7vV",
        "outputId": "75c7c5df-ebdc-41a6-85f4-06305508fc80"
      },
      "outputs": [
        {
          "name": "stdout",
          "output_type": "stream",
          "text": [
            "0\n",
            "1\n",
            "2\n",
            "3\n",
            "4\n",
            "5\n",
            "6\n",
            "7\n",
            "8\n",
            "9\n"
          ]
        }
      ],
      "source": [
        "i = 0\n",
        "while i < 10:\n",
        "  print(i)\n",
        "  i = i + 1\n"
      ]
    },
    {
      "cell_type": "code",
      "execution_count": null,
      "metadata": {
        "colab": {
          "base_uri": "https://localhost:8080/",
          "height": 51
        },
        "id": "SPqJNaelqAHH",
        "outputId": "4314c35c-3c0f-4a7b-89cd-4d1bf01fedce"
      },
      "outputs": [
        {
          "name": "stdout",
          "output_type": "stream",
          "text": [
            "<class 'str'>\n",
            "<class 'int'>\n"
          ]
        }
      ],
      "source": [
        "a='10'\n",
        "print(type(a))\n",
        "a = int(a)\n",
        "print(type(a))"
      ]
    },
    {
      "cell_type": "code",
      "execution_count": null,
      "metadata": {
        "colab": {
          "base_uri": "https://localhost:8080/",
          "height": 187
        },
        "id": "pDHiEg8gu9tr",
        "outputId": "fdd01dfe-dda2-4a04-a731-0c0f261df715"
      },
      "outputs": [
        {
          "name": "stdout",
          "output_type": "stream",
          "text": [
            "2\n",
            "hi1\n",
            "4\n",
            "5\n",
            "6\n",
            "7\n",
            "8\n",
            "9\n",
            "10\n",
            "11\n"
          ]
        }
      ],
      "source": [
        "a = [1,'hi',3,4,5,6,7,[1,2],8,9,10]\n",
        "for i in a:\n",
        "  typei = type(i)\n",
        "  if typei == int:\n",
        "    print(i+1)\n",
        "  elif typei == str:\n",
        "    print(i+str(1))\n",
        "  else:\n",
        "    pass\n",
        "  #print('hello world!')"
      ]
    },
    {
      "cell_type": "code",
      "execution_count": null,
      "metadata": {
        "colab": {
          "base_uri": "https://localhost:8080/",
          "height": 34
        },
        "id": "xH12mc0dvbDo",
        "outputId": "2bd21b22-902b-404f-cba0-23888af13c8d"
      },
      "outputs": [
        {
          "data": {
            "text/plain": [
              "['choco_added', 'coffee_added', 'milk_added']"
            ]
          },
          "execution_count": 51,
          "metadata": {},
          "output_type": "execute_result"
        }
      ],
      "source": [
        "def checkproduct(product):\n",
        "  return product+'_added'\n",
        "\n",
        "productList = ['choco','coffee','milk']\n",
        "outputList = []\n",
        "\n",
        "for product in productList:\n",
        "  output = checkproduct(product)\n",
        "  outputList.append(output)\n",
        "outputList"
      ]
    },
    {
      "cell_type": "markdown",
      "metadata": {
        "id": "nOOhqWe2xrWR"
      },
      "source": [
        "**Function**"
      ]
    },
    {
      "cell_type": "code",
      "execution_count": null,
      "metadata": {
        "id": "L-rs_u2b_CTD"
      },
      "outputs": [],
      "source": [
        "def addonetonum(num):\n",
        "  output = num + 1\n",
        "  return output"
      ]
    },
    {
      "cell_type": "code",
      "execution_count": null,
      "metadata": {
        "colab": {
          "base_uri": "https://localhost:8080/",
          "height": 34
        },
        "id": "iOJZXyy9_uQn",
        "outputId": "8d2b3027-2117-4066-8fee-50239bc74b2d"
      },
      "outputs": [
        {
          "data": {
            "text/plain": [
              "30"
            ]
          },
          "execution_count": 53,
          "metadata": {},
          "output_type": "execute_result"
        }
      ],
      "source": [
        "def sumtwonumbers(num1,num2):\n",
        "  output = num1 + num2\n",
        "  return output\n",
        "\n",
        "sumtwonumbers(10,20)"
      ]
    },
    {
      "cell_type": "markdown",
      "metadata": {
        "id": "amsEGczd1LQR"
      },
      "source": [
        "**Exercise**"
      ]
    },
    {
      "cell_type": "markdown",
      "metadata": {
        "id": "dKr0LMUPGTyx"
      },
      "source": [
        "ให้สร้าง เงื่อนไข รักสามเศร้า เลือกรักใครได้แค่คนเดียว\n",
        "\n",
        "โดยรับ Input เป็นชื่อ\n",
        "\n",
        "หากเป็นชื่อ โกแฮรี ให้บอกว่า ผมรักคุณ\n",
        "\n",
        "หากเป็นชื่อ ลำยอง ให้บอกว่า\n",
        "เราเป็นได้แค่พี่น้อง\n",
        "\n",
        "หากเป็นชื่อ อื่นๆ ให้บอกว่า ผมไม่รู้จักคุณ"
      ]
    },
    {
      "cell_type": "code",
      "execution_count": null,
      "metadata": {
        "id": "COdwIOz4GTYJ"
      },
      "outputs": [],
      "source": [
        "def trianglelove(name):\n",
        "  if name == 'โกแฮรี':\n",
        "    return 'ผมรักคุณ'\n",
        "  elif name == 'ลำยอง':\n",
        "    return 'เราเป็นได้แค่พี่น้อง'\n",
        "  else:\n",
        "    return 'ผมไม่รู้จักคุณ'\n"
      ]
    },
    {
      "cell_type": "code",
      "execution_count": null,
      "metadata": {
        "colab": {
          "base_uri": "https://localhost:8080/",
          "height": 34
        },
        "id": "atxdmaC-Qpuw",
        "outputId": "4df34498-c2dc-41c1-f1f1-e080a02484ad"
      },
      "outputs": [
        {
          "data": {
            "text/plain": [
              "'ผมไม่รู้จักคุณ'"
            ]
          },
          "execution_count": 64,
          "metadata": {},
          "output_type": "execute_result"
        }
      ],
      "source": [
        "trianglelove('เต๋า')"
      ]
    },
    {
      "cell_type": "markdown",
      "metadata": {
        "id": "pxgapIReKO-a"
      },
      "source": [
        "ให้เขียน function รับค่าตัวเลขเข้ามา 2 ตัว \n",
        "แล้วให้หาผลรวมทั้งหมดระหว่างค่าของตัวเลขทั้ง 2 ตัวนั้น\n",
        "อย่างเช่น \n",
        "f(a,b) เมื่อ a=2, b=4\n",
        "ผลลัพธ์ที่ได้จาก function นี้จะต้องได้เท่ากับ 9 ซึ่งมาจาก 2+3+4\n",
        "หรือ\n",
        " f(a,b) เมื่อ a=5, b=1\n",
        "ผลลัพธ์ที่ได้จาก function นี้จะต้องได้เท่ากับ 15 ซึ่งมาจาก 1+2+3+4+5"
      ]
    },
    {
      "cell_type": "code",
      "execution_count": null,
      "metadata": {
        "id": "L4EdsChiJ7XB"
      },
      "outputs": [],
      "source": [
        "def getsumofallnumberbetween(num1,num2):\n",
        "  if num1 > num2:\n",
        "    num1, num2 = num2, num1\n",
        "  sumnum = 0\n",
        "  for num in range(num1,num2+1):\n",
        "    sumnum = sumnum + num\n",
        "    #print(num)\n",
        "  return sumnum"
      ]
    },
    {
      "cell_type": "code",
      "execution_count": null,
      "metadata": {
        "colab": {
          "base_uri": "https://localhost:8080/",
          "height": 34
        },
        "id": "mSaoFf6ORGPY",
        "outputId": "cf7cb2d9-6a76-4c5f-db0c-d6b44734fe65"
      },
      "outputs": [
        {
          "data": {
            "text/plain": [
              "55"
            ]
          },
          "execution_count": 68,
          "metadata": {},
          "output_type": "execute_result"
        }
      ],
      "source": [
        "getsumofallnumberbetween(1,10)"
      ]
    },
    {
      "cell_type": "markdown",
      "metadata": {
        "id": "Ix1UXbs-HEaR"
      },
      "source": [
        "จงเขียนฟังก์ชั่นหาค่าตัวเลขที่น้อยที่สุดใน LIST \n",
        "\n"
      ]
    },
    {
      "cell_type": "code",
      "execution_count": null,
      "metadata": {
        "id": "cNzSGx7YKjN5"
      },
      "outputs": [],
      "source": [
        "def getsmallestnuminlist(numList):\n",
        "  smallestnum = 100000000000000\n",
        "  for num in numList:\n",
        "    if type(num)==str:\n",
        "      continue\n",
        "    if num < smallestnum:\n",
        "      smallestnum = num\n",
        "\n",
        "  return smallestnum"
      ]
    },
    {
      "cell_type": "code",
      "execution_count": null,
      "metadata": {
        "colab": {
          "base_uri": "https://localhost:8080/",
          "height": 34
        },
        "id": "FYEXlP3wSpVK",
        "outputId": "532f9fb1-a659-468e-af8b-4ef92c1fa5f2"
      },
      "outputs": [
        {
          "data": {
            "text/plain": [
              "-1"
            ]
          },
          "execution_count": 70,
          "metadata": {},
          "output_type": "execute_result"
        }
      ],
      "source": [
        "numList = [10,5,0,21,412,'df',2,123,123,-1,29]\n",
        "getsmallestnuminlist(numList)"
      ]
    },
    {
      "cell_type": "markdown",
      "metadata": {
        "id": "GMdfInK6KxAI"
      },
      "source": [
        "จงเขียนฟังก์ชันที่สกัดตัวเลขที่หาร 2 ลงตัว รับ input เป็น list"
      ]
    },
    {
      "cell_type": "code",
      "execution_count": null,
      "metadata": {
        "id": "zf1jpS8vK5KZ"
      },
      "outputs": [],
      "source": [
        "def getevennum(numList):\n",
        "  evenList = []\n",
        "  for num in numList:\n",
        "    if num%3 == 0:\n",
        "      evenList.append(num)\n",
        "  return evenList"
      ]
    },
    {
      "cell_type": "code",
      "execution_count": null,
      "metadata": {
        "colab": {
          "base_uri": "https://localhost:8080/",
          "height": 34
        },
        "id": "uIdmnNRfUB06",
        "outputId": "b30a04b5-7ee5-4a82-d7b1-d0a2acf54550"
      },
      "outputs": [
        {
          "data": {
            "text/plain": [
              "[3, 6, 9]"
            ]
          },
          "execution_count": 72,
          "metadata": {},
          "output_type": "execute_result"
        }
      ],
      "source": [
        "getevennum([1,2,3,4,5,6,7,8,9,10])"
      ]
    },
    {
      "cell_type": "markdown",
      "metadata": {
        "id": "m9l-34ug5Obr"
      },
      "source": [
        "1. จงหาผลรวมของตัวเลขที่อยู่ใน alist (ให้รวมตัวเลขที่เป็น format string ด้วย)"
      ]
    },
    {
      "cell_type": "code",
      "execution_count": null,
      "metadata": {
        "colab": {
          "base_uri": "https://localhost:8080/",
          "height": 34
        },
        "id": "gxWaFuHS5NB_",
        "outputId": "6ddff9fe-f895-4dc5-9d75-33fd5dd27ff6"
      },
      "outputs": [
        {
          "data": {
            "text/plain": [
              "55"
            ]
          },
          "execution_count": 73,
          "metadata": {},
          "output_type": "execute_result"
        }
      ],
      "source": [
        "alist = ['hello',1,'b','2',4,1,'how',5,2,10,'are','you',4,3,'2','1','20']\n",
        "def sumnum():\n",
        "  result = 0\n",
        "  for a in alist:\n",
        "    if type(a)==int:\n",
        "      result = result + a\n",
        "    elif type(a)==str:\n",
        "      try:\n",
        "        a = int(a)\n",
        "        result = result + a\n",
        "      except:\n",
        "        pass\n",
        "      else:\n",
        "        pass\n",
        "  return result\n",
        "sumnum()"
      ]
    },
    {
      "cell_type": "markdown",
      "metadata": {
        "id": "H2rJ9GYo6Man"
      },
      "source": [
        "2. จงเขียนฟังก์ชั่นหาค่าตัวเลขที่สูงที่สุดใน \n",
        "\n",
        "*   List item\n",
        "*   List item\n",
        "\n",
        "alist\n",
        "\n"
      ]
    },
    {
      "cell_type": "code",
      "execution_count": null,
      "metadata": {
        "colab": {
          "base_uri": "https://localhost:8080/",
          "height": 198
        },
        "id": "XTe5KN1U5NXz",
        "outputId": "20fae738-a617-4a29-bcbc-cc90eccaeb81"
      },
      "outputs": [
        {
          "data": {
            "text/plain": [
              "400"
            ]
          },
          "execution_count": 74,
          "metadata": {},
          "output_type": "execute_result"
        }
      ],
      "source": [
        "alist = [1,5,2,10,2,5,3,2,6,0,20,84,20,10,4,23,294,400,290,10]\n",
        "def getmax():\n",
        "  maxval = -1\n",
        "  for a in alist:\n",
        "    if a > maxval:\n",
        "      maxval = a\n",
        "  return maxval\n",
        "getmax()"
      ]
    },
    {
      "cell_type": "markdown",
      "metadata": {
        "id": "65ZEf0_K60JG"
      },
      "source": [
        "3. จงเขียนฟังก์ชันหาตำแหน่งของตัวเลขที่น้อยที่สุดใน alist"
      ]
    },
    {
      "cell_type": "code",
      "execution_count": null,
      "metadata": {
        "colab": {
          "base_uri": "https://localhost:8080/",
          "height": 34
        },
        "id": "CxrCxzoY5NiQ",
        "outputId": "de664738-362a-4009-99d6-82fad1ebcf49"
      },
      "outputs": [
        {
          "data": {
            "text/plain": [
              "9"
            ]
          },
          "execution_count": 75,
          "metadata": {},
          "output_type": "execute_result"
        }
      ],
      "source": [
        "alist = [1,5,2,10,2,5,3,2,6,0,20,84,20,10,4,23,294,400,290,10]\n",
        "def getminpos():\n",
        "  minval = 10000\n",
        "  minind = 0\n",
        "  for i in range(len(alist)):\n",
        "    #print(i)\n",
        "    numbi = alist[i]\n",
        "    if numbi < minval:\n",
        "      minval = numbi\n",
        "      minind = i\n",
        "  return minind\n",
        "getminpos()"
      ]
    },
    {
      "cell_type": "code",
      "execution_count": null,
      "metadata": {
        "id": "8q50G4nKDANG"
      },
      "outputs": [],
      "source": [
        "a = 'hello'"
      ]
    },
    {
      "cell_type": "code",
      "execution_count": null,
      "metadata": {
        "id": "5hqN3dJFDkkD"
      },
      "outputs": [],
      "source": [
        "namelist = ['Winslet, Miss. Kate','Dawson, Mr. Jack','Voravuthikunchai, Mr. Winn','Voravuthikunchai, Master. Prin']"
      ]
    },
    {
      "cell_type": "code",
      "execution_count": null,
      "metadata": {
        "id": "uik3DdJOF_6T"
      },
      "outputs": [],
      "source": [
        "def getinitiallist(namelist):\n",
        "  initialList = []\n",
        "  for name in namelist:\n",
        "    nsplit = name.split(',')[1].split('.')[0]\n",
        "    initialList.append(nsplit)\n",
        "  return initialList"
      ]
    },
    {
      "cell_type": "markdown",
      "metadata": {
        "id": "Nx0XuNke7PRB"
      },
      "source": [
        ""
      ]
    },
    {
      "cell_type": "code",
      "execution_count": null,
      "metadata": {
        "colab": {
          "base_uri": "https://localhost:8080/",
          "height": 34
        },
        "id": "rHMtFV7I5Nqf",
        "outputId": "39b4b2de-7f9e-4be6-93c7-5c5c7720ec22"
      },
      "outputs": [
        {
          "data": {
            "text/plain": [
              "[' Miss', ' Mr', ' Mr', ' Master']"
            ]
          },
          "execution_count": 79,
          "metadata": {},
          "output_type": "execute_result"
        }
      ],
      "source": [
        "getinitiallist(namelist)"
      ]
    },
    {
      "cell_type": "code",
      "execution_count": null,
      "metadata": {
        "id": "y1Yio4R45NyH"
      },
      "outputs": [],
      "source": [
        "a = [10,2,30]\n",
        "\n"
      ]
    },
    {
      "cell_type": "code",
      "execution_count": null,
      "metadata": {
        "colab": {
          "base_uri": "https://localhost:8080/",
          "height": 34
        },
        "id": "eEEfJ-vlHxQp",
        "outputId": "b14c5ec1-af62-48bf-b688-95292e46a04b"
      },
      "outputs": [
        {
          "data": {
            "text/plain": [
              "11.775681155103795"
            ]
          },
          "execution_count": 81,
          "metadata": {},
          "output_type": "execute_result"
        }
      ],
      "source": [
        "import numpy as np\n",
        "a = np.array(a)\n",
        "a.std()"
      ]
    },
    {
      "cell_type": "markdown",
      "metadata": {
        "id": "sPVu5PRC127-"
      },
      "source": [
        "1. เขียนฟังก์ชันรับตัวแปร 2 ตัว แล้ว return ผลรวมของตัวแปรทั้งสองนั้น\n"
      ]
    },
    {
      "cell_type": "code",
      "execution_count": null,
      "metadata": {
        "colab": {
          "base_uri": "https://localhost:8080/",
          "height": 102
        },
        "id": "2hCxjodo4piG",
        "outputId": "f147fc31-8b69-4ea2-cc0a-3c099747f922"
      },
      "outputs": [
        {
          "name": "stdout",
          "output_type": "stream",
          "text": [
            "Please enter number 1 :\n"
          ]
        },
        {
          "name": "stdout",
          "output_type": "stream",
          "text": [
            " 2\n"
          ]
        },
        {
          "name": "stdout",
          "output_type": "stream",
          "text": [
            "Please enter number 2 :\n"
          ]
        },
        {
          "name": "stdout",
          "output_type": "stream",
          "text": [
            " 3\n"
          ]
        },
        {
          "name": "stdout",
          "output_type": "stream",
          "text": [
            "The sum is 5\n"
          ]
        },
        {
          "data": {
            "text/plain": [
              "5"
            ]
          },
          "execution_count": 83,
          "metadata": {},
          "output_type": "execute_result"
        }
      ],
      "source": [
        "def cal():\n",
        "  print('Please enter number 1 :')\n",
        "  input1 = int(input())\n",
        "  print('Please enter number 2 :')\n",
        "  input2 = int(input())\n",
        "  print ('The sum is ' + str(input1 + input2))\n",
        "  output = input1 + input2\n",
        "  return output\n",
        "cal()"
      ]
    },
    {
      "cell_type": "markdown",
      "metadata": {
        "id": "xYMu7Tn01uEK"
      },
      "source": [
        "2. เขียนฟังก์ชันรับตัวแปร 2 ตัว แล้ว return ผลลบของตัวแปรทั้งสองนั้น"
      ]
    },
    {
      "cell_type": "code",
      "execution_count": null,
      "metadata": {
        "id": "Zqcn3j1t4qE5"
      },
      "outputs": [],
      "source": [
        "def cal():\n",
        "  print('Please enter number 1 :')\n",
        "  input1 = int(input())\n",
        "  print('Please enter number 2 :')\n",
        "  input2 = int(input())\n",
        "  print ('The subtraction is ' + str(input1 - input2))\n",
        "cal()"
      ]
    },
    {
      "cell_type": "markdown",
      "metadata": {
        "id": "B3ikU6XJ2cUU"
      },
      "source": [
        "3. เขียนฟังก์ชันรับตัวแปรเป็น string แล้ว return ความยาวของ string\n"
      ]
    },
    {
      "cell_type": "code",
      "execution_count": null,
      "metadata": {
        "id": "shoob8XU4qrB"
      },
      "outputs": [],
      "source": [
        "def callen():\n",
        "  print('Please type sth :')\n",
        "  msg = input()\n",
        "  print(len(msg))\n",
        "callen()"
      ]
    },
    {
      "cell_type": "markdown",
      "metadata": {
        "id": "Uvj4fbY-2eTU"
      },
      "source": [
        "4. เขียนฟังก์ชั่นรับตัวแปรสองตัว ตัวแรกเป็น string ตัวที่สองเป็น ตัวเลข n แล้ว print ตัวแปรแรก เป็นจำนวน n ครั้ง"
      ]
    },
    {
      "cell_type": "code",
      "execution_count": null,
      "metadata": {
        "id": "3MwJP1kd4rUo"
      },
      "outputs": [],
      "source": [
        "def myloop():\n",
        "  print('Please enter number 1 :')\n",
        "  input1 = input()\n",
        "  print('Please enter number 2 :')\n",
        "  input2 = int(input())\n",
        "  i = 0\n",
        "  while i < input2:\n",
        "    print(input1)\n",
        "    i = i + 1\n",
        "myloop()"
      ]
    },
    {
      "cell_type": "markdown",
      "metadata": {
        "id": "gzyxb6X73A2r"
      },
      "source": [
        "5. เขียนโปรแกรมทายชื่ออาหารที่ชอบ โดยให้แสดงรายการอาหารที่ให้คนทายเห็น ให้ตั้งค่ารายการอาหารที่เราชอบในโปรแกรม ถ้าคนทายทายถูกให้บอกว่า \"ถูกต้องนะคร๊าป\" ถ้าทายผิดให้บอกว่า \"ผิดครับ\"\n"
      ]
    },
    {
      "cell_type": "code",
      "execution_count": null,
      "metadata": {
        "id": "HH0uwOQn3OY6"
      },
      "outputs": [],
      "source": [
        "def guessfood():\n",
        "  my_fav_food = 'padthai'\n",
        "  print('Please enter foodname :')\n",
        "  guessfood = input()\n",
        "  if guessfood == my_fav_food:\n",
        "    print(guessfood)\n",
        "    print(\"ถูกต้องนะคร๊าป\")\n",
        "  else:\n",
        "    print(guessfood)\n",
        "    print(\"ผิดครับ\")\n",
        "guessfood()"
      ]
    },
    {
      "cell_type": "markdown",
      "metadata": {
        "id": "gi21DoO_3Qc_"
      },
      "source": [
        "6. เขียนโปรแกรมเพื่อหาตำแหน่งของเลข 81 ใน numbers = [\n",
        "    386, 462, 47, 418, 907, 344, 236, 375, 823, 566, 597, 978, 328, 615, 953, 345, \n",
        "    399, 162, 758, 219, 918, 237, 412, 566, 826, 248, 866, 950, 626, 949, 687, 217, \n",
        "    815, 67, 104, 58, 512, 24, 892, 894, 767, 553, 81, 379, 843, 831, 445, 742, 717, \n",
        "    958,743, 527\n",
        "    ]"
      ]
    },
    {
      "cell_type": "code",
      "execution_count": null,
      "metadata": {
        "id": "NYWywGH43sRn"
      },
      "outputs": [],
      "source": [
        "def find_index():\n",
        "  numbers = [ 386, 462, 47, 418, 907, 344, 236, 375, 823, 566, 597, 978, 328, 615, 953, \\\n",
        "            345, 399, 162, 758, 219, 918, 237, 412, 566, 826, 248, 866, 950, 626, 949, \\\n",
        "            687, 217, 815, 67, 104, 58, 512, 24, 892, 894, 767, 553, 81, 379, 843, 831, \\\n",
        "            445, 742, 717, 958,743, 527 ]\n",
        "\n",
        "  for i in range(len(numbers)):\n",
        "    if number[i] == 81:\n",
        "      return i"
      ]
    },
    {
      "cell_type": "code",
      "execution_count": null,
      "metadata": {
        "id": "s_2nQdN9-p5k"
      },
      "outputs": [],
      "source": [
        "\n"
      ]
    }
  ],
  "metadata": {
    "colab": {
      "collapsed_sections": [],
      "name": "สำเนาของ Basic_Python_Super_AI_Part1.ipynb",
      "provenance": []
    },
    "kernelspec": {
      "display_name": "Python 3",
      "language": "python",
      "name": "python3"
    },
    "language_info": {
      "codemirror_mode": {
        "name": "ipython",
        "version": 3
      },
      "file_extension": ".py",
      "mimetype": "text/x-python",
      "name": "python",
      "nbconvert_exporter": "python",
      "pygments_lexer": "ipython3",
      "version": "3.9.2"
    }
  },
  "nbformat": 4,
  "nbformat_minor": 0
}