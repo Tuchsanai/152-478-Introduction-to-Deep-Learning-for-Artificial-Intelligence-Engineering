{
  "cells": [
    {
      "cell_type": "markdown",
      "metadata": {
        "id": "xki3EXRScbBi"
      },
      "source": [
        "<a href=\"https://colab.research.google.com/github/Tuchsanai/152-478-Introduction-to-Deep-Learning-for-Artificial-Intelligence-Engineering/blob/main/01_basic_python/01_Basic_Python_AI_Part1.ipynb\" target=\"_parent\"><img src=\"https://colab.research.google.com/assets/colab-badge.svg\" alt=\"Open In Colab\"/></a>"
      ]
    },
    {
      "cell_type": "markdown",
      "metadata": {
        "id": "11Igdmb1mJOK"
      },
      "source": [
        "## Variable (ตัวแปร)\n",
        "- เหมือนกำลังเก็บของ มีป้ายแปะที่ลังเป็นชื่อตัวแปร ส่วนของข้างในคือข้อมูล\n",
        "- ทุกครั้งที่เห็นเครื่องหมาย = คือการนำค่าจากทางขวามือ มาใส่ลังที่มีชื่อทางซ้ายมือเสมอ"
      ]
    },
    {
      "cell_type": "markdown",
      "metadata": {
        "id": "bpVeRGQ6Y4ZF"
      },
      "source": [
        "### Numerical variable (ตัวแปรตัวเลข)\n",
        "\n"
      ]
    },
    {
      "cell_type": "code",
      "execution_count": 1,
      "metadata": {
        "colab": {
          "base_uri": "https://localhost:8080/"
        },
        "id": "54lYRlPUl3EA",
        "outputId": "51c70fa9-7588-43f7-9308-1073260e0b0a"
      },
      "outputs": [
        {
          "data": {
            "text/plain": [
              "3"
            ]
          },
          "execution_count": 1,
          "metadata": {},
          "output_type": "execute_result"
        }
      ],
      "source": [
        "a = 1 # ลังแปะป้ายชื่อ a ใส่ข้อมูลเป็นตัวเลข 1\n",
        "b = 2 # ลังแปะป้ายชื่อ b ใส่ข้อมูลเป็นตัวเลข 2\n",
        "c = a + b # ลังแปะป้ายชื่อ c ใส่ข้อมูลเป็นผลลัพธ์การจากการบวกกันของลัง a และลัง b ณ เวลาที่เอามาใส่\n",
        "c"
      ]
    },
    {
      "cell_type": "code",
      "execution_count": 2,
      "metadata": {
        "colab": {
          "base_uri": "https://localhost:8080/"
        },
        "id": "aAYvYkQL7pAI",
        "outputId": "406e85bb-3af3-41a7-9ca8-a9b66d5ab5cd"
      },
      "outputs": [
        {
          "name": "stdout",
          "output_type": "stream",
          "text": [
            "3\n"
          ]
        }
      ],
      "source": [
        "print(c)"
      ]
    },
    {
      "cell_type": "code",
      "execution_count": 3,
      "metadata": {
        "colab": {
          "base_uri": "https://localhost:8080/"
        },
        "id": "rrkSKpaP7sR9",
        "outputId": "568cabf8-7f2f-46a1-bed8-9185844d4648"
      },
      "outputs": [
        {
          "name": "stdout",
          "output_type": "stream",
          "text": [
            "add operation =  3\n"
          ]
        }
      ],
      "source": [
        "print('add operation = ',c)"
      ]
    },
    {
      "cell_type": "markdown",
      "metadata": {
        "id": "sy077VEhcqEt"
      },
      "source": [
        "float ในภาษาอื่นอาจแบ่งเป็น single และ double เพื่อระบุพื้นที่ใน RAM ในการเก็บข้อมูล แต่ใน python จะใช้ double เสมอ ยกเว้นจะใช้ฟังก์ชันพิเศษจาก library numpy `numpy.float32`\n"
      ]
    },
    {
      "cell_type": "code",
      "execution_count": null,
      "metadata": {
        "colab": {
          "base_uri": "https://localhost:8080/"
        },
        "id": "O8nBveEgchd2",
        "outputId": "1f802bd2-c47d-486a-f806-5a81b7f8a412"
      },
      "outputs": [
        {
          "name": "stdout",
          "output_type": "stream",
          "text": [
            "4\n",
            "2.0\n"
          ]
        }
      ],
      "source": [
        "a = 4 # integer จำนวนเต็ม\n",
        "b = 2.0 # float จำนวนทศนิยม \n",
        "print(a) \n",
        "print(b)"
      ]
    },
    {
      "cell_type": "code",
      "execution_count": null,
      "metadata": {
        "colab": {
          "base_uri": "https://localhost:8080/"
        },
        "id": "YT--aQNYczHA",
        "outputId": "1dae8402-4d3c-45c2-c24b-524e61f086b4"
      },
      "outputs": [
        {
          "name": "stdout",
          "output_type": "stream",
          "text": [
            "6.0\n",
            "8.0\n",
            "2.0\n",
            "16.0\n",
            "2.0\n"
          ]
        }
      ],
      "source": [
        "print(a+b)\n",
        "print(a*b)\n",
        "print(a/b)\n",
        "print(a**b)\n",
        "print(a**(1/b)) "
      ]
    },
    {
      "cell_type": "markdown",
      "metadata": {
        "id": "_SkLpNdDZA-H"
      },
      "source": [
        "## String variable (ตัวแปรตัวอักษร)\n"
      ]
    },
    {
      "cell_type": "markdown",
      "metadata": {
        "id": "tDJA_DbSs5io"
      },
      "source": [
        "- สิ่งที่อยู่ใน `' '` หรือ `\" \" `จะนับเป็นตัวอักษรทั้งหมดแม้ว่าจะเป็นตัวเลขหรือเครื่องหมายก็ตาม\n",
        "- การใช้ `\"` หรือ `'` ก็นับเป็น string เหมือนกัน ตัวภาษา python อนุญาตให้เราใช้ทั้งสองแบบ เผื่อในกรณีดังนี้\n",
        "\n",
        "1.   `text = \"I'm fine. Thank you.\"`\n",
        "2.   `text = 'This is an \"important\" part.'`\n",
        "\n"
      ]
    },
    {
      "cell_type": "code",
      "execution_count": null,
      "metadata": {
        "colab": {
          "base_uri": "https://localhost:8080/",
          "height": 35
        },
        "id": "jHmubc0MmcF7",
        "outputId": "f3c5a142-31d6-49e1-be25-34abe773b007"
      },
      "outputs": [
        {
          "data": {
            "text/plain": [
              "'hi, how are you?'"
            ]
          },
          "execution_count": 14,
          "metadata": {},
          "output_type": "execute_result"
        }
      ],
      "source": [
        "a = 'hi, '\n",
        "b = 'how are you?'\n",
        "c = a + b # การ + ของ string คือการนำมาต่อกัน\n",
        "c"
      ]
    },
    {
      "cell_type": "code",
      "execution_count": null,
      "metadata": {
        "id": "FHZQOgBjcbBn",
        "outputId": "d09ec64f-32f0-456a-879b-3e3113eaf258"
      },
      "outputs": [
        {
          "name": "stdout",
          "output_type": "stream",
          "text": [
            "hi, how are you?\n"
          ]
        }
      ],
      "source": [
        "print(c)"
      ]
    },
    {
      "cell_type": "code",
      "execution_count": null,
      "metadata": {
        "colab": {
          "base_uri": "https://localhost:8080/",
          "height": 35
        },
        "id": "DiIxrLdKmu0y",
        "outputId": "4e722fbc-dfb2-4fce-f469-069c1eadebec"
      },
      "outputs": [
        {
          "data": {
            "text/plain": [
              "'John has 10 USD.'"
            ]
          },
          "execution_count": 10,
          "metadata": {},
          "output_type": "execute_result"
        }
      ],
      "source": [
        "name = 'John'\n",
        "money = '10 USD'\n",
        "sentence = name + ' has ' + money + '.'\n",
        "sentence"
      ]
    },
    {
      "cell_type": "code",
      "execution_count": null,
      "metadata": {
        "id": "ei54yiK_cbBo",
        "outputId": "7e60c8a4-a69d-45eb-bc21-6986323c5fa1"
      },
      "outputs": [
        {
          "name": "stdout",
          "output_type": "stream",
          "text": [
            "John has 10 USD\n"
          ]
        }
      ],
      "source": [
        "print(name + ' has ' + money) # ใช้การ + เพื่อนำ string มาต่อกัน (concatenate)"
      ]
    },
    {
      "cell_type": "code",
      "execution_count": null,
      "metadata": {
        "id": "AcSANOZ1cbBo",
        "outputId": "4b793665-3cef-4bed-fc07-e34461874ca4"
      },
      "outputs": [
        {
          "name": "stdout",
          "output_type": "stream",
          "text": [
            "Johnhi, \n"
          ]
        }
      ],
      "source": [
        "print(name + a) # ตัวแปรคนละประเภทไม่สามารถนำมา + กันได้ "
      ]
    },
    {
      "cell_type": "markdown",
      "metadata": {
        "id": "MmIjzk6iN0zc"
      },
      "source": [
        "### Methods similar to Python string methods\n",
        "Nearly all Python's built-in string methods are mirrored by a Pandas vectorized string method. Here is a list of Pandas ``str`` methods that mirror Python string methods:\n",
        "\n",
        "|             |                  |                  |                  |\n",
        "|-------------|------------------|------------------|------------------|\n",
        "|``len()``    | ``lower()``      | ``translate()``  | ``islower()``    | \n",
        "|``ljust()``  | ``upper()``      | ``startswith()`` | ``isupper()``    | \n",
        "|``rjust()``  | ``find()``       | ``endswith()``   | ``isnumeric()``  | \n",
        "|``center()`` | ``rfind()``      | ``isalnum()``    | ``isdecimal()``  | \n",
        "|``zfill()``  | ``index()``      | ``isalpha()``    | ``split()``      | \n",
        "|``strip()``  | ``rindex()``     | ``isdigit()``    | ``rsplit()``     | \n",
        "|``rstrip()`` | ``capitalize()`` | ``isspace()``    | ``partition()``  | \n",
        "|``lstrip()`` |  ``swapcase()``  |  ``istitle()``   | ``rpartition()`` |\n",
        "\n",
        "Notice that these have various return values. Some, like ``lower()``, return a series of strings:"
      ]
    },
    {
      "cell_type": "markdown",
      "metadata": {
        "id": "YEGvntcgcbBp"
      },
      "source": [
        "###  Slicing a string"
      ]
    },
    {
      "cell_type": "code",
      "execution_count": 4,
      "metadata": {
        "id": "ca23WHYXcbBp"
      },
      "outputs": [],
      "source": [
        "s = \"programming\"\n"
      ]
    },
    {
      "cell_type": "code",
      "execution_count": 5,
      "metadata": {
        "colab": {
          "base_uri": "https://localhost:8080/",
          "height": 35
        },
        "id": "TIP56E-ScbBp",
        "outputId": "aecf72b4-44cb-440a-9dde-c095a85e406b"
      },
      "outputs": [
        {
          "data": {
            "application/vnd.google.colaboratory.intrinsic+json": {
              "type": "string"
            },
            "text/plain": [
              "'pro'"
            ]
          },
          "execution_count": 5,
          "metadata": {},
          "output_type": "execute_result"
        }
      ],
      "source": [
        "s[0:3]"
      ]
    },
    {
      "cell_type": "code",
      "execution_count": null,
      "metadata": {
        "id": "jwdLRytgcbBp",
        "outputId": "4e938938-e571-4d78-e9b7-439d7200fc0d"
      },
      "outputs": [
        {
          "data": {
            "text/plain": [
              "'progr'"
            ]
          },
          "execution_count": 6,
          "metadata": {},
          "output_type": "execute_result"
        }
      ],
      "source": [
        "s[0:5]"
      ]
    },
    {
      "cell_type": "code",
      "execution_count": null,
      "metadata": {
        "id": "bEran1FLcbBp",
        "outputId": "2e1430d8-a398-4546-f59f-571258401643"
      },
      "outputs": [
        {
          "data": {
            "text/plain": [
              "'amming'"
            ]
          },
          "execution_count": 7,
          "metadata": {},
          "output_type": "execute_result"
        }
      ],
      "source": [
        "s[5:]"
      ]
    },
    {
      "cell_type": "markdown",
      "metadata": {
        "id": "NdQdg5cUcbBq"
      },
      "source": [
        "## Strip"
      ]
    },
    {
      "cell_type": "code",
      "execution_count": null,
      "metadata": {
        "id": "lTj0-F_9cbBq",
        "outputId": "8c97e700-9919-4ff8-b77d-a2b59f9f3364"
      },
      "outputs": [
        {
          "data": {
            "text/plain": [
              "'     programming is easy    '"
            ]
          },
          "execution_count": 1,
          "metadata": {},
          "output_type": "execute_result"
        }
      ],
      "source": [
        "string = \"     programming is easy    \"\n",
        "string"
      ]
    },
    {
      "cell_type": "code",
      "execution_count": null,
      "metadata": {
        "id": "b8-88rCEcbBq",
        "outputId": "2108b79b-0e8d-414c-9e23-25577123ade0"
      },
      "outputs": [
        {
          "data": {
            "text/plain": [
              "'programming is easy'"
            ]
          },
          "execution_count": 2,
          "metadata": {},
          "output_type": "execute_result"
        }
      ],
      "source": [
        "string.strip()"
      ]
    },
    {
      "cell_type": "markdown",
      "metadata": {
        "id": "BchoXdcAN0zf"
      },
      "source": [
        "## Upper"
      ]
    },
    {
      "cell_type": "code",
      "execution_count": null,
      "metadata": {
        "id": "0z_MRC8aN0zf",
        "outputId": "bf1fedbe-fd68-410a-ec37-09e10f94ab47"
      },
      "outputs": [
        {
          "data": {
            "text/plain": [
              "'PROGRAMMING'"
            ]
          },
          "execution_count": 24,
          "metadata": {},
          "output_type": "execute_result"
        }
      ],
      "source": [
        "s.upper()"
      ]
    },
    {
      "cell_type": "markdown",
      "metadata": {
        "id": "Rfgo9ZyiN0zf"
      },
      "source": [
        "## Lower"
      ]
    },
    {
      "cell_type": "code",
      "execution_count": null,
      "metadata": {
        "id": "Gi_c_Q4VN0zg",
        "outputId": "69f5e5b8-52c5-4299-f566-b856908f7bbb"
      },
      "outputs": [
        {
          "data": {
            "text/plain": [
              "'programming'"
            ]
          },
          "execution_count": 25,
          "metadata": {},
          "output_type": "execute_result"
        }
      ],
      "source": [
        "s.lower()"
      ]
    },
    {
      "cell_type": "markdown",
      "metadata": {
        "id": "dDTa8WoLN0zg"
      },
      "source": [
        "## Capitalize"
      ]
    },
    {
      "cell_type": "code",
      "execution_count": null,
      "metadata": {
        "id": "BDpwL1BsN0zg",
        "outputId": "9ed1f0d7-f779-47a9-c7e5-62de01d1b271"
      },
      "outputs": [
        {
          "data": {
            "text/plain": [
              "'Programming'"
            ]
          },
          "execution_count": 23,
          "metadata": {},
          "output_type": "execute_result"
        }
      ],
      "source": [
        "s.capitalize()"
      ]
    },
    {
      "cell_type": "markdown",
      "metadata": {
        "id": "8UfKndeqN0zg"
      },
      "source": [
        "## Startswith"
      ]
    },
    {
      "cell_type": "code",
      "execution_count": null,
      "metadata": {
        "id": "gX36vZ-DN0zg",
        "outputId": "6aca883a-5fdf-4fef-c4d7-bffe5b4903db"
      },
      "outputs": [
        {
          "data": {
            "text/plain": [
              "False"
            ]
          },
          "execution_count": 30,
          "metadata": {},
          "output_type": "execute_result"
        }
      ],
      "source": [
        "s.startswith('P')"
      ]
    },
    {
      "cell_type": "code",
      "execution_count": null,
      "metadata": {
        "id": "GCvYVqgeN0zh",
        "outputId": "5bc04672-abfd-40e3-da9d-dcc738d19718"
      },
      "outputs": [
        {
          "data": {
            "text/plain": [
              "True"
            ]
          },
          "execution_count": 31,
          "metadata": {},
          "output_type": "execute_result"
        }
      ],
      "source": [
        "s.startswith('p')"
      ]
    },
    {
      "cell_type": "code",
      "execution_count": null,
      "metadata": {
        "id": "ezDL89PxN0zh",
        "outputId": "2e42e6b1-950d-4a07-a110-b198fdfbae26"
      },
      "outputs": [
        {
          "data": {
            "text/plain": [
              "True"
            ]
          },
          "execution_count": 32,
          "metadata": {},
          "output_type": "execute_result"
        }
      ],
      "source": [
        "s.startswith('pro')"
      ]
    },
    {
      "cell_type": "code",
      "execution_count": null,
      "metadata": {
        "id": "e8coC25vN0zh",
        "outputId": "b26861c6-7dba-43eb-aa7b-96a5aaade2b7"
      },
      "outputs": [
        {
          "data": {
            "text/plain": [
              "False"
            ]
          },
          "execution_count": 33,
          "metadata": {},
          "output_type": "execute_result"
        }
      ],
      "source": [
        "s.startswith('prox')"
      ]
    },
    {
      "cell_type": "markdown",
      "metadata": {
        "id": "RqOQxYzHN0zh"
      },
      "source": [
        "## Find"
      ]
    },
    {
      "cell_type": "code",
      "execution_count": null,
      "metadata": {
        "id": "A4iL8XPEN0zh",
        "outputId": "3ad9b28d-9aa8-417e-a5b5-75adc15e8ce9"
      },
      "outputs": [
        {
          "data": {
            "text/plain": [
              "'programming'"
            ]
          },
          "execution_count": 39,
          "metadata": {},
          "output_type": "execute_result"
        }
      ],
      "source": [
        "s"
      ]
    },
    {
      "cell_type": "code",
      "execution_count": null,
      "metadata": {
        "id": "B0QeNCaqN0zi",
        "outputId": "2c9ad33c-02c4-468f-edfe-1c3097152081"
      },
      "outputs": [
        {
          "data": {
            "text/plain": [
              "6"
            ]
          },
          "execution_count": 42,
          "metadata": {},
          "output_type": "execute_result"
        }
      ],
      "source": [
        "s.find(\"m\")"
      ]
    },
    {
      "cell_type": "code",
      "execution_count": null,
      "metadata": {
        "id": "IwvLkzvcN0zi",
        "outputId": "58b40e4f-5c31-40a2-e1a5-f544ef841206"
      },
      "outputs": [
        {
          "data": {
            "text/plain": [
              "3"
            ]
          },
          "execution_count": 38,
          "metadata": {},
          "output_type": "execute_result"
        }
      ],
      "source": [
        "s.find(\"gram\")"
      ]
    },
    {
      "cell_type": "markdown",
      "metadata": {
        "id": "gzNj5WmR8dTK"
      },
      "source": [
        "## isdigit"
      ]
    },
    {
      "cell_type": "code",
      "execution_count": 7,
      "metadata": {
        "colab": {
          "base_uri": "https://localhost:8080/"
        },
        "id": "Vp4ZzhDD8WVj",
        "outputId": "670a572d-6fee-4021-bab7-f57296dbf19c"
      },
      "outputs": [
        {
          "data": {
            "text/plain": [
              "True"
            ]
          },
          "execution_count": 7,
          "metadata": {},
          "output_type": "execute_result"
        }
      ],
      "source": [
        "'589'.isdigit()"
      ]
    },
    {
      "cell_type": "code",
      "execution_count": 8,
      "metadata": {
        "colab": {
          "base_uri": "https://localhost:8080/"
        },
        "id": "z118KNua8hDS",
        "outputId": "b3c0b837-3c53-4207-bd58-d39d9a5cb07f"
      },
      "outputs": [
        {
          "data": {
            "text/plain": [
              "False"
            ]
          },
          "execution_count": 8,
          "metadata": {},
          "output_type": "execute_result"
        }
      ],
      "source": [
        "'589.95'.isdigit()"
      ]
    },
    {
      "cell_type": "markdown",
      "metadata": {
        "id": "05BvrS3WDpo3"
      },
      "source": [
        "## Data type transformation"
      ]
    },
    {
      "cell_type": "markdown",
      "metadata": {
        "id": "k7KW6JeMD0lj"
      },
      "source": [
        "ใช้คำสั่ง `str(ตัวแปร)`, `int(ตัวแปร)`, `float(ตัวแปร)` เพื่อเปลี่ยนประเภทตัวแปรเป็น string, integer และ float ตามลำดับ"
      ]
    },
    {
      "cell_type": "code",
      "execution_count": null,
      "metadata": {
        "id": "W_DeX7iIN0zi"
      },
      "outputs": [],
      "source": [
        "a = 4\n",
        "name = 'John'"
      ]
    },
    {
      "cell_type": "code",
      "execution_count": null,
      "metadata": {
        "colab": {
          "base_uri": "https://localhost:8080/",
          "height": 86
        },
        "id": "7CMczwxsDwrQ",
        "outputId": "4dc37769-59bb-4370-93d3-3f55255dca9e"
      },
      "outputs": [
        {
          "name": "stdout",
          "output_type": "stream",
          "text": [
            "4\n",
            "<class 'int'>\n",
            "4\n",
            "<class 'str'>\n"
          ]
        }
      ],
      "source": [
        "print(a)\n",
        "print(type(a))\n",
        "print(str(a)) # a = '4'\n",
        "print(type(str(a)))"
      ]
    },
    {
      "cell_type": "code",
      "execution_count": null,
      "metadata": {
        "colab": {
          "base_uri": "https://localhost:8080/",
          "height": 69
        },
        "id": "zJW5YLloFA7b",
        "outputId": "497c73f0-1410-42c2-a981-aed68e19e382"
      },
      "outputs": [
        {
          "name": "stdout",
          "output_type": "stream",
          "text": [
            "8.401592\n",
            "3.1415925.26\n",
            "3\n"
          ]
        }
      ],
      "source": [
        "p = 3.141592\n",
        "print(p + 5.26) # float + float\n",
        "print(str(p) + str(5.26)) # str + str\n",
        "print(int(p))"
      ]
    },
    {
      "cell_type": "markdown",
      "metadata": {
        "id": "1P7N2wp3HG_o"
      },
      "source": [
        "## Printing string-number combination\n",
        "\n",
        "มี 3 วิธี ดังนี้"
      ]
    },
    {
      "cell_type": "markdown",
      "metadata": {
        "id": "yLXeuPhnHQnx"
      },
      "source": [
        "### 1) `,`\n",
        "\n"
      ]
    },
    {
      "cell_type": "code",
      "execution_count": null,
      "metadata": {
        "colab": {
          "base_uri": "https://localhost:8080/",
          "height": 51
        },
        "id": "ZajEiQLDHNvs",
        "outputId": "257bc371-1b3c-475e-8f4a-650543c10b3d"
      },
      "outputs": [
        {
          "name": "stdout",
          "output_type": "stream",
          "text": [
            "There are 4 cats in this room.\n",
            "There are 4 cats in this room.\n"
          ]
        }
      ],
      "source": [
        "print('There are',a,'cats in this room.')\n",
        "# ให้ผลเหมือนกันกับ\n",
        "print('There are '+str(a)+' cats in this room.')"
      ]
    },
    {
      "cell_type": "markdown",
      "metadata": {
        "id": "HkSSUIQmJJh2"
      },
      "source": [
        "### 2) \n",
        "\n",
        "\n",
        "\n"
      ]
    },
    {
      "cell_type": "code",
      "execution_count": null,
      "metadata": {
        "colab": {
          "base_uri": "https://localhost:8080/",
          "height": 103
        },
        "id": "oCb_-ECDJTOQ",
        "outputId": "c95780bc-7364-4b7f-be21-339d9a9ebb6d"
      },
      "outputs": [
        {
          "name": "stdout",
          "output_type": "stream",
          "text": [
            "Approximated Pi value is 3.141592\n",
            "Approximated Pi value is 3.1416\n"
          ]
        }
      ],
      "source": [
        "print(\"Approximated Pi value is {}\".format(p))\n",
        "print(\"Approximated Pi value is {:.4f}\".format(p))\n"
      ]
    },
    {
      "cell_type": "code",
      "execution_count": null,
      "metadata": {
        "id": "0CrUOxN2N0zk",
        "outputId": "f830657b-c7a9-457f-b52f-a5d277724748"
      },
      "outputs": [
        {
          "name": "stdout",
          "output_type": "stream",
          "text": [
            "My name is John. I've been here for 4 years\n",
            "My name is John. I've been here for 4.00000 years\n",
            "My name is John. I've been here for 4 years\n"
          ]
        }
      ],
      "source": [
        "print(\"My name is {}. I've been here for {} years\".format(name, a))\n",
        "print(\"My name is {n}. I've been here for {time:.5f} years\".format(n=name, time=float(a)))\n",
        "print(\"My name is {1}. I've been here for {0} years\".format(a, name))"
      ]
    },
    {
      "cell_type": "markdown",
      "metadata": {
        "id": "94LpiwuQJTgG"
      },
      "source": [
        "### 3) f-string "
      ]
    },
    {
      "cell_type": "code",
      "execution_count": null,
      "metadata": {
        "colab": {
          "base_uri": "https://localhost:8080/",
          "height": 86
        },
        "id": "6AvRJzyZOCjV",
        "outputId": "cd80afb4-4ef5-4493-9089-63ded8b25ddc"
      },
      "outputs": [
        {
          "name": "stdout",
          "output_type": "stream",
          "text": [
            "Approximated Pi value is 3.141592\n",
            "Approximated Pi value is 3.1416\n",
            "My name is John. I've been here for 4 years\n",
            "My name is John. I've been here for 4.00000 years\n"
          ]
        }
      ],
      "source": [
        "print(f\"Approximated Pi value is {p}\")\n",
        "print(f\"Approximated Pi value is {p:.4f}\")\n",
        "print(f\"My name is {name}. I've been here for {a} years\")\n",
        "print(f\"My name is {name}. I've been here for {a:.5f} years\") # a ไม่ต้องแปลงเป็น float ก่อนก็ได้"
      ]
    },
    {
      "cell_type": "code",
      "execution_count": null,
      "metadata": {
        "colab": {
          "base_uri": "https://localhost:8080/",
          "height": 86
        },
        "id": "WhXbmU4e1SAo",
        "outputId": "fbdb64dc-6b4e-4616-b8ac-bc7671fcb66b"
      },
      "outputs": [
        {
          "name": "stdout",
          "output_type": "stream",
          "text": [
            "5\n",
            "5.0\n",
            "2\n",
            "2.445\n"
          ]
        }
      ],
      "source": [
        "n1 = '5'\n",
        "n2 = '2.445'\n",
        "n3 = '3.44s'\n",
        "\n",
        "print(int(n1))\n",
        "print(float(n1))\n",
        "\n",
        "print(int(float(n2)))\n",
        "print(float(n2))\n",
        "\n"
      ]
    },
    {
      "cell_type": "markdown",
      "metadata": {
        "id": "CmckZOw4riFV"
      },
      "source": [
        "## List variable"
      ]
    },
    {
      "cell_type": "code",
      "execution_count": 1,
      "metadata": {
        "colab": {
          "base_uri": "https://localhost:8080/"
        },
        "id": "Oc3x-E4hrlQO",
        "outputId": "25f83789-7e94-49e4-a38c-15fbba425a6e"
      },
      "outputs": [
        {
          "data": {
            "text/plain": [
              "[1, 2, 3, 4, 5, 'hi', 1, 3, [1, 2, 3, 4, 5]]"
            ]
          },
          "execution_count": 1,
          "metadata": {},
          "output_type": "execute_result"
        }
      ],
      "source": [
        "x = [1,2,3,4,5]\n",
        "y = ['hi',1,3,x]\n",
        "z = x + y\n",
        "z"
      ]
    },
    {
      "cell_type": "markdown",
      "metadata": {
        "id": "JwyCPrRWtEGd"
      },
      "source": [
        "How to access element in LIST"
      ]
    },
    {
      "cell_type": "code",
      "execution_count": 2,
      "metadata": {
        "colab": {
          "base_uri": "https://localhost:8080/"
        },
        "id": "4j2NFF3XtHlq",
        "outputId": "6c241fa8-0ae9-46bf-ea6f-2c821d2d4287"
      },
      "outputs": [
        {
          "data": {
            "text/plain": [
              "[4, 5, 'hi', 1, 3, [1, 2, 3, 4, 5]]"
            ]
          },
          "execution_count": 2,
          "metadata": {},
          "output_type": "execute_result"
        }
      ],
      "source": [
        "z[3:]"
      ]
    },
    {
      "cell_type": "code",
      "execution_count": 3,
      "metadata": {
        "colab": {
          "base_uri": "https://localhost:8080/"
        },
        "id": "OJ6YNzSUtmWr",
        "outputId": "f983e861-92ef-414f-cee2-d3fa0e50a929"
      },
      "outputs": [
        {
          "data": {
            "text/plain": [
              "3"
            ]
          },
          "execution_count": 3,
          "metadata": {},
          "output_type": "execute_result"
        }
      ],
      "source": [
        "z[8][2]"
      ]
    },
    {
      "cell_type": "code",
      "execution_count": 4,
      "metadata": {
        "colab": {
          "base_uri": "https://localhost:8080/"
        },
        "id": "toTwirXT82sR",
        "outputId": "623407c7-d70a-424f-9a06-c8f57c545bd9"
      },
      "outputs": [
        {
          "data": {
            "text/plain": [
              "5"
            ]
          },
          "execution_count": 4,
          "metadata": {},
          "output_type": "execute_result"
        }
      ],
      "source": [
        "# Get the last item in a list\n",
        "x[-1]\n"
      ]
    },
    {
      "cell_type": "code",
      "execution_count": 5,
      "metadata": {
        "colab": {
          "base_uri": "https://localhost:8080/"
        },
        "id": "WaHeIci096cU",
        "outputId": "a7f08115-3ad7-4e65-c1ce-ad4905e383e7"
      },
      "outputs": [
        {
          "data": {
            "text/plain": [
              "[1, 2, 3, 4, 5, 999]"
            ]
          },
          "execution_count": 5,
          "metadata": {},
          "output_type": "execute_result"
        }
      ],
      "source": [
        "x.append(999)\n",
        "x"
      ]
    },
    {
      "cell_type": "code",
      "execution_count": 6,
      "metadata": {
        "colab": {
          "base_uri": "https://localhost:8080/"
        },
        "id": "ZRZLx6fw8wAW",
        "outputId": "aa911275-e633-4787-dcfc-8a294c07bd2d"
      },
      "outputs": [
        {
          "name": "stdout",
          "output_type": "stream",
          "text": [
            "hi\n",
            "1\n",
            "3\n",
            "[1, 2, 3, 4, 5, 999]\n"
          ]
        }
      ],
      "source": [
        "# Looping through a list\n",
        "for bike in y:\n",
        "    print(bike)\n",
        "    "
      ]
    },
    {
      "cell_type": "code",
      "execution_count": 1,
      "metadata": {},
      "outputs": [
        {
          "data": {
            "text/plain": [
              "range(0, 10)"
            ]
          },
          "execution_count": 1,
          "metadata": {},
          "output_type": "execute_result"
        }
      ],
      "source": [
        "range(10)\n"
      ]
    },
    {
      "cell_type": "code",
      "execution_count": 2,
      "metadata": {},
      "outputs": [
        {
          "data": {
            "text/plain": [
              "[0, 1, 2, 3, 4, 5, 6, 7, 8, 9]"
            ]
          },
          "execution_count": 2,
          "metadata": {},
          "output_type": "execute_result"
        }
      ],
      "source": [
        "list(range(10))"
      ]
    },
    {
      "cell_type": "code",
      "execution_count": 3,
      "metadata": {},
      "outputs": [
        {
          "data": {
            "text/plain": [
              "[10, 9, 8, 7, 6, 5, 4, 3, 2, 1]"
            ]
          },
          "execution_count": 3,
          "metadata": {},
          "output_type": "execute_result"
        }
      ],
      "source": [
        "list(range(10,0,-1))"
      ]
    },
    {
      "cell_type": "code",
      "execution_count": null,
      "metadata": {},
      "outputs": [],
      "source": [
        "for i in range(10) :\n",
        "    print(i)"
      ]
    },
    {
      "cell_type": "code",
      "execution_count": 4,
      "metadata": {},
      "outputs": [
        {
          "name": "stdout",
          "output_type": "stream",
          "text": [
            "10\n",
            "9\n",
            "8\n",
            "7\n",
            "6\n",
            "5\n",
            "4\n",
            "3\n",
            "2\n",
            "1\n"
          ]
        }
      ],
      "source": [
        "for i in range(10,0,-1) :\n",
        "    print(i)"
      ]
    },
    {
      "cell_type": "code",
      "execution_count": 5,
      "metadata": {},
      "outputs": [
        {
          "data": {
            "text/plain": [
              "[0, 2, 4, 6, 8]"
            ]
          },
          "execution_count": 5,
          "metadata": {},
          "output_type": "execute_result"
        }
      ],
      "source": [
        "x = list(range(0,10,2))\n",
        "x"
      ]
    },
    {
      "cell_type": "code",
      "execution_count": 6,
      "metadata": {},
      "outputs": [
        {
          "data": {
            "text/plain": [
              "[0, 1, 2, 3, 4]"
            ]
          },
          "execution_count": 6,
          "metadata": {},
          "output_type": "execute_result"
        }
      ],
      "source": [
        "y = list(range(0,5,1))\n",
        "y"
      ]
    },
    {
      "cell_type": "code",
      "execution_count": null,
      "metadata": {},
      "outputs": [],
      "source": [
        "for i,j in zip(x,y) :\n",
        "    print(i,j)"
      ]
    },
    {
      "cell_type": "code",
      "execution_count": 7,
      "metadata": {},
      "outputs": [
        {
          "name": "stdout",
          "output_type": "stream",
          "text": [
            "[1, 2, 3, 4, 5]\n",
            "[1, 2, 3, 4, 5, 6, 7, 8]\n"
          ]
        }
      ],
      "source": [
        "y = [1,2,3,4,5,6,7,8]\n",
        "#print(y[0:5])\n",
        "#print(len(y))\n",
        "#print(sum(y))\n",
        "print(y[0:5])\n",
        "print(y)"
      ]
    },
    {
      "cell_type": "code",
      "execution_count": null,
      "metadata": {},
      "outputs": [],
      "source": []
    }
  ],
  "metadata": {
    "colab": {
      "collapsed_sections": [],
      "name": "สำเนาของ Basic_Python_Super_AI_Part1.ipynb",
      "provenance": []
    },
    "kernelspec": {
      "display_name": "Python 3",
      "language": "python",
      "name": "python3"
    },
    "language_info": {
      "codemirror_mode": {
        "name": "ipython",
        "version": 3
      },
      "file_extension": ".py",
      "mimetype": "text/x-python",
      "name": "python",
      "nbconvert_exporter": "python",
      "pygments_lexer": "ipython3",
      "version": "3.8.12"
    }
  },
  "nbformat": 4,
  "nbformat_minor": 0
}
