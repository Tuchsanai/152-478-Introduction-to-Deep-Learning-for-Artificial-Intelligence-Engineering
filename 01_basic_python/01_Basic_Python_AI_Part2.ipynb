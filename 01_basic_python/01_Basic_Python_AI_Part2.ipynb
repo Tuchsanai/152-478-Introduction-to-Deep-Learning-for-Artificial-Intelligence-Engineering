{
 "cells": [
  {
   "cell_type": "markdown",
   "metadata": {
    "colab_type": "text",
    "id": "dC-pwXrZTUb8"
   },
   "source": [
    "หัวข้อ\n",
    "1. ทบทวน variable, list, loop, function\n",
    "2. dictionary\n",
    "3. Object\n"
   ]
  },
  {
   "cell_type": "markdown",
   "metadata": {
    "colab_type": "text",
    "id": "E05UBn3VVOOg"
   },
   "source": [
    "**1. ทบทวน**"
   ]
  },
  {
   "cell_type": "markdown",
   "metadata": {
    "colab_type": "text",
    "id": "v5nbb3erLd50"
   },
   "source": [
    "**ตัวแปร**\n"
   ]
  },
  {
   "cell_type": "code",
   "execution_count": null,
   "metadata": {
    "colab": {
     "base_uri": "https://localhost:8080/",
     "height": 36
    },
    "colab_type": "code",
    "executionInfo": {
     "elapsed": 1125,
     "status": "ok",
     "timestamp": 1592307137788,
     "user": {
      "displayName": "Rick Wasin",
      "photoUrl": "",
      "userId": "07132924045728527815"
     },
     "user_tz": -420
    },
    "id": "4lc6vPP7Lgry",
    "outputId": "81899b52-c07b-4acf-caa3-948898fae9b1"
   },
   "outputs": [
    {
     "name": "stdout",
     "output_type": "stream",
     "text": [
      "15\n"
     ]
    }
   ],
   "source": [
    "a = 5\n",
    "b = 10\n",
    "print(a+b)"
   ]
  },
  {
   "cell_type": "code",
   "execution_count": null,
   "metadata": {
    "colab": {
     "base_uri": "https://localhost:8080/",
     "height": 36
    },
    "colab_type": "code",
    "executionInfo": {
     "elapsed": 1177,
     "status": "ok",
     "timestamp": 1592307145576,
     "user": {
      "displayName": "Rick Wasin",
      "photoUrl": "",
      "userId": "07132924045728527815"
     },
     "user_tz": -420
    },
    "id": "my127NtZ5sVa",
    "outputId": "3e560182-1b5c-4e22-d25a-085f8d149e13"
   },
   "outputs": [
    {
     "data": {
      "text/plain": [
       "5"
      ]
     },
     "execution_count": 32,
     "metadata": {
      "tags": []
     },
     "output_type": "execute_result"
    }
   ],
   "source": [
    "b-a"
   ]
  },
  {
   "cell_type": "code",
   "execution_count": null,
   "metadata": {
    "colab": {
     "base_uri": "https://localhost:8080/",
     "height": 36
    },
    "colab_type": "code",
    "executionInfo": {
     "elapsed": 1314,
     "status": "ok",
     "timestamp": 1592307156829,
     "user": {
      "displayName": "Rick Wasin",
      "photoUrl": "",
      "userId": "07132924045728527815"
     },
     "user_tz": -420
    },
    "id": "jFNkgvra5uEx",
    "outputId": "f7df04bc-390e-44e5-d3c1-10100b985706"
   },
   "outputs": [
    {
     "data": {
      "text/plain": [
       "50"
      ]
     },
     "execution_count": 33,
     "metadata": {
      "tags": []
     },
     "output_type": "execute_result"
    }
   ],
   "source": [
    "b*a"
   ]
  },
  {
   "cell_type": "code",
   "execution_count": null,
   "metadata": {
    "colab": {},
    "colab_type": "code",
    "id": "Z_Nbtjd75xGC"
   },
   "outputs": [],
   "source": [
    "b == 10"
   ]
  },
  {
   "cell_type": "code",
   "execution_count": null,
   "metadata": {
    "colab": {
     "base_uri": "https://localhost:8080/",
     "height": 36
    },
    "colab_type": "code",
    "executionInfo": {
     "elapsed": 988,
     "status": "ok",
     "timestamp": 1592307198416,
     "user": {
      "displayName": "Rick Wasin",
      "photoUrl": "",
      "userId": "07132924045728527815"
     },
     "user_tz": -420
    },
    "id": "Ox7HYb1oL_Bq",
    "outputId": "fbd03ada-a674-4a82-c877-0bd2881cbd51"
   },
   "outputs": [
    {
     "name": "stdout",
     "output_type": "stream",
     "text": [
      "สวัสดีวันอังคาร\n"
     ]
    }
   ],
   "source": [
    "a = \"สวัสดี\"\n",
    "b = \"วันอังคาร\"\n",
    "print(a+b)"
   ]
  },
  {
   "cell_type": "code",
   "execution_count": null,
   "metadata": {
    "colab": {
     "base_uri": "https://localhost:8080/",
     "height": 36
    },
    "colab_type": "code",
    "executionInfo": {
     "elapsed": 997,
     "status": "ok",
     "timestamp": 1592307235226,
     "user": {
      "displayName": "Rick Wasin",
      "photoUrl": "",
      "userId": "07132924045728527815"
     },
     "user_tz": -420
    },
    "id": "_6rRubAGMKr6",
    "outputId": "4bf9e4dd-3cbd-4c08-ec6d-3985469a5ef0"
   },
   "outputs": [
    {
     "name": "stdout",
     "output_type": "stream",
     "text": [
      "วันนี้วันที่16\n"
     ]
    }
   ],
   "source": [
    "a = \"วันนี้วันที่\"\n",
    "b = 16\n",
    "print(a+str(b))"
   ]
  },
  {
   "cell_type": "code",
   "execution_count": null,
   "metadata": {
    "colab": {
     "base_uri": "https://localhost:8080/",
     "height": 36
    },
    "colab_type": "code",
    "executionInfo": {
     "elapsed": 1000,
     "status": "ok",
     "timestamp": 1592307293972,
     "user": {
      "displayName": "Rick Wasin",
      "photoUrl": "",
      "userId": "07132924045728527815"
     },
     "user_tz": -420
    },
    "id": "mmVAMXSd6FC4",
    "outputId": "c7d0f1f3-8a1e-43eb-8c92-b11c9bd49884"
   },
   "outputs": [
    {
     "data": {
      "text/plain": [
       "'166'"
      ]
     },
     "execution_count": 39,
     "metadata": {
      "tags": []
     },
     "output_type": "execute_result"
    }
   ],
   "source": [
    "number_str1 = \"16\"\n",
    "number_str2 = \"6\"\n",
    "number_str1+number_str2"
   ]
  },
  {
   "cell_type": "code",
   "execution_count": null,
   "metadata": {
    "colab": {
     "base_uri": "https://localhost:8080/",
     "height": 36
    },
    "colab_type": "code",
    "executionInfo": {
     "elapsed": 1026,
     "status": "ok",
     "timestamp": 1592307320384,
     "user": {
      "displayName": "Rick Wasin",
      "photoUrl": "",
      "userId": "07132924045728527815"
     },
     "user_tz": -420
    },
    "id": "B2zJ68AX6TWI",
    "outputId": "af6d7ffd-a21e-49ea-f41f-3c167cbec595"
   },
   "outputs": [
    {
     "data": {
      "text/plain": [
       "22"
      ]
     },
     "execution_count": 40,
     "metadata": {
      "tags": []
     },
     "output_type": "execute_result"
    }
   ],
   "source": [
    "int(number_str1)+int(number_str2)"
   ]
  },
  {
   "cell_type": "code",
   "execution_count": null,
   "metadata": {
    "colab": {},
    "colab_type": "code",
    "id": "dmOjd2Fg6gxD"
   },
   "outputs": [],
   "source": [
    "a= 1\n",
    "b =2\n",
    "c=3\n",
    "e=5"
   ]
  },
  {
   "cell_type": "code",
   "execution_count": null,
   "metadata": {
    "colab": {
     "base_uri": "https://localhost:8080/",
     "height": 36
    },
    "colab_type": "code",
    "executionInfo": {
     "elapsed": 944,
     "status": "ok",
     "timestamp": 1592307387678,
     "user": {
      "displayName": "Rick Wasin",
      "photoUrl": "",
      "userId": "07132924045728527815"
     },
     "user_tz": -420
    },
    "id": "wItpYtcq6mO5",
    "outputId": "79cdc1a5-0ed6-4550-ca4f-0718946ffa5c"
   },
   "outputs": [
    {
     "data": {
      "text/plain": [
       "6"
      ]
     },
     "execution_count": 42,
     "metadata": {
      "tags": []
     },
     "output_type": "execute_result"
    }
   ],
   "source": [
    "a+e"
   ]
  },
  {
   "cell_type": "code",
   "execution_count": null,
   "metadata": {
    "colab": {},
    "colab_type": "code",
    "id": "GIvjUG8p6s_u"
   },
   "outputs": [],
   "source": [
    "number_list = [1,2,3,4,5]"
   ]
  },
  {
   "cell_type": "code",
   "execution_count": null,
   "metadata": {
    "colab": {
     "base_uri": "https://localhost:8080/",
     "height": 36
    },
    "colab_type": "code",
    "executionInfo": {
     "elapsed": 1050,
     "status": "ok",
     "timestamp": 1592307445603,
     "user": {
      "displayName": "Rick Wasin",
      "photoUrl": "",
      "userId": "07132924045728527815"
     },
     "user_tz": -420
    },
    "id": "0L1BLDHW6xt6",
    "outputId": "e3cfe889-fc7e-4538-ba26-bd23e2690b99"
   },
   "outputs": [
    {
     "data": {
      "text/plain": [
       "6"
      ]
     },
     "execution_count": 44,
     "metadata": {
      "tags": []
     },
     "output_type": "execute_result"
    }
   ],
   "source": [
    "number_list[0]+number_list[4]"
   ]
  },
  {
   "cell_type": "code",
   "execution_count": null,
   "metadata": {
    "colab": {},
    "colab_type": "code",
    "id": "nZKBTiwH64zR"
   },
   "outputs": [],
   "source": [
    "number_list[5]"
   ]
  },
  {
   "cell_type": "code",
   "execution_count": null,
   "metadata": {
    "colab": {
     "base_uri": "https://localhost:8080/",
     "height": 36
    },
    "colab_type": "code",
    "executionInfo": {
     "elapsed": 1175,
     "status": "ok",
     "timestamp": 1592307508558,
     "user": {
      "displayName": "Rick Wasin",
      "photoUrl": "",
      "userId": "07132924045728527815"
     },
     "user_tz": -420
    },
    "id": "9R9eQexiMXEi",
    "outputId": "9f4b4f57-021b-49d3-826e-21d6de1d0dee"
   },
   "outputs": [
    {
     "name": "stdout",
     "output_type": "stream",
     "text": [
      "สวัสดี\n"
     ]
    }
   ],
   "source": [
    "sample_list = [\"สวัสดี\",1,50]\n",
    "print(sample_list[0])\n"
   ]
  },
  {
   "cell_type": "code",
   "execution_count": null,
   "metadata": {
    "colab": {
     "base_uri": "https://localhost:8080/",
     "height": 36
    },
    "colab_type": "code",
    "executionInfo": {
     "elapsed": 1073,
     "status": "ok",
     "timestamp": 1592307541926,
     "user": {
      "displayName": "Rick Wasin",
      "photoUrl": "",
      "userId": "07132924045728527815"
     },
     "user_tz": -420
    },
    "id": "7eib_anR7G3p",
    "outputId": "9139da33-72f2-48ab-f76b-3646b4407c5e"
   },
   "outputs": [
    {
     "name": "stdout",
     "output_type": "stream",
     "text": [
      "['สวัสดี', 1, 100]\n"
     ]
    }
   ],
   "source": [
    "sample_list[2] = 100\n",
    "print(sample_list)"
   ]
  },
  {
   "cell_type": "markdown",
   "metadata": {
    "colab_type": "text",
    "id": "0ugvGidoX0Vw"
   },
   "source": [
    "condition"
   ]
  },
  {
   "cell_type": "code",
   "execution_count": null,
   "metadata": {
    "colab": {},
    "colab_type": "code",
    "id": "sbaOtr13Yda2"
   },
   "outputs": [],
   "source": [
    "def emailcheck(inputmail):\n",
    "  checkassign = 0\n",
    "  checkdot = 0\n",
    "  for i in range(len(inputmail)):\n",
    "    if inputmail[i] == '@':\n",
    "      checkassign = 1\n",
    "    if inputmail[i] == '.':\n",
    "      checkdot = 1\n",
    "  if checkassign == 1:\n",
    "    if checkdot == 1:\n",
    "      return 'is email'"
   ]
  },
  {
   "cell_type": "code",
   "execution_count": null,
   "metadata": {
    "colab": {},
    "colab_type": "code",
    "id": "2KsFYqYE7W6S"
   },
   "outputs": [],
   "source": [
    "def emailcheck2(inputmail):\n",
    "  assign = False\n",
    "  dot = False\n",
    "  if '@' in inputmail:\n",
    "    assign = True\n",
    "  if '.' in inputmail:\n",
    "    dot = True\n",
    "  if assign and dot:\n",
    "    return 'is email'"
   ]
  },
  {
   "cell_type": "code",
   "execution_count": null,
   "metadata": {
    "colab": {},
    "colab_type": "code",
    "id": "x0nkjS8b7yio"
   },
   "outputs": [],
   "source": [
    "emailcheck2(\"rickky@botnoigroupcom\")"
   ]
  },
  {
   "cell_type": "markdown",
   "metadata": {
    "colab_type": "text",
    "id": "k2mp8oBGYfQl"
   },
   "source": [
    "loop"
   ]
  },
  {
   "cell_type": "code",
   "execution_count": null,
   "metadata": {
    "colab": {},
    "colab_type": "code",
    "id": "Uc80KVFMYg4c"
   },
   "outputs": [],
   "source": [
    "def factorial(number):\n",
    "  result = 1\n",
    "  for i in range(1,number+1):\n",
    "    result = result * i\n",
    "  return result"
   ]
  },
  {
   "cell_type": "code",
   "execution_count": null,
   "metadata": {
    "colab": {
     "base_uri": "https://localhost:8080/",
     "height": 110
    },
    "colab_type": "code",
    "executionInfo": {
     "elapsed": 1020,
     "status": "ok",
     "timestamp": 1592307914489,
     "user": {
      "displayName": "Rick Wasin",
      "photoUrl": "",
      "userId": "07132924045728527815"
     },
     "user_tz": -420
    },
    "id": "i3HxCtms8X4A",
    "outputId": "d66d5471-940f-486a-be51-977673f243e8"
   },
   "outputs": [
    {
     "name": "stdout",
     "output_type": "stream",
     "text": [
      "1\n",
      "2\n",
      "3\n",
      "4\n",
      "5\n"
     ]
    }
   ],
   "source": [
    "factorial(5)"
   ]
  },
  {
   "cell_type": "code",
   "execution_count": null,
   "metadata": {
    "colab": {},
    "colab_type": "code",
    "id": "rAxA_Xmu8EyX"
   },
   "outputs": [],
   "source": [
    " #ถ้าไม่ใช้ loop\n",
    "result = 5*4*3*2*1"
   ]
  },
  {
   "cell_type": "markdown",
   "metadata": {
    "colab_type": "text",
    "id": "QHJq5cBXsEAA"
   },
   "source": [
    "# 2. Dictionary\n"
   ]
  },
  {
   "cell_type": "markdown",
   "metadata": {
    "colab_type": "text",
    "id": "dETzn5E4t2pd"
   },
   "source": [
    "1 dictionary คืออะไร\n",
    "\n"
   ]
  },
  {
   "cell_type": "markdown",
   "metadata": {
    "colab_type": "text",
    "id": "m7HJinnvtqz2"
   },
   "source": [
    "dictionary เป็น Datatype ชนิดหนึ่งของ Python ที่มีรูปแบบการจัดเก็บข้อมูลเป็น key กับ value"
   ]
  },
  {
   "cell_type": "markdown",
   "metadata": {
    "colab_type": "text",
    "id": "69tzHSantz7k"
   },
   "source": [
    "2 การสร้าง dictionary\n"
   ]
  },
  {
   "cell_type": "markdown",
   "metadata": {
    "colab_type": "text",
    "id": "Xs-Vwpl6t-su"
   },
   "source": [
    "แบบที่หนึ่ง\n"
   ]
  },
  {
   "cell_type": "code",
   "execution_count": null,
   "metadata": {
    "colab": {},
    "colab_type": "code",
    "id": "gXqA3evquAF3"
   },
   "outputs": [],
   "source": [
    "mydic = {} #วิธีประกาศ dictionary\n",
    "mydic['winn'] = '0618201998' #วิธีใส่ข้อมูลใน dictionary ใน [] เรียกว่า key หลัง = เรียกว่า value\n",
    "mydic['ricky'] = '0812312341'"
   ]
  },
  {
   "cell_type": "code",
   "execution_count": null,
   "metadata": {
    "colab": {},
    "colab_type": "code",
    "id": "k4SJOKB49YjQ"
   },
   "outputs": [],
   "source": [
    "mydic['tao'] = '0811111111'"
   ]
  },
  {
   "cell_type": "code",
   "execution_count": null,
   "metadata": {
    "colab": {
     "base_uri": "https://localhost:8080/",
     "height": 36
    },
    "colab_type": "code",
    "executionInfo": {
     "elapsed": 1021,
     "status": "ok",
     "timestamp": 1592308151330,
     "user": {
      "displayName": "Rick Wasin",
      "photoUrl": "",
      "userId": "07132924045728527815"
     },
     "user_tz": -420
    },
    "id": "9rVMPn4C9iHH",
    "outputId": "477118e0-897c-4b33-8e0e-5f1e5f9d28a2"
   },
   "outputs": [
    {
     "data": {
      "text/plain": [
       "{'ricky': '0812312341', 'tao': '0811111111', 'winn': '0618201998'}"
      ]
     },
     "execution_count": 65,
     "metadata": {
      "tags": []
     },
     "output_type": "execute_result"
    }
   ],
   "source": [
    "mydic"
   ]
  },
  {
   "cell_type": "code",
   "execution_count": null,
   "metadata": {
    "colab": {},
    "colab_type": "code",
    "id": "3Kvq_AiC-OQ3"
   },
   "outputs": [],
   "source": [
    "number_dict = {1:\"one\",2:\"two\",3:\"three\"}"
   ]
  },
  {
   "cell_type": "code",
   "execution_count": null,
   "metadata": {
    "colab": {
     "base_uri": "https://localhost:8080/",
     "height": 36
    },
    "colab_type": "code",
    "executionInfo": {
     "elapsed": 997,
     "status": "ok",
     "timestamp": 1592308435152,
     "user": {
      "displayName": "Rick Wasin",
      "photoUrl": "",
      "userId": "07132924045728527815"
     },
     "user_tz": -420
    },
    "id": "vAAylDfV-eAx",
    "outputId": "04ac9c6a-0871-4d61-b025-11be921b47e4"
   },
   "outputs": [
    {
     "data": {
      "text/plain": [
       "{1: 'one', 2: 'two', 3: 'three'}"
      ]
     },
     "execution_count": 71,
     "metadata": {
      "tags": []
     },
     "output_type": "execute_result"
    }
   ],
   "source": [
    "number_dict"
   ]
  },
  {
   "cell_type": "markdown",
   "metadata": {
    "colab_type": "text",
    "id": "pyK3MifGuB41"
   },
   "source": [
    "แบบที่สอง\n"
   ]
  },
  {
   "cell_type": "code",
   "execution_count": null,
   "metadata": {
    "colab": {},
    "colab_type": "code",
    "id": "sXmt9ov9tzXt"
   },
   "outputs": [],
   "source": [
    "mydic ={'ricky': '0812312341', 'tao': '0811111111', 'winn': '0618201998'}#วิธีสร้าง dictionary โดยใส่ข้อมูลในขณะที่ประกาศ ตัวข้างหน้า : คือ key ข้างหลัง : คือ value"
   ]
  },
  {
   "cell_type": "code",
   "execution_count": null,
   "metadata": {
    "colab": {},
    "colab_type": "code",
    "id": "5sJ-05a8-vWg"
   },
   "outputs": [],
   "source": [
    "mydic[\"arm\"] = \"000000000\""
   ]
  },
  {
   "cell_type": "code",
   "execution_count": null,
   "metadata": {
    "colab": {
     "base_uri": "https://localhost:8080/",
     "height": 91
    },
    "colab_type": "code",
    "executionInfo": {
     "elapsed": 1436,
     "status": "ok",
     "timestamp": 1592308489091,
     "user": {
      "displayName": "Rick Wasin",
      "photoUrl": "",
      "userId": "07132924045728527815"
     },
     "user_tz": -420
    },
    "id": "dGuI9oc3-zQH",
    "outputId": "0c4e55fb-e51f-42bd-9dd5-c0d393b9582e"
   },
   "outputs": [
    {
     "data": {
      "text/plain": [
       "{'arm': '000000000',\n",
       " 'ricky': '0812312341',\n",
       " 'tao': '0811111111',\n",
       " 'winn': '0618201998'}"
      ]
     },
     "execution_count": 74,
     "metadata": {
      "tags": []
     },
     "output_type": "execute_result"
    }
   ],
   "source": [
    "mydic"
   ]
  },
  {
   "cell_type": "markdown",
   "metadata": {
    "colab_type": "text",
    "id": "SjFNN09YuIO2"
   },
   "source": [
    "แบบที่สาม\n"
   ]
  },
  {
   "cell_type": "code",
   "execution_count": null,
   "metadata": {
    "colab": {
     "base_uri": "https://localhost:8080/",
     "height": 36
    },
    "colab_type": "code",
    "executionInfo": {
     "elapsed": 1390,
     "status": "ok",
     "timestamp": 1592308605616,
     "user": {
      "displayName": "Rick Wasin",
      "photoUrl": "",
      "userId": "07132924045728527815"
     },
     "user_tz": -420
    },
    "id": "anTmi3WPuJp3",
    "outputId": "755b6eda-f0fc-4762-a040-46f408b8ce0b"
   },
   "outputs": [
    {
     "name": "stdout",
     "output_type": "stream",
     "text": [
      "[['winn', '0618201998'], ['ricky', '0812312341']]\n"
     ]
    }
   ],
   "source": [
    "a = [[\"winn\",'0618201998'],[\"ricky\",'0812312341']]\n",
    "print(a)\n",
    "b = dict(a) #วิธีสร้าง dictionary โดยแปลงจาก list"
   ]
  },
  {
   "cell_type": "code",
   "execution_count": null,
   "metadata": {
    "colab": {
     "base_uri": "https://localhost:8080/",
     "height": 36
    },
    "colab_type": "code",
    "executionInfo": {
     "elapsed": 1344,
     "status": "ok",
     "timestamp": 1592308613279,
     "user": {
      "displayName": "Rick Wasin",
      "photoUrl": "",
      "userId": "07132924045728527815"
     },
     "user_tz": -420
    },
    "id": "__iN39PA_SzM",
    "outputId": "f9c2eaed-f1d1-4123-e0ae-a96e36a896a5"
   },
   "outputs": [
    {
     "name": "stdout",
     "output_type": "stream",
     "text": [
      "{'winn': '0618201998', 'ricky': '0812312341'}\n"
     ]
    }
   ],
   "source": [
    "print(b)"
   ]
  },
  {
   "cell_type": "markdown",
   "metadata": {
    "colab_type": "text",
    "id": "nHfwHArcuMzP"
   },
   "source": [
    "3 ใช้ dictionary อย่างไร\n"
   ]
  },
  {
   "cell_type": "code",
   "execution_count": null,
   "metadata": {
    "colab": {},
    "colab_type": "code",
    "id": "QHmMo8Tt_j10"
   },
   "outputs": [],
   "source": [
    "mydic = {'arm': '000000000',\n",
    " 'ricky': '0812312341',\n",
    " 'tao': '0811111111',\n",
    " 'winn': '0618201998'}"
   ]
  },
  {
   "cell_type": "code",
   "execution_count": null,
   "metadata": {
    "colab": {
     "base_uri": "https://localhost:8080/",
     "height": 36
    },
    "colab_type": "code",
    "executionInfo": {
     "elapsed": 1058,
     "status": "ok",
     "timestamp": 1592308692167,
     "user": {
      "displayName": "Rick Wasin",
      "photoUrl": "",
      "userId": "07132924045728527815"
     },
     "user_tz": -420
    },
    "id": "csMNZiFp_l7F",
    "outputId": "5822b82b-1d2f-4dde-d813-ac30596c26a2"
   },
   "outputs": [
    {
     "name": "stdout",
     "output_type": "stream",
     "text": [
      "{'arm': '000000000', 'ricky': '0812312341', 'tao': '0811111111', 'winn': '0618201998'}\n"
     ]
    }
   ],
   "source": [
    "print(mydic)"
   ]
  },
  {
   "cell_type": "code",
   "execution_count": null,
   "metadata": {
    "colab": {
     "base_uri": "https://localhost:8080/",
     "height": 36
    },
    "colab_type": "code",
    "executionInfo": {
     "elapsed": 1296,
     "status": "ok",
     "timestamp": 1592308719841,
     "user": {
      "displayName": "Rick Wasin",
      "photoUrl": "",
      "userId": "07132924045728527815"
     },
     "user_tz": -420
    },
    "id": "KCjRZBUouNpn",
    "outputId": "006455f5-6819-49ff-f7c1-333b9f14842b"
   },
   "outputs": [
    {
     "data": {
      "text/plain": [
       "dict_keys(['arm', 'ricky', 'tao', 'winn'])"
      ]
     },
     "execution_count": 81,
     "metadata": {
      "tags": []
     },
     "output_type": "execute_result"
    }
   ],
   "source": [
    "mydic.keys() #การแสดงว่าใน dictionary มี key อะไรบ้าง"
   ]
  },
  {
   "cell_type": "code",
   "execution_count": null,
   "metadata": {
    "colab": {
     "base_uri": "https://localhost:8080/",
     "height": 36
    },
    "colab_type": "code",
    "executionInfo": {
     "elapsed": 1068,
     "status": "ok",
     "timestamp": 1592308743119,
     "user": {
      "displayName": "Rick Wasin",
      "photoUrl": "",
      "userId": "07132924045728527815"
     },
     "user_tz": -420
    },
    "id": "mlo8hfZVuPWH",
    "outputId": "29a8a82c-39d9-4ebf-9dc1-6d5ab6391fc0"
   },
   "outputs": [
    {
     "data": {
      "text/plain": [
       "dict_values(['000000000', '0812312341', '0811111111', '0618201998'])"
      ]
     },
     "execution_count": 82,
     "metadata": {
      "tags": []
     },
     "output_type": "execute_result"
    }
   ],
   "source": [
    "mydic.values() #การแสดงว่าใน dictionary มี value อะไรบ้าง"
   ]
  },
  {
   "cell_type": "code",
   "execution_count": null,
   "metadata": {
    "colab": {
     "base_uri": "https://localhost:8080/",
     "height": 36
    },
    "colab_type": "code",
    "executionInfo": {
     "elapsed": 976,
     "status": "ok",
     "timestamp": 1592308771569,
     "user": {
      "displayName": "Rick Wasin",
      "photoUrl": "",
      "userId": "07132924045728527815"
     },
     "user_tz": -420
    },
    "id": "9NEa46mGttRq",
    "outputId": "1432cc56-59b9-4754-8e9f-c3eda6cfe8dd"
   },
   "outputs": [
    {
     "data": {
      "text/plain": [
       "'0618201998'"
      ]
     },
     "execution_count": 83,
     "metadata": {
      "tags": []
     },
     "output_type": "execute_result"
    }
   ],
   "source": [
    "mydic['winn'] #ใส่ key เข้าไปใน [] เพื่อนำ value ของ dict ออกมา"
   ]
  },
  {
   "cell_type": "code",
   "execution_count": null,
   "metadata": {
    "colab": {
     "base_uri": "https://localhost:8080/",
     "height": 36
    },
    "colab_type": "code",
    "executionInfo": {
     "elapsed": 979,
     "status": "ok",
     "timestamp": 1592308791199,
     "user": {
      "displayName": "Rick Wasin",
      "photoUrl": "",
      "userId": "07132924045728527815"
     },
     "user_tz": -420
    },
    "id": "g3_cVKGR_8vo",
    "outputId": "b5174358-71e9-4326-94a2-d12564b5f96e"
   },
   "outputs": [
    {
     "data": {
      "text/plain": [
       "'0812312341'"
      ]
     },
     "execution_count": 84,
     "metadata": {
      "tags": []
     },
     "output_type": "execute_result"
    }
   ],
   "source": [
    "mydic['ricky']"
   ]
  },
  {
   "cell_type": "code",
   "execution_count": null,
   "metadata": {
    "colab": {
     "base_uri": "https://localhost:8080/",
     "height": 91
    },
    "colab_type": "code",
    "executionInfo": {
     "elapsed": 1262,
     "status": "ok",
     "timestamp": 1592308896647,
     "user": {
      "displayName": "Rick Wasin",
      "photoUrl": "",
      "userId": "07132924045728527815"
     },
     "user_tz": -420
    },
    "id": "iQB9XMNbABHP",
    "outputId": "aceb968a-77e1-47b1-d054-8cb2c6066e06"
   },
   "outputs": [
    {
     "name": "stdout",
     "output_type": "stream",
     "text": [
      "เบอร์โทรของarmคือ000000000\n",
      "เบอร์โทรของrickyคือ0812312341\n",
      "เบอร์โทรของtaoคือ0811111111\n",
      "เบอร์โทรของwinnคือ0618201998\n"
     ]
    }
   ],
   "source": [
    "for name in mydic.keys():\n",
    "  tel = mydic[name]\n",
    "  print(\"เบอร์โทรของ\"+name+\"คือ\"+tel)"
   ]
  },
  {
   "cell_type": "code",
   "execution_count": null,
   "metadata": {
    "colab": {},
    "colab_type": "code",
    "id": "FkHJLl4TucPd"
   },
   "outputs": [],
   "source": [
    "winninfo = {'telephone':'0618201998','email':'vwinnv@gmail.com'}\n",
    "kitimainfo = {'telephone':'0812314123','email':'kitima@gmail.com'}\n",
    "nonginfo = {'telephone':'092123123123','email':'nong@gmail.com'}\n",
    "mydic = {'winn':winninfo,'kitima':kitimainfo,'nong':nonginfo}\n"
   ]
  },
  {
   "cell_type": "code",
   "execution_count": null,
   "metadata": {
    "colab": {
     "base_uri": "https://localhost:8080/",
     "height": 36
    },
    "colab_type": "code",
    "executionInfo": {
     "elapsed": 969,
     "status": "ok",
     "timestamp": 1592309006457,
     "user": {
      "displayName": "Rick Wasin",
      "photoUrl": "",
      "userId": "07132924045728527815"
     },
     "user_tz": -420
    },
    "id": "Umnf5dWvAsca",
    "outputId": "1a5e02af-6871-4da4-cb45-29c8c37e3475"
   },
   "outputs": [
    {
     "data": {
      "text/plain": [
       "'vwinnv@gmail.com'"
      ]
     },
     "execution_count": 89,
     "metadata": {
      "tags": []
     },
     "output_type": "execute_result"
    }
   ],
   "source": [
    "mydic[\"winn\"][\"email\"]"
   ]
  },
  {
   "cell_type": "code",
   "execution_count": null,
   "metadata": {
    "colab": {},
    "colab_type": "code",
    "id": "2jbaIIDludid"
   },
   "outputs": [],
   "source": [
    "mydic['nong']['telephone']"
   ]
  },
  {
   "cell_type": "markdown",
   "metadata": {
    "colab_type": "text",
    "id": "3sHN03W5uhVG"
   },
   "source": [
    "4 ใช้ dictionary เมื่อไหร่\n"
   ]
  },
  {
   "cell_type": "markdown",
   "metadata": {
    "colab_type": "text",
    "id": "YQAxmqHcusf9"
   },
   "source": [
    "เมื่อต้องการ search ข้อมูล อย่างเช่นเบอร์โทรศัพท์ หรือข้อมูลของลูกค้า โดยมี unique identifier i.e. key เพื่อใช้ในการค้น เช่น ชื่อ email เป็นต้น\n"
   ]
  },
  {
   "cell_type": "code",
   "execution_count": null,
   "metadata": {
    "colab": {},
    "colab_type": "code",
    "id": "RXENfqFhBXQF"
   },
   "outputs": [],
   "source": [
    "sample_list =[]\n",
    "info = [\"winn\",\"100\"]"
   ]
  },
  {
   "cell_type": "code",
   "execution_count": null,
   "metadata": {
    "colab": {
     "base_uri": "https://localhost:8080/",
     "height": 36
    },
    "colab_type": "code",
    "executionInfo": {
     "elapsed": 1198,
     "status": "ok",
     "timestamp": 1592309194226,
     "user": {
      "displayName": "Rick Wasin",
      "photoUrl": "",
      "userId": "07132924045728527815"
     },
     "user_tz": -420
    },
    "id": "EbmzP0xtBgWG",
    "outputId": "3f4543b2-d51a-4436-eb8a-759a9812a0f7"
   },
   "outputs": [
    {
     "data": {
      "text/plain": [
       "[]"
      ]
     },
     "execution_count": 91,
     "metadata": {
      "tags": []
     },
     "output_type": "execute_result"
    }
   ],
   "source": [
    "sample_list"
   ]
  },
  {
   "cell_type": "code",
   "execution_count": null,
   "metadata": {
    "colab": {},
    "colab_type": "code",
    "id": "Z2RlwNn7Bief"
   },
   "outputs": [],
   "source": [
    "sample_list.append(info)"
   ]
  },
  {
   "cell_type": "code",
   "execution_count": null,
   "metadata": {
    "colab": {
     "base_uri": "https://localhost:8080/",
     "height": 36
    },
    "colab_type": "code",
    "executionInfo": {
     "elapsed": 953,
     "status": "ok",
     "timestamp": 1592309223301,
     "user": {
      "displayName": "Rick Wasin",
      "photoUrl": "",
      "userId": "07132924045728527815"
     },
     "user_tz": -420
    },
    "id": "QdIKRVMFBmGI",
    "outputId": "a3bd769b-2417-4800-b38f-6944022cdc18"
   },
   "outputs": [
    {
     "name": "stdout",
     "output_type": "stream",
     "text": [
      "[['winn', '100']]\n"
     ]
    }
   ],
   "source": [
    "print(sample_list)"
   ]
  },
  {
   "cell_type": "code",
   "execution_count": null,
   "metadata": {
    "colab": {},
    "colab_type": "code",
    "id": "P_ao1BNTutWv"
   },
   "outputs": [],
   "source": [
    "def createdatabaselist(n): \n",
    "  listdb = [] #ประกาศว่าจะสร้าง list\n",
    "  for i in range(n): #วนลูปใส่ข้อมูล n ครั้ง\n",
    "    listdb.append(['ricky'+str(i),i]) #ใส่ข้อมูลเป็น list [] ใส่ str(n) เป็น element ตัวแรก และ i + 100 เป็น element ที่สอง จากนั้นนำไปเพิ่มใน listdb\n",
    "  return listdb"
   ]
  },
  {
   "cell_type": "code",
   "execution_count": null,
   "metadata": {
    "colab": {},
    "colab_type": "code",
    "id": "GT3BDUAzuxwp"
   },
   "outputs": [],
   "source": [
    "n = 1000000 #สร้างข้อมูลจำลอง n record\n",
    "listdb = createdatabaselist(n)\n"
   ]
  },
  {
   "cell_type": "code",
   "execution_count": null,
   "metadata": {
    "colab": {
     "base_uri": "https://localhost:8080/",
     "height": 36
    },
    "colab_type": "code",
    "executionInfo": {
     "elapsed": 974,
     "status": "ok",
     "timestamp": 1592309323540,
     "user": {
      "displayName": "Rick Wasin",
      "photoUrl": "",
      "userId": "07132924045728527815"
     },
     "user_tz": -420
    },
    "id": "3lYvy1h6B5ev",
    "outputId": "56c56512-5206-4a69-d6d4-fe69f8ecd9b8"
   },
   "outputs": [
    {
     "data": {
      "text/plain": [
       "100"
      ]
     },
     "execution_count": 98,
     "metadata": {
      "tags": []
     },
     "output_type": "execute_result"
    }
   ],
   "source": [
    "len(listdb)"
   ]
  },
  {
   "cell_type": "code",
   "execution_count": null,
   "metadata": {
    "colab": {
     "base_uri": "https://localhost:8080/",
     "height": 54
    },
    "colab_type": "code",
    "executionInfo": {
     "elapsed": 2358,
     "status": "ok",
     "timestamp": 1592309452626,
     "user": {
      "displayName": "Rick Wasin",
      "photoUrl": "",
      "userId": "07132924045728527815"
     },
     "user_tz": -420
    },
    "id": "wyQXrEHoCIDX",
    "outputId": "a4a4c1d5-391e-45f4-9e61-2e6424db4fba"
   },
   "outputs": [
    {
     "name": "stdout",
     "output_type": "stream",
     "text": [
      "CPU times: user 1.17 s, sys: 95 ms, total: 1.27 s\n",
      "Wall time: 1.27 s\n"
     ]
    }
   ],
   "source": [
    "%time listdb = createdatabaselist(n)"
   ]
  },
  {
   "cell_type": "code",
   "execution_count": null,
   "metadata": {
    "colab": {},
    "colab_type": "code",
    "id": "Si5fpzvduz-X"
   },
   "outputs": [],
   "source": [
    "def createdatabasedict(n):\n",
    "  dictdb = {} #ประกาศว่าจะสร้าง dictionary\n",
    "  for i in range(n): #วนลูปใส่ข้อมูล n ครั้ง\n",
    "    dictdb['ricky'+str(i)] = i #ใส่ str(n) เป็น key และใส่ i + 100 เป็นค่า\n",
    "  return dictdb"
   ]
  },
  {
   "cell_type": "code",
   "execution_count": null,
   "metadata": {
    "colab": {
     "base_uri": "https://localhost:8080/",
     "height": 54
    },
    "colab_type": "code",
    "executionInfo": {
     "elapsed": 1394,
     "status": "ok",
     "timestamp": 1592309460926,
     "user": {
      "displayName": "Rick Wasin",
      "photoUrl": "",
      "userId": "07132924045728527815"
     },
     "user_tz": -420
    },
    "id": "Pwt5mQpPu0mO",
    "outputId": "7e28c762-b214-4ade-b3b9-0c3560d2362b"
   },
   "outputs": [
    {
     "name": "stdout",
     "output_type": "stream",
     "text": [
      "CPU times: user 614 ms, sys: 43.9 ms, total: 658 ms\n",
      "Wall time: 659 ms\n"
     ]
    }
   ],
   "source": [
    "%time dictdb = createdatabasedict(n)"
   ]
  },
  {
   "cell_type": "code",
   "execution_count": null,
   "metadata": {
    "colab": {
     "base_uri": "https://localhost:8080/",
     "height": 36
    },
    "colab_type": "code",
    "executionInfo": {
     "elapsed": 977,
     "status": "ok",
     "timestamp": 1592309496136,
     "user": {
      "displayName": "Rick Wasin",
      "photoUrl": "",
      "userId": "07132924045728527815"
     },
     "user_tz": -420
    },
    "id": "_-MIJ_E5u5Rb",
    "outputId": "c3a2101b-5b85-42ab-a066-51148deb064b"
   },
   "outputs": [
    {
     "data": {
      "text/plain": [
       "1000000"
      ]
     },
     "execution_count": 106,
     "metadata": {
      "tags": []
     },
     "output_type": "execute_result"
    }
   ],
   "source": [
    "len(dictdb)"
   ]
  },
  {
   "cell_type": "code",
   "execution_count": null,
   "metadata": {
    "colab": {},
    "colab_type": "code",
    "id": "cMod7xozCxxq"
   },
   "outputs": [],
   "source": [
    "dictdb"
   ]
  },
  {
   "cell_type": "markdown",
   "metadata": {
    "colab_type": "text",
    "id": "ECGvazETu732"
   },
   "source": [
    "สร้างฟังก์ชั่นนำเบอร์โทรออกมาจาก LIST\n"
   ]
  },
  {
   "cell_type": "code",
   "execution_count": null,
   "metadata": {
    "colab": {
     "base_uri": "https://localhost:8080/",
     "height": 36
    },
    "colab_type": "code",
    "executionInfo": {
     "elapsed": 1254,
     "status": "ok",
     "timestamp": 1592309583835,
     "user": {
      "displayName": "Rick Wasin",
      "photoUrl": "",
      "userId": "07132924045728527815"
     },
     "user_tz": -420
    },
    "id": "AOg7em0Vu8zH",
    "outputId": "cf9792e3-8048-462d-cf87-6857214f12d6"
   },
   "outputs": [
    {
     "data": {
      "text/plain": [
       "['ricky0', 0]"
      ]
     },
     "execution_count": 108,
     "metadata": {
      "tags": []
     },
     "output_type": "execute_result"
    }
   ],
   "source": [
    "listdb[0]"
   ]
  },
  {
   "cell_type": "code",
   "execution_count": null,
   "metadata": {
    "colab": {
     "base_uri": "https://localhost:8080/",
     "height": 36
    },
    "colab_type": "code",
    "executionInfo": {
     "elapsed": 1085,
     "status": "ok",
     "timestamp": 1592309605984,
     "user": {
      "displayName": "Rick Wasin",
      "photoUrl": "",
      "userId": "07132924045728527815"
     },
     "user_tz": -420
    },
    "id": "IQPXesGRDCEl",
    "outputId": "f4257c40-8de3-427b-ca0d-c345a59c6579"
   },
   "outputs": [
    {
     "data": {
      "text/plain": [
       "0"
      ]
     },
     "execution_count": 110,
     "metadata": {
      "tags": []
     },
     "output_type": "execute_result"
    }
   ],
   "source": [
    "listdb[0][1]"
   ]
  },
  {
   "cell_type": "code",
   "execution_count": null,
   "metadata": {
    "colab": {},
    "colab_type": "code",
    "id": "7L9o4JXe88jm"
   },
   "outputs": [],
   "source": [
    "def getphonenum(cusname,listdb):\n",
    "  cnum = '0'\n",
    "  for c in listdb:\n",
    "    if c[0]==cusname:\n",
    "      cnum = c[1]\n",
    "      \n",
    "  return cnum\n",
    " \n",
    "#'09123144513'"
   ]
  },
  {
   "cell_type": "code",
   "execution_count": null,
   "metadata": {
    "colab": {
     "base_uri": "https://localhost:8080/",
     "height": 36
    },
    "colab_type": "code",
    "executionInfo": {
     "elapsed": 647,
     "status": "ok",
     "timestamp": 1592309926883,
     "user": {
      "displayName": "Rick Wasin",
      "photoUrl": "",
      "userId": "07132924045728527815"
     },
     "user_tz": -420
    },
    "id": "Te-G2H3Su-YN",
    "outputId": "aac8b4b2-5537-415c-ed30-73294e0561b4"
   },
   "outputs": [
    {
     "data": {
      "text/plain": [
       "333676"
      ]
     },
     "execution_count": 127,
     "metadata": {
      "tags": []
     },
     "output_type": "execute_result"
    }
   ],
   "source": [
    "getphonenum('ricky333676',listdb)"
   ]
  },
  {
   "cell_type": "code",
   "execution_count": null,
   "metadata": {
    "colab": {
     "base_uri": "https://localhost:8080/",
     "height": 73
    },
    "colab_type": "code",
    "executionInfo": {
     "elapsed": 1205,
     "status": "ok",
     "timestamp": 1592309945612,
     "user": {
      "displayName": "Rick Wasin",
      "photoUrl": "",
      "userId": "07132924045728527815"
     },
     "user_tz": -420
    },
    "id": "rmj2NauUvByx",
    "outputId": "09f69418-59c6-457d-c804-81abbd9351b4"
   },
   "outputs": [
    {
     "name": "stdout",
     "output_type": "stream",
     "text": [
      "CPU times: user 60.3 ms, sys: 0 ns, total: 60.3 ms\n",
      "Wall time: 60.2 ms\n"
     ]
    },
    {
     "data": {
      "text/plain": [
       "500000"
      ]
     },
     "execution_count": 128,
     "metadata": {
      "tags": []
     },
     "output_type": "execute_result"
    }
   ],
   "source": [
    "%time getphonenum('ricky500000',listdb) #จับเวลา"
   ]
  },
  {
   "cell_type": "markdown",
   "metadata": {
    "colab_type": "text",
    "id": "Jv66LkbHvEOa"
   },
   "source": [
    "สร้างฟังก์ชันนำเบอร์โทรออกมาจาก DICT\n"
   ]
  },
  {
   "cell_type": "code",
   "execution_count": null,
   "metadata": {
    "colab": {},
    "colab_type": "code",
    "id": "VZ5Jf7HovJH-"
   },
   "outputs": [],
   "source": [
    "def getphonenumdict(cusname,dictdb):\n",
    "  return dictdb[cusname]"
   ]
  },
  {
   "cell_type": "code",
   "execution_count": null,
   "metadata": {
    "colab": {
     "base_uri": "https://localhost:8080/",
     "height": 73
    },
    "colab_type": "code",
    "executionInfo": {
     "elapsed": 1772,
     "status": "ok",
     "timestamp": 1592310013471,
     "user": {
      "displayName": "Rick Wasin",
      "photoUrl": "",
      "userId": "07132924045728527815"
     },
     "user_tz": -420
    },
    "id": "98wILSEwvFX1",
    "outputId": "fc45ca43-c16d-41f5-cd0a-2eb4617e3a6f"
   },
   "outputs": [
    {
     "name": "stdout",
     "output_type": "stream",
     "text": [
      "CPU times: user 7 µs, sys: 0 ns, total: 7 µs\n",
      "Wall time: 9.3 µs\n"
     ]
    },
    {
     "data": {
      "text/plain": [
       "500000"
      ]
     },
     "execution_count": 130,
     "metadata": {
      "tags": []
     },
     "output_type": "execute_result"
    }
   ],
   "source": [
    "%time getphonenumdict('ricky500000',dictdb) #จับเวลา"
   ]
  },
  {
   "cell_type": "markdown",
   "metadata": {
    "colab_type": "text",
    "id": "s1O4YUm-vNdw"
   },
   "source": [
    "ทดสอบการจับเวลาในการนำข้อมูลออกมาเทียบกับจำนวนข้อมูลในฐานข้อมูล\n"
   ]
  },
  {
   "cell_type": "code",
   "execution_count": null,
   "metadata": {
    "colab": {},
    "colab_type": "code",
    "id": "DVhr66v2vQZN"
   },
   "outputs": [],
   "source": [
    "import time\n",
    " \n",
    "def n_vs_time_list(): #สร้างฟังก์ชั่น จับเวลาเทียบกับจำนวนข้อมูลที่เพิ่มขึ้น (ใน list) จาก 10,000 ถึง 1,000,000 เพิ่มขึ้นเป็น step 10,000\n",
    "  timedata = []\n",
    "  for n in range(10000,1000000,10000):\n",
    "    print(n)\n",
    "    listdb = createdatabaselist(n)\n",
    "    starttime = time.time()\n",
    "    getphonenum('ricky19700',listdb)\n",
    "    endtime = time.time()\n",
    "    timediff = endtime - starttime\n",
    "    timedata.append([n,timediff])\n",
    "  return timedata\n",
    " \n",
    "timedatalist = n_vs_time_list()"
   ]
  },
  {
   "cell_type": "code",
   "execution_count": null,
   "metadata": {
    "colab": {
     "base_uri": "https://localhost:8080/",
     "height": 36
    },
    "colab_type": "code",
    "executionInfo": {
     "elapsed": 961,
     "status": "ok",
     "timestamp": 1592310614608,
     "user": {
      "displayName": "Rick Wasin",
      "photoUrl": "",
      "userId": "07132924045728527815"
     },
     "user_tz": -420
    },
    "id": "2LhDEXfyGtu_",
    "outputId": "c3673761-ded8-488f-d4e0-453bf0291154"
   },
   "outputs": [
    {
     "data": {
      "text/plain": [
       "[10000, 0.0004870891571044922]"
      ]
     },
     "execution_count": 141,
     "metadata": {
      "tags": []
     },
     "output_type": "execute_result"
    }
   ],
   "source": [
    "timedatalist[0]"
   ]
  },
  {
   "cell_type": "code",
   "execution_count": null,
   "metadata": {
    "colab": {
     "base_uri": "https://localhost:8080/",
     "height": 36
    },
    "colab_type": "code",
    "executionInfo": {
     "elapsed": 1009,
     "status": "ok",
     "timestamp": 1592310625369,
     "user": {
      "displayName": "Rick Wasin",
      "photoUrl": "",
      "userId": "07132924045728527815"
     },
     "user_tz": -420
    },
    "id": "e2t_naaeG9Rl",
    "outputId": "11cf27b0-ce17-4356-b694-a67cf1eb8295"
   },
   "outputs": [
    {
     "data": {
      "text/plain": [
       "[990000, 0.04508352279663086]"
      ]
     },
     "execution_count": 142,
     "metadata": {
      "tags": []
     },
     "output_type": "execute_result"
    }
   ],
   "source": [
    "timedatalist[-1]"
   ]
  },
  {
   "cell_type": "code",
   "execution_count": null,
   "metadata": {
    "colab": {},
    "colab_type": "code",
    "id": "1cnu70HRvXkN"
   },
   "outputs": [],
   "source": [
    "def n_vs_time_dict():\n",
    "  timedata = []\n",
    "  for n in range(10000,1000000,10000): #สร้างฟังก์ชั่น จับเวลาเทียบกับจำนวนข้อมูลที่เพิ่มขึ้น (ใน dict) จาก 10,000 ถึง 1,000,000 เพิ่มขึ้นเป็น step 10,000\n",
    "    print(n)\n",
    "    dictdb = createdatabasedict(n)\n",
    "    starttime = time.time()\n",
    "    getphonenumdict('ricky9700',dictdb)\n",
    "    endtime = time.time()\n",
    "    timediff = endtime - starttime\n",
    "    timedata.append([n,timediff])\n",
    "  return timedata\n",
    "timedatadict = n_vs_time_dict()"
   ]
  },
  {
   "cell_type": "code",
   "execution_count": null,
   "metadata": {
    "colab": {
     "base_uri": "https://localhost:8080/",
     "height": 36
    },
    "colab_type": "code",
    "executionInfo": {
     "elapsed": 940,
     "status": "ok",
     "timestamp": 1592310740701,
     "user": {
      "displayName": "Rick Wasin",
      "photoUrl": "",
      "userId": "07132924045728527815"
     },
     "user_tz": -420
    },
    "id": "Mdgw02ZxHUMr",
    "outputId": "0cc63b0e-970d-442c-ab72-c370411703f5"
   },
   "outputs": [
    {
     "data": {
      "text/plain": [
       "[10000, 2.1457672119140625e-06]"
      ]
     },
     "execution_count": 145,
     "metadata": {
      "tags": []
     },
     "output_type": "execute_result"
    }
   ],
   "source": [
    "timedatadict[0]"
   ]
  },
  {
   "cell_type": "code",
   "execution_count": null,
   "metadata": {
    "colab": {
     "base_uri": "https://localhost:8080/",
     "height": 36
    },
    "colab_type": "code",
    "executionInfo": {
     "elapsed": 1038,
     "status": "ok",
     "timestamp": 1592310751191,
     "user": {
      "displayName": "Rick Wasin",
      "photoUrl": "",
      "userId": "07132924045728527815"
     },
     "user_tz": -420
    },
    "id": "t79gkR4JHb7E",
    "outputId": "2dd82f9b-226f-46ec-998d-34248992526d"
   },
   "outputs": [
    {
     "data": {
      "text/plain": [
       "[990000, 7.152557373046875e-06]"
      ]
     },
     "execution_count": 146,
     "metadata": {
      "tags": []
     },
     "output_type": "execute_result"
    }
   ],
   "source": [
    "timedatadict[-1]"
   ]
  },
  {
   "cell_type": "markdown",
   "metadata": {
    "colab_type": "text",
    "id": "O6JJp47pHh_N"
   },
   "source": [
    "plot graph"
   ]
  },
  {
   "cell_type": "code",
   "execution_count": null,
   "metadata": {
    "colab": {},
    "colab_type": "code",
    "id": "QkhsBBu0vcbt"
   },
   "outputs": [],
   "source": [
    "import pylab as py \n",
    "import numpy as np"
   ]
  },
  {
   "cell_type": "code",
   "execution_count": null,
   "metadata": {
    "colab": {},
    "colab_type": "code",
    "id": "xxUfWU0JvesK"
   },
   "outputs": [],
   "source": [
    "timedatalist = np.array(timedatalist)\n",
    "#py.plot(timedatalist[:,0],timedatalist[:,1]) #plot graph"
   ]
  },
  {
   "cell_type": "code",
   "execution_count": null,
   "metadata": {
    "colab": {
     "base_uri": "https://localhost:8080/",
     "height": 388
    },
    "colab_type": "code",
    "executionInfo": {
     "elapsed": 1532,
     "status": "ok",
     "timestamp": 1592310911947,
     "user": {
      "displayName": "Rick Wasin",
      "photoUrl": "",
      "userId": "07132924045728527815"
     },
     "user_tz": -420
    },
    "id": "R-IUyfAzH2ut",
    "outputId": "b2642791-2c45-4cb7-e71b-9276ddd6cddd"
   },
   "outputs": [
    {
     "data": {
      "text/plain": [
       "array([0.00048709, 0.00099444, 0.00163698, 0.00183344, 0.00339437,\n",
       "       0.00281477, 0.00323558, 0.00365639, 0.00615644, 0.00455236,\n",
       "       0.00510144, 0.00550961, 0.00593829, 0.00652099, 0.0068481 ,\n",
       "       0.00738144, 0.00785112, 0.00824594, 0.00871944, 0.01095271,\n",
       "       0.00958681, 0.01537538, 0.01057434, 0.01082063, 0.01144719,\n",
       "       0.01189876, 0.01265144, 0.01263499, 0.01368093, 0.01356888,\n",
       "       0.01416135, 0.01445293, 0.01626611, 0.01527786, 0.01623368,\n",
       "       0.01621222, 0.0168283 , 0.01713514, 0.02362227, 0.01800895,\n",
       "       0.0203619 , 0.01939178, 0.02476144, 0.02035189, 0.02091503,\n",
       "       0.02149892, 0.02666068, 0.0218699 , 0.02306962, 0.02292418,\n",
       "       0.02405214, 0.02391863, 0.02416253, 0.02420807, 0.02628446,\n",
       "       0.02552843, 0.02608633, 0.02629375, 0.02712631, 0.02724671,\n",
       "       0.02787781, 0.02844334, 0.02892613, 0.02920866, 0.02993321,\n",
       "       0.02993226, 0.03013873, 0.03098297, 0.03145909, 0.03150511,\n",
       "       0.03233981, 0.03320909, 0.03359032, 0.03333664, 0.03412557,\n",
       "       0.03449082, 0.03507733, 0.0354414 , 0.03618169, 0.03664851,\n",
       "       0.03702021, 0.03734994, 0.03809619, 0.03881764, 0.03865862,\n",
       "       0.03896451, 0.03962779, 0.04036689, 0.04048872, 0.04095435,\n",
       "       0.04218006, 0.04181647, 0.04224753, 0.04291868, 0.04304075,\n",
       "       0.04340911, 0.04410934, 0.04428744, 0.04508352])"
      ]
     },
     "execution_count": 152,
     "metadata": {
      "tags": []
     },
     "output_type": "execute_result"
    }
   ],
   "source": [
    "timedatalist[:,1]"
   ]
  },
  {
   "cell_type": "code",
   "execution_count": null,
   "metadata": {
    "colab": {
     "base_uri": "https://localhost:8080/",
     "height": 297
    },
    "colab_type": "code",
    "executionInfo": {
     "elapsed": 1105,
     "status": "ok",
     "timestamp": 1592310931027,
     "user": {
      "displayName": "Rick Wasin",
      "photoUrl": "",
      "userId": "07132924045728527815"
     },
     "user_tz": -420
    },
    "id": "2wXirqlZII5m",
    "outputId": "a344ffa5-5442-49d8-d51f-b4480101ff8f"
   },
   "outputs": [
    {
     "data": {
      "text/plain": [
       "[<matplotlib.lines.Line2D at 0x7f6e8ae21e10>]"
      ]
     },
     "execution_count": 153,
     "metadata": {
      "tags": []
     },
     "output_type": "execute_result"
    },
    {
     "data": {
      "image/png": "[encoded data removed]",
      "text/plain": [
       "<Figure size 432x288 with 1 Axes>"
      ]
     },
     "metadata": {
      "needs_background": "light",
      "tags": []
     },
     "output_type": "display_data"
    }
   ],
   "source": [
    "py.plot(timedatalist[:,0],timedatalist[:,1]) #plot graph"
   ]
  },
  {
   "cell_type": "code",
   "execution_count": null,
   "metadata": {
    "colab": {
     "base_uri": "https://localhost:8080/",
     "height": 308
    },
    "colab_type": "code",
    "executionInfo": {
     "elapsed": 1299,
     "status": "ok",
     "timestamp": 1592310963012,
     "user": {
      "displayName": "Rick Wasin",
      "photoUrl": "",
      "userId": "07132924045728527815"
     },
     "user_tz": -420
    },
    "id": "k1s90Tp4vg5G",
    "outputId": "7487389c-264b-46af-81c4-eafe0a3c1a06"
   },
   "outputs": [
    {
     "data": {
      "text/plain": [
       "[<matplotlib.lines.Line2D at 0x7f6e8ac66278>]"
      ]
     },
     "execution_count": 154,
     "metadata": {
      "tags": []
     },
     "output_type": "execute_result"
    },
    {
     "data": {
      "image/png": "[encoded data removed]",
      "text/plain": [
       "<Figure size 432x288 with 1 Axes>"
      ]
     },
     "metadata": {
      "needs_background": "light",
      "tags": []
     },
     "output_type": "display_data"
    }
   ],
   "source": [
    "timedatadict = np.array(timedatadict)\n",
    "py.plot(timedatadict[:,0],timedatadict[:,1]) #plot dict"
   ]
  },
  {
   "cell_type": "markdown",
   "metadata": {
    "colab_type": "text",
    "id": "XMo-A8UPI8da"
   },
   "source": [
    "# แบบฝึกหัด Dictionary"
   ]
  },
  {
   "cell_type": "markdown",
   "metadata": {
    "colab_type": "text",
    "id": "9lplZ7YKJA0E"
   },
   "source": [
    "1.สร้าง dict ชื่อว่า number_dict ที่มีลักษณะดังนี้ {\"a\":1,\"b\":5} แล้วทำการดึง value ออกมาบวกกัน"
   ]
  },
  {
   "cell_type": "code",
   "execution_count": null,
   "metadata": {
    "colab": {
     "base_uri": "https://localhost:8080/",
     "height": 36
    },
    "colab_type": "code",
    "executionInfo": {
     "elapsed": 1037,
     "status": "ok",
     "timestamp": 1592312584113,
     "user": {
      "displayName": "Rick Wasin",
      "photoUrl": "",
      "userId": "07132924045728527815"
     },
     "user_tz": -420
    },
    "id": "C-sokkSHJRpU",
    "outputId": "63333b9f-b232-419f-e709-41e76b16c19f"
   },
   "outputs": [
    {
     "data": {
      "text/plain": [
       "6"
      ]
     },
     "execution_count": 156,
     "metadata": {
      "tags": []
     },
     "output_type": "execute_result"
    }
   ],
   "source": [
    "number_dict = {\"a\":1,\"b\":5}\n",
    "number_dict[\"a\"] + number_dict[\"b\"]"
   ]
  },
  {
   "cell_type": "markdown",
   "metadata": {
    "colab_type": "text",
    "id": "wC657yN9JR1s"
   },
   "source": [
    "2.สร้าง dict ชื่อว่า somchaiInfo ที่มีข้อมูล {\"name\":\"Somchai\",\"age\":50,\"hobby\":[\"sleep\",\"eating\"]} แล้วเปลี่ยนอายุให้เป็น 30"
   ]
  },
  {
   "cell_type": "code",
   "execution_count": null,
   "metadata": {
    "colab": {
     "base_uri": "https://localhost:8080/",
     "height": 36
    },
    "colab_type": "code",
    "executionInfo": {
     "elapsed": 1090,
     "status": "ok",
     "timestamp": 1592312644644,
     "user": {
      "displayName": "Rick Wasin",
      "photoUrl": "",
      "userId": "07132924045728527815"
     },
     "user_tz": -420
    },
    "id": "P2NgnxUHJgUz",
    "outputId": "cfbf60a0-ae81-48f5-fb5f-0b9ea5a644ee"
   },
   "outputs": [
    {
     "name": "stdout",
     "output_type": "stream",
     "text": [
      "{'name': 'Somchai', 'age': 30, 'hobby': ['sleep', 'eating']}\n"
     ]
    }
   ],
   "source": [
    "somchaiInfo = {\"name\":\"Somchai\",\"age\":50,\"hobby\":[\"sleep\",\"eating\"]}\n",
    "somchaiInfo[\"age\"] = 30\n",
    "print(somchaiInfo)"
   ]
  },
  {
   "cell_type": "markdown",
   "metadata": {
    "colab_type": "text",
    "id": "CV50JE1UJgdM"
   },
   "source": [
    "3.สร้าง dict ชื่อว่า somchaiInfo ที่มีข้อมูล {\"name\":\"Somchai\",\"age\":50,\"hobby\":[\"sleep\",\"eating\"]} แล้วเพิ่ม key ชื่อว่า sex ที่มี value เป็น male"
   ]
  },
  {
   "cell_type": "code",
   "execution_count": null,
   "metadata": {
    "colab": {
     "base_uri": "https://localhost:8080/",
     "height": 36
    },
    "colab_type": "code",
    "executionInfo": {
     "elapsed": 947,
     "status": "ok",
     "timestamp": 1592312691535,
     "user": {
      "displayName": "Rick Wasin",
      "photoUrl": "",
      "userId": "07132924045728527815"
     },
     "user_tz": -420
    },
    "id": "vHHyU7MSJt61",
    "outputId": "8f23c07e-c9ad-4b68-ebae-ad10d14896ce"
   },
   "outputs": [
    {
     "name": "stdout",
     "output_type": "stream",
     "text": [
      "{'name': 'Somchai', 'age': 50, 'hobby': ['sleep', 'eating'], 'sex': 'male'}\n"
     ]
    }
   ],
   "source": [
    "somchaiInfo = {\"name\":\"Somchai\",\"age\":50,\"hobby\":[\"sleep\",\"eating\"]}\n",
    "somchaiInfo[\"sex\"] = \"male\"\n",
    "print(somchaiInfo)"
   ]
  },
  {
   "cell_type": "markdown",
   "metadata": {
    "colab_type": "text",
    "id": "JpH8yREqwhQ9"
   },
   "source": [
    "# 3. Object"
   ]
  },
  {
   "cell_type": "code",
   "execution_count": null,
   "metadata": {
    "colab": {},
    "colab_type": "code",
    "id": "JP2SwXKsSQrt"
   },
   "outputs": [],
   "source": []
  },
  {
   "cell_type": "markdown",
   "metadata": {
    "colab_type": "text",
    "id": "wVkfrICgwzy4"
   },
   "source": [
    "การใช้งานคลาสและออบเจ็ค เป็นแนวการเขียนในรูปแบบ Object Oriented Programming (OOP) โดยมองระบบเป็นวัตถุ(Object)อันหนึ่ง ที่มีคุณสมบัติ(Attributes)บางอย่างในตัว และสามารถกระทำ(Method)บางอย่างได้"
   ]
  },
  {
   "cell_type": "markdown",
   "metadata": {
    "colab_type": "text",
    "id": "B1kBW2wkw1_-"
   },
   "source": [
    "คำศัพท์ที่พื้นฐานในการเขียน OOP มีอยู่ 4 อย่าง ได้แก่\n",
    "* class คือต้นแบบของ Object ต่างๆ เช่น class ของรถ ถ้าต้องการ..ใช้วัตถุที่เป็นรถเหมือนกัน ก็ให้เรียกรถ\n",
    "* Object คือระบบที่รวมกันซึ่งมี Attributes และ method ในตัว\n",
    "* Attributes คือคุณสมบัติของแต่ละวัตถุ เช่น วัตถุในคลาส รถ ก็อาจจะมีคุณสมบัติเช่น ยี่ห้อรถ สีรถ แรงม้า เป็นต้น\n",
    "* Method คือการกระทำที่วัตถุนั้นทำได้ เช่น รถ สามารถที่จะมี method สตาร์ทเครื่อง, เร่งความเร็ว, เบรค เป็นต้น\n"
   ]
  },
  {
   "cell_type": "code",
   "execution_count": null,
   "metadata": {
    "colab": {},
    "colab_type": "code",
    "id": "d72HEOxTwzEF"
   },
   "outputs": [],
   "source": [
    "class car:\n",
    "  def __init__(self,brand,horsePower,color):\n",
    "    self.brand = brand\n",
    "    self.horsePower = horsePower\n",
    "    self.color = color\n",
    "    self.currentPosition = 0\n",
    "\n",
    "  def start(self):\n",
    "    print(\"start the car\")\n",
    "  def moveForward(self):\n",
    "    self.currentPosition = self.currentPosition + self.horsePower\n",
    "  def moveBackward(self):\n",
    "    self.currentPosition = self.currentPosition - self.horsePower"
   ]
  },
  {
   "cell_type": "code",
   "execution_count": 4,
   "metadata": {
    "colab": {
     "base_uri": "https://localhost:8080/",
     "height": 50
    },
    "colab_type": "code",
    "executionInfo": {
     "elapsed": 949,
     "status": "ok",
     "timestamp": 1600505065007,
     "user": {
      "displayName": "Tuchsanai Ploysuwan",
      "photoUrl": "",
      "userId": "05962105649382616878"
     },
     "user_tz": -420
    },
    "id": "y6s2G8w_g5Ru",
    "outputId": "6c5972a8-f340-4355-faa9-34f853889053"
   },
   "outputs": [
    {
     "name": "stdout",
     "output_type": "stream",
     "text": [
      "start the student\n",
      "3.1\n"
     ]
    }
   ],
   "source": [
    "class Student:\n",
    "  def __init__(self,name,age,grade):\n",
    "    self.name = name\n",
    "    self.age = age\n",
    "    self.grade= grade\n",
    "    self.x = 0.1\n",
    "    self.start()\n",
    "    \n",
    "    \n",
    "  def start(self):\n",
    "    print(\"start the student\")\n",
    "  def Exam_Forward(self):\n",
    "    self.grade = self.grade + self.x\n",
    "    print(self.grade)\n",
    "  def Exam_Backward(self):\n",
    "    self.grade = self.grade - self.x\n",
    "    print(self.grade)\n",
    "\n",
    "student = Student(\"lisa\",20, 3.0)    \n",
    "student.Exam_Forward()"
   ]
  },
  {
   "cell_type": "code",
   "execution_count": null,
   "metadata": {
    "colab": {},
    "colab_type": "code",
    "id": "5WEl2frqafah"
   },
   "outputs": [],
   "source": [
    "a = ['hi',1,np.array,car,{'ricky':3}]\n"
   ]
  },
  {
   "cell_type": "code",
   "execution_count": null,
   "metadata": {
    "colab": {
     "base_uri": "https://localhost:8080/",
     "height": 34
    },
    "colab_type": "code",
    "executionInfo": {
     "elapsed": 2570,
     "status": "ok",
     "timestamp": 1592316095775,
     "user": {
      "displayName": "บอทน้อย Little bot",
      "photoUrl": "https://lh3.googleusercontent.com/a-/AOh14Gg_oKIVWfi33Hl20-CFISRlD3Yn6O6vRr0Kh3fdjBM=s64",
      "userId": "00386448689616224988"
     },
     "user_tz": -420
    },
    "id": "ZqAe0lfLa48D",
    "outputId": "6758357a-523e-486c-9efb-eb7e671789e2"
   },
   "outputs": [
    {
     "data": {
      "text/plain": [
       "[0, 1, 2, 3, 4, 5, 6, 7, 8, 9]"
      ]
     },
     "execution_count": 108,
     "metadata": {
      "tags": []
     },
     "output_type": "execute_result"
    }
   ],
   "source": [
    "a = list(range(10))\n",
    "a"
   ]
  },
  {
   "cell_type": "code",
   "execution_count": null,
   "metadata": {
    "colab": {
     "base_uri": "https://localhost:8080/",
     "height": 85
    },
    "colab_type": "code",
    "executionInfo": {
     "elapsed": 856,
     "status": "ok",
     "timestamp": 1592316209505,
     "user": {
      "displayName": "บอทน้อย Little bot",
      "photoUrl": "https://lh3.googleusercontent.com/a-/AOh14Gg_oKIVWfi33Hl20-CFISRlD3Yn6O6vRr0Kh3fdjBM=s64",
      "userId": "00386448689616224988"
     },
     "user_tz": -420
    },
    "id": "nV0yG35SbTSs",
    "outputId": "c4267cfb-1ca3-4f27-f54f-0cf7d85dd291"
   },
   "outputs": [
    {
     "name": "stdout",
     "output_type": "stream",
     "text": [
      "11\n",
      "11\n",
      "11\n",
      "11\n"
     ]
    }
   ],
   "source": [
    "for e in range(4):\n",
    "  print(len('hello world'))\n",
    "  #print('hello world')"
   ]
  },
  {
   "cell_type": "code",
   "execution_count": null,
   "metadata": {
    "colab": {
     "base_uri": "https://localhost:8080/",
     "height": 357
    },
    "colab_type": "code",
    "executionInfo": {
     "elapsed": 25466,
     "status": "ok",
     "timestamp": 1592316303747,
     "user": {
      "displayName": "บอทน้อย Little bot",
      "photoUrl": "https://lh3.googleusercontent.com/a-/AOh14Gg_oKIVWfi33Hl20-CFISRlD3Yn6O6vRr0Kh3fdjBM=s64",
      "userId": "00386448689616224988"
     },
     "user_tz": -420
    },
    "id": "Fhb4ZY61cQWq",
    "outputId": "94e539a8-9431-4141-c10f-b2f887e3c7dd"
   },
   "outputs": [
    {
     "name": "stdout",
     "output_type": "stream",
     "text": [
      "0\n",
      "\n",
      "1\n",
      "\n",
      "2\n",
      "\n",
      "3\n",
      "\n",
      "4\n",
      "\n",
      "5\n",
      "\n",
      "6\n",
      "\n",
      "7\n",
      "\n",
      "8\n",
      "\n",
      "9\n",
      "\n"
     ]
    }
   ],
   "source": [
    "i = 0\n",
    "#i < 10\n",
    "while i < 10:\n",
    "  print(i)\n",
    "  i = i + 1\n",
    "  input()"
   ]
  },
  {
   "cell_type": "code",
   "execution_count": null,
   "metadata": {
    "colab": {
     "base_uri": "https://localhost:8080/",
     "height": 34
    },
    "colab_type": "code",
    "executionInfo": {
     "elapsed": 864,
     "status": "ok",
     "timestamp": 1592315317920,
     "user": {
      "displayName": "บอทน้อย Little bot",
      "photoUrl": "https://lh3.googleusercontent.com/a-/AOh14Gg_oKIVWfi33Hl20-CFISRlD3Yn6O6vRr0Kh3fdjBM=s64",
      "userId": "00386448689616224988"
     },
     "user_tz": -420
    },
    "id": "r2zGWFfTV2it",
    "outputId": "2bdf813f-ef9c-4f12-bf8b-e8a93d7cb0c3"
   },
   "outputs": [
    {
     "data": {
      "text/plain": [
       "5"
      ]
     },
     "execution_count": 89,
     "metadata": {
      "tags": []
     },
     "output_type": "execute_result"
    }
   ],
   "source": [
    "a = 'hello'\n",
    "len(a)"
   ]
  },
  {
   "cell_type": "code",
   "execution_count": null,
   "metadata": {
    "colab": {
     "base_uri": "https://localhost:8080/",
     "height": 34
    },
    "colab_type": "code",
    "executionInfo": {
     "elapsed": 868,
     "status": "ok",
     "timestamp": 1592315334691,
     "user": {
      "displayName": "บอทน้อย Little bot",
      "photoUrl": "https://lh3.googleusercontent.com/a-/AOh14Gg_oKIVWfi33Hl20-CFISRlD3Yn6O6vRr0Kh3fdjBM=s64",
      "userId": "00386448689616224988"
     },
     "user_tz": -420
    },
    "id": "XOqFQLacV6rL",
    "outputId": "3e3b30d5-229b-4670-f295-38ce6b0fcf95"
   },
   "outputs": [
    {
     "data": {
      "text/plain": [
       "11"
      ]
     },
     "execution_count": 90,
     "metadata": {
      "tags": []
     },
     "output_type": "execute_result"
    }
   ],
   "source": [
    "a = 'hello world'\n",
    "len(a)"
   ]
  },
  {
   "cell_type": "code",
   "execution_count": null,
   "metadata": {
    "colab": {},
    "colab_type": "code",
    "id": "A_YlD4hGWRcz"
   },
   "outputs": [],
   "source": [
    "a = [2,1,9,2,3,4,5]"
   ]
  },
  {
   "cell_type": "code",
   "execution_count": null,
   "metadata": {
    "colab": {
     "base_uri": "https://localhost:8080/",
     "height": 164
    },
    "colab_type": "code",
    "executionInfo": {
     "elapsed": 902,
     "status": "error",
     "timestamp": 1592315244901,
     "user": {
      "displayName": "บอทน้อย Little bot",
      "photoUrl": "https://lh3.googleusercontent.com/a-/AOh14Gg_oKIVWfi33Hl20-CFISRlD3Yn6O6vRr0Kh3fdjBM=s64",
      "userId": "00386448689616224988"
     },
     "user_tz": -420
    },
    "id": "8Uak6SLoYlfx",
    "outputId": "b2816fa2-101a-42c1-b05d-e6072e26d96b"
   },
   "outputs": [
    {
     "ename": "TypeError",
     "evalue": "ignored",
     "output_type": "error",
     "traceback": [
      "\u001b[0;31m---------------------------------------------------------------------------\u001b[0m",
      "\u001b[0;31mTypeError\u001b[0m                                 Traceback (most recent call last)",
      "\u001b[0;32m<ipython-input-88-4a7bcd1a5f68>\u001b[0m in \u001b[0;36m<module>\u001b[0;34m()\u001b[0m\n\u001b[0;32m----> 1\u001b[0;31m \u001b[0ma\u001b[0m \u001b[0;34m>\u001b[0m \u001b[0;36m3\u001b[0m\u001b[0;34m\u001b[0m\u001b[0;34m\u001b[0m\u001b[0m\n\u001b[0m",
      "\u001b[0;31mTypeError\u001b[0m: '>' not supported between instances of 'list' and 'int'"
     ]
    }
   ],
   "source": [
    "a > 3"
   ]
  },
  {
   "cell_type": "code",
   "execution_count": null,
   "metadata": {
    "colab": {
     "base_uri": "https://localhost:8080/",
     "height": 34
    },
    "colab_type": "code",
    "executionInfo": {
     "elapsed": 2193,
     "status": "ok",
     "timestamp": 1592315004855,
     "user": {
      "displayName": "บอทน้อย Little bot",
      "photoUrl": "https://lh3.googleusercontent.com/a-/AOh14Gg_oKIVWfi33Hl20-CFISRlD3Yn6O6vRr0Kh3fdjBM=s64",
      "userId": "00386448689616224988"
     },
     "user_tz": -420
    },
    "id": "NXXwLfSpWwsM",
    "outputId": "b90c529d-1afe-4681-98e7-e6e79b5e1858"
   },
   "outputs": [
    {
     "data": {
      "text/plain": [
       "[1, 2, 2, 3, 4, 5, 9]"
      ]
     },
     "execution_count": 67,
     "metadata": {
      "tags": []
     },
     "output_type": "execute_result"
    }
   ],
   "source": [
    "b = np.array(a)"
   ]
  },
  {
   "cell_type": "code",
   "execution_count": null,
   "metadata": {
    "colab": {
     "base_uri": "https://localhost:8080/",
     "height": 164
    },
    "colab_type": "code",
    "executionInfo": {
     "elapsed": 1056,
     "status": "error",
     "timestamp": 1592315168600,
     "user": {
      "displayName": "บอทน้อย Little bot",
      "photoUrl": "https://lh3.googleusercontent.com/a-/AOh14Gg_oKIVWfi33Hl20-CFISRlD3Yn6O6vRr0Kh3fdjBM=s64",
      "userId": "00386448689616224988"
     },
     "user_tz": -420
    },
    "id": "CjXzctrYX8cK",
    "outputId": "e48a788e-d337-432a-ccbb-bb094e44842a"
   },
   "outputs": [
    {
     "ename": "AttributeError",
     "evalue": "ignored",
     "output_type": "error",
     "traceback": [
      "\u001b[0;31m---------------------------------------------------------------------------\u001b[0m",
      "\u001b[0;31mAttributeError\u001b[0m                            Traceback (most recent call last)",
      "\u001b[0;32m<ipython-input-79-f432eed13108>\u001b[0m in \u001b[0;36m<module>\u001b[0;34m()\u001b[0m\n\u001b[0;32m----> 1\u001b[0;31m \u001b[0ma\u001b[0m\u001b[0;34m.\u001b[0m\u001b[0mmax\u001b[0m\u001b[0;34m(\u001b[0m\u001b[0;34m)\u001b[0m\u001b[0;34m\u001b[0m\u001b[0;34m\u001b[0m\u001b[0m\n\u001b[0m",
      "\u001b[0;31mAttributeError\u001b[0m: 'list' object has no attribute 'max'"
     ]
    }
   ],
   "source": [
    "a.max()"
   ]
  },
  {
   "cell_type": "code",
   "execution_count": null,
   "metadata": {
    "colab": {
     "base_uri": "https://localhost:8080/",
     "height": 34
    },
    "colab_type": "code",
    "executionInfo": {
     "elapsed": 1118,
     "status": "ok",
     "timestamp": 1592315219023,
     "user": {
      "displayName": "บอทน้อย Little bot",
      "photoUrl": "https://lh3.googleusercontent.com/a-/AOh14Gg_oKIVWfi33Hl20-CFISRlD3Yn6O6vRr0Kh3fdjBM=s64",
      "userId": "00386448689616224988"
     },
     "user_tz": -420
    },
    "id": "oWSxy5K3X3eG",
    "outputId": "6dc729bc-287a-49cf-c30e-9a289346b80b"
   },
   "outputs": [
    {
     "data": {
      "text/plain": [
       "array([1, 2, 2, 3, 4, 5, 9])"
      ]
     },
     "execution_count": 85,
     "metadata": {
      "tags": []
     },
     "output_type": "execute_result"
    }
   ],
   "source": [
    "b"
   ]
  },
  {
   "cell_type": "code",
   "execution_count": null,
   "metadata": {
    "colab": {
     "base_uri": "https://localhost:8080/",
     "height": 34
    },
    "colab_type": "code",
    "executionInfo": {
     "elapsed": 805,
     "status": "ok",
     "timestamp": 1592315222295,
     "user": {
      "displayName": "บอทน้อย Little bot",
      "photoUrl": "https://lh3.googleusercontent.com/a-/AOh14Gg_oKIVWfi33Hl20-CFISRlD3Yn6O6vRr0Kh3fdjBM=s64",
      "userId": "00386448689616224988"
     },
     "user_tz": -420
    },
    "id": "lQm8jnOmYfsq",
    "outputId": "0ab683af-1836-4321-8ac8-b264301b6eb7"
   },
   "outputs": [
    {
     "data": {
      "text/plain": [
       "array([False, False, False, False,  True,  True,  True])"
      ]
     },
     "execution_count": 86,
     "metadata": {
      "tags": []
     },
     "output_type": "execute_result"
    }
   ],
   "source": [
    "b>3"
   ]
  },
  {
   "cell_type": "code",
   "execution_count": null,
   "metadata": {
    "colab": {
     "base_uri": "https://localhost:8080/",
     "height": 34
    },
    "colab_type": "code",
    "executionInfo": {
     "elapsed": 812,
     "status": "ok",
     "timestamp": 1592315229841,
     "user": {
      "displayName": "บอทน้อย Little bot",
      "photoUrl": "https://lh3.googleusercontent.com/a-/AOh14Gg_oKIVWfi33Hl20-CFISRlD3Yn6O6vRr0Kh3fdjBM=s64",
      "userId": "00386448689616224988"
     },
     "user_tz": -420
    },
    "id": "2uDAF3fLYiNR",
    "outputId": "875010a6-1324-4689-a598-3b02fbe41007"
   },
   "outputs": [
    {
     "data": {
      "text/plain": [
       "array([4, 5, 9])"
      ]
     },
     "execution_count": 87,
     "metadata": {
      "tags": []
     },
     "output_type": "execute_result"
    }
   ],
   "source": [
    "b[b>3]"
   ]
  },
  {
   "cell_type": "code",
   "execution_count": null,
   "metadata": {
    "colab": {},
    "colab_type": "code",
    "id": "ikOlwvmXWbAf"
   },
   "outputs": [],
   "source": [
    "a.sort()"
   ]
  },
  {
   "cell_type": "code",
   "execution_count": null,
   "metadata": {
    "colab": {
     "base_uri": "https://localhost:8080/",
     "height": 34
    },
    "colab_type": "code",
    "executionInfo": {
     "elapsed": 701,
     "status": "ok",
     "timestamp": 1592314935550,
     "user": {
      "displayName": "บอทน้อย Little bot",
      "photoUrl": "https://lh3.googleusercontent.com/a-/AOh14Gg_oKIVWfi33Hl20-CFISRlD3Yn6O6vRr0Kh3fdjBM=s64",
      "userId": "00386448689616224988"
     },
     "user_tz": -420
    },
    "id": "feZJUYgcWf69",
    "outputId": "4b4357ab-3667-42f6-e507-97f4b69bf256"
   },
   "outputs": [
    {
     "data": {
      "text/plain": [
       "array([1, 2, 2, 3, 4, 5, 9])"
      ]
     },
     "execution_count": 64,
     "metadata": {
      "tags": []
     },
     "output_type": "execute_result"
    }
   ],
   "source": [
    "import numpy as np\n",
    "b = np.array(a)\n",
    "b"
   ]
  },
  {
   "cell_type": "code",
   "execution_count": null,
   "metadata": {
    "colab": {
     "base_uri": "https://localhost:8080/",
     "height": 34
    },
    "colab_type": "code",
    "executionInfo": {
     "elapsed": 594,
     "status": "ok",
     "timestamp": 1592314944515,
     "user": {
      "displayName": "บอทน้อย Little bot",
      "photoUrl": "https://lh3.googleusercontent.com/a-/AOh14Gg_oKIVWfi33Hl20-CFISRlD3Yn6O6vRr0Kh3fdjBM=s64",
      "userId": "00386448689616224988"
     },
     "user_tz": -420
    },
    "id": "MD8gNIQBXcHq",
    "outputId": "ab19c738-7c7f-4989-a9fa-20c49f03082f"
   },
   "outputs": [
    {
     "data": {
      "text/plain": [
       "[1, 2, 2, 3, 4, 5, 9]"
      ]
     },
     "execution_count": 66,
     "metadata": {
      "tags": []
     },
     "output_type": "execute_result"
    }
   ],
   "source": [
    "b[0]"
   ]
  },
  {
   "cell_type": "code",
   "execution_count": null,
   "metadata": {
    "colab": {},
    "colab_type": "code",
    "id": "VSHnykB0w8TU"
   },
   "outputs": [],
   "source": [
    "carricky = car(\"honda\",200,\"red\")"
   ]
  },
  {
   "cell_type": "code",
   "execution_count": null,
   "metadata": {
    "colab": {},
    "colab_type": "code",
    "id": "6pcalT6UUs1X"
   },
   "outputs": [],
   "source": [
    "carricky.moveForward()"
   ]
  },
  {
   "cell_type": "code",
   "execution_count": null,
   "metadata": {
    "colab": {
     "base_uri": "https://localhost:8080/",
     "height": 34
    },
    "colab_type": "code",
    "executionInfo": {
     "elapsed": 904,
     "status": "ok",
     "timestamp": 1592314456759,
     "user": {
      "displayName": "บอทน้อย Little bot",
      "photoUrl": "https://lh3.googleusercontent.com/a-/AOh14Gg_oKIVWfi33Hl20-CFISRlD3Yn6O6vRr0Kh3fdjBM=s64",
      "userId": "00386448689616224988"
     },
     "user_tz": -420
    },
    "id": "BqXPiQ32VWGL",
    "outputId": "2a925fd3-660c-4876-f7c8-50ecc96e094a"
   },
   "outputs": [
    {
     "data": {
      "text/plain": [
       "1000"
      ]
     },
     "execution_count": 33,
     "metadata": {
      "tags": []
     },
     "output_type": "execute_result"
    }
   ],
   "source": [
    "carricky.currentPosition"
   ]
  },
  {
   "cell_type": "code",
   "execution_count": null,
   "metadata": {
    "colab": {},
    "colab_type": "code",
    "id": "KdTN_xpTw_ZT"
   },
   "outputs": [],
   "source": [
    "cartao = car(\"toyota\",300,\"blue\")"
   ]
  },
  {
   "cell_type": "code",
   "execution_count": null,
   "metadata": {
    "colab": {},
    "colab_type": "code",
    "id": "-H2ltoEFU4kh"
   },
   "outputs": [],
   "source": [
    "cartao.moveForward()"
   ]
  },
  {
   "cell_type": "code",
   "execution_count": null,
   "metadata": {
    "colab": {
     "base_uri": "https://localhost:8080/",
     "height": 34
    },
    "colab_type": "code",
    "executionInfo": {
     "elapsed": 795,
     "status": "ok",
     "timestamp": 1592314465275,
     "user": {
      "displayName": "บอทน้อย Little bot",
      "photoUrl": "https://lh3.googleusercontent.com/a-/AOh14Gg_oKIVWfi33Hl20-CFISRlD3Yn6O6vRr0Kh3fdjBM=s64",
      "userId": "00386448689616224988"
     },
     "user_tz": -420
    },
    "id": "6ImstGtiVZCU",
    "outputId": "f3e1ebbf-af86-4198-d05c-43d1ed4cca6b"
   },
   "outputs": [
    {
     "data": {
      "text/plain": [
       "900"
      ]
     },
     "execution_count": 37,
     "metadata": {
      "tags": []
     },
     "output_type": "execute_result"
    }
   ],
   "source": [
    "cartao.currentPosition"
   ]
  },
  {
   "cell_type": "code",
   "execution_count": null,
   "metadata": {
    "colab": {},
    "colab_type": "code",
    "id": "CUXkZ4KXxBRF"
   },
   "outputs": [],
   "source": [
    "car.currentPosition = 0\n",
    "car2.currentPosition = 0\n",
    "car1.moveForward()\n",
    "car2.moveForward()\n",
    "print(car1.currentPosition)\n",
    "print(car2.currentPosition)"
   ]
  }
 ],
 "metadata": {
  "colab": {
   "name": "Basic_Python_Super_AI_Part2.ipynb",
   "provenance": [
    {
     "file_id": "1LprEpeLVjKwf-JOkG-Zm3fUjC_62OOwS",
     "timestamp": 1600503890354
    },
    {
     "file_id": "1rW2BFoU1m3KDiuxgvNe4jjej25YjuoNM",
     "timestamp": 1600503277077
    },
    {
     "file_id": "1j3zoCF7BvCr-XyDsenoFQNi2TqSZ2zdw",
     "timestamp": 1600428389012
    },
    {
     "file_id": "186fXaKH8bgpM3GyP1qmJp22_SuYFh44l",
     "timestamp": 1600427695775
    },
    {
     "file_id": "1OGK81sUZs6Ub82JKSZ2pEr-Gi68tMc_Z",
     "timestamp": 1592294569860
    },
    {
     "file_id": "1PIsnMlmGPt9nvZFvONa1-c6JalTY8oNC",
     "timestamp": 1592218321105
    },
    {
     "file_id": "1rD2v7HjlufcTEitfpSOW_giF-AiTwXJY",
     "timestamp": 1591916430317
    }
   ]
  },
  "kernelspec": {
   "display_name": "Python 3",
   "language": "python",
   "name": "python3"
  },
  "language_info": {
   "codemirror_mode": {
    "name": "ipython",
    "version": 3
   },
   "file_extension": ".py",
   "mimetype": "text/x-python",
   "name": "python",
   "nbconvert_exporter": "python",
   "pygments_lexer": "ipython3",
   "version": "3.8.11"
  }
 },
 "nbformat": 4,
 "nbformat_minor": 4
}
